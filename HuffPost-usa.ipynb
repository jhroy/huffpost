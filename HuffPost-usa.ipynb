{
 "cells": [
  {
   "cell_type": "markdown",
   "metadata": {},
   "source": [
    "<tr>\n",
    "<td>\n",
    "<img src=\"https://upload.wikimedia.org/wikipedia/commons/thumb/5/5a/HuffPost.svg/320px-HuffPost.svg.png\">\n",
    "</td>\n",
    "<td>\n",
    "<img src=\"https://upload.wikimedia.org/wikipedia/commons/thumb/a/a4/Flag_of_the_United_States.svg/320px-Flag_of_the_United_States.svg.png\">\n",
    "</td>\n"
   ]
  },
  {
   "cell_type": "markdown",
   "metadata": {},
   "source": [
    "# Analyse des sources de l'édition étatsunienne du *Huff Post* (2011-2016) en 6 étapes faciles\n",
    "<hr>"
   ]
  },
  {
   "cell_type": "markdown",
   "metadata": {},
   "source": [
    "<h3 style=\"background:teal;color:white;padding:5px\">Étape 1 - Initialisation de notre <i>notebook</i> et lecture du fichier CSV contenant nos données</h3>"
   ]
  },
  {
   "cell_type": "code",
   "execution_count": 1,
   "metadata": {
    "collapsed": true
   },
   "outputs": [],
   "source": [
    "import csv, re, random\n",
    "import pandas as pd\n",
    "import numpy as np\n",
    "import matplotlib as mpl\n",
    "import matplotlib.pyplot as plt\n",
    "from scipy import stats, integrate\n",
    "pd.set_option('display.max_colwidth', -1)\n",
    "pd.options.display.max_rows = 25\n",
    "pd.options.mode.chained_assignment = None\n",
    "%matplotlib inline"
   ]
  },
  {
   "cell_type": "markdown",
   "metadata": {},
   "source": [
    "On lit notre fichier CSV de base, puis on crée une variable `edition` pour identifier le pays sur lequel on va travailler. La variable `huff` ne contient que les articles de l'édition du pays auquel on s'intéresse ici."
   ]
  },
  {
   "cell_type": "code",
   "execution_count": 2,
   "metadata": {},
   "outputs": [
    {
     "data": {
      "text/plain": [
       "(550955, 13)"
      ]
     },
     "execution_count": 2,
     "metadata": {},
     "output_type": "execute_result"
    }
   ],
   "source": [
    "huff = pd.read_csv(\"scraping-nettoye.csv\", low_memory=False)\n",
    "edition = \"États-Unis\"\n",
    "huff = huff[huff.pays == edition]\n",
    "huff.shape"
   ]
  },
  {
   "cell_type": "markdown",
   "metadata": {},
   "source": [
    "Le but de cet exercice étant d'identifier le taux d'originalité du *HuffPost*, on va créer trois variables.\n",
    "\n",
    "- `HP_oui` contiendra la proportion d'articles qui sont originaux (signés par des employés du *HuffPost* ou des pigistes).\n",
    "- `HP_non` contiendra la proportion d'articles qui ne sont pas originaux (repris d'agences externes ou d'autres médias).\n",
    "- `HP_inconnu` contiendra la proportion d'articles dont on ne peut pas établir la provenance.\n",
    "\n",
    "La somme de ces trois variables équivaudra à 100. On s'en servira pour faire un graphique en pointes de tarte (camembert) à la fin."
   ]
  },
  {
   "cell_type": "code",
   "execution_count": 3,
   "metadata": {
    "collapsed": true
   },
   "outputs": [],
   "source": [
    "HP_oui = 0\n",
    "HP_non = 0\n",
    "HP_inconnu = 0"
   ]
  },
  {
   "cell_type": "markdown",
   "metadata": {},
   "source": [
    "<h3 style=\"background:teal;color:white;padding:5px\">Étape 2 - Filtrer les balises <i>meta</i></h3>"
   ]
  },
  {
   "cell_type": "markdown",
   "metadata": {},
   "source": [
    "<hr>\n",
    "Ce ne sont pas tous les articles de cette édition du *Huff Post* qui ont, pour nom dans leurs balises `meta`, l'une ou l'autre des éditions du *Huffington Post*, ou de sa compagnie-mère, AOL"
   ]
  },
  {
   "cell_type": "code",
   "execution_count": 4,
   "metadata": {
    "scrolled": true
   },
   "outputs": [
    {
     "data": {
      "text/plain": [
       "The Huffington Post     549630\n",
       "EW.com                  439   \n",
       "Just Jared              139   \n",
       "TMZ                     113   \n",
       "POPSUGAR Celebrity      103   \n",
       "Vulture                 95    \n",
       "Celebuzz                91    \n",
       "Gossip Cop              57    \n",
       "Us Weekly               27    \n",
       "TVGuide.com             25    \n",
       "BuzzFeed                13    \n",
       "Newser                  11    \n",
       "                        ..    \n",
       "Consequence of Sound    1     \n",
       "EverydayHealth.com      1     \n",
       "Glamour                 1     \n",
       "Chicago magazine        1     \n",
       "ESPN.com                1     \n",
       "Salon                   1     \n",
       "AfterEllen              1     \n",
       "Medium                  1     \n",
       "Mashable                1     \n",
       "Dazed                   1     \n",
       "Vanity Fair             1     \n",
       "The Boot                1     \n",
       "Name: meta, Length: 102, dtype: int64"
      ]
     },
     "execution_count": 4,
     "metadata": {},
     "output_type": "execute_result"
    }
   ],
   "source": [
    "huff.meta.value_counts()"
   ]
  },
  {
   "cell_type": "markdown",
   "metadata": {},
   "source": [
    "Créons un sous-ensemble avec les articles qui, selon la balise `meta`, semblent issus du *HP*."
   ]
  },
  {
   "cell_type": "code",
   "execution_count": 5,
   "metadata": {},
   "outputs": [
    {
     "data": {
      "text/plain": [
       "The Huffington Post    549630\n",
       "AOL.ca                 2     \n",
       "L'Huffington Post      2     \n",
       "Name: meta, dtype: int64"
      ]
     },
     "execution_count": 5,
     "metadata": {},
     "output_type": "execute_result"
    }
   ],
   "source": [
    "metaHP = huff.meta.str.contains(\"[H,Η,h][U,u][F,f][i,F,f,P,p]|ハフ|ポスト|허핑턴|허프|[A,a][O,o][L,l]\", na=False)\n",
    "huff[metaHP].meta.value_counts()"
   ]
  },
  {
   "cell_type": "code",
   "execution_count": 6,
   "metadata": {},
   "outputs": [
    {
     "data": {
      "text/plain": [
       "(549634, 13)"
      ]
     },
     "execution_count": 6,
     "metadata": {},
     "output_type": "execute_result"
    }
   ],
   "source": [
    "huff[metaHP].shape"
   ]
  },
  {
   "cell_type": "code",
   "execution_count": 7,
   "metadata": {},
   "outputs": [
    {
     "data": {
      "text/plain": [
       "1321"
      ]
     },
     "execution_count": 7,
     "metadata": {},
     "output_type": "execute_result"
    }
   ],
   "source": [
    "len(huff) - len(huff[metaHP])"
   ]
  },
  {
   "cell_type": "markdown",
   "metadata": {},
   "source": [
    "Le calcul ci-haut nous indique qu'on a **945 articles** qu'on peut d'ores et déjà ranger dans la catégorie des articles qui ne sont *pas* rédigés par l'équipe du *HuffPost*.\n",
    "<hr>\n",
    "Examinons cependant de plus près notre sous-ensemble d'articles dont la balise `meta` prétend qu'ils sont issus du *HuffPost* en regardant qui sont les signataires de ces articles. Les signataires se trouvent dans la colonne `byline`. Voyons voir, donc, ce qu'elle contient."
   ]
  },
  {
   "cell_type": "markdown",
   "metadata": {},
   "source": [
    "<h3 style=\"background:teal;color:white;padding:5px\">Étape 3 - Identification des articles dont les signataires sont inconnus</h3>"
   ]
  },
  {
   "cell_type": "code",
   "execution_count": 8,
   "metadata": {},
   "outputs": [
    {
     "data": {
      "text/plain": [
       "?                                                                                                                                                                                                      90201\n",
       "reuters                                                                                                                                                                                                22934\n",
       "The Huffington Post                                                                                                                                                                                    6467 \n",
       "Cavan Sieczkowski The Huffington Post                                                                                                                                                                  2511 \n",
       "Ellie Krupnick The Huffington Post                                                                                                                                                                     2190 \n",
       "Ron Dicker The Huffington Post                                                                                                                                                                         2036 \n",
       "Jason Linkins                                           Editor, Eat the Press                                                                                                                          1901 \n",
       "Christopher Rosen The Huffington Post                                                                                                                                                                  1887 \n",
       "Paige Lavender The Huffington Post                                                                                                                                                                     1873 \n",
       "The New York Times                                                                                                                                                                                     1823 \n",
       "Jack Mirkinson The Huffington Post                                                                                                                                                                     1722 \n",
       "AP/The Huffington Post                                                                                                                                                                                 1684 \n",
       "                                                                                                                                                                                                       ...  \n",
       "JASON DePARLE The New York Times                                                                                                                                                                       1    \n",
       "SkyNews                                                                                                                                                                                                1    \n",
       "\"Punk'd\" continues on Thursdays at 10 p.m. ET on MTV.                                                                                                                                                  1    \n",
       "Jason Lynch Parade                                                                                                                                                                                     1    \n",
       "Crew Of 42                                                                                                                                                                                             1    \n",
       "Martha's Vineyard, MA Patch                                                                                                                                                                            1    \n",
       "By Lynn Andriani Oprah.co                                                                                                                                                                              1    \n",
       "associated                                                                                                                                                                                             1    \n",
       "reuters Jeff Mason and Matt Spetalnick                                                                                                                                                                 1    \n",
       "Kristin Hohenadel slate.com                                                                                                                                                                            1    \n",
       "UPDATE 3/26: Carla, who runs Working Terriers, reached out to us and let us know that she took the photo. Readers can see more of the Staffordshire Bull Terrier, named Boom, on his Facebook page.    1    \n",
       "BY GEOFF MULVIHILL, ASSOCIATED PRESS                                                                                                                                                                   1    \n",
       "Name: byline, Length: 65876, dtype: int64"
      ]
     },
     "execution_count": 8,
     "metadata": {},
     "output_type": "execute_result"
    }
   ],
   "source": [
    "huff[metaHP].byline.value_counts()"
   ]
  },
  {
   "cell_type": "markdown",
   "metadata": {},
   "source": [
    "Un certain nombre d'auteurs sont inconnus («&nbsp;?&nbsp;»).<br>\n",
    "Ils seront placés dans le sous-ensemble `inconnus`.<br>\n",
    "Ils représentent un peu plus de **16%** du total des articles de cette édition du *Huffington&nbsp;Post*.<br>\n",
    "Nous allons placer cette proportion dans notre variable `HP_inconnu`."
   ]
  },
  {
   "cell_type": "code",
   "execution_count": 9,
   "metadata": {},
   "outputs": [
    {
     "data": {
      "text/plain": [
       "(90201, 16.371754499006272)"
      ]
     },
     "execution_count": 9,
     "metadata": {},
     "output_type": "execute_result"
    }
   ],
   "source": [
    "inconnus = huff[metaHP].byline == \"?\"\n",
    "HP_inconnu = huff[metaHP][inconnus].pays.count()\n",
    "HP_inconnu, (HP_inconnu/len(huff))*100"
   ]
  },
  {
   "cell_type": "markdown",
   "metadata": {},
   "source": [
    "<hr>\n",
    "<h3 style=\"background:teal;color:white;padding:5px\">Étape 4 - Identification des articles originaux au <i>HuffPost</i></h3>"
   ]
  },
  {
   "cell_type": "markdown",
   "metadata": {},
   "source": [
    "Examinons maintenant les articles dont la signature contient certaines chaînes de caractères qui correspondent au *Huffington Post* (dans différentes langues, fautes de frappe incluses), ou à sa compagnie-mère, AOL. On va baptiser ce sous-ensemble `signéHP`."
   ]
  },
  {
   "cell_type": "code",
   "execution_count": 10,
   "metadata": {
    "scrolled": true
   },
   "outputs": [
    {
     "data": {
      "text/plain": [
       "(243329, 13)"
      ]
     },
     "execution_count": 10,
     "metadata": {},
     "output_type": "execute_result"
    }
   ],
   "source": [
    "signeHP = huff[metaHP].byline.str.contains(\"[H,h][U,u,f][F,f][i,F,f,P,p]|ハフ|ポスト|허핑턴|허프|[A,a][O,o][L,l]\",na=False)\n",
    "huff[metaHP][signeHP].shape"
   ]
  },
  {
   "cell_type": "code",
   "execution_count": 11,
   "metadata": {},
   "outputs": [
    {
     "data": {
      "text/plain": [
       "(The Huffington Post                                                                                                                                                                                                                                                                                                                                                                                                                                                                                                                                                                                                                                                               6467\n",
       " Cavan Sieczkowski The Huffington Post                                                                                                                                                                                                                                                                                                                                                                                                                                                                                                                                                                                                                                             2511\n",
       " Ellie Krupnick The Huffington Post                                                                                                                                                                                                                                                                                                                                                                                                                                                                                                                                                                                                                                                2190\n",
       " Ron Dicker The Huffington Post                                                                                                                                                                                                                                                                                                                                                                                                                                                                                                                                                                                                                                                    2036\n",
       " Christopher Rosen The Huffington Post                                                                                                                                                                                                                                                                                                                                                                                                                                                                                                                                                                                                                                             1887\n",
       " Paige Lavender The Huffington Post                                                                                                                                                                                                                                                                                                                                                                                                                                                                                                                                                                                                                                                1873\n",
       " Jack Mirkinson The Huffington Post                                                                                                                                                                                                                                                                                                                                                                                                                                                                                                                                                                                                                                                1722\n",
       " AP/The Huffington Post                                                                                                                                                                                                                                                                                                                                                                                                                                                                                                                                                                                                                                                            1684\n",
       " Carly Ledbetter                                          Lifestyle Editor, HuffPost                                                                                                                                                                                                                                                                                                                                                                                                                                                                                                                                                                                               1642\n",
       " Ryan Grenoble The Huffington Post                                                                                                                                                                                                                                                                                                                                                                                                                                                                                                                                                                                                                                                 1631\n",
       " Chris Greenberg The Huffington Post                                                                                                                                                                                                                                                                                                                                                                                                                                                                                                                                                                                                                                               1607\n",
       " Julia Brucculieri                                          Entertainment Writer, HuffPost                                                                                                                                                                                                                                                                                                                                                                                                                                                                                                                                                                                         1567\n",
       "                                                                                                                                                                                                                                                                                                                                                                                                                                                                                                                                                                                                                                                                                   ... \n",
       " President Obama donated $5,000 to his campaign, which should be enough to land him an autographed photo of President Obama. A poll finds that most Americans have an unfavorable opinion of the political media, results we doubt John King will dissect on his big board. And Tom Coburn sincerely apologized for calling Harry Reid \"incompetent.\" He will now go back to just saying his policies will lead hundreds of millions of Americans to financial ruin. This is HUFFPOST HILL for Tuesday, July 31st, 2012                                                                                                                                                            1   \n",
       " Alexander C. Kaufman & Andrew Lord The Huffington Post                                                                                                                                                                                                                                                                                                                                                                                                                                                                                                                                                                                                                            1   \n",
       " DAVE SKRETTA AP/The Huffington Post                                                                                                                                                                                                                                                                                                                                                                                                                                                                                                                                                                                                                                               1   \n",
       " James Sunshine and Harry Bradford The Huffington Post                                                                                                                                                                                                                                                                                                                                                                                                                                                                                                                                                                                                                             1   \n",
       " The Senate is on the verge of finally confirming a surgeon general, presumably because he assured Republicans that guns qualify as preventative medicine. Outgoing Senator Mark Pryor is engaged to his girlfriend, but now that her time as a political prop has passed, what's the point? And Pryor called his staff \"simply awful.\" Before he corrected himself it was the realest thing he's ever said. This is HUFFPOST HILL for Monday, December 15th, 2014                                                                                                                                                                                                                 1   \n",
       " This week on Huffington Post Arts&Culture; we dreamed of impossible architecture, feared chain-smoking elementary schoolers and gossiped about the possibility of a fetch new musical.                                                                                                                                                                                                                                                                                                                                                                                                                                                                                            1   \n",
       " Carina Kolodny & Damon Dahlen HuffPost                                                                                                                                                                                                                                                                                                                                                                                                                                                                                                                                                                                                                                            1   \n",
       " CORRECTION: A Facebook spokesperson told The Huffington Post that Detlor was previously the oldest known registered Facebook user, although there are now other people her age and older who are registered Facebook users.                                                                                                                                                                                                                                                                                                                                                                                                                                                       1   \n",
       " Katherine Boehrer & Chris McGonigal  The Huffington Post                                                                                                                                                                                                                                                                                                                                                                                                                                                                                                                                                                                                                          1   \n",
       " DR. TIFFANY CHAO, ABC News Medical Unit ABC News                                                                                                                                                                                                                                                                                                                                                                                                                                                                                                                                                                                                                                  1   \n",
       " Rick Perry is running for president again, because if at first you don't succeed, try, try... um, what’s the third one there? Let’s see...um, um. I can't name the third one. I can't. Sorry, oops. Lincoln Chafee thinks the U.S. should adopt the metric system -- FINALLY, someone is discussing the 226.786 kilogram elephant in the room. And Hillary Clinton will unveil a proposal that all Americans be automatically registered to vote at 18 unless they opt not to. Plus the the proposal will create jobs by employing thousands of New Black Panther members to intimidate young Republicans from registering. This is HUFFPOST HILL for Thursday, June 4th, 2015    1   \n",
       " By GILLIAN WONG AP/The Huffington Post                                                                                                                                                                                                                                                                                                                                                                                                                                                                                                                                                                                                                                            1   \n",
       " Name: byline, Length: 6517, dtype: int64, 6517)"
      ]
     },
     "execution_count": 11,
     "metadata": {},
     "output_type": "execute_result"
    }
   ],
   "source": [
    "huff[metaHP][signeHP].byline.value_counts(), huff[metaHP][signeHP].byline.value_counts().count()"
   ]
  },
  {
   "cell_type": "markdown",
   "metadata": {},
   "source": [
    "Le *Huffington Post* est nommé, d'une façon ou d'une autre, dans ces quelque **243&nbsp;329 articles** signés par **6&nbsp;517 signataires différents**.<br>\n",
    "Cela représente un peu **moins de la moitié** de l'ensemble des articles publiés par l'édition américaine du *HuffPost* dans la période étudiée.\n",
    "On peut placer cette proportion dans notre variable `HP_oui`."
   ]
  },
  {
   "cell_type": "code",
   "execution_count": 12,
   "metadata": {},
   "outputs": [
    {
     "data": {
      "text/plain": [
       "(243329, 44.164949950540425)"
      ]
     },
     "execution_count": 12,
     "metadata": {},
     "output_type": "execute_result"
    }
   ],
   "source": [
    "HP_oui = huff[metaHP][signeHP].pays.count()\n",
    "HP_oui, (HP_oui/len(huff))*100"
   ]
  },
  {
   "cell_type": "markdown",
   "metadata": {},
   "source": [
    "<hr>\n",
    "<h3 style=\"background:teal;color:white;padding:5px\">Étape 5 - Identification des articles <u>extérieurs</u> au <i>HuffPost</i></h3>"
   ]
  },
  {
   "cell_type": "markdown",
   "metadata": {},
   "source": [
    "On va donc faire la même opération, mais pour tous les postes dans lesquels **on ne trouve pas** les chaînes de caractères permettant d'identifier le *Huffington&nbsp;Post* dans différentes langues. On va créer un nouveau sous-ensemble qu'on va baptiser `NONsignéHP`."
   ]
  },
  {
   "cell_type": "code",
   "execution_count": 13,
   "metadata": {
    "scrolled": true
   },
   "outputs": [
    {
     "data": {
      "text/plain": [
       "(306305, 13)"
      ]
     },
     "execution_count": 13,
     "metadata": {},
     "output_type": "execute_result"
    }
   ],
   "source": [
    "NONsigneHP = ~huff[metaHP].byline.str.contains(\"[H,h][U,u,f][F,f][i,F,f,P,p]|ハフ|ポスト|허핑턴|허프|[A,a][O,o][L,l]\",na=False)\n",
    "huff[metaHP][NONsigneHP].shape"
   ]
  },
  {
   "cell_type": "markdown",
   "metadata": {},
   "source": [
    "Qui sont ces auteurs qui ne signent pas des articles originaux pour le *HuffPost*?"
   ]
  },
  {
   "cell_type": "code",
   "execution_count": 14,
   "metadata": {},
   "outputs": [
    {
     "data": {
      "text/plain": [
       "(?                                                                                                                                                                                                          90201\n",
       " reuters                                                                                                                                                                                                    22934\n",
       " Jason Linkins                                           Editor, Eat the Press                                                                                                                              1901 \n",
       " The New York Times                                                                                                                                                                                         1823 \n",
       " OWN                                                                                                                                                                                                        1614 \n",
       " Chicago Sun-Times                                                                                                                                                                                          1081 \n",
       " Chicago Tribune                                                                                                                                                                                            943  \n",
       " Robin Wilkey                                                                                                                                                                                               939  \n",
       " New York Times                                                                                                                                                                                             937  \n",
       " Naughty But Nice Rob                                                                                                                                                                                       829  \n",
       " The Washington Post                                                                                                                                                                                        804  \n",
       " www.tmz.com                                                                                                                                                                                                800  \n",
       "                                                                                                                                                                                                           ...   \n",
       " CHARLES D. WILSON The Associated Press                                                                                                                                                                     1    \n",
       " Breaking Travel News                                                                                                                                                                                       1    \n",
       " You already know the quickie versions of coleslaw and potato salad. These seasonal dishes are just as easy but definitely not as expected.                                                                 1    \n",
       " From Networx's Jordan Laio:                                                                                                                                                                                1    \n",
       " In Touch Magazine                                                                                                                                                                                          1    \n",
       " By Dean Bakopoulos npr.org                                                                                                                                                                                 1    \n",
       " \"American Chopper: Senior vs. Junior\" airs Mondays at 9 p.m. ET on Discovery).                                                                                                                             1    \n",
       " For more with Demi, head over to Nylon.com and pick up an issue of the magazine, out on newsstands today.                                                                                                  1    \n",
       " Catch \"The Real Housewives of Atlanta: Secrets Revealed\" next Sunday at 8 p.m. ET on Bravo. \"Watch What Happens: Live\" airs every weeknight at 11 p.m. ET on Bravo.                                        1    \n",
       " In the first installment of our new series, Beauty Horror Stories, one of our editors -- who wants to remain nameless -- tells a truly, uh, hair-raising tale of a Brazilian wax gone very, very wrong.    1    \n",
       " Starting Point with Soledad O'Brien                                                                                                                                                                        1    \n",
       " BY GEOFF MULVIHILL, ASSOCIATED PRESS                                                                                                                                                                       1    \n",
       " Name: byline, Length: 59359, dtype: int64, 59359)"
      ]
     },
     "execution_count": 14,
     "metadata": {},
     "output_type": "execute_result"
    }
   ],
   "source": [
    "huff[metaHP][NONsigneHP].byline.value_counts(), huff[metaHP][NONsigneHP].byline.value_counts().count() "
   ]
  },
  {
   "cell_type": "markdown",
   "metadata": {},
   "source": [
    "Des quelque 59&nbsp;359 signataires ci-dessus (!), par contre, on trouve plusieurs «&nbsp;employés fantôme&nbsp;».\n",
    "\n",
    "Lorsqu'un nom d'auteur apparaît seul, il semble que cet auteur ne fasse pas partie de l'équipe du *HuffPost* et que son article est une reproduction d'une source extérieure. C'est le cas, par exemple, de [Aaron Sankin](https://www.revealnews.org/author/aaron-sankin/).\n",
    "\n",
    "Lorsqu'un nom d'auteur est précédé de *«&nbsp;By &nbsp;»*, il semble que cet auteur fasse partie de l'équipe du *HuffPost*. C'est le cas de [Carla Herreria](https://www.huffingtonpost.com/author/carla-herreria), par exemple.\n",
    "\n",
    "Nous allons donc isoler ces auteurs dont le *byline* commence par *«&nbsp;By &nbsp;»*, sauf ceux qui contiennent une virgule ou un deux-points ou le mot *«&nbsp;for&nbsp;»*, car il s'agit d'articles écrits dans d'autres médias. On va aussi exclure les noms de différentes agences ou publications, comme The Associated Press ou *Golfweek*."
   ]
  },
  {
   "cell_type": "code",
   "execution_count": 15,
   "metadata": {
    "scrolled": true
   },
   "outputs": [
    {
     "data": {
      "text/plain": [
       "(By Carla Herreria                                           613\n",
       " By Chris D'Angelo                                           428\n",
       " By Charlotte Alfred                                         372\n",
       " By Landess Kearns                                           328\n",
       " By Eline Gordts                                             251\n",
       " By James Cave                                               201\n",
       " By Joshua Hersh                                             197\n",
       " By Sophia Jones                                             186\n",
       " By Alexandra Ma                                             176\n",
       " By Willa Frej                                               144\n",
       " By Meredith Bennett-Smith                                   134\n",
       " By Sara Gates                                               132\n",
       "                                                            ... \n",
       " By Katie Arnold-Ratliff; Recipes created by Joanne Chang    1  \n",
       " By Elizabeth Svoboda                                        1  \n",
       " By Dan Buettner                                             1  \n",
       " By Mina Liu                                                 1  \n",
       " By Liz Coopersmith                                          1  \n",
       " By Jaweed Kaleem                                            1  \n",
       " By Rebecca Lawson                                           1  \n",
       " By SELCAN HACAOGLU                                          1  \n",
       " By Kim Bhasin                                               1  \n",
       " By Rebecca Ruiz                                             1  \n",
       " By Stephanie Sy                                             1  \n",
       " By Celia Barbour and Rachel Mount                           1  \n",
       " Name: byline, Length: 757, dtype: int64, 7199)"
      ]
     },
     "execution_count": 15,
     "metadata": {},
     "output_type": "execute_result"
    }
   ],
   "source": [
    "by = huff[metaHP][NONsigneHP].byline.str.startswith(\"By \")\n",
    "virgule = ~huff[metaHP][NONsigneHP][by].byline.str.contains(\",|:| for | via |.com|AP| Forbes|TIME|iVillage|Mosaic|CNN|NBC| Onion|LuxEcoLiving| National Geographic|Science of Us|Evening Post|Speakeasy|Associated|ASSOCIATED|Bloomberg|olfwee[e,k]|MIRRORS|ARTINFO|Artinfo|Football Post| Travel|GOOD|Men's Journal|Creative Loaf|Orange County|Conde Nast| Journal| Sentinel|Denver Post|BootsnAll|Juggle|Pennsylvanian|DailyBurn|Mother Jones|SFAppeal|Daily Beast|Washington Post|Salt Lake|People|[N,n][P,p][R,r]|ESPN|Fox | Tribune| Herald|Granta|Guardian|Consortium|USA T| Star| Observer|News [C,S]|Insider| Time[ ,s]| Mail| News| Globe| Sun| Independent|Politico|[C,c]runch|Model D|Boombox|Wired|YouBeauty| Catalog| Books|Room 77|Atlantic|ProPublica| Bee|Oprah|Vogue|.org|.[L,l][Y,y]| Stone|Challenge|Businessweek| Call|Long Health|Washingtonian| Magazine| Online| Courier|Writer's Relief Staff|360| Medium| Blade|Men's Health|Coloradoan|7News| TED| Telegraph|The State|Qwiklit|Real Clear Politics|GQ| Radio|Rumpus| Patch\")\n",
    "huff[metaHP][NONsigneHP][by][virgule].byline.value_counts(), huff[metaHP][NONsigneHP][by][virgule].byline.value_counts().sum()"
   ]
  },
  {
   "cell_type": "markdown",
   "metadata": {},
   "source": [
    "Nous avons donc **7&nbsp;199 articles** que nous pouvons ajouter à notre variable `HP_oui`."
   ]
  },
  {
   "cell_type": "code",
   "execution_count": 16,
   "metadata": {},
   "outputs": [
    {
     "data": {
      "text/plain": [
       "(250528, 45.471590238767227)"
      ]
     },
     "execution_count": 16,
     "metadata": {},
     "output_type": "execute_result"
    }
   ],
   "source": [
    "HP_oui = huff[metaHP][signeHP].pays.count() + 7199\n",
    "HP_oui, (HP_oui/len(huff))*100"
   ]
  },
  {
   "cell_type": "markdown",
   "metadata": {},
   "source": [
    "Pour calculer le pourcentage des articles signés par des auteurs externes, il faut soustraire de notre sous-ensemble `NONsignéHP` les articles contenus dans les deux sous-ensembles `inconnu1` et `inconnu2`, et additionner les articles qu'on a identifié plus haut dont la balise `meta` ne pouvait pas être associée au *HuffPost*, puis retrancher tous les articles qu'on vient de ranger dans notre variable `HP_oui`."
   ]
  },
  {
   "cell_type": "code",
   "execution_count": 17,
   "metadata": {},
   "outputs": [
    {
     "data": {
      "text/plain": [
       "(210226, 38.156655262226494)"
      ]
     },
     "execution_count": 17,
     "metadata": {},
     "output_type": "execute_result"
    }
   ],
   "source": [
    "HP_non = huff[metaHP][NONsigneHP].pays.count() - huff[metaHP][inconnus].pays.count() + (len(huff) - len(huff[metaHP])) - 7199\n",
    "HP_non, (HP_non/len(huff))*100"
   ]
  },
  {
   "cell_type": "markdown",
   "metadata": {},
   "source": [
    "On a désormais tout ce qu'il nous faut pour faire le camembert évoqué plus haut."
   ]
  },
  {
   "cell_type": "code",
   "execution_count": 18,
   "metadata": {},
   "outputs": [
    {
     "data": {
      "text/plain": [
       "<matplotlib.axes._subplots.AxesSubplot at 0x11dfa4400>"
      ]
     },
     "execution_count": 18,
     "metadata": {},
     "output_type": "execute_result"
    },
    {
     "data": {
      "image/png": "[encoded data removed]",
      "text/plain": [
       "<matplotlib.figure.Figure at 0x11dfa47b8>"
      ]
     },
     "metadata": {},
     "output_type": "display_data"
    }
   ],
   "source": [
    "camembert = pd.Series([HP_oui,HP_non,HP_inconnu], index=[\"Oui\",\"Non\",\"Inconnu\"],name=\"\")\n",
    "titre = plt.figure(facecolor=\"beige\")\n",
    "titre.suptitle(\"HuffPost États-Unis\", fontsize=24, fontweight=\"light\", fontname=\"Serif\")\n",
    "camembert.plot.pie(colors=[\"aqua\",\"coral\",\"lightgrey\"],\n",
    "                   wedgeprops={\"linewidth\":3,\"edgecolor\":\"white\"},\n",
    "                   textprops={\"weight\":\"bold\",\"fontsize\":14},\n",
    "                   counterclock=False,\n",
    "                   startangle=90,\n",
    "                   autopct=\"%1.1f%%\",\n",
    "                   figsize=(8,8)\n",
    ")"
   ]
  },
  {
   "cell_type": "markdown",
   "metadata": {},
   "source": [
    "<hr>\n",
    "<h3 style=\"background:teal;color:white;padding:5px\">Étape 6 - Exercice boni&nbsp;: les étiquettes (<i>tags</i>)</h3>"
   ]
  },
  {
   "cell_type": "markdown",
   "metadata": {},
   "source": [
    "Chaque article du *Huffington Post* est généralement accompagné d'une dizaine de marqueurs, ou d'étiquettes (*tags* en anglais). Voici ceux qui sont le plus fréquemment utilisés par cette édition."
   ]
  },
  {
   "cell_type": "code",
   "execution_count": 19,
   "metadata": {},
   "outputs": [
    {
     "data": {
      "text/plain": [
       "video                                     191611\n",
       "reuters                                   19140 \n",
       "TV Canada                                 16087 \n",
       "elections 2012                            11084 \n",
       "slidepollajax                             10526 \n",
       "slideexpand                               10288 \n",
       "Donald Trump                              8057  \n",
       "2012 election                             7520  \n",
       "Barack Obama                              7041  \n",
       "Mitt Romney                               6313  \n",
       "voices                                    5980  \n",
       "tv replay                                 5766  \n",
       "                                          ...   \n",
       "cool bathroom accessories                 1     \n",
       "batman arkham                             1     \n",
       "grammy nomination concert                 1     \n",
       "Boy and Bear                              1     \n",
       "men dating                                1     \n",
       "prince facebook                           1     \n",
       "house-republicans                         1     \n",
       "charli xcx i want it that way cover       1     \n",
       "women's clothing sizes                    1     \n",
       "man gives back to people who give back    1     \n",
       "Jada Pinkett Facebook                     1     \n",
       "wingtip                                   1     \n",
       "Length: 1629838, dtype: int64"
      ]
     },
     "execution_count": 19,
     "metadata": {},
     "output_type": "execute_result"
    }
   ],
   "source": [
    "etiquettes = huff.set_index('pays').tags.str.split(',', expand=True).stack().rename(columns={0:'tag'}).reset_index(drop=True)\n",
    "etiquettes.value_counts(dropna=False)"
   ]
  },
  {
   "cell_type": "code",
   "execution_count": null,
   "metadata": {
    "collapsed": true
   },
   "outputs": [],
   "source": []
  }
 ],
 "metadata": {
  "kernelspec": {
   "display_name": "Python 3",
   "language": "python",
   "name": "python3"
  },
  "language_info": {
   "codemirror_mode": {
    "name": "ipython",
    "version": 3
   },
   "file_extension": ".py",
   "mimetype": "text/x-python",
   "name": "python",
   "nbconvert_exporter": "python",
   "pygments_lexer": "ipython3",
   "version": "3.6.2"
  }
 },
 "nbformat": 4,
 "nbformat_minor": 1
}
