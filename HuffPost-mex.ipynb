{
 "cells": [
  {
   "cell_type": "markdown",
   "metadata": {},
   "source": [
    "<table border=0px>\n",
    "<tr>\n",
    "<td>\n",
    "<img src=\"https://upload.wikimedia.org/wikipedia/commons/thumb/5/5a/HuffPost.svg/320px-HuffPost.svg.png\">\n",
    "</td>\n",
    "<td>\n",
    "<img src=\"https://upload.wikimedia.org/wikipedia/commons/thumb/f/fc/Flag_of_Mexico.svg/320px-Flag_of_Mexico.svg.png\">\n",
    "</td>\n",
    "</tr>\n",
    "</table>"
   ]
  },
  {
   "cell_type": "markdown",
   "metadata": {},
   "source": [
    "# Analyse des sources de l'édition mexicaine du *Huff Post* (2016) en 6 étapes faciles\n",
    "<hr>"
   ]
  },
  {
   "cell_type": "markdown",
   "metadata": {},
   "source": [
    "<h3 style=\"background:teal;color:white;padding:5px\">Étape 1 - Initialisation de notre *notebook* et lecture du fichier CSV contenant nos données</h3>"
   ]
  },
  {
   "cell_type": "code",
   "execution_count": 1,
   "metadata": {
    "collapsed": true
   },
   "outputs": [],
   "source": [
    "import csv, re, random\n",
    "import pandas as pd\n",
    "import numpy as np\n",
    "import matplotlib as mpl\n",
    "import matplotlib.pyplot as plt\n",
    "from scipy import stats, integrate\n",
    "pd.set_option('display.max_colwidth', -1)\n",
    "pd.options.display.max_rows = 25\n",
    "pd.options.mode.chained_assignment = None\n",
    "%matplotlib inline"
   ]
  },
  {
   "cell_type": "markdown",
   "metadata": {},
   "source": [
    "On lit notre fichier CSV de base, puis on crée une variable `edition` pour identifier le pays sur lequel on va travailler. La variable `huff` ne contient que les articles de l'édition du pays auquel on s'intéresse ici."
   ]
  },
  {
   "cell_type": "code",
   "execution_count": 2,
   "metadata": {},
   "outputs": [
    {
     "data": {
      "text/plain": [
       "(2168, 13)"
      ]
     },
     "execution_count": 2,
     "metadata": {},
     "output_type": "execute_result"
    }
   ],
   "source": [
    "huff = pd.read_csv(\"scraping-nettoye.csv\", low_memory=False)\n",
    "edition = \"Mexique\"\n",
    "huff = huff[huff.pays == edition]\n",
    "huff.shape"
   ]
  },
  {
   "cell_type": "markdown",
   "metadata": {},
   "source": [
    "Le but de cet exercice étant d'identifier le taux d'originalité du *HuffPost*, on va créer trois variables.\n",
    "\n",
    "- `HP_oui` contiendra la proportion d'articles qui sont originaux (signés par des employés du *HuffPost* ou des pigistes).\n",
    "- `HP_non` contiendra la proportion d'articles qui ne sont pas originaux (repris d'agences externes ou d'autres médias).\n",
    "- `HP_inconnu` contiendra la proportion d'articles dont on ne peut pas établir la provenance.\n",
    "\n",
    "La somme de ces trois variables équivaudra à 100. On s'en servira pour faire un graphique en pointes de tarte (camembert) à la fin."
   ]
  },
  {
   "cell_type": "code",
   "execution_count": 3,
   "metadata": {
    "collapsed": true
   },
   "outputs": [],
   "source": [
    "HP_oui = 0\n",
    "HP_non = 0\n",
    "HP_inconnu = 0"
   ]
  },
  {
   "cell_type": "markdown",
   "metadata": {},
   "source": [
    "<h3 style=\"background:teal;color:white;padding:5px\">Étape 2 - Filtrer les balises <i>meta</i></h3>"
   ]
  },
  {
   "cell_type": "markdown",
   "metadata": {},
   "source": [
    "<hr>\n",
    "Ce ne sont pas tous les articles de cette édition du *Huff Post* qui ont, pour nom dans leurs balises `meta`, l'une ou l'autre des éditions du *Huffington Post*, ou de sa compagnie-mère, AOL"
   ]
  },
  {
   "cell_type": "code",
   "execution_count": 4,
   "metadata": {
    "scrolled": true
   },
   "outputs": [
    {
     "data": {
      "text/plain": [
       "The Huffington Post Mexico    2138\n",
       "Excélsior                     22  \n",
       "ESPN.com.mx                   2   \n",
       "Dinero en Imagen.com          1   \n",
       "El Universal                  1   \n",
       "El Huffington Post            1   \n",
       "El Diario de Juárez           1   \n",
       "Excelsior                     1   \n",
       "Milenio                       1   \n",
       "Name: meta, dtype: int64"
      ]
     },
     "execution_count": 4,
     "metadata": {},
     "output_type": "execute_result"
    }
   ],
   "source": [
    "huff.meta.value_counts()"
   ]
  },
  {
   "cell_type": "markdown",
   "metadata": {},
   "source": [
    "Créons un sous-ensemble avec les articles qui, selon la balise `meta`, semblent issus du *HP*."
   ]
  },
  {
   "cell_type": "code",
   "execution_count": 5,
   "metadata": {},
   "outputs": [
    {
     "data": {
      "text/plain": [
       "The Huffington Post Mexico    2138\n",
       "El Huffington Post            1   \n",
       "Name: meta, dtype: int64"
      ]
     },
     "execution_count": 5,
     "metadata": {},
     "output_type": "execute_result"
    }
   ],
   "source": [
    "metaHP = huff.meta.str.contains(\"[H,Η,h][U,u][F,f][i,F,f,P,p]|ハフ|ポスト|허핑턴|허프|[A,a][O,o][L,l]\", na=False)\n",
    "huff[metaHP].meta.value_counts()"
   ]
  },
  {
   "cell_type": "code",
   "execution_count": 6,
   "metadata": {},
   "outputs": [
    {
     "data": {
      "text/plain": [
       "(2139, 13)"
      ]
     },
     "execution_count": 6,
     "metadata": {},
     "output_type": "execute_result"
    }
   ],
   "source": [
    "huff[metaHP].shape"
   ]
  },
  {
   "cell_type": "code",
   "execution_count": 7,
   "metadata": {},
   "outputs": [
    {
     "data": {
      "text/plain": [
       "29"
      ]
     },
     "execution_count": 7,
     "metadata": {},
     "output_type": "execute_result"
    }
   ],
   "source": [
    "len(huff) - len(huff[metaHP])"
   ]
  },
  {
   "cell_type": "markdown",
   "metadata": {},
   "source": [
    "Le calcul ci-haut nous indique qu'on a **29 articles** qu'on peut d'ores et déjà ranger dans la catégorie des articles qui ne sont *pas* rédigés par l'équipe du *HuffPost*.\n",
    "<hr>\n",
    "Examinons cependant de plus près notre sous-ensemble d'articles dont la balise `meta` prétend qu'ils sont issus du *HuffPost* en regardant qui sont les signataires de ces articles. Les signataires se trouvent dans la colonne `byline`. Voyons voir, donc, ce qu'elle contient."
   ]
  },
  {
   "cell_type": "markdown",
   "metadata": {},
   "source": [
    "<h3 style=\"background:teal;color:white;padding:5px\">Étape 3 - Identification des articles dont les signataires sont inconnus</h3>"
   ]
  },
  {
   "cell_type": "code",
   "execution_count": 8,
   "metadata": {},
   "outputs": [
    {
     "data": {
      "text/plain": [
       "Cristina Díaz Editora de Entretenimiento en Huffington Post México                                  279\n",
       "Roberto Sierra Editor Estilo de vida, Huffington Post México                                        177\n",
       "Manuel Hernández Borbolla Reportero. Ganador del Premio Alemán de Periodismo Walter Reuter 2014.    174\n",
       "Carolina Ruiz Editora de Negocios y Tecnología. The Huffington Post México.                         166\n",
       "Sandra Lucario Editora en Huffington Post México                                                    157\n",
       "? ?                                                                                                 150\n",
       "Redacción The Huffington Post México                                                                127\n",
       "Luis Baylón Editor HuffPost México                                                                  94 \n",
       "Teresa Villa Editora de Noticias Internacionales                                                    90 \n",
       "Guillermina Ortiz Editora Senior Front Page & News                                                  62 \n",
       "Paola Morales Editora de Política en Huffington Post                                                56 \n",
       "? The Huffington Post                                                                               38 \n",
       "                                                                                                    .. \n",
       "Josh Butler Associate Editor, HuffPost Australia                                                    1  \n",
       "Cayla Dengate Associate Editor, HuffPost Australia                                                  1  \n",
       "? Freelance Journalist                                                                              1  \n",
       "? Journaliste au Huffington Post                                                                    1  \n",
       "? Health.com                                                                                        1  \n",
       "? Huffington Post Grecia                                                                            1  \n",
       "? Europa Press                                                                                      1  \n",
       "? Redacción El HuffPost                                                                             1  \n",
       "? Executive Features Editor, The Huffington Post                                                    1  \n",
       "Remy Davison, Universidad de Monash                                                                 1  \n",
       "? US                                                                                                1  \n",
       "? Associate Polling Editor, The Huffington Post                                                     1  \n",
       "Name: byline, Length: 175, dtype: int64"
      ]
     },
     "execution_count": 8,
     "metadata": {},
     "output_type": "execute_result"
    }
   ],
   "source": [
    "huff[metaHP].byline.value_counts()"
   ]
  },
  {
   "cell_type": "markdown",
   "metadata": {},
   "source": [
    "Un certain nombre d'auteurs sont inconnus («&nbsp;?&nbsp;» ou «&nbsp;?&nbsp;?&nbsp;»).<br>\n",
    "Ceux marqués d'un seul point d'interrogation seront placés dans le sous-ensemble `inconnu1`, ceux qui sont marqués de deux points d'interrogation dans le sous-ensemble `inconnu2`.<br>\n",
    "Ils représentent un peu moins de **7%** du total des articles de cette édition du *Huffington&nbsp;Post*.<br>\n",
    "Nous allons placer cette proportion dans notre variable `HP_inconnu`."
   ]
  },
  {
   "cell_type": "code",
   "execution_count": 9,
   "metadata": {},
   "outputs": [
    {
     "data": {
      "text/plain": [
       "(150, 6.9188191881918826)"
      ]
     },
     "execution_count": 9,
     "metadata": {},
     "output_type": "execute_result"
    }
   ],
   "source": [
    "inconnus1 = huff[metaHP].byline == \"? \"\n",
    "inconnus2 = huff[metaHP].byline == \"? ?\"\n",
    "HP_inconnu = huff[metaHP][inconnus1].pays.count() + huff[metaHP][inconnus2].pays.count()\n",
    "HP_inconnu, (HP_inconnu/len(huff))*100"
   ]
  },
  {
   "cell_type": "markdown",
   "metadata": {},
   "source": [
    "<hr>\n",
    "<h3 style=\"background:teal;color:white;padding:5px\">Étape 4 - Identification des articles originaux au <i>HuffPost</i></h3>"
   ]
  },
  {
   "cell_type": "markdown",
   "metadata": {},
   "source": [
    "Examinons maintenant les articles dont la signature contient certaines chaînes de caractères qui correspondent au *Huffington Post* (dans différentes langues, fautes de frappe incluses), ou à sa compagnie-mère, AOL. On va baptiser ce sous-ensemble `signéHP`."
   ]
  },
  {
   "cell_type": "code",
   "execution_count": 10,
   "metadata": {
    "scrolled": true
   },
   "outputs": [
    {
     "data": {
      "text/plain": [
       "(1503, 13)"
      ]
     },
     "execution_count": 10,
     "metadata": {},
     "output_type": "execute_result"
    }
   ],
   "source": [
    "signeHP = huff[metaHP].byline.str.contains(\"[H,h][U,u,f][F,f][i,F,f,P,p]|ハフ|ポスト|허핑턴|허프|[A,a][O,o][L,l]\",na=False)\n",
    "huff[metaHP][signeHP].shape"
   ]
  },
  {
   "cell_type": "code",
   "execution_count": 11,
   "metadata": {},
   "outputs": [
    {
     "data": {
      "text/plain": [
       "(Cristina Díaz Editora de Entretenimiento en Huffington Post México                279\n",
       " Roberto Sierra Editor Estilo de vida, Huffington Post México                      177\n",
       " Carolina Ruiz Editora de Negocios y Tecnología. The Huffington Post México.       166\n",
       " Sandra Lucario Editora en Huffington Post México                                  157\n",
       " Redacción The Huffington Post México                                              127\n",
       " Luis Baylón Editor HuffPost México                                                94 \n",
       " Paola Morales Editora de Política en Huffington Post                              56 \n",
       " ? The Huffington Post                                                             38 \n",
       " Karen Cota Editora de Política, Huffington Post México                            31 \n",
       " Alejandro Angeles Editor, Huffington Post Mexico                                  30 \n",
       " ? Entertainment Writer, The Huffington Post                                       23 \n",
       " ? El Huffington Post                                                              23 \n",
       "                                                                                   .. \n",
       " Anthony Sharwood Sports And Environment Editor, HuffPost Australia                1  \n",
       " ? The Huffington Post Canada                                                      1  \n",
       " ? Repórter de Economia no HuffPost Brasil                                         1  \n",
       " Sarah Lansdown Associate Editor, HuffPost Australia                               1  \n",
       " Betwa Sharma Politics Editor, HuffPost India                                      1  \n",
       " Chris D'Angelo Reporter, The Huffington Post                                      1  \n",
       " ? The Huffington Post US                                                          1  \n",
       " Piyasree Dasgupta Features Editor, HuffPost India                                 1  \n",
       " Lucy Quaggin Journalist, HuffPost Australia                                       1  \n",
       " ? Huff Post Brasil                                                                1  \n",
       " ? Jornalista, cobre Política, Direitos Humanos e Tem Jeito! no HuffPost Brasil    1  \n",
       " ? Associate Polling Editor, The Huffington Post                                   1  \n",
       " Name: byline, Length: 125, dtype: int64, 125)"
      ]
     },
     "execution_count": 11,
     "metadata": {},
     "output_type": "execute_result"
    }
   ],
   "source": [
    "huff[metaHP][signeHP].byline.value_counts(), huff[metaHP][signeHP].byline.value_counts().count()"
   ]
  },
  {
   "cell_type": "markdown",
   "metadata": {},
   "source": [
    "Le *Huffington Post* est nommé, d'une façon ou d'une autre, dans ces quelque **1&nbsp;503 articles** signés par **125e signataires différents**.<br>\n",
    "Cela représente un peu plus des deux tiers de l'ensemble des articles publiés par cette édition du *HuffPost* dans la période étudiée.\n",
    "On peut placer cette proportion dans notre variable `HP_oui`."
   ]
  },
  {
   "cell_type": "code",
   "execution_count": 12,
   "metadata": {},
   "outputs": [
    {
     "data": {
      "text/plain": [
       "(1503, 69.326568265682653)"
      ]
     },
     "execution_count": 12,
     "metadata": {},
     "output_type": "execute_result"
    }
   ],
   "source": [
    "HP_oui = huff[metaHP][signeHP].pays.count()\n",
    "HP_oui, (HP_oui/len(huff))*100"
   ]
  },
  {
   "cell_type": "markdown",
   "metadata": {},
   "source": [
    "<hr>\n",
    "<h3 style=\"background:teal;color:white;padding:5px\">Étape 5 - Identification des articles <u>extérieurs</u> au <i>HuffPost</i></h3>"
   ]
  },
  {
   "cell_type": "markdown",
   "metadata": {},
   "source": [
    "On va donc faire la même opération, mais pour tous les postes dans lesquels **on ne trouve pas** les chaînes de caractères permettant d'identifier le *Huffington&nbsp;Post* dans différentes langues. On va créer un nouveau sous-ensemble qu'on va baptiser `NONsignéHP`."
   ]
  },
  {
   "cell_type": "code",
   "execution_count": 13,
   "metadata": {
    "scrolled": true
   },
   "outputs": [
    {
     "data": {
      "text/plain": [
       "(636, 13)"
      ]
     },
     "execution_count": 13,
     "metadata": {},
     "output_type": "execute_result"
    }
   ],
   "source": [
    "NONsigneHP = ~huff[metaHP].byline.str.contains(\"[H,h][U,u,f][F,f][i,F,f,P,p]|ハフ|ポスト|허핑턴|허프|[A,a][O,o][L,l]\",na=False)\n",
    "huff[metaHP][NONsigneHP].shape"
   ]
  },
  {
   "cell_type": "markdown",
   "metadata": {},
   "source": [
    "Qui sont ces auteurs qui ne signent pas des articles originaux pour le *HuffPost*?"
   ]
  },
  {
   "cell_type": "code",
   "execution_count": 14,
   "metadata": {},
   "outputs": [
    {
     "data": {
      "text/plain": [
       "(Manuel Hernández Borbolla Reportero. Ganador del Premio Alemán de Periodismo Walter Reuter 2014.      174\n",
       " ? ?                                                                                                   150\n",
       " Teresa Villa Editora de Noticias Internacionales                                                      90 \n",
       " Guillermina Ortiz Editora Senior Front Page & News                                                    62 \n",
       " Vanessa Mota                                                                                          27 \n",
       " Ariel Heiblum Editor de Video                                                                         26 \n",
       " Notimex                                                                                               25 \n",
       " Excélsior                                                                                             14 \n",
       " ? Entertainment Editor                                                                                6  \n",
       " ? Periodista                                                                                          5  \n",
       " ? Notimex                                                                                             4  \n",
       " ? Overnight Editor                                                                                    4  \n",
       "                                                                                                      ..  \n",
       " ? US                                                                                                  1  \n",
       " Ariadna Estévez López Profesora, Centro de Investigaciones sobre América del Norte de la UNAM         1  \n",
       " ? Editor, Lifestyle                                                                                   1  \n",
       " ? Writer, editor, baker and pug lover                                                                 1  \n",
       " Laura Cámara Matrona, sexóloga                                                                        1  \n",
       " Luis Gómez Romero, Profesor de Derechos Humanos, Universidad de Wollongong, Australia                 1  \n",
       " ? Freelance Writer and Editor                                                                         1  \n",
       " ? Health.com                                                                                          1  \n",
       " Remy Davison, Universidad de Monash                                                                   1  \n",
       " Farok J. Contractor Profesor Distinguido de Management y Negocios Globales, Universidad de Rutgers    1  \n",
       " Ben Greenfield Experto en fitness                                                                     1  \n",
       " ? U.S. News & World Report                                                                            1  \n",
       " Name: byline, Length: 50, dtype: int64, 50)"
      ]
     },
     "execution_count": 14,
     "metadata": {},
     "output_type": "execute_result"
    }
   ],
   "source": [
    "huff[metaHP][NONsigneHP].byline.value_counts(), huff[metaHP][NONsigneHP].byline.value_counts().count() "
   ]
  },
  {
   "cell_type": "markdown",
   "metadata": {},
   "source": [
    "On constate que plusieurs de ces noms désignent des postes au *HuffPost*, sinon des pigistes. On peut donc considérer que 413 de ces 636 articles signés par des auteurs «&nbsp;Non HuffPost&nbsp;» sont en fait des créateurs de contenu original pour cette édition du *HuffPost*.\n",
    "\n",
    "Il faut donc les ajouter à notre variable `HP_oui`."
   ]
  },
  {
   "cell_type": "code",
   "execution_count": 15,
   "metadata": {},
   "outputs": [
    {
     "data": {
      "text/plain": [
       "(1916, 88.376383763837637)"
      ]
     },
     "execution_count": 15,
     "metadata": {},
     "output_type": "execute_result"
    }
   ],
   "source": [
    "HP_oui = huff[metaHP][signeHP].pays.count() + 413\n",
    "HP_oui, (HP_oui/len(huff))*100"
   ]
  },
  {
   "cell_type": "markdown",
   "metadata": {},
   "source": [
    "Pour calculer le pourcentage des articles signés par des auteurs externes, il faut soustraire de notre sous-ensemble `NONsignéHP` les articles contenus dans les deux sous-ensembles `inconnu1` et `inconnu2`, additionner les articles qu'on a identifiés plus haut dont la balise `meta` ne pouvait pas être associée au *HuffPost*, et retrancher enfin tous les articles qu'on vient d'ajouter à notre variable `HP_oui`."
   ]
  },
  {
   "cell_type": "code",
   "execution_count": 16,
   "metadata": {},
   "outputs": [
    {
     "data": {
      "text/plain": [
       "(102, 4.7047970479704802)"
      ]
     },
     "execution_count": 16,
     "metadata": {},
     "output_type": "execute_result"
    }
   ],
   "source": [
    "HP_non = huff[metaHP][NONsigneHP].pays.count() - (huff[metaHP][inconnus1].pays.count() + huff[metaHP][inconnus2].pays.count()) + (len(huff) - len(huff[metaHP])) - 413\n",
    "HP_non, (HP_non/len(huff))*100"
   ]
  },
  {
   "cell_type": "markdown",
   "metadata": {},
   "source": [
    "On a désormais tout ce qu'il nous faut pour faire le camembert évoqué plus haut."
   ]
  },
  {
   "cell_type": "code",
   "execution_count": 17,
   "metadata": {},
   "outputs": [
    {
     "data": {
      "text/plain": [
       "<matplotlib.axes._subplots.AxesSubplot at 0x19db7d3c8>"
      ]
     },
     "execution_count": 17,
     "metadata": {},
     "output_type": "execute_result"
    },
    {
     "data": {
      "image/png": "[encoded data removed]",
      "text/plain": [
       "<matplotlib.figure.Figure at 0x19db7d908>"
      ]
     },
     "metadata": {},
     "output_type": "display_data"
    }
   ],
   "source": [
    "camembert = pd.Series([HP_oui,HP_non,HP_inconnu], index=[\"Oui\",\"Non\",\"Inconnu\"],name=\"\")\n",
    "titre = plt.figure(facecolor=\"beige\")\n",
    "titre.suptitle(\"HuffPost Mexique\", fontsize=24, fontweight=\"light\", fontname=\"Serif\")\n",
    "camembert.plot.pie(colors=[\"aqua\",\"coral\",\"lightgrey\"],\n",
    "                   wedgeprops={\"linewidth\":3,\"edgecolor\":\"white\"},\n",
    "                   textprops={\"weight\":\"bold\",\"fontsize\":14},\n",
    "                   counterclock=False,\n",
    "                   startangle=90,\n",
    "                   autopct=\"%1.1f%%\",\n",
    "                   figsize=(8,8)\n",
    ")"
   ]
  },
  {
   "cell_type": "markdown",
   "metadata": {},
   "source": [
    "<hr>\n",
    "<h3 style=\"background:teal;color:white;padding:5px\">Étape 6 - Exercice boni&nbsp;: les étiquettes (<i>tags</i>)</h3>"
   ]
  },
  {
   "cell_type": "markdown",
   "metadata": {},
   "source": [
    "Chaque article du *Huffington Post* est généralement accompagné d'une dizaine de marqueurs, ou d'étiquettes (*tags* en anglais). Voici ceux qui sont le plus fréquemment utilisés par cette édition."
   ]
  },
  {
   "cell_type": "code",
   "execution_count": 18,
   "metadata": {},
   "outputs": [
    {
     "data": {
      "text/plain": [
       "ENTRETENIMIENTO           659\n",
       "POLÍTICA                  435\n",
       "INTERNACIONAL             397\n",
       "NEGOCIOS                  271\n",
       "ESTILO DE VIDA            255\n",
       "Elecciones EU             240\n",
       "Donald Trump              195\n",
       "WELLNESS                  156\n",
       "hpmx                      148\n",
       "donald trump              126\n",
       "México                    110\n",
       "Hillary Clinton           79 \n",
       "                          .. \n",
       "capital                   1  \n",
       "indocumentados            1  \n",
       "asteoride                 1  \n",
       "rehabilitación            1  \n",
       "HboGo                     1  \n",
       "LadyBajate                1  \n",
       "Primer Ministro           1  \n",
       "Ellen DeGeneres           1  \n",
       "4k                        1  \n",
       "Federico Reyes Heroles    1  \n",
       "Controversia              1  \n",
       "hombre transgenero        1  \n",
       "Length: 4869, dtype: int64"
      ]
     },
     "execution_count": 18,
     "metadata": {},
     "output_type": "execute_result"
    }
   ],
   "source": [
    "etiquettes = huff.set_index('pays').tags.str.split(',', expand=True).stack().rename(columns={0:'tag'}).reset_index(drop=True)\n",
    "etiquettes.value_counts(dropna=False)"
   ]
  }
 ],
 "metadata": {
  "kernelspec": {
   "display_name": "Python 3",
   "language": "python",
   "name": "python3"
  },
  "language_info": {
   "codemirror_mode": {
    "name": "ipython",
    "version": 3
   },
   "file_extension": ".py",
   "mimetype": "text/x-python",
   "name": "python",
   "nbconvert_exporter": "python",
   "pygments_lexer": "ipython3",
   "version": "3.6.2"
  }
 },
 "nbformat": 4,
 "nbformat_minor": 1
}
