{
 "cells": [
  {
   "cell_type": "markdown",
   "metadata": {},
   "source": [
    "<table border=0px>\n",
    "<tr>\n",
    "<td>\n",
    "<img src=\"https://upload.wikimedia.org/wikipedia/commons/thumb/5/5a/HuffPost.svg/320px-HuffPost.svg.png\">\n",
    "</td>\n",
    "<td>\n",
    "<img src=\"https://upload.wikimedia.org/wikipedia/commons/thumb/c/cf/Flag_of_Canada.svg/320px-Flag_of_Canada.svg.png\">\n",
    "</td>\n",
    "</tr>\n",
    "</table>"
   ]
  },
  {
   "cell_type": "markdown",
   "metadata": {},
   "source": [
    "# Analyse des sources de l'édition canadienne du *Huff Post* (2011-2016) en 6 étapes faciles\n",
    "<hr>"
   ]
  },
  {
   "cell_type": "markdown",
   "metadata": {},
   "source": [
    "<h3 style=\"background:teal;color:white;padding:5px\">Étape 1 - Initialisation de notre *notebook* et lecture du fichier CSV contenant nos données</h3>"
   ]
  },
  {
   "cell_type": "code",
   "execution_count": 1,
   "metadata": {
    "collapsed": true
   },
   "outputs": [],
   "source": [
    "import csv, re, random\n",
    "import pandas as pd\n",
    "import numpy as np\n",
    "import matplotlib as mpl\n",
    "import matplotlib.pyplot as plt\n",
    "from scipy import stats, integrate\n",
    "pd.set_option('display.max_colwidth', -1)\n",
    "pd.options.display.max_rows = 25\n",
    "pd.options.mode.chained_assignment = None\n",
    "%matplotlib inline"
   ]
  },
  {
   "cell_type": "markdown",
   "metadata": {},
   "source": [
    "On lit notre fichier CSV de base, puis on crée une variable `edition` pour identifier le pays sur lequel on va travailler. La variable `huff` ne contient que les **265&nbsp;153 articles** de l'édition du pays auquel on s'intéresse ici."
   ]
  },
  {
   "cell_type": "code",
   "execution_count": 2,
   "metadata": {},
   "outputs": [
    {
     "data": {
      "text/plain": [
       "(265153, 13)"
      ]
     },
     "execution_count": 2,
     "metadata": {},
     "output_type": "execute_result"
    }
   ],
   "source": [
    "huff = pd.read_csv(\"scraping-nettoye.csv\", low_memory=False)\n",
    "edition = \"Canada\"\n",
    "huff = huff[huff.pays == edition]\n",
    "huff.shape"
   ]
  },
  {
   "cell_type": "markdown",
   "metadata": {},
   "source": [
    "Le but de cet exercice étant d'identifier le taux d'originalité du *HuffPost*, on va créer trois variables.\n",
    "\n",
    "- `HP_oui` contiendra la proportion d'articles qui sont originaux (signés par des employés du *HuffPost* ou des pigistes).\n",
    "- `HP_non` contiendra la proportion d'articles qui ne sont pas originaux (repris d'agences externes ou d'autres médias).\n",
    "- `HP_inconnu` contiendra la proportion d'articles dont on ne peut pas établir la provenance.\n",
    "\n",
    "La somme de ces trois variables équivaudra à 100. On s'en servira pour faire un graphique en pointes de tarte (camembert) à la fin."
   ]
  },
  {
   "cell_type": "code",
   "execution_count": 3,
   "metadata": {
    "collapsed": true
   },
   "outputs": [],
   "source": [
    "HP_oui = 0\n",
    "HP_non = 0\n",
    "HP_inconnu = 0"
   ]
  },
  {
   "cell_type": "markdown",
   "metadata": {},
   "source": [
    "<h3 style=\"background:teal;color:white;padding:5px\">Étape 2 - Filtrer les balises <i>meta</i></h3>"
   ]
  },
  {
   "cell_type": "markdown",
   "metadata": {},
   "source": [
    "<hr>\n",
    "Cette étape n'est pas nécessaire, car tous les articles de cette éditions ont, pour nom dans leurs balises `meta`, le nom du *Huffington Post*."
   ]
  },
  {
   "cell_type": "markdown",
   "metadata": {},
   "source": [
    "<h3 style=\"background:teal;color:white;padding:5px\">Étape 3 - Identification des articles dont les signataires sont inconnus</h3>"
   ]
  },
  {
   "cell_type": "code",
   "execution_count": 4,
   "metadata": {},
   "outputs": [
    {
     "data": {
      "text/plain": [
       "? CBC                                                           66400\n",
       "By The Canadian Press CP                                        41958\n",
       "By The Associated Press CP                                      13849\n",
       "? The Huffington Post Canada                                    10052\n",
       "? www.parentdish.ca                                             2120 \n",
       "? The Huffington Post B.C.                                      2075 \n",
       "? CP                                                            1846 \n",
       "By CBC CBC                                                      1805 \n",
       "By Neil Davidson, The Canadian Press CP                         1760 \n",
       "? The Huffington Post Alberta                                   1645 \n",
       "? www.stylelist.ca                                              1629 \n",
       "By Malcolm Morrison, The Canadian Press CP                      1582 \n",
       "                                                                ...  \n",
       "By Joan Bryden and Jordan Press CP                              1    \n",
       "By Mae Anderson And Michael Liedtke, The Associated Press CP    1    \n",
       "By Joshua Goodman And Ricardo Nunes, The Associated Press CP    1    \n",
       "vonTeresa Högele The Huffington Post                            1    \n",
       "By Vincent Malo TOWER TRIP Magazine                             1    \n",
       "By Stuart Henderson Huffington Post Canada Music                1    \n",
       "By Rusty Miller And Lisa Cornwell, The Associated Press CP      1    \n",
       "By Linda A. Johnson CP                                          1    \n",
       "By Travelocity.ca The Huffington Post Canada                    1    \n",
       "By Darren Deslauniers, The Canadian Press CP                    1    \n",
       "By Jason Schneider HuffPost Canada Music                        1    \n",
       "? Zero Hedge                                                    1    \n",
       "Name: byline, Length: 7884, dtype: int64"
      ]
     },
     "execution_count": 4,
     "metadata": {},
     "output_type": "execute_result"
    }
   ],
   "source": [
    "huff.byline.value_counts()"
   ]
  },
  {
   "cell_type": "markdown",
   "metadata": {},
   "source": [
    "Un certain nombre d'auteurs sont inconnus («&nbsp;?&nbsp;» ou «&nbsp;?&nbsp;?&nbsp;»).<br>\n",
    "Ceux marqués d'un seul point d'interrogation seront placés dans la variable `inconnu1`, ceux qui sont marqués de deux points d'interrogation dans la variable `inconnu2`.<br>\n",
    "Ils représentent à peine **0,5%** du total des articles de cette édition du *Huffington&nbsp;Post*."
   ]
  },
  {
   "cell_type": "code",
   "execution_count": 5,
   "metadata": {},
   "outputs": [
    {
     "data": {
      "text/plain": [
       "(1394, 0.52573419874562988)"
      ]
     },
     "execution_count": 5,
     "metadata": {},
     "output_type": "execute_result"
    }
   ],
   "source": [
    "inconnus1 = huff.byline == \"? \"\n",
    "inconnus2 = huff.byline == \"? ?\"\n",
    "HP_inconnu = huff[inconnus1].pays.count() + huff[inconnus2].pays.count()\n",
    "HP_inconnu, (HP_inconnu/len(huff))*100"
   ]
  },
  {
   "cell_type": "markdown",
   "metadata": {},
   "source": [
    "<hr>\n",
    "<h3 style=\"background:teal;color:white;padding:5px\">Étape 4 - Identification des articles originaux au <i>HuffPost</i></h3>"
   ]
  },
  {
   "cell_type": "markdown",
   "metadata": {},
   "source": [
    "Examinons maintenant les articles dont la signature contient certaines chaînes de caractères qui correspondent au *Huffington Post* (dans différentes langues, fautes de frappe incluses), ou à sa compagnie-mère, AOL. On va baptiser ce sous-ensemble `signéHP`."
   ]
  },
  {
   "cell_type": "code",
   "execution_count": 6,
   "metadata": {
    "scrolled": true
   },
   "outputs": [
    {
     "data": {
      "text/plain": [
       "(39319, 13)"
      ]
     },
     "execution_count": 6,
     "metadata": {},
     "output_type": "execute_result"
    }
   ],
   "source": [
    "signeHP = huff.byline.str.contains(\"[H,h][U,u,f][F,f][i,F,f,P,p]|ハフ|ポスト|허핑턴|허프|[A,a][O,o][L,l]\",na=False)\n",
    "huff[signeHP].shape"
   ]
  },
  {
   "cell_type": "code",
   "execution_count": 7,
   "metadata": {},
   "outputs": [
    {
     "data": {
      "text/plain": [
       "(? The Huffington Post Canada                                                    10052\n",
       " ? The Huffington Post B.C.                                                      2075 \n",
       " ? The Huffington Post Alberta                                                   1645 \n",
       " ByDaniel Tencer The Huffington Post Canada                                      1562 \n",
       " ByJesse Ferreras The Huffington Post Canada                                     1562 \n",
       " ByIsabelle Khoo The Huffington Post Canada                                      1491 \n",
       " ByArti Patel The Huffington Post Canada                                         1353 \n",
       " ByMadelyn Chung The Huffington Post Canada                                      1108 \n",
       " ByJoy D'Souza The Huffington Post Canada                                        1056 \n",
       " ByMonika Markovinovic The Huffington Post Canada                                969  \n",
       " ByChloe Tejada The Huffington Post Canada                                       865  \n",
       " ByZi-Ann Lum The Huffington Post Canada                                         592  \n",
       "                                                                                ...   \n",
       " By Brandie Weikle The Huffington Post Canada                                    1    \n",
       " By Hal Niedzviecki The Huffington Post                                          1    \n",
       " By Francesca Lucia The Huffington Post B.C.                                     1    \n",
       " By Brittany Goldfield Rodrigues Huffington Post Canada                          1    \n",
       " By Evan Michael Pang The Huffington Post Canada                                 1    \n",
       " By The Canadian Press CP/Huffington Post Canada                                 1    \n",
       " By Paola Loriggio Canadian Press                                                1    \n",
       " By Myriam Lefebvre Huffington Post Quebec                                       1    \n",
       " By Abbey Sharp R.D. The Huffington Post Canada                                  1    \n",
       " By Althia Raj and Michael Bolen The Huffington Post Canada                      1    \n",
       " By The Canadian Press CP, With Files From The Huffington Post Canada            1    \n",
       " By Brian Vinh Tien Trinh/ The Associated Press The Huffington Post Canada/CP    1    \n",
       " Name: byline, Length: 1061, dtype: int64, 1061)"
      ]
     },
     "execution_count": 7,
     "metadata": {},
     "output_type": "execute_result"
    }
   ],
   "source": [
    "huff[signeHP].byline.value_counts(), huff[signeHP].byline.value_counts().count()"
   ]
  },
  {
   "cell_type": "markdown",
   "metadata": {},
   "source": [
    "Le *Huffington Post* est nommé, d'une façon ou d'une autre, dans ces quelque **39&nbsp;319 articles** signés par **1&nbsp;061 signataires différents**.<br>\n",
    "Cela représente à peine le sixième de l'ensemble des articles publiés par l'édition canadienne du *HuffPost* dans la période étudiée."
   ]
  },
  {
   "cell_type": "code",
   "execution_count": 8,
   "metadata": {},
   "outputs": [
    {
     "data": {
      "text/plain": [
       "(39319, 14.828796958737032)"
      ]
     },
     "execution_count": 8,
     "metadata": {},
     "output_type": "execute_result"
    }
   ],
   "source": [
    "HP_oui = huff[signeHP].pays.count()\n",
    "HP_oui, (HP_oui/len(huff))*100"
   ]
  },
  {
   "cell_type": "markdown",
   "metadata": {},
   "source": [
    "<hr>\n",
    "<h3 style=\"background:teal;color:white;padding:5px\">Étape 5 - Identification des articles <u>extérieurs</u> au <i>HuffPost</i></h3>"
   ]
  },
  {
   "cell_type": "markdown",
   "metadata": {},
   "source": [
    "On va donc faire la même opération, mais pour tous les postes dans lesquels **on ne trouve pas** les chaînes de caractères permettant d'identifier le *Huffington&nbsp;Post* dans différentes langues. On va créer une nouvelle variable qu'on va appeler `NONsignéHP`."
   ]
  },
  {
   "cell_type": "code",
   "execution_count": 9,
   "metadata": {
    "scrolled": true
   },
   "outputs": [
    {
     "data": {
      "text/plain": [
       "(225834, 13)"
      ]
     },
     "execution_count": 9,
     "metadata": {},
     "output_type": "execute_result"
    }
   ],
   "source": [
    "NONsigneHP = ~huff.byline.str.contains(\"[H,h][U,u,f][F,f][i,F,f,P,p]|ハフ|ポスト|허핑턴|허프|[A,a][O,o][L,l]\",na=False)\n",
    "huff[NONsigneHP].shape"
   ]
  },
  {
   "cell_type": "markdown",
   "metadata": {},
   "source": [
    "Qui sont ces auteurs qui ne font pas partie de l'équipe du *HuffPost*?"
   ]
  },
  {
   "cell_type": "code",
   "execution_count": 10,
   "metadata": {},
   "outputs": [
    {
     "data": {
      "text/plain": [
       "(? CBC                                                                 66400\n",
       " By The Canadian Press CP                                              41958\n",
       " By The Associated Press CP                                            13849\n",
       " ? www.parentdish.ca                                                   2120 \n",
       " ? CP                                                                  1846 \n",
       " By CBC CBC                                                            1805 \n",
       " By Neil Davidson, The Canadian Press CP                               1760 \n",
       " ? www.stylelist.ca                                                    1629 \n",
       " By Malcolm Morrison, The Canadian Press CP                            1582 \n",
       " ?                                                                     1256 \n",
       " By Ross Marowits, The Canadian Press CP                               1193 \n",
       " By Stephen Whyno, The Canadian Press CP                               1173 \n",
       "                                                                       ...  \n",
       " By Sarah Wallace, paNow, The Canadian Press CP                        1    \n",
       " By Peter N. Henderson, The Canadian Press CP                          1    \n",
       " By Nancy Ryerson Hella Wella                                          1    \n",
       " By Verena Dobnik And Deepti Hajela, The Associated Press CP           1    \n",
       " By Martha Edwards thatsfit.ca                                         1    \n",
       " By Thomson Reuters CBC News                                           1    \n",
       " By Lia Lévesque, La Presse Canadienne CP                              1    \n",
       " ? AFP/Realxnews                                                       1    \n",
       " By Gary Fineoout, The Associated Press CP                             1    \n",
       " By Edith M. Lederer And Peter James Spielmann The Associated Press    1    \n",
       " By Laura Gaskill Houzz                                                1    \n",
       " ? Zero Hedge                                                          1    \n",
       " Name: byline, Length: 6823, dtype: int64, 6823)"
      ]
     },
     "execution_count": 10,
     "metadata": {},
     "output_type": "execute_result"
    }
   ],
   "source": [
    "huff[NONsigneHP].byline.value_counts(), huff[NONsigneHP].byline.value_counts().count()"
   ]
  },
  {
   "cell_type": "markdown",
   "metadata": {},
   "source": [
    "Des 6&nbsp;823 signataires ci-dessus, par contre, on trouve un certain nombre d'«&nbsp;employés fantôme&nbsp;».\n",
    "\n",
    "C'est le cas d'Althia Raj, qui est [clairement un employée du *Huff Post*](http://www.huffingtonpost.ca/author/althia-raj/).\n",
    "\n",
    "Nous avons identifié au moins 1&nbsp;490 articles signés par ces «&nbsp;employés fantôme&nbsp;». Il faut donc les ajouter à notre variable `HP_oui`."
   ]
  },
  {
   "cell_type": "code",
   "execution_count": 11,
   "metadata": {},
   "outputs": [
    {
     "data": {
      "text/plain": [
       "(40809, 15.39073666901751)"
      ]
     },
     "execution_count": 11,
     "metadata": {},
     "output_type": "execute_result"
    }
   ],
   "source": [
    "HP_oui = huff[signeHP].pays.count() + 1490\n",
    "HP_oui, (HP_oui/len(huff))*100"
   ]
  },
  {
   "cell_type": "markdown",
   "metadata": {},
   "source": [
    "Il nous reste donc à calculer le pourcentage des articles signés par des auteurs externes.\n",
    "\n",
    "Il faut ici soustraire de notre variable `NONsignéHP` les articles contenus dans les deux variables `inconnu1` et `inconnu2`, ainsi que les auteurs fantômes qu'on a identifiés ci-dessus."
   ]
  },
  {
   "cell_type": "code",
   "execution_count": 12,
   "metadata": {},
   "outputs": [
    {
     "data": {
      "text/plain": [
       "(222950, 84.083529132236862)"
      ]
     },
     "execution_count": 12,
     "metadata": {},
     "output_type": "execute_result"
    }
   ],
   "source": [
    "HP_non = huff[NONsigneHP].pays.count() - (huff[inconnus1].pays.count() + huff[inconnus2].pays.count()) + (len(huff) - len(huff)) - 1490\n",
    "HP_non, (HP_non/len(huff))*100"
   ]
  },
  {
   "cell_type": "markdown",
   "metadata": {},
   "source": [
    "On a désormais tout ce qu'il nous faut pour faire le camembert évoqué plus haut."
   ]
  },
  {
   "cell_type": "code",
   "execution_count": 13,
   "metadata": {},
   "outputs": [
    {
     "data": {
      "text/plain": [
       "<matplotlib.axes._subplots.AxesSubplot at 0x1a5cec898>"
      ]
     },
     "execution_count": 13,
     "metadata": {},
     "output_type": "execute_result"
    },
    {
     "data": {
      "image/png": "[encoded data removed]",
      "text/plain": [
       "<matplotlib.figure.Figure at 0x1a5cec048>"
      ]
     },
     "metadata": {},
     "output_type": "display_data"
    }
   ],
   "source": [
    "camembert = pd.Series([HP_oui,HP_non,HP_inconnu], index=[\"Oui\",\"Non\",\"Inconnu\"],name=\"\")\n",
    "titre = plt.figure(facecolor=\"beige\")\n",
    "titre.suptitle(\"HuffPost Canada\", fontsize=24, fontweight=\"light\", fontname=\"Serif\")\n",
    "camembert.plot.pie(colors=[\"aqua\",\"coral\",\"lightgrey\"],\n",
    "                   wedgeprops={\"linewidth\":3,\"edgecolor\":\"white\"},\n",
    "                   textprops={\"weight\":\"bold\",\"fontsize\":14},\n",
    "                   counterclock=False,\n",
    "                   startangle=90,\n",
    "                   autopct=\"%1.1f%%\",\n",
    "                   figsize=(8,8)\n",
    ")"
   ]
  },
  {
   "cell_type": "markdown",
   "metadata": {},
   "source": [
    "<hr>\n",
    "<h3 style=\"background:teal;color:white;padding:5px\">Étape 6 - Dernier exercice&nbsp;: les étiquettes (<i>tags</i>)</h3>"
   ]
  },
  {
   "cell_type": "markdown",
   "metadata": {},
   "source": [
    "Chaque article du *Huffington Post* est généralement accompagné d'une dizaine de marqueurs, ou d'étiquettes (*tags* en anglais). Voici ceux qui sont le plus fréquemment utilisés par l'édition canadienne.\n",
    "\n",
    "Les étiquettes les plus utilisées font référence aux sources des articles du *HuffPost Canada*:\n",
    "\n",
    "- 44% des articles sont repris en tout ou en partie de la *Canadian Press*\n",
    "- 24% des articles sont repris en tout ou en partie de la *Canadian Broadcasting Corporation*"
   ]
  },
  {
   "cell_type": "code",
   "execution_count": 14,
   "metadata": {},
   "outputs": [
    {
     "data": {
      "text/plain": [
       "cp                                118694\n",
       "cbc                               63729 \n",
       "video                             52943 \n",
       "vancouver                         3387  \n",
       "business video                    2898  \n",
       "calgary                           2507  \n",
       "style video                       1800  \n",
       "politics video                    1681  \n",
       "justin trudeau                    1676  \n",
       "edmonton                          1673  \n",
       "alberta crime                     1643  \n",
       "Alberta Politics                  1636  \n",
       "                                  ...   \n",
       "lady gaga harpers bazaar          1     \n",
       "dylann roof shooting              1     \n",
       "don valley flood                  1     \n",
       "bc health care workers            1     \n",
       "it gets better dalton mcguinty    1     \n",
       "canada and births                 1     \n",
       "Assiniboine Zoo polar bears       1     \n",
       "lawful access bill                1     \n",
       "omega-3 smoking study             1     \n",
       "Canada 2012 games                 1     \n",
       "weed banking colorado             1     \n",
       "Coachella kristen stewart         1     \n",
       "Length: 526842, dtype: int64"
      ]
     },
     "execution_count": 14,
     "metadata": {},
     "output_type": "execute_result"
    }
   ],
   "source": [
    "etiquettes = huff.set_index('pays').tags.str.split(',', expand=True).stack().rename(columns={0:'tag'}).reset_index(drop=True)\n",
    "etiquettes.value_counts(dropna=False)"
   ]
  }
 ],
 "metadata": {
  "kernelspec": {
   "display_name": "Python 3",
   "language": "python",
   "name": "python3"
  },
  "language_info": {
   "codemirror_mode": {
    "name": "ipython",
    "version": 3
   },
   "file_extension": ".py",
   "mimetype": "text/x-python",
   "name": "python",
   "nbconvert_exporter": "python",
   "pygments_lexer": "ipython3",
   "version": "3.6.2"
  }
 },
 "nbformat": 4,
 "nbformat_minor": 1
}
