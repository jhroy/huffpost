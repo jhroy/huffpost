{
 "cells": [
  {
   "cell_type": "markdown",
   "metadata": {},
   "source": [
    "<table border=0px>\n",
    "<tr>\n",
    "<td>\n",
    "<img src=\"https://upload.wikimedia.org/wikipedia/commons/thumb/5/5a/HuffPost.svg/320px-HuffPost.svg.png\">\n",
    "</td>\n",
    "<td>\n",
    "<img src=\"https://upload.wikimedia.org/wikipedia/en/thumb/a/ae/Flag_of_the_United_Kingdom.svg/320px-Flag_of_the_United_Kingdom.svg.png\">\n",
    "</td>\n",
    "</tr>\n",
    "</table>"
   ]
  },
  {
   "cell_type": "markdown",
   "metadata": {},
   "source": [
    "# Analyse des sources de l'édition britannique du *Huff Post* (2011-2016) en 6 étapes faciles\n",
    "<hr>"
   ]
  },
  {
   "cell_type": "markdown",
   "metadata": {},
   "source": [
    "<h3 style=\"background:teal;color:white;padding:5px\">Étape 1 - Initialisation de notre <i>notebook</i> et lecture du fichier CSV contenant nos données</h3>"
   ]
  },
  {
   "cell_type": "code",
   "execution_count": 1,
   "metadata": {
    "collapsed": true
   },
   "outputs": [],
   "source": [
    "import csv, re, random\n",
    "import pandas as pd\n",
    "import numpy as np\n",
    "import matplotlib as mpl\n",
    "import matplotlib.pyplot as plt\n",
    "from scipy import stats, integrate\n",
    "pd.set_option('display.max_colwidth', -1)\n",
    "pd.options.display.max_rows = 25\n",
    "pd.options.mode.chained_assignment = None\n",
    "%matplotlib inline"
   ]
  },
  {
   "cell_type": "markdown",
   "metadata": {},
   "source": [
    "On lit notre fichier CSV de base, puis on crée une variable `edition` pour identifier le pays sur lequel on va travailler. La variable `huff` ne contient que les articles de l'édition du pays auquel on s'intéresse ici."
   ]
  },
  {
   "cell_type": "code",
   "execution_count": 2,
   "metadata": {},
   "outputs": [
    {
     "data": {
      "text/plain": [
       "(161263, 13)"
      ]
     },
     "execution_count": 2,
     "metadata": {},
     "output_type": "execute_result"
    }
   ],
   "source": [
    "huff = pd.read_csv(\"scraping-nettoye.csv\", low_memory=False)\n",
    "edition = \"Royaume-Uni\"\n",
    "huff = huff[huff.pays == edition]\n",
    "huff.shape"
   ]
  },
  {
   "cell_type": "markdown",
   "metadata": {},
   "source": [
    "Le but de cet exercice étant d'identifier le taux d'originalité du *HuffPost*, on va créer trois variables.\n",
    "\n",
    "- `HP_oui` contiendra la proportion d'articles qui sont originaux (signés par des employés du *HuffPost* ou des pigistes).\n",
    "- `HP_non` contiendra la proportion d'articles qui ne sont pas originaux (repris d'agences externes ou d'autres médias).\n",
    "- `HP_inconnu` contiendra la proportion d'articles dont on ne peut pas établir la provenance.\n",
    "\n",
    "La somme de ces trois variables équivaudra à 100. On s'en servira pour faire un graphique en pointes de tarte (camembert) à la fin."
   ]
  },
  {
   "cell_type": "code",
   "execution_count": 3,
   "metadata": {
    "collapsed": true
   },
   "outputs": [],
   "source": [
    "HP_oui = 0\n",
    "HP_non = 0\n",
    "HP_inconnu = 0"
   ]
  },
  {
   "cell_type": "markdown",
   "metadata": {},
   "source": [
    "<h3 style=\"background:teal;color:white;padding:5px\">Étape 2 - Filtrer les balises <i>meta</i></h3>"
   ]
  },
  {
   "cell_type": "markdown",
   "metadata": {},
   "source": [
    "<hr>\n",
    "Ce ne sont pas tous les articles de cette édition du *Huff Post* qui ont, pour nom dans leurs balises `meta`, l'une ou l'autre des éditions du *Huffington Post*, ou de sa compagnie-mère, AOL"
   ]
  },
  {
   "cell_type": "code",
   "execution_count": 4,
   "metadata": {
    "scrolled": true
   },
   "outputs": [
    {
     "data": {
      "text/plain": [
       "The Huffington Post       161250\n",
       "The Huffington Post UK    9     \n",
       "Le Huffington Post        2     \n",
       "Recipes at Sainsbury's    1     \n",
       "허핑턴포스트                    1     \n",
       "Name: meta, dtype: int64"
      ]
     },
     "execution_count": 4,
     "metadata": {},
     "output_type": "execute_result"
    }
   ],
   "source": [
    "huff.meta.value_counts()"
   ]
  },
  {
   "cell_type": "markdown",
   "metadata": {},
   "source": [
    "Créons un sous-ensemble avec les articles qui, selon la balise `meta`, semblent issus du *HP*."
   ]
  },
  {
   "cell_type": "code",
   "execution_count": 5,
   "metadata": {},
   "outputs": [
    {
     "data": {
      "text/plain": [
       "The Huffington Post       161250\n",
       "The Huffington Post UK    9     \n",
       "Le Huffington Post        2     \n",
       "허핑턴포스트                    1     \n",
       "Name: meta, dtype: int64"
      ]
     },
     "execution_count": 5,
     "metadata": {},
     "output_type": "execute_result"
    }
   ],
   "source": [
    "metaHP = huff.meta.str.contains(\"[H,Η,h][U,u][F,f][i,F,f,P,p]|ハフ|ポスト|허핑턴|허프|[A,a][O,o][L,l]\", na=False)\n",
    "huff[metaHP].meta.value_counts()"
   ]
  },
  {
   "cell_type": "code",
   "execution_count": 6,
   "metadata": {},
   "outputs": [
    {
     "data": {
      "text/plain": [
       "(161262, 13)"
      ]
     },
     "execution_count": 6,
     "metadata": {},
     "output_type": "execute_result"
    }
   ],
   "source": [
    "huff[metaHP].shape"
   ]
  },
  {
   "cell_type": "code",
   "execution_count": 7,
   "metadata": {},
   "outputs": [
    {
     "data": {
      "text/plain": [
       "1"
      ]
     },
     "execution_count": 7,
     "metadata": {},
     "output_type": "execute_result"
    }
   ],
   "source": [
    "len(huff) - len(huff[metaHP])"
   ]
  },
  {
   "cell_type": "markdown",
   "metadata": {},
   "source": [
    "Le calcul ci-haut nous indique que la balise `meta` des articles du *HuffPost&nbsp;UK* donne à penser qu'**un seul article** n'a pas été rédigé par l'équipe maison.\n",
    "<hr>\n",
    "Examinons-les quand même de plus près en regardant qui sont les signataires de l'ensemble de ces articles. Les signataires se trouvent dans la colonne `byline`. Voyons voir, donc, ce qu'elle contient."
   ]
  },
  {
   "cell_type": "markdown",
   "metadata": {},
   "source": [
    "<h3 style=\"background:teal;color:white;padding:5px\">Étape 3 - Identification des articles dont les signataires sont inconnus</h3>"
   ]
  },
  {
   "cell_type": "code",
   "execution_count": 8,
   "metadata": {},
   "outputs": [
    {
     "data": {
      "text/plain": [
       "The Huffington Post UK ?                                                                                                     20842\n",
       "PA ?                                                                                                                         12613\n",
       " ?                                                                                                                           6073 \n",
       "Huffington Post UK ?                                                                                                         4059 \n",
       "PA/The Huffington Post UK ?                                                                                                  3989 \n",
       "Sara C Nelson\\n\\n\\n\\n\\nSenior Editor, The Huffington Post UK Senior Editor, The Huffington Post UK                           3819 \n",
       "Caroline Frost\\n\\n\\n\\n\\nEntertainment Editor, Huffington Post UK Entertainment Editor, Huffington Post UK                    3737 \n",
       "Michael Rundle\\n\\n\\n\\n\\nHuffPost UK Technology Editor HuffPost UK Technology Editor                                          3228 \n",
       "Ashley Percival\\n\\n\\n\\n\\nEntertainment Reporter, The Huffington Post UK Entertainment Reporter, The Huffington Post UK       3059 \n",
       "The Huffington Post UK/PA ?                                                                                                  2877 \n",
       "Ned Simons\\n\\n\\n\\n\\nAssistant Political Editor, The Huffington Post UK Assistant Political Editor, The Huffington Post UK    2789 \n",
       "Samuel Luckhurst\\n\\n\\n\\n\\nFootball writer, The Manchester Evening News Football writer, The Manchester Evening News          2761 \n",
       "                                                                                                                             ...  \n",
       "Thomas Tamblyn\\nThe Hufd ?                                                                                                   1    \n",
       "Hollis Miller\\n\\n\\n\\n\\nAssociate Social Editor, HuffPost Voices Associate Social Editor, HuffPost Voices                     1    \n",
       "Paul Vale\\nzoomin.tv ?                                                                                                       1    \n",
       "Fredrick Nzwili\\nReligion News Service ?                                                                                     1    \n",
       "Melanie Hick\\nThe Drum ?                                                                                                     1    \n",
       "Alanna Vagianos and Damon Dahlen\\nThe Huffington Post UK ?                                                                   1    \n",
       "Baggers ?                                                                                                                    1    \n",
       "Natasha Hinde\\nThe Huffington Post ?                                                                                         1    \n",
       "DIna Rickman\\nHuffington Post UK ?                                                                                           1    \n",
       "HuffPost Home\\nThe Huffington Post ?                                                                                         1    \n",
       "GamesIndustry.Biz\\nGamesIndustry.Biz ?                                                                                       1    \n",
       "Lucy Sherriff/Jessica Elgot\\nThe Huffington Post UK ?                                                                        1    \n",
       "Name: byline, Length: 2893, dtype: int64"
      ]
     },
     "execution_count": 8,
     "metadata": {},
     "output_type": "execute_result"
    }
   ],
   "source": [
    "huff[metaHP].byline.value_counts()"
   ]
  },
  {
   "cell_type": "markdown",
   "metadata": {},
   "source": [
    "Un certain nombre d'auteurs sont inconnus («&nbsp;?&nbsp;» ou «&nbsp;?&nbsp;?&nbsp;»).<br>\n",
    "Ceux marqués d'un seul point d'interrogation seront placés dans le sous-ensemble `inconnu1`, ceux qui sont marqués de deux points d'interrogation dans le sous-ensemble `inconnu2`.<br>\n",
    "Ils représentent à peine **0,1%** du total des articles de cette édition du *Huffington&nbsp;Post*.<br>\n",
    "Nous allons placer cette proportion dans notre variable `HP_inconnu`."
   ]
  },
  {
   "cell_type": "code",
   "execution_count": 9,
   "metadata": {},
   "outputs": [
    {
     "data": {
      "text/plain": [
       "(189, 0.11719985365520919)"
      ]
     },
     "execution_count": 9,
     "metadata": {},
     "output_type": "execute_result"
    }
   ],
   "source": [
    "inconnus1 = huff[metaHP].byline == \"? \"\n",
    "inconnus2 = huff[metaHP].byline == \"? ?\"\n",
    "HP_inconnu = huff[metaHP][inconnus1].pays.count() + huff[metaHP][inconnus2].pays.count()\n",
    "HP_inconnu, (HP_inconnu/len(huff))*100"
   ]
  },
  {
   "cell_type": "markdown",
   "metadata": {},
   "source": [
    "<hr>\n",
    "<h3 style=\"background:teal;color:white;padding:5px\">Étape 4 - Identification des articles originaux au <i>HuffPost</i></h3>"
   ]
  },
  {
   "cell_type": "markdown",
   "metadata": {},
   "source": [
    "Examinons maintenant les articles dont la signature contient certaines chaînes de caractères qui correspondent au *Huffington Post* (dans différentes langues, fautes de frappe incluses), ou à sa compagnie-mère, AOL. On va baptiser ce sous-ensemble `signéHP`."
   ]
  },
  {
   "cell_type": "code",
   "execution_count": 10,
   "metadata": {
    "scrolled": true
   },
   "outputs": [
    {
     "data": {
      "text/plain": [
       "(110464, 13)"
      ]
     },
     "execution_count": 10,
     "metadata": {},
     "output_type": "execute_result"
    }
   ],
   "source": [
    "signeHP = huff[metaHP].byline.str.contains(\"[H,h][U,u,f][F,f][i,F,f,P,p]|ハフ|ポスト|허핑턴|허프|[A,a][O,o][L,l]\",na=False)\n",
    "huff[metaHP][signeHP].shape"
   ]
  },
  {
   "cell_type": "code",
   "execution_count": 11,
   "metadata": {},
   "outputs": [
    {
     "data": {
      "text/plain": [
       "(The Huffington Post UK ?                                                                                                                              20842\n",
       " Huffington Post UK ?                                                                                                                                  4059 \n",
       " PA/The Huffington Post UK ?                                                                                                                           3989 \n",
       " Sara C Nelson\\n\\n\\n\\n\\nSenior Editor, The Huffington Post UK Senior Editor, The Huffington Post UK                                                    3819 \n",
       " Caroline Frost\\n\\n\\n\\n\\nEntertainment Editor, Huffington Post UK Entertainment Editor, Huffington Post UK                                             3737 \n",
       " Michael Rundle\\n\\n\\n\\n\\nHuffPost UK Technology Editor HuffPost UK Technology Editor                                                                   3228 \n",
       " Ashley Percival\\n\\n\\n\\n\\nEntertainment Reporter, The Huffington Post UK Entertainment Reporter, The Huffington Post UK                                3059 \n",
       " The Huffington Post UK/PA ?                                                                                                                           2877 \n",
       " Ned Simons\\n\\n\\n\\n\\nAssistant Political Editor, The Huffington Post UK Assistant Political Editor, The Huffington Post UK                             2789 \n",
       " Daniel Welsh\\n\\n\\n\\n\\nEntertainment Reporter, The Huffington Post UK Entertainment Reporter, The Huffington Post UK                                   2730 \n",
       " PA/Huffington Post UK ?                                                                                                                               2618 \n",
       " Natasha Hinde\\n\\n\\n\\n\\nLifestyle Writer at The Huffington Post UK Lifestyle Writer at The Huffington Post UK                                          2366 \n",
       "                                                                                                                                                       ...  \n",
       " Kia Makarechi\\n\\n\\n\\n\\nSenior Editor for Mobile and Innovations, The Huffington Post Senior Editor for Mobile and Innovations, The Huffington Post    1    \n",
       " Fergus Church\\nHuffington Post UK ?                                                                                                                   1    \n",
       " Paco Tijdink\\nHuffington Post UK ?                                                                                                                    1    \n",
       " Louise Ridley\\nHuffington Post UK ?                                                                                                                   1    \n",
       " The Huffington Post\\nBy Kate Hilpern ?                                                                                                                1    \n",
       " By Claire Hayhurst and Rod Minchin, Press Association\\nPA for HuffPost UK ?                                                                           1    \n",
       " Amy Sharpe\\nThe Huffington Post UK/SWNS ?                                                                                                             1    \n",
       " Rachel Moss\\nThe Huffongtuffignotn ?                                                                                                                  1    \n",
       " Amanda Terkel\\nThe Huffington Post ?                                                                                                                  1    \n",
       " Charlotte Meredith\\nThe Huffington Post UK ?                                                                                                          1    \n",
       " The Huffington Post Uk/ PA ?                                                                                                                          1    \n",
       " Roshina Jowaheer\\nAOL Travel ?                                                                                                                        1    \n",
       " Name: byline, Length: 1273, dtype: int64, 1273)"
      ]
     },
     "execution_count": 11,
     "metadata": {},
     "output_type": "execute_result"
    }
   ],
   "source": [
    "huff[metaHP][signeHP].byline.value_counts(), huff[metaHP][signeHP].byline.value_counts().count()"
   ]
  },
  {
   "cell_type": "markdown",
   "metadata": {},
   "source": [
    "Le *Huffington Post* est nommé, d'une façon ou d'une autre, dans ces quelque **110&nbsp;464 articles** signés par **1&nbsp;273 signataires différents**.<br>\n",
    "Cela représente plus des **deux tiers** de l'ensemble des articles publiés par l'édition britannique du *HuffPost* dans la période étudiée.\n",
    "On peut placer cette proportion dans notre variable `HP_oui`."
   ]
  },
  {
   "cell_type": "code",
   "execution_count": 12,
   "metadata": {},
   "outputs": [
    {
     "data": {
      "text/plain": [
       "(110464, 68.499283778672108)"
      ]
     },
     "execution_count": 12,
     "metadata": {},
     "output_type": "execute_result"
    }
   ],
   "source": [
    "HP_oui = huff[metaHP][signeHP].pays.count()\n",
    "HP_oui, (HP_oui/len(huff))*100"
   ]
  },
  {
   "cell_type": "markdown",
   "metadata": {},
   "source": [
    "<hr>\n",
    "<h3 style=\"background:teal;color:white;padding:5px\">Étape 5 - Identification des articles <u>extérieurs</u> au <i>HuffPost</i></h3>"
   ]
  },
  {
   "cell_type": "markdown",
   "metadata": {},
   "source": [
    "On va donc faire la même opération, mais pour tous les postes dans lesquels **on ne trouve pas** les chaînes de caractères permettant d'identifier le *Huffington&nbsp;Post* dans différentes langues. On va créer un nouveau sous-ensemble qu'on va baptiser `NONsignéHP`."
   ]
  },
  {
   "cell_type": "code",
   "execution_count": 13,
   "metadata": {
    "scrolled": true
   },
   "outputs": [
    {
     "data": {
      "text/plain": [
       "(50798, 13)"
      ]
     },
     "execution_count": 13,
     "metadata": {},
     "output_type": "execute_result"
    }
   ],
   "source": [
    "NONsigneHP = ~huff[metaHP].byline.str.contains(\"[H,h][U,u,f][F,f][i,F,f,P,p]|ハフ|ポスト|허핑턴|허프|[A,a][O,o][L,l]\",na=False)\n",
    "huff[metaHP][NONsigneHP].shape"
   ]
  },
  {
   "cell_type": "markdown",
   "metadata": {},
   "source": [
    "Qui sont ces auteurs qui ne signent pas des articles originaux pour le *HuffPost*?"
   ]
  },
  {
   "cell_type": "code",
   "execution_count": 14,
   "metadata": {},
   "outputs": [
    {
     "data": {
      "text/plain": [
       "(PA ?                                                                                                                                12613\n",
       "  ?                                                                                                                                  6073 \n",
       " Samuel Luckhurst\\n\\n\\n\\n\\nFootball writer, The Manchester Evening News Football writer, The Manchester Evening News                 2761 \n",
       " Rachel McGrath\\n\\n\\n\\n\\nEditorial Assistant, Entertainment Editorial Assistant, Entertainment                                       2356 \n",
       " WENN ?                                                                                                                              1981 \n",
       " MyDaily ?                                                                                                                           1341 \n",
       " Daniel Welsh\\n\\n\\n\\n\\nEntertainment Reporter Entertainment Reporter                                                                 1081 \n",
       " Keith Kendrick\\nParentdish UK ?                                                                                                     1057 \n",
       " Sarah Dean\\n\\n\\n\\n\\nJournalist Journalist                                                                                           996  \n",
       " Ash Percival\\n\\n\\n\\n\\nEntertainment Reporter Entertainment Reporter                                                                 990  \n",
       " Rachel McGrath\\n\\n\\n\\n\\nEntertainment Reporter Entertainment Reporter                                                               941  \n",
       " Katie Jones\\nMyDaily UK ?                                                                                                           828  \n",
       "                                                                                                                                    ...   \n",
       " Bobby Magill\\nClimate Central ?                                                                                                     1    \n",
       " Lee Hernandez\\n\\n\\n\\n\\nEditorial Director & Co-President at EXCLUSIVLee.com Editorial Director & Co-President at EXCLUSIVLee.com    1    \n",
       " dealbook.nytimes.com ?                                                                                                              1    \n",
       " What Culture! ?                                                                                                                     1    \n",
       " Slate ?                                                                                                                             1    \n",
       " Viral Spiral ?                                                                                                                      1    \n",
       " Press Association\\nPress Associaton ?                                                                                               1    \n",
       " CPS ?                                                                                                                               1    \n",
       " Comedy Central UK ?                                                                                                                 1    \n",
       " Google ?                                                                                                                            1    \n",
       " Lucy Benyon\\nParentdish UK ?                                                                                                        1    \n",
       " Liverpool Echo ?                                                                                                                    1    \n",
       " Name: byline, Length: 1620, dtype: int64, 1620)"
      ]
     },
     "execution_count": 14,
     "metadata": {},
     "output_type": "execute_result"
    }
   ],
   "source": [
    "huff[metaHP][NONsigneHP].byline.value_counts(), huff[metaHP][NONsigneHP].byline.value_counts().count() "
   ]
  },
  {
   "cell_type": "markdown",
   "metadata": {},
   "source": [
    "Des 123 signataires ci-dessus, par contre, on trouve plusieurs «&nbsp;employés fantôme&nbsp;». Ils comprennent, dans leur signature, les mots *«&nbsp;Editor&nbsp;»*, *«&nbsp;Reporter&nbsp;»* ou *«&nbsp;Journalist&nbsp;»*, par exemples.\n",
    "Isolons-les."
   ]
  },
  {
   "cell_type": "code",
   "execution_count": 15,
   "metadata": {},
   "outputs": [
    {
     "data": {
      "text/plain": [
       "(Rachel McGrath\\n\\n\\n\\n\\nEditorial Assistant, Entertainment Editorial Assistant, Entertainment                                                         2356\n",
       " Daniel Welsh\\n\\n\\n\\n\\nEntertainment Reporter Entertainment Reporter                                                                                   1081\n",
       " Ash Percival\\n\\n\\n\\n\\nEntertainment Reporter Entertainment Reporter                                                                                   990 \n",
       " Rachel McGrath\\n\\n\\n\\n\\nEntertainment Reporter Entertainment Reporter                                                                                 941 \n",
       " Steven Hopkins\\n\\n\\n\\n\\nAssistant News Editor Assistant News Editor                                                                                   669 \n",
       " Charlie Thomas\\n\\nBusiness reporter Business reporter                                                                                                 501 \n",
       " Oscar Williams\\n\\n\\n\\n\\nTech reporter Tech reporter                                                                                                   387 \n",
       " Owen Bennett\\n\\n\\n\\n\\n\\nDeputy Political Editor Deputy Political Editor                                                                               270 \n",
       " Nitya Rajan\\n\\n\\n\\n\\nVideo producer Video producer                                                                                                    130 \n",
       " David Hobbs\\n\\n\\n\\n\\nEditor, journalist, motorsport addict Editor, journalist, motorsport addict                                                      111 \n",
       " Paul Vale\\n\\n\\n\\n\\n\\nFront Page Editor, US Front Page Editor, US                                                                                      54  \n",
       " Bill Bradley\\n\\n\\n\\n\\nEntertainment Editor Entertainment Editor                                                                                       47  \n",
       "                                                                                                                                                       ..  \n",
       " Lee Hernandez\\n\\n\\n\\n\\nEditorial Director & Co-President at EXCLUSIVLee.com Editorial Director & Co-President at EXCLUSIVLee.com                      1   \n",
       " Sarah Leon\\n\\n\\n\\n\\nWeb editor, W magazine Web editor, W magazine                                                                                     1   \n",
       " Hollywood Reporter ?                                                                                                                                  1   \n",
       " 100 Reporters ?                                                                                                                                       1   \n",
       " Jessica Dickerson\\n\\n\\n\\n\\nEditor, Slant News Editor, Slant News                                                                                      1   \n",
       " By David Brake Editor of OneRoomWithAView.com                                                                                                         1   \n",
       " Hilary Tuttle\\n\\n\\n\\n\\nEditor, Crime and Weird News Editor, Crime and Weird News                                                                      1   \n",
       " Margaret Wheeler Johnson\\n\\n\\n\\n\\nSenior Lifestyle Editor Senior Lifestyle Editor                                                                     1   \n",
       " Kerri-Ann Roper, Press Association Entertainment Editor\\nPA ?                                                                                         1   \n",
       " Vice Media Reporter Alexander Christie-Miller\\nVBS.TV ?                                                                                               1   \n",
       " Emily Peck\\n\\n\\n\\n\\nExecutive Editor, Business and Technology Executive Editor, Business and Technology                                               1   \n",
       " Ellen Stewart\\n\\n\\n\\n\\nDigital journalist, social media editor and lifestyle blogger Digital journalist, social media editor and lifestyle blogger    1   \n",
       " Name: byline, Length: 78, dtype: int64, 7918)"
      ]
     },
     "execution_count": 15,
     "metadata": {},
     "output_type": "execute_result"
    }
   ],
   "source": [
    "fantomes = huff[metaHP][NONsigneHP].byline.str.contains(\"[E,e]ditor|[P,p]roducer|[R,r]eporte\")\n",
    "huff[metaHP][NONsigneHP][fantomes].byline.value_counts(), huff[metaHP][NONsigneHP][fantomes].byline.value_counts().sum()"
   ]
  },
  {
   "cell_type": "markdown",
   "metadata": {},
   "source": [
    "Ces auteurs ont donc signé **7&nbsp;853 articles** (7&nbsp;918 articles ci-dessus, auxquels il faut retrancher les 51 articles rédigés par des auteurs de la **[Press Association](https://www.pressassociation.com/)**, une agence de presse britannique, les 9 articles du *Hollywood Reporter* et le 5 articles du *Google Insider*.\n",
    "\n",
    "On peut les ajouter à notre variable `HP_oui`."
   ]
  },
  {
   "cell_type": "code",
   "execution_count": 16,
   "metadata": {},
   "outputs": [
    {
     "data": {
      "text/plain": [
       "(118317, 73.36896870329835)"
      ]
     },
     "execution_count": 16,
     "metadata": {},
     "output_type": "execute_result"
    }
   ],
   "source": [
    "HP_oui = huff[metaHP][signeHP].pays.count() + 7853\n",
    "HP_oui, (HP_oui/len(huff))*100"
   ]
  },
  {
   "cell_type": "markdown",
   "metadata": {},
   "source": [
    "Pour calculer le pourcentage des articles signés par des auteurs externes, il faut soustraire de notre sous-ensemble `NONsignéHP` les articles contenus dans les deux sous-ensembles `inconnu1` et `inconnu2`, et additionner les articles qu'on a identifié plus haut dont la balise `meta` ne pouvait pas être associée au *HuffPost*, puis retrancher tous les articles qu'on vient de ranger dans notre variable `HP_oui`."
   ]
  },
  {
   "cell_type": "code",
   "execution_count": 17,
   "metadata": {},
   "outputs": [
    {
     "data": {
      "text/plain": [
       "(42757, 26.513831443046453)"
      ]
     },
     "execution_count": 17,
     "metadata": {},
     "output_type": "execute_result"
    }
   ],
   "source": [
    "HP_non = huff[metaHP][NONsigneHP].pays.count() - (huff[metaHP][inconnus1].pays.count() + huff[metaHP][inconnus2].pays.count()) + (len(huff) - len(huff[metaHP])) - 7853\n",
    "HP_non, (HP_non/len(huff))*100"
   ]
  },
  {
   "cell_type": "markdown",
   "metadata": {},
   "source": [
    "On a désormais tout ce qu'il nous faut pour faire le camembert évoqué plus haut."
   ]
  },
  {
   "cell_type": "code",
   "execution_count": 18,
   "metadata": {},
   "outputs": [
    {
     "data": {
      "text/plain": [
       "<matplotlib.axes._subplots.AxesSubplot at 0x126ca4710>"
      ]
     },
     "execution_count": 18,
     "metadata": {},
     "output_type": "execute_result"
    },
    {
     "data": {
      "image/png": "[encoded data removed]",
      "text/plain": [
       "<matplotlib.figure.Figure at 0x126ca47b8>"
      ]
     },
     "metadata": {},
     "output_type": "display_data"
    }
   ],
   "source": [
    "camembert = pd.Series([HP_oui,HP_non,HP_inconnu], index=[\"Oui\",\"Non\",\"Inconnu\"],name=\"\")\n",
    "titre = plt.figure(facecolor=\"beige\")\n",
    "titre.suptitle(\"HuffPost Royaume-Uni\", fontsize=24, fontweight=\"light\", fontname=\"Serif\")\n",
    "camembert.plot.pie(colors=[\"aqua\",\"coral\",\"lightgrey\"],\n",
    "                   wedgeprops={\"linewidth\":3,\"edgecolor\":\"white\"},\n",
    "                   textprops={\"weight\":\"bold\",\"fontsize\":14},\n",
    "                   counterclock=False,\n",
    "                   startangle=90,\n",
    "                   autopct=\"%1.1f%%\",\n",
    "                   figsize=(8,8)\n",
    ")"
   ]
  },
  {
   "cell_type": "markdown",
   "metadata": {},
   "source": [
    "<hr>\n",
    "<h3 style=\"background:teal;color:white;padding:5px\">Étape 6 - Exercice boni&nbsp;: les étiquettes (<i>tags</i>)</h3>"
   ]
  },
  {
   "cell_type": "markdown",
   "metadata": {},
   "source": [
    "Chaque article du *Huffington Post* est généralement accompagné d'une dizaine de marqueurs, ou d'étiquettes (*tags* en anglais). Voici ceux qui sont le plus fréquemment utilisés par cette édition."
   ]
  },
  {
   "cell_type": "code",
   "execution_count": 19,
   "metadata": {},
   "outputs": [
    {
     "data": {
      "text/plain": [
       "uk news                 56572\n",
       "uk celebrity            14516\n",
       "video                   14249\n",
       "uktv                    9561 \n",
       "uk lifestyle            8238 \n",
       "UK Sport                7181 \n",
       "UK Lifestyle News       6185 \n",
       "UK Politics             5233 \n",
       "david cameron           5065 \n",
       "UK football             4802 \n",
       "uk viral videos         4613 \n",
       "UK crime                4050 \n",
       "                        ...  \n",
       "mark ruffalo            1    \n",
       "Mt. Gox                 1    \n",
       "sam masters             1    \n",
       "cooking turkey          1    \n",
       "jabra solemate mini     1    \n",
       "Yuichi Nishimura        1    \n",
       "snake-venom             1    \n",
       "First Past the Post     1    \n",
       "Get Lucky Soul Train    1    \n",
       "holland cricket         1    \n",
       "tutoring                1    \n",
       "Adrian Lee              1    \n",
       "Length: 182366, dtype: int64"
      ]
     },
     "execution_count": 19,
     "metadata": {},
     "output_type": "execute_result"
    }
   ],
   "source": [
    "etiquettes = huff.set_index('pays').tags.str.split(',', expand=True).stack().rename(columns={0:'tag'}).reset_index(drop=True)\n",
    "etiquettes.value_counts(dropna=False)"
   ]
  },
  {
   "cell_type": "code",
   "execution_count": null,
   "metadata": {
    "collapsed": true
   },
   "outputs": [],
   "source": []
  }
 ],
 "metadata": {
  "kernelspec": {
   "display_name": "Python 3",
   "language": "python",
   "name": "python3"
  },
  "language_info": {
   "codemirror_mode": {
    "name": "ipython",
    "version": 3
   },
   "file_extension": ".py",
   "mimetype": "text/x-python",
   "name": "python",
   "nbconvert_exporter": "python",
   "pygments_lexer": "ipython3",
   "version": "3.6.2"
  }
 },
 "nbformat": 4,
 "nbformat_minor": 1
}
