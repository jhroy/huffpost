{
 "cells": [
  {
   "cell_type": "markdown",
   "metadata": {},
   "source": [
    "<tr>\n",
    "<td>\n",
    "<img src=\"https://upload.wikimedia.org/wikipedia/commons/thumb/5/5a/HuffPost.svg/320px-HuffPost.svg.png\">\n",
    "</td>\n",
    "<td>\n",
    "<img src=\"https://upload.wikimedia.org/wikipedia/commons/thumb/c/c3/Flag_of_France.svg/320px-Flag_of_France.svg.png\">\n",
    "</td>\n"
   ]
  },
  {
   "cell_type": "markdown",
   "metadata": {},
   "source": [
    "# Analyse des sources de l'édition française du *Huff Post* (2012-2016) en 6 étapes faciles\n",
    "<hr>"
   ]
  },
  {
   "cell_type": "markdown",
   "metadata": {},
   "source": [
    "<h3 style=\"background:teal;color:white;padding:5px\">Étape 1 - Initialisation de notre *notebook* et lecture du fichier CSV contenant nos données</h3>"
   ]
  },
  {
   "cell_type": "code",
   "execution_count": 1,
   "metadata": {
    "collapsed": true
   },
   "outputs": [],
   "source": [
    "import csv, re, random\n",
    "import pandas as pd\n",
    "import numpy as np\n",
    "import matplotlib as mpl\n",
    "import matplotlib.pyplot as plt\n",
    "from scipy import stats, integrate\n",
    "pd.set_option('display.max_colwidth', -1)\n",
    "pd.options.display.max_rows = 25\n",
    "pd.options.mode.chained_assignment = None\n",
    "%matplotlib inline"
   ]
  },
  {
   "cell_type": "markdown",
   "metadata": {},
   "source": [
    "On lit notre fichier CSV de base, puis on crée une variable `edition` pour identifier le pays sur lequel on va travailler. La variable `huff` ne contient que les articles de l'édition du pays auquel on s'intéresse ici."
   ]
  },
  {
   "cell_type": "code",
   "execution_count": 2,
   "metadata": {},
   "outputs": [
    {
     "data": {
      "text/plain": [
       "(54156, 13)"
      ]
     },
     "execution_count": 2,
     "metadata": {},
     "output_type": "execute_result"
    }
   ],
   "source": [
    "huff = pd.read_csv(\"scraping-nettoye.csv\", low_memory=False)\n",
    "edition = \"France\"\n",
    "huff = huff[huff.pays == edition]\n",
    "huff.shape"
   ]
  },
  {
   "cell_type": "markdown",
   "metadata": {},
   "source": [
    "Le but de cet exercice étant d'identifier le taux d'originalité du *HuffPost*, on va créer trois variables.\n",
    "\n",
    "- `HP_oui` contiendra la proportion d'articles qui sont originaux (signés par des employés du *HuffPost* ou des pigistes).\n",
    "- `HP_non` contiendra la proportion d'articles qui ne sont pas originaux (repris d'agences externes ou d'autres médias).\n",
    "- `HP_inconnu` contiendra la proportion d'articles dont on ne peut pas établir la provenance.\n",
    "\n",
    "La somme de ces trois variables équivaudra à 100. On s'en servira pour faire un graphique en pointes de tarte (camembert) à la fin."
   ]
  },
  {
   "cell_type": "code",
   "execution_count": 3,
   "metadata": {
    "collapsed": true
   },
   "outputs": [],
   "source": [
    "HP_oui = 0\n",
    "HP_non = 0\n",
    "HP_inconnu = 0"
   ]
  },
  {
   "cell_type": "markdown",
   "metadata": {},
   "source": [
    "<h3 style=\"background:teal;color:white;padding:5px\">Étape 2 - Filtrer les balises <i>meta</i></h3>"
   ]
  },
  {
   "cell_type": "markdown",
   "metadata": {},
   "source": [
    "<hr>\n",
    "Ce ne sont pas tous les articles de cette édition du *Huff Post* qui ont, pour nom dans leurs balises `meta`, l'une ou l'autre des éditions du *Huffington Post*, ou de sa compagnie-mère, AOL"
   ]
  },
  {
   "cell_type": "code",
   "execution_count": 4,
   "metadata": {
    "scrolled": true
   },
   "outputs": [
    {
     "data": {
      "text/plain": [
       "Le Huffington Post        53563\n",
       "Le Monde.fr               201  \n",
       "Le Figaro                 67   \n",
       "leparisien.fr             44   \n",
       "L'Obs                     38   \n",
       "Le Point                  19   \n",
       "LeJDD.fr                  15   \n",
       "Libération.fr             14   \n",
       "LExpress.fr               14   \n",
       "Courrier international    13   \n",
       "RTL.fr                    13   \n",
       "Les Inrocks               11   \n",
       "                          ..   \n",
       "Plat du pied, sécurité    1    \n",
       "L’instit’humeurs          1    \n",
       "Droite(s) extrême(s)      1    \n",
       "VoxEurop.eu               1    \n",
       "Radio-Canada.ca           1    \n",
       "Le Courrier Picard        1    \n",
       "De quoi je me MEL         1    \n",
       "Lindependant.fr           1    \n",
       "Vanity Fair               1    \n",
       "Le Figaro Bourse          1    \n",
       "Rouges et verts           1    \n",
       "Passeur de sciences       1    \n",
       "Name: meta, Length: 84, dtype: int64"
      ]
     },
     "execution_count": 4,
     "metadata": {},
     "output_type": "execute_result"
    }
   ],
   "source": [
    "huff.meta.value_counts()"
   ]
  },
  {
   "cell_type": "markdown",
   "metadata": {},
   "source": [
    "Créons un sous-ensemble avec les articles qui, selon la balise `meta`, semblent issus du *HP*."
   ]
  },
  {
   "cell_type": "code",
   "execution_count": 5,
   "metadata": {},
   "outputs": [
    {
     "data": {
      "text/plain": [
       "Le Huffington Post     53563\n",
       "The Huffington Post    8    \n",
       "Le Huffingtonpost      1    \n",
       "Name: meta, dtype: int64"
      ]
     },
     "execution_count": 5,
     "metadata": {},
     "output_type": "execute_result"
    }
   ],
   "source": [
    "metaHP = huff.meta.str.contains(\"[H,Η,h][U,u][F,f][i,F,f,P,p]|ハフ|ポスト|허핑턴|허프|[A,a][O,o][L,l]\", na=False)\n",
    "huff[metaHP].meta.value_counts()"
   ]
  },
  {
   "cell_type": "code",
   "execution_count": 6,
   "metadata": {},
   "outputs": [
    {
     "data": {
      "text/plain": [
       "(53572, 13)"
      ]
     },
     "execution_count": 6,
     "metadata": {},
     "output_type": "execute_result"
    }
   ],
   "source": [
    "huff[metaHP].shape"
   ]
  },
  {
   "cell_type": "code",
   "execution_count": 7,
   "metadata": {},
   "outputs": [
    {
     "data": {
      "text/plain": [
       "584"
      ]
     },
     "execution_count": 7,
     "metadata": {},
     "output_type": "execute_result"
    }
   ],
   "source": [
    "len(huff) - len(huff[metaHP])"
   ]
  },
  {
   "cell_type": "markdown",
   "metadata": {},
   "source": [
    "Le calcul ci-haut nous indique qu'on a **584 articles** qu'on peut d'ores et déjà ranger dans la catégorie des articles qui ne sont *pas* rédigés par l'équipe du *HuffPost*.\n",
    "<hr>\n",
    "Examinons cependant de plus près notre sous-ensemble d'articles dont la balise `meta` prétend qu'ils sont issus du *HuffPost* en regardant qui sont les signataires de ces articles. Les signataires se trouvent dans la colonne `byline`. Voyons voir, donc, ce qu'elle contient."
   ]
  },
  {
   "cell_type": "markdown",
   "metadata": {},
   "source": [
    "<h3 style=\"background:teal;color:white;padding:5px\">Étape 3 - Identification des articles dont les signataires sont inconnus</h3>"
   ]
  },
  {
   "cell_type": "code",
   "execution_count": 8,
   "metadata": {},
   "outputs": [
    {
     "data": {
      "text/plain": [
       "? Le HuffPost                                                                         12756\n",
       "? Le HuffPost avec AFP                                                                3529 \n",
       "? AFP                                                                                 3189 \n",
       "? Le HuffPost/AFP                                                                     3065 \n",
       "? Rédaction du HuffPost                                                               2428 \n",
       "Geoffroy Clavel Chef du service politique du HuffPost                                 2000 \n",
       "Alexis Ferenczi                                                                       1976 \n",
       "Alexandre Boudet Journaliste politique au HuffPost                                    1732 \n",
       "? Rédaction du HuffPost avec AFP                                                      1555 \n",
       "Lauren Provost Rédactrice en chef adjoint                                             1554 \n",
       "? Rédaction Le HuffPost avec AFP                                                      995  \n",
       "? Rédaction Le HuffPost                                                               908  \n",
       "                                                                                     ...   \n",
       "? Senior Healthy Living Editor, The Huffington Post                                   1    \n",
       "Jacqueline Howard Associate Science Editor, The Huffington Post                       1    \n",
       "Jake Bialer                                                                           1    \n",
       "? La rédaction du HuffPost Maroc                                                      1    \n",
       "? Avvenire                                                                            1    \n",
       "Marc Botte Chef du service des contributions extérieures du Huffington Post France    1    \n",
       "? Global Editorial Director, The Huffington Post                                      1    \n",
       "? HuffPost Brasil                                                                     1    \n",
       "? Correspondante parlementaire à Ottawa                                               1    \n",
       "Kim Bhasin                                                                            1    \n",
       "Amanda Terkel Senior Political Reporter, The Huffington Post                          1    \n",
       "Natalie Jackson Senior Data Scientist, The Huffington Post                            1    \n",
       "Name: byline, Length: 618, dtype: int64"
      ]
     },
     "execution_count": 8,
     "metadata": {},
     "output_type": "execute_result"
    }
   ],
   "source": [
    "huff[metaHP].byline.value_counts()"
   ]
  },
  {
   "cell_type": "markdown",
   "metadata": {},
   "source": [
    "Un certain nombre d'auteurs sont inconnus («&nbsp;?&nbsp;» ou «&nbsp;?&nbsp;?&nbsp;»).<br>\n",
    "Ceux marqués d'un seul point d'interrogation seront placés dans le sous-ensemble `inconnu1`, ceux qui sont marqués de deux points d'interrogation dans le sous-ensemble `inconnu2`.<br>\n",
    "Ils représentent à peine **0,5%** du total des articles de cette édition du *Huffington&nbsp;Post*.<br>\n",
    "Nous allons placer cette proportion dans notre variable `HP_inconnu`."
   ]
  },
  {
   "cell_type": "code",
   "execution_count": 9,
   "metadata": {},
   "outputs": [
    {
     "data": {
      "text/plain": [
       "(253, 0.46716891941797772)"
      ]
     },
     "execution_count": 9,
     "metadata": {},
     "output_type": "execute_result"
    }
   ],
   "source": [
    "inconnus1 = huff[metaHP].byline == \"? \"\n",
    "inconnus2 = huff[metaHP].byline == \"? ?\"\n",
    "HP_inconnu = huff[metaHP][inconnus1].pays.count() + huff[metaHP][inconnus2].pays.count()\n",
    "HP_inconnu, (HP_inconnu/len(huff))*100"
   ]
  },
  {
   "cell_type": "markdown",
   "metadata": {},
   "source": [
    "<hr>\n",
    "<h3 style=\"background:teal;color:white;padding:5px\">Étape 4 - Identification des articles originaux au <i>HuffPost</i></h3>"
   ]
  },
  {
   "cell_type": "markdown",
   "metadata": {},
   "source": [
    "Examinons maintenant les articles dont la signature contient certaines chaînes de caractères qui correspondent au *Huffington Post* (dans différentes langues, fautes de frappe incluses), ou à sa compagnie-mère, AOL. On va baptiser ce sous-ensemble `signéHP`."
   ]
  },
  {
   "cell_type": "code",
   "execution_count": 10,
   "metadata": {
    "scrolled": true
   },
   "outputs": [
    {
     "data": {
      "text/plain": [
       "(37820, 13)"
      ]
     },
     "execution_count": 10,
     "metadata": {},
     "output_type": "execute_result"
    }
   ],
   "source": [
    "signeHP = huff[metaHP].byline.str.contains(\"[H,h][U,u,f][F,f][i,F,f,P,p]|ハフ|ポスト|허핑턴|허프|[A,a][O,o][L,l]\",na=False)\n",
    "huff[metaHP][signeHP].shape"
   ]
  },
  {
   "cell_type": "code",
   "execution_count": 11,
   "metadata": {},
   "outputs": [
    {
     "data": {
      "text/plain": [
       "(? Le HuffPost                                                                               12756\n",
       " ? Le HuffPost avec AFP                                                                      3529 \n",
       " ? Le HuffPost/AFP                                                                           3065 \n",
       " ? Rédaction du HuffPost                                                                     2428 \n",
       " Geoffroy Clavel Chef du service politique du HuffPost                                       2000 \n",
       " Alexandre Boudet Journaliste politique au HuffPost                                          1732 \n",
       " ? Rédaction du HuffPost avec AFP                                                            1555 \n",
       " ? Rédaction Le HuffPost avec AFP                                                            995  \n",
       " ? Rédaction Le HuffPost                                                                     908  \n",
       " Paul Guyonnet Paul Guyonnet est journaliste vidéo généraliste au Huffington Post France.    687  \n",
       " ? La rédaction du HuffPost                                                                  682  \n",
       " Maxime Bourdier Maxime Bourdier est journaliste au HuffPost depuis 2014.                    615  \n",
       "                                                                                            ...   \n",
       " Alexandra Ma Editorial Fellow, The Huffington Post                                          1    \n",
       " ? Le HuffPost Allemagne                                                                     1    \n",
       " Jacqueline Howard Associate Science Editor, The Huffington Post                             1    \n",
       " ? Huffpost                                                                                  1    \n",
       " Marc Botte Chef du service des contributions extérieures du Huffington Post France          1    \n",
       " Daniel Marans Reporter, The Huffington Post                                                 1    \n",
       " ? Global Editorial Director, The Huffington Post                                            1    \n",
       " Amanda Terkel Senior Political Reporter, The Huffington Post                                1    \n",
       " ? Rédaction du HuffPost Québec                                                              1    \n",
       " ? HuffingtonPost UK                                                                         1    \n",
       " ? Huffington Post Australie                                                                 1    \n",
       " Timothy Stenovec Technology reporter, The Huffington Post                                   1    \n",
       " Name: byline, Length: 368, dtype: int64, 368)"
      ]
     },
     "execution_count": 11,
     "metadata": {},
     "output_type": "execute_result"
    }
   ],
   "source": [
    "huff[metaHP][signeHP].byline.value_counts(), huff[metaHP][signeHP].byline.value_counts().count()"
   ]
  },
  {
   "cell_type": "markdown",
   "metadata": {},
   "source": [
    "Le *Huffington Post* est nommé, d'une façon ou d'une autre, dans ces quelque **37&nbsp;820 articles** signés par **368 signataires différents**.<br>\n",
    "Cela représente plus des deux tiers de l'ensemble des articles publiés par l'édition française du *HuffPost* dans la période étudiée.\n",
    "On peut placer cette proportion dans notre variable `HP_oui`."
   ]
  },
  {
   "cell_type": "code",
   "execution_count": 12,
   "metadata": {},
   "outputs": [
    {
     "data": {
      "text/plain": [
       "(37820, 69.835290641849468)"
      ]
     },
     "execution_count": 12,
     "metadata": {},
     "output_type": "execute_result"
    }
   ],
   "source": [
    "HP_oui = huff[metaHP][signeHP].pays.count()\n",
    "HP_oui, (HP_oui/len(huff))*100"
   ]
  },
  {
   "cell_type": "markdown",
   "metadata": {},
   "source": [
    "<hr>\n",
    "<h3 style=\"background:teal;color:white;padding:5px\">Étape 5 - Identification des articles <u>extérieurs</u> au <i>HuffPost</i></h3>"
   ]
  },
  {
   "cell_type": "markdown",
   "metadata": {},
   "source": [
    "On va donc faire la même opération, mais pour tous les postes dans lesquels **on ne trouve pas** les chaînes de caractères permettant d'identifier le *Huffington&nbsp;Post* dans différentes langues. On va créer un nouveau sous-ensemble qu'on va baptiser `NONsignéHP`."
   ]
  },
  {
   "cell_type": "code",
   "execution_count": 13,
   "metadata": {
    "scrolled": true
   },
   "outputs": [
    {
     "data": {
      "text/plain": [
       "(15752, 13)"
      ]
     },
     "execution_count": 13,
     "metadata": {},
     "output_type": "execute_result"
    }
   ],
   "source": [
    "NONsigneHP = ~huff[metaHP].byline.str.contains(\"[H,h][U,u,f][F,f][i,F,f,P,p]|ハフ|ポスト|허핑턴|허프|[A,a][O,o][L,l]\",na=False)\n",
    "huff[metaHP][NONsigneHP].shape"
   ]
  },
  {
   "cell_type": "markdown",
   "metadata": {},
   "source": [
    "Qui sont ces auteurs qui ne signent pas des articles originaux pour le *HuffPost*?"
   ]
  },
  {
   "cell_type": "code",
   "execution_count": 14,
   "metadata": {},
   "outputs": [
    {
     "data": {
      "text/plain": [
       "(? AFP                                                                                        3189\n",
       " Alexis Ferenczi                                                                              1976\n",
       " Lauren Provost Rédactrice en chef adjoint                                                    1554\n",
       " Sandra Lorenzo Journaliste responsable de la rubrique C'est La Vie                           846 \n",
       " Jean-Baptiste Duval                                                                          693 \n",
       " Jade Toussay Journaliste                                                                     562 \n",
       " Marine Le Breton Journaliste \"C'est la vie\"                                                  455 \n",
       " Romain Herreros Journaliste politique                                                        440 \n",
       " Nabil Touati                                                                                 420 \n",
       " Marine Chassagnon Journaliste culture                                                        396 \n",
       " Stanislas Kraland Journaliste                                                                296 \n",
       " Julia Kadri                                                                                  255 \n",
       "                                                                                             ...  \n",
       " ? Journaliste sciences et technologies, responsable de la rubrique C'est Demain              1   \n",
       " Jake Bialer                                                                                  1   \n",
       " ? Psychologies                                                                               1   \n",
       " Lee Speigel Writer; Reporter; Paranormal expert                                              1   \n",
       " ? Eline Gordts                                                                               1   \n",
       " Carlota Ramírez                                                                              1   \n",
       " Graham Nelson Writer | Producer | Muppet of a Man | More at http://grahamkelleynelson.com    1   \n",
       " ? La Redaction avec AFP                                                                      1   \n",
       " ? WalletPop                                                                                  1   \n",
       " ? Lemonde.fr                                                                                 1   \n",
       " ? Traduit par Lauren Provost                                                                 1   \n",
       " ? Courrier International                                                                     1   \n",
       " Name: byline, Length: 250, dtype: int64, 250)"
      ]
     },
     "execution_count": 14,
     "metadata": {},
     "output_type": "execute_result"
    }
   ],
   "source": [
    "huff[metaHP][NONsigneHP].byline.value_counts(), huff[metaHP][NONsigneHP].byline.value_counts().count() "
   ]
  },
  {
   "cell_type": "markdown",
   "metadata": {},
   "source": [
    "Des 250 signataires ci-dessus, par contre, on trouve plusieurs «&nbsp;employés fantôme&nbsp;». Ils comprennent, dans leur signature, les mots «&nbsp;journaliste&nbsp;», «&nbsp;rédactrice&nbsp;», «&nbsp;editor&nbsp;» ou *«&nbsp;Brasil Post&nbsp;»*, par exemples.\n",
    "On pourrait également considérer comme auteurs d'articles originaux les noms seuls.\n",
    "\n",
    "Ainsi, on retranchera uniquement les signataires clairement identifiés à des agences externes. Il y en a 3&nbsp;757.\n",
    "\n",
    "Cela signifie donc qu'il y a 11&nbsp;995 articles à ajouter à notre variable `HP_oui`."
   ]
  },
  {
   "cell_type": "code",
   "execution_count": 15,
   "metadata": {},
   "outputs": [
    {
     "data": {
      "text/plain": [
       "(49815, 91.984267671172177)"
      ]
     },
     "execution_count": 15,
     "metadata": {},
     "output_type": "execute_result"
    }
   ],
   "source": [
    "HP_oui = huff[metaHP][signeHP].pays.count() + 11995\n",
    "HP_oui, (HP_oui/len(huff))*100"
   ]
  },
  {
   "cell_type": "markdown",
   "metadata": {},
   "source": [
    "Pour calculer le pourcentage des articles signés par des auteurs externes, il faut soustraire de notre sous-ensemble `NONsignéHP` les articles contenus dans les deux sous-ensembles `inconnu1` et `inconnu2`, et additionner les articles qu'on a identifié plus haut dont la balise `meta` ne pouvait pas être associée au *HuffPost*, puis retrancher tous les articles qu'on vient de ranger dans notre variable `HP_oui`."
   ]
  },
  {
   "cell_type": "code",
   "execution_count": 16,
   "metadata": {},
   "outputs": [
    {
     "data": {
      "text/plain": [
       "(4088, 7.5485634094098533)"
      ]
     },
     "execution_count": 16,
     "metadata": {},
     "output_type": "execute_result"
    }
   ],
   "source": [
    "HP_non = huff[metaHP][NONsigneHP].pays.count() - (huff[metaHP][inconnus1].pays.count() + huff[metaHP][inconnus2].pays.count()) + (len(huff) - len(huff[metaHP])) - 11995\n",
    "HP_non, (HP_non/len(huff))*100"
   ]
  },
  {
   "cell_type": "markdown",
   "metadata": {},
   "source": [
    "On a désormais tout ce qu'il nous faut pour faire le camembert évoqué plus haut."
   ]
  },
  {
   "cell_type": "code",
   "execution_count": 17,
   "metadata": {},
   "outputs": [
    {
     "data": {
      "text/plain": [
       "<matplotlib.axes._subplots.AxesSubplot at 0x12d472710>"
      ]
     },
     "execution_count": 17,
     "metadata": {},
     "output_type": "execute_result"
    },
    {
     "data": {
      "image/png": "[encoded data removed]",
      "text/plain": [
       "<matplotlib.figure.Figure at 0x12d472e80>"
      ]
     },
     "metadata": {},
     "output_type": "display_data"
    }
   ],
   "source": [
    "camembert = pd.Series([HP_oui,HP_non,HP_inconnu], index=[\"Oui\",\"Non\",\"Inconnu\"],name=\"\")\n",
    "titre = plt.figure(facecolor=\"beige\")\n",
    "titre.suptitle(\"HuffPost France\", fontsize=24, fontweight=\"light\", fontname=\"Serif\")\n",
    "camembert.plot.pie(colors=[\"aqua\",\"coral\",\"lightgrey\"],\n",
    "                   wedgeprops={\"linewidth\":3,\"edgecolor\":\"white\"},\n",
    "                   textprops={\"weight\":\"bold\",\"fontsize\":14},\n",
    "                   counterclock=False,\n",
    "                   startangle=90,\n",
    "                   autopct=\"%1.1f%%\",\n",
    "                   figsize=(8,8)\n",
    ")"
   ]
  },
  {
   "cell_type": "markdown",
   "metadata": {},
   "source": [
    "<hr>\n",
    "<h3 style=\"background:teal;color:white;padding:5px\">Étape 6 - Exercice boni&nbsp;: les étiquettes (<i>tags</i>)</h3>"
   ]
  },
  {
   "cell_type": "markdown",
   "metadata": {},
   "source": [
    "Chaque article du *Huffington Post* est généralement accompagné d'une dizaine de marqueurs, ou d'étiquettes (*tags* en anglais). Voici ceux qui sont le plus fréquemment utilisés par cette édition."
   ]
  },
  {
   "cell_type": "code",
   "execution_count": 18,
   "metadata": {},
   "outputs": [
    {
     "data": {
      "text/plain": [
       "video                         10578\n",
       "politique                     7515 \n",
       "culture                       6033 \n",
       "international                 5914 \n",
       "insolite                      5821 \n",
       "people                        4941 \n",
       "vidéo                         3984 \n",
       "sport                         3854 \n",
       "le bon lien                   3438 \n",
       "musique                       2892 \n",
       "photos                        2677 \n",
       "cinéma                        2548 \n",
       "                              ...  \n",
       "julian bugier jt              1    \n",
       "avril lavigne chad kroeger    1    \n",
       "manuela-carmena               1    \n",
       "mode lady gaga                1    \n",
       "To The Wonder                 1    \n",
       "magic mike stripteases        1    \n",
       "relations avec son patron     1    \n",
       "xkeyscore                     1    \n",
       "Munther Omar Saleh            1    \n",
       "louvre paris                  1    \n",
       "tuncay ceylan                 1    \n",
       "village seyne-les-alpes       1    \n",
       "Length: 96753, dtype: int64"
      ]
     },
     "execution_count": 18,
     "metadata": {},
     "output_type": "execute_result"
    }
   ],
   "source": [
    "etiquettes = huff.set_index('pays').tags.str.split(',', expand=True).stack().rename(columns={0:'tag'}).reset_index(drop=True)\n",
    "etiquettes.value_counts(dropna=False)"
   ]
  },
  {
   "cell_type": "code",
   "execution_count": null,
   "metadata": {
    "collapsed": true
   },
   "outputs": [],
   "source": []
  }
 ],
 "metadata": {
  "kernelspec": {
   "display_name": "Python 3",
   "language": "python",
   "name": "python3"
  },
  "language_info": {
   "codemirror_mode": {
    "name": "ipython",
    "version": 3
   },
   "file_extension": ".py",
   "mimetype": "text/x-python",
   "name": "python",
   "nbconvert_exporter": "python",
   "pygments_lexer": "ipython3",
   "version": "3.6.2"
  }
 },
 "nbformat": 4,
 "nbformat_minor": 1
}
