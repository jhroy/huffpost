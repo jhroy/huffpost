{
 "cells": [
  {
   "cell_type": "markdown",
   "metadata": {},
   "source": [
    "<tr>\n",
    "<td>\n",
    "<img src=\"https://upload.wikimedia.org/wikipedia/commons/thumb/5/5a/HuffPost.svg/320px-HuffPost.svg.png\">\n",
    "</td>\n",
    "<td>\n",
    "<img src=\"https://upload.wikimedia.org/wikipedia/en/thumb/0/03/Flag_of_Italy.svg/320px-Flag_of_Italy.svg.png\">\n",
    "</td>\n"
   ]
  },
  {
   "cell_type": "markdown",
   "metadata": {},
   "source": [
    "# Analyse des sources de l'édition italienne du *Huff Post* (2012-2016) en 6 étapes faciles\n",
    "<hr>"
   ]
  },
  {
   "cell_type": "markdown",
   "metadata": {},
   "source": [
    "<h3 style=\"background:teal;color:white;padding:5px\">Étape 1 - Initialisation de notre *notebook* et lecture du fichier CSV contenant nos données</h3>"
   ]
  },
  {
   "cell_type": "code",
   "execution_count": 1,
   "metadata": {
    "collapsed": true
   },
   "outputs": [],
   "source": [
    "import csv, re, random\n",
    "import pandas as pd\n",
    "import numpy as np\n",
    "import matplotlib as mpl\n",
    "import matplotlib.pyplot as plt\n",
    "from scipy import stats, integrate\n",
    "pd.set_option('display.max_colwidth', -1)\n",
    "pd.options.display.max_rows = 25\n",
    "pd.options.mode.chained_assignment = None\n",
    "%matplotlib inline"
   ]
  },
  {
   "cell_type": "markdown",
   "metadata": {},
   "source": [
    "On lit notre fichier CSV de base, puis on crée une variable `edition` pour identifier le pays sur lequel on va travailler. La variable `huff` ne contient que les articles de l'édition du pays auquel on s'intéresse ici."
   ]
  },
  {
   "cell_type": "code",
   "execution_count": 2,
   "metadata": {},
   "outputs": [
    {
     "data": {
      "text/plain": [
       "(64880, 13)"
      ]
     },
     "execution_count": 2,
     "metadata": {},
     "output_type": "execute_result"
    }
   ],
   "source": [
    "huff = pd.read_csv(\"scraping-nettoye.csv\", low_memory=False)\n",
    "edition = \"Italie\"\n",
    "huff = huff[huff.pays == edition]\n",
    "huff.shape"
   ]
  },
  {
   "cell_type": "markdown",
   "metadata": {},
   "source": [
    "Le but de cet exercice étant d'identifier le taux d'originalité du *HuffPost*, on va créer trois variables.\n",
    "\n",
    "- `HP_oui` contiendra la proportion d'articles qui sont originaux (signés par des employés du *HuffPost* ou des pigistes).\n",
    "- `HP_non` contiendra la proportion d'articles qui ne sont pas originaux (repris d'agences externes ou d'autres médias).\n",
    "- `HP_inconnu` contiendra la proportion d'articles dont on ne peut pas établir la provenance.\n",
    "\n",
    "La somme de ces trois variables équivaudra à 100. On s'en servira pour faire un graphique en pointes de tarte (camembert) à la fin."
   ]
  },
  {
   "cell_type": "code",
   "execution_count": 3,
   "metadata": {
    "collapsed": true
   },
   "outputs": [],
   "source": [
    "HP_oui = 0\n",
    "HP_non = 0\n",
    "HP_inconnu = 0"
   ]
  },
  {
   "cell_type": "markdown",
   "metadata": {},
   "source": [
    "<h3 style=\"background:teal;color:white;padding:5px\">Étape 2 - Filtrer les balises <i>meta</i></h3>"
   ]
  },
  {
   "cell_type": "markdown",
   "metadata": {},
   "source": [
    "<hr>\n",
    "Ce ne sont pas tous les articles de cette édition du *Huff Post* qui ont, pour nom dans leurs balises `meta`, l'une ou l'autre des éditions du *Huffington Post*, ou de sa compagnie-mère, AOL"
   ]
  },
  {
   "cell_type": "code",
   "execution_count": 4,
   "metadata": {
    "scrolled": true
   },
   "outputs": [
    {
     "data": {
      "text/plain": [
       "L'Huffington Post        64734\n",
       "The Huffington Post      119  \n",
       "Le Huffington Post       14   \n",
       "허핑턴포스트                   6    \n",
       "ハフィントンポスト                3    \n",
       "El Huffington Post       2    \n",
       "Huffington Post India    1    \n",
       "HuffPost Brasil          1    \n",
       "Name: meta, dtype: int64"
      ]
     },
     "execution_count": 4,
     "metadata": {},
     "output_type": "execute_result"
    }
   ],
   "source": [
    "huff.meta.value_counts()"
   ]
  },
  {
   "cell_type": "markdown",
   "metadata": {},
   "source": [
    "Créons un sous-ensemble avec les articles qui, selon la balise `meta`, semblent issus du *HP*."
   ]
  },
  {
   "cell_type": "code",
   "execution_count": 5,
   "metadata": {},
   "outputs": [
    {
     "data": {
      "text/plain": [
       "L'Huffington Post        64734\n",
       "The Huffington Post      119  \n",
       "Le Huffington Post       14   \n",
       "허핑턴포스트                   6    \n",
       "ハフィントンポスト                3    \n",
       "El Huffington Post       2    \n",
       "Huffington Post India    1    \n",
       "HuffPost Brasil          1    \n",
       "Name: meta, dtype: int64"
      ]
     },
     "execution_count": 5,
     "metadata": {},
     "output_type": "execute_result"
    }
   ],
   "source": [
    "metaHP = huff.meta.str.contains(\"[H,Η,h][U,u][F,f][i,F,f,P,p]|ハフ|ポスト|허핑턴|허프|[A,a][O,o][L,l]\", na=False)\n",
    "huff[metaHP].meta.value_counts()"
   ]
  },
  {
   "cell_type": "code",
   "execution_count": 6,
   "metadata": {},
   "outputs": [
    {
     "data": {
      "text/plain": [
       "(64880, 13)"
      ]
     },
     "execution_count": 6,
     "metadata": {},
     "output_type": "execute_result"
    }
   ],
   "source": [
    "huff[metaHP].shape"
   ]
  },
  {
   "cell_type": "code",
   "execution_count": 7,
   "metadata": {},
   "outputs": [
    {
     "data": {
      "text/plain": [
       "0"
      ]
     },
     "execution_count": 7,
     "metadata": {},
     "output_type": "execute_result"
    }
   ],
   "source": [
    "len(huff) - len(huff[metaHP])"
   ]
  },
  {
   "cell_type": "markdown",
   "metadata": {},
   "source": [
    "Le calcul ci-haut nous indique que la balise `meta` de **tous** les articles de l'édition italienne du *HuffPost* prétendent qu'ils ont été rédigés par l'équipe du *HuffPost*.\n",
    "<hr>\n",
    "Examinons-les quand même de plus près en regardant qui sont les signataires de ces articles. Les signataires se trouvent dans la colonne `byline`. Voyons voir, donc, ce qu'elle contient."
   ]
  },
  {
   "cell_type": "markdown",
   "metadata": {},
   "source": [
    "<h3 style=\"background:teal;color:white;padding:5px\">Étape 3 - Identification des articles dont les signataires sont inconnus</h3>"
   ]
  },
  {
   "cell_type": "code",
   "execution_count": 8,
   "metadata": {},
   "outputs": [
    {
     "data": {
      "text/plain": [
       "? L'Huffington Post                          18172\n",
       "? Redazione, L'Huffington Post               6299 \n",
       "Di Redazione L'Huffington Post               4000 \n",
       "? Ansa                                       2853 \n",
       "Angela Mauro ?                               1440 \n",
       "Alessandro De Angelis ?                      1320 \n",
       "? Ilaria Betti, L'Huffington Post            933  \n",
       "?                                            717  \n",
       "? Pier Luigi Pisa, L'Huffington Post         574  \n",
       "Di Redazione L'HuffingtonPost                520  \n",
       "Pietro Salvatori ?                           517  \n",
       "? Repubblica.it                              482  \n",
       "                                            ...   \n",
       "? Paolo Biamonte Ansa, l'Huffington Post     1    \n",
       "? Damon Beres, L'Huffington Post             1    \n",
       "? The Mighty                                 1    \n",
       "? Emiliano Carli L'Huffington Post           1    \n",
       "? Ansa, Giampaolo Grassi                     1    \n",
       "? Toby Amidor, The Huffington Post           1    \n",
       "Di Catherine Pearson L'Huffington Post       1    \n",
       "? Federico Poletti                           1    \n",
       "? Nicoletta Moncalero, L' Huffington Post    1    \n",
       "? Janiki Cingoli                             1    \n",
       "Di James Cave L'Huffington Post              1    \n",
       "Di Stampa, Repubblica Huffington Post        1    \n",
       "Name: byline, Length: 3432, dtype: int64"
      ]
     },
     "execution_count": 8,
     "metadata": {},
     "output_type": "execute_result"
    }
   ],
   "source": [
    "huff[metaHP].byline.value_counts()"
   ]
  },
  {
   "cell_type": "markdown",
   "metadata": {},
   "source": [
    "Un certain nombre d'auteurs sont inconnus («&nbsp;?&nbsp;» ou «&nbsp;?&nbsp;?&nbsp;»).<br>\n",
    "Ceux marqués d'un seul point d'interrogation seront placés dans le sous-ensemble `inconnu1`, ceux qui sont marqués de deux points d'interrogation dans le sous-ensemble `inconnu2`.<br>\n",
    "Ils représentent un peu moins de **2%** du total des articles de cette édition du *Huffington&nbsp;Post*.<br>\n",
    "Nous allons placer cette proportion dans notre variable `HP_inconnu`."
   ]
  },
  {
   "cell_type": "code",
   "execution_count": 9,
   "metadata": {},
   "outputs": [
    {
     "data": {
      "text/plain": [
       "(1116, 1.7200986436498151)"
      ]
     },
     "execution_count": 9,
     "metadata": {},
     "output_type": "execute_result"
    }
   ],
   "source": [
    "inconnus1 = huff[metaHP].byline == \"? \"\n",
    "inconnus2 = huff[metaHP].byline == \"? ?\"\n",
    "HP_inconnu = huff[metaHP][inconnus1].pays.count() + huff[metaHP][inconnus2].pays.count()\n",
    "HP_inconnu, (HP_inconnu/len(huff))*100"
   ]
  },
  {
   "cell_type": "markdown",
   "metadata": {},
   "source": [
    "<hr>\n",
    "<h3 style=\"background:teal;color:white;padding:5px\">Étape 4 - Identification des articles originaux au <i>HuffPost</i></h3>"
   ]
  },
  {
   "cell_type": "markdown",
   "metadata": {},
   "source": [
    "Examinons maintenant les articles dont la signature contient certaines chaînes de caractères qui correspondent au *Huffington Post* (dans différentes langues, fautes de frappe incluses), ou à sa compagnie-mère, AOL. On va baptiser ce sous-ensemble `signéHP`."
   ]
  },
  {
   "cell_type": "code",
   "execution_count": 10,
   "metadata": {
    "scrolled": true
   },
   "outputs": [
    {
     "data": {
      "text/plain": [
       "(49311, 13)"
      ]
     },
     "execution_count": 10,
     "metadata": {},
     "output_type": "execute_result"
    }
   ],
   "source": [
    "signeHP = huff[metaHP].byline.str.contains(\"[H,h][U,u,f][F,f][i,F,f,P,p]|ハフ|ポスト|허핑턴|허프|[A,a][O,o][L,l]\",na=False)\n",
    "huff[metaHP][signeHP].shape"
   ]
  },
  {
   "cell_type": "code",
   "execution_count": 11,
   "metadata": {},
   "outputs": [
    {
     "data": {
      "text/plain": [
       "(? L'Huffington Post                                  18172\n",
       " ? Redazione, L'Huffington Post                       6299 \n",
       " Di Redazione L'Huffington Post                       4000 \n",
       " ? Ilaria Betti, L'Huffington Post                    933  \n",
       " ? Pier Luigi Pisa, L'Huffington Post                 574  \n",
       " Di Redazione L'HuffingtonPost                        520  \n",
       " ? Ansa, L'Huffington Post                            476  \n",
       " Di Ilaria Betti L'Huffington Post                    472  \n",
       " ? Redazione, l'Huffington Post                       415  \n",
       " ? Silvia De Santis, L'Huffington Post                402  \n",
       " DiFlavio Bini L'Huffington Post                      392  \n",
       " ? Laura Eduati, L'Huffington Post                    388  \n",
       "                                                     ...   \n",
       " DiAndrea Punzo l'huffingtonpost                      1    \n",
       " ? Giuseppe Fantasia, L'Huffingtpon Post              1    \n",
       " ? Teresa Marchesi, L'Huffigton Post                  1    \n",
       " ? Barbara Acquaviti, L'Huffingtonpost                1    \n",
       " Di Emma Haak L'Huffington Post                       1    \n",
       " Di Viola Contursi, Angela Mauro L'Huffington Post    1    \n",
       " ? Hilary Hanson, L'Huffington Post                   1    \n",
       " Di 中野渉 L'Huffington Post                             1    \n",
       " ? Emiliano Carli L'Huffington Post                   1    \n",
       " Di James Cave L'Huffington Post                      1    \n",
       " ? Nicoletta Moncalero, L' Huffington Post            1    \n",
       " Di Stampa, Repubblica Huffington Post                1    \n",
       " Name: byline, Length: 2105, dtype: int64, 2105)"
      ]
     },
     "execution_count": 11,
     "metadata": {},
     "output_type": "execute_result"
    }
   ],
   "source": [
    "huff[metaHP][signeHP].byline.value_counts(), huff[metaHP][signeHP].byline.value_counts().count()"
   ]
  },
  {
   "cell_type": "markdown",
   "metadata": {},
   "source": [
    "Le *Huffington Post* est nommé, d'une façon ou d'une autre, dans ces quelque **49&nbsp;311 articles** signés par **2&nbsp;105 signataires différents**.<br>\n",
    "Cela représente plus des trois quarts de l'ensemble des articles publiés par cette édition du *HuffPost* dans la période étudiée.\n",
    "On peut placer cette proportion dans notre variable `HP_oui`."
   ]
  },
  {
   "cell_type": "code",
   "execution_count": 12,
   "metadata": {},
   "outputs": [
    {
     "data": {
      "text/plain": [
       "(49311, 76.003390875462401)"
      ]
     },
     "execution_count": 12,
     "metadata": {},
     "output_type": "execute_result"
    }
   ],
   "source": [
    "HP_oui = huff[metaHP][signeHP].pays.count()\n",
    "HP_oui, (HP_oui/len(huff))*100"
   ]
  },
  {
   "cell_type": "markdown",
   "metadata": {},
   "source": [
    "<hr>\n",
    "<h3 style=\"background:teal;color:white;padding:5px\">Étape 5 - Identification des articles <u>extérieurs</u> au <i>HuffPost</i></h3>"
   ]
  },
  {
   "cell_type": "markdown",
   "metadata": {},
   "source": [
    "On va donc faire la même opération, mais pour tous les postes dans lesquels **on ne trouve pas** les chaînes de caractères permettant d'identifier le *Huffington&nbsp;Post* dans différentes langues. On va créer un nouveau sous-ensemble qu'on va baptiser `NONsignéHP`."
   ]
  },
  {
   "cell_type": "code",
   "execution_count": 13,
   "metadata": {
    "scrolled": true
   },
   "outputs": [
    {
     "data": {
      "text/plain": [
       "(15569, 13)"
      ]
     },
     "execution_count": 13,
     "metadata": {},
     "output_type": "execute_result"
    }
   ],
   "source": [
    "NONsigneHP = ~huff[metaHP].byline.str.contains(\"[H,h][U,u,f][F,f][i,F,f,P,p]|ハフ|ポスト|허핑턴|허프|[A,a][O,o][L,l]\",na=False)\n",
    "huff[metaHP][NONsigneHP].shape"
   ]
  },
  {
   "cell_type": "markdown",
   "metadata": {},
   "source": [
    "Qui sont ces auteurs qui ne signent pas des articles originaux pour le *HuffPost*?"
   ]
  },
  {
   "cell_type": "code",
   "execution_count": 14,
   "metadata": {},
   "outputs": [
    {
     "data": {
      "text/plain": [
       "(? Ansa                                       2853\n",
       " Angela Mauro ?                               1440\n",
       " Alessandro De Angelis ?                      1320\n",
       " ?                                            717 \n",
       " Pietro Salvatori ?                           517 \n",
       " ? Repubblica.it                              482 \n",
       " ? La Repubblica                              410 \n",
       " Gabriella Cerami ?                           400 \n",
       " ? ?                                          399 \n",
       " ? espresso.repubblica.it                     387 \n",
       " ? Corriere della Sera                        333 \n",
       " ? Repubblica                                 329 \n",
       "                                             ...  \n",
       " ? L'Ansa, Emanuele Riccardi                  1   \n",
       " Di Livia Parisi Ansa                         1   \n",
       " ? Corriere Tv                                1   \n",
       " Di Lucetta Scaraffia L'Osservatore Romano    1   \n",
       " ? Il Corriere dello Sport                    1   \n",
       " ? Foglio                                     1   \n",
       " Di Giulia Destefanis Repubblica.it           1   \n",
       " ? Laura Traldi, D La Repubblica              1   \n",
       " ? La Nuova Venezia e Mestre                  1   \n",
       " Di Leonardo Cioni Ansa                       1   \n",
       " ? Federico Lazzotti, Il Tirreno              1   \n",
       " ? Erri De Luca                               1   \n",
       " Name: byline, Length: 1327, dtype: int64, 1327)"
      ]
     },
     "execution_count": 14,
     "metadata": {},
     "output_type": "execute_result"
    }
   ],
   "source": [
    "huff[metaHP][NONsigneHP].byline.value_counts(), huff[metaHP][NONsigneHP].byline.value_counts().count() "
   ]
  },
  {
   "cell_type": "markdown",
   "metadata": {},
   "source": [
    "On constate que lorsqu'il y a un nom de journaliste suivi d'un point d'interrogation, c'est un auteur de l'équipe du *HuffPost Italie*. C'est le cas d'[Angela Mauro](http://www.huffingtonpost.it/author/angela-mauro/) et d'[Alessandro De Angelis](http://www.huffingtonpost.it/author/alessandro-de-angelis/), pour ne nommer que ceux-là.\n",
    "\n",
    "On va donc considérer que si la variable `byline` se termine par un point d'interrogation, il s'agira d'un auteur qui rédige des articles originaux pour le *HuffPost*.\n",
    "\n",
    "Isolons ces auteurs."
   ]
  },
  {
   "cell_type": "code",
   "execution_count": 15,
   "metadata": {
    "scrolled": true
   },
   "outputs": [
    {
     "data": {
      "text/plain": [
       "(Angela Mauro ?             1440\n",
       " Alessandro De Angelis ?    1320\n",
       " Pietro Salvatori ?         517 \n",
       " Gabriella Cerami ?         400 \n",
       " ? ?                        399 \n",
       " Giacomo Talignani ?        176 \n",
       " Flavio Bini ?              148 \n",
       " Adele Sarno ?              83  \n",
       " Laura Eduati ?             78  \n",
       " Andrea Bassi ?             72  \n",
       " Marco Pasqua ?             43  \n",
       " Andrea Punzo ?             40  \n",
       "                            ..  \n",
       " Daniel Marans ?            2   \n",
       " Travis Waldron ?           1   \n",
       " Peter S. Goodman ?         1   \n",
       " Carlo Renda ?              1   \n",
       " Jo Confino ?               1   \n",
       " Willa Frej ?               1   \n",
       " Kate Bratskeir ?           1   \n",
       " Kelsey Borresen ?          1   \n",
       " Lorenzo Ligato ?           1   \n",
       " Lauren Duca ?              1   \n",
       " Jordan Schultz ?           1   \n",
       " Kate Sheppard ?            1   \n",
       " Name: byline, Length: 33, dtype: int64, 4908)"
      ]
     },
     "execution_count": 15,
     "metadata": {},
     "output_type": "execute_result"
    }
   ],
   "source": [
    "auteur = huff[metaHP][NONsigneHP].byline.str.endswith(\" ?\")\n",
    "huff[metaHP][NONsigneHP][auteur].byline.value_counts(), huff[metaHP][NONsigneHP][auteur].byline.value_counts().sum()"
   ]
  },
  {
   "cell_type": "markdown",
   "metadata": {},
   "source": [
    "Ces auteurs ont donc signé **4&nbsp;908 articles** (4&nbsp;509 articles ci-dessus, auxquels il faut retrancher les 399 articles dont l'auteur est inconnu [«&nbsp;? ?&nbsp;»]).\n",
    "\n",
    "On peut les ajouter à notre variable `HP_oui`."
   ]
  },
  {
   "cell_type": "code",
   "execution_count": 16,
   "metadata": {},
   "outputs": [
    {
     "data": {
      "text/plain": [
       "(53820, 82.953144266337858)"
      ]
     },
     "execution_count": 16,
     "metadata": {},
     "output_type": "execute_result"
    }
   ],
   "source": [
    "HP_oui = huff[metaHP][signeHP].pays.count() + 4509\n",
    "HP_oui, (HP_oui/len(huff))*100"
   ]
  },
  {
   "cell_type": "markdown",
   "metadata": {},
   "source": [
    "Pour calculer le pourcentage des articles signés par des auteurs externes, il faut soustraire de notre sous-ensemble `NONsignéHP` les articles contenus dans les deux sous-ensembles `inconnu1` et `inconnu2`, ainsi que tous les articles dont on vient d'associer les auteurs au *HuffPost* et qu'on a ajoutés à notre variable `HP_oui`."
   ]
  },
  {
   "cell_type": "code",
   "execution_count": 17,
   "metadata": {},
   "outputs": [
    {
     "data": {
      "text/plain": [
       "(9944, 15.326757090012331)"
      ]
     },
     "execution_count": 17,
     "metadata": {},
     "output_type": "execute_result"
    }
   ],
   "source": [
    "HP_non = huff[metaHP][NONsigneHP].pays.count() - (huff[metaHP][inconnus1].pays.count() + huff[metaHP][inconnus2].pays.count()) + (len(huff) - len(huff[metaHP])) - 4509\n",
    "HP_non, (HP_non/len(huff))*100"
   ]
  },
  {
   "cell_type": "markdown",
   "metadata": {},
   "source": [
    "On a désormais tout ce qu'il nous faut pour faire le camembert évoqué plus haut."
   ]
  },
  {
   "cell_type": "code",
   "execution_count": 18,
   "metadata": {},
   "outputs": [
    {
     "data": {
      "text/plain": [
       "<matplotlib.axes._subplots.AxesSubplot at 0x1a5893cf8>"
      ]
     },
     "execution_count": 18,
     "metadata": {},
     "output_type": "execute_result"
    },
    {
     "data": {
      "image/png": "[encoded data removed]",
      "text/plain": [
       "<matplotlib.figure.Figure at 0x1a7d26f28>"
      ]
     },
     "metadata": {},
     "output_type": "display_data"
    }
   ],
   "source": [
    "camembert = pd.Series([HP_oui,HP_non,HP_inconnu], index=[\"Oui\",\"Non\",\"Inconnu\"],name=\"\")\n",
    "titre = plt.figure(facecolor=\"beige\")\n",
    "titre.suptitle(\"HuffPost Italie\", fontsize=24, fontweight=\"light\", fontname=\"Serif\")\n",
    "camembert.plot.pie(colors=[\"aqua\",\"coral\",\"lightgrey\"],\n",
    "                   wedgeprops={\"linewidth\":3,\"edgecolor\":\"white\"},\n",
    "                   textprops={\"weight\":\"bold\",\"fontsize\":14},\n",
    "                   counterclock=False,\n",
    "                   startangle=90,\n",
    "                   autopct=\"%1.1f%%\",\n",
    "                   figsize=(8,8)\n",
    ")"
   ]
  },
  {
   "cell_type": "markdown",
   "metadata": {},
   "source": [
    "<hr>\n",
    "<h3 style=\"background:teal;color:white;padding:5px\">Étape 6 - Exercice boni&nbsp;: les étiquettes (<i>tags</i>)</h3>"
   ]
  },
  {
   "cell_type": "markdown",
   "metadata": {},
   "source": [
    "Chaque article du *Huffington Post* est généralement accompagné d'une dizaine de marqueurs, ou d'étiquettes (*tags* en anglais). Voici ceux qui sont le plus fréquemment utilisés par cette édition."
   ]
  },
  {
   "cell_type": "code",
   "execution_count": 19,
   "metadata": {},
   "outputs": [
    {
     "data": {
      "text/plain": [
       "politica                                       12584\n",
       "notizie                                        8425 \n",
       "esteri                                         7599 \n",
       "cronaca                                        6587 \n",
       "italia-politica                                6035 \n",
       "culture                                        5595 \n",
       "economia                                       5570 \n",
       "Matteo Renzi                                   4980 \n",
       "video                                          3725 \n",
       "italia-economia                                2932 \n",
       "italia-culture                                 2888 \n",
       "italia-cronaca                                 2881 \n",
       "                                               ...  \n",
       "economia bitcoin                               1    \n",
       "stacey baker new york                          1    \n",
       "juventus barcellona finale champions league    1    \n",
       "contouring nonna                               1    \n",
       "diretta italia costarica                       1    \n",
       "film strike a pose                             1    \n",
       "beppe grillo nigle farage                      1    \n",
       "fiocco giallo                                  1    \n",
       "caldo killer                                   1    \n",
       "indagato mattia                                1    \n",
       "elezioni presidenza repubblica 2015            1    \n",
       "appoggio montiani                              1    \n",
       "Length: 254322, dtype: int64"
      ]
     },
     "execution_count": 19,
     "metadata": {},
     "output_type": "execute_result"
    }
   ],
   "source": [
    "etiquettes = huff.set_index('pays').tags.str.split(',', expand=True).stack().rename(columns={0:'tag'}).reset_index(drop=True)\n",
    "etiquettes.value_counts(dropna=False)"
   ]
  }
 ],
 "metadata": {
  "kernelspec": {
   "display_name": "Python 3",
   "language": "python",
   "name": "python3"
  },
  "language_info": {
   "codemirror_mode": {
    "name": "ipython",
    "version": 3
   },
   "file_extension": ".py",
   "mimetype": "text/x-python",
   "name": "python",
   "nbconvert_exporter": "python",
   "pygments_lexer": "ipython3",
   "version": "3.6.2"
  }
 },
 "nbformat": 4,
 "nbformat_minor": 1
}
