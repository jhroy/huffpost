{
 "cells": [
  {
   "cell_type": "markdown",
   "metadata": {},
   "source": [
    "<tr>\n",
    "<td>\n",
    "<img src=\"https://upload.wikimedia.org/wikipedia/commons/thumb/5/5a/HuffPost.svg/320px-HuffPost.svg.png\">\n",
    "</td>\n",
    "<td>\n",
    "<img src=\"https://upload.wikimedia.org/wikipedia/commons/b/b8/Greece_flag_300.png\" width=\"320\">\n",
    "</td>\n"
   ]
  },
  {
   "cell_type": "markdown",
   "metadata": {},
   "source": [
    "# Analyse des sources de l'édition grecque du *Huff Post* (2014-2016) en 6 étapes faciles\n",
    "<hr>"
   ]
  },
  {
   "cell_type": "markdown",
   "metadata": {},
   "source": [
    "<h3 style=\"background:teal;color:white;padding:5px\">Étape 1 - Initialisation de notre *notebook* et lecture du fichier CSV contenant nos données</h3>"
   ]
  },
  {
   "cell_type": "code",
   "execution_count": 1,
   "metadata": {
    "collapsed": true
   },
   "outputs": [],
   "source": [
    "import csv, re, random\n",
    "import pandas as pd\n",
    "import numpy as np\n",
    "import matplotlib as mpl\n",
    "import matplotlib.pyplot as plt\n",
    "from scipy import stats, integrate\n",
    "pd.set_option('display.max_colwidth', -1)\n",
    "pd.options.display.max_rows = 25\n",
    "pd.options.mode.chained_assignment = None\n",
    "%matplotlib inline"
   ]
  },
  {
   "cell_type": "markdown",
   "metadata": {},
   "source": [
    "On lit notre fichier CSV de base, puis on crée une variable `edition` pour identifier le pays sur lequel on va travailler. La variable `huff` ne contient que les articles de l'édition du pays auquel on s'intéresse ici."
   ]
  },
  {
   "cell_type": "code",
   "execution_count": 2,
   "metadata": {},
   "outputs": [
    {
     "data": {
      "text/plain": [
       "(55433, 13)"
      ]
     },
     "execution_count": 2,
     "metadata": {},
     "output_type": "execute_result"
    }
   ],
   "source": [
    "huff = pd.read_csv(\"scraping-nettoye.csv\", low_memory=False)\n",
    "edition = \"Grèce\"\n",
    "huff = huff[huff.pays == edition]\n",
    "huff.shape"
   ]
  },
  {
   "cell_type": "markdown",
   "metadata": {},
   "source": [
    "Le but de cet exercice étant d'identifier le taux d'originalité du *HuffPost*, on va créer trois variables.\n",
    "\n",
    "- `HP_oui` contiendra la proportion d'articles qui sont originaux (signés par des employés du *HuffPost* ou des pigistes).\n",
    "- `HP_non` contiendra la proportion d'articles qui ne sont pas originaux (repris d'agences externes ou d'autres médias).\n",
    "- `HP_inconnu` contiendra la proportion d'articles dont on ne peut pas établir la provenance.\n",
    "\n",
    "La somme de ces trois variables équivaudra à 100. On s'en servira pour faire un graphique en pointes de tarte (camembert) à la fin."
   ]
  },
  {
   "cell_type": "code",
   "execution_count": 3,
   "metadata": {
    "collapsed": true
   },
   "outputs": [],
   "source": [
    "HP_oui = 0\n",
    "HP_non = 0\n",
    "HP_inconnu = 0"
   ]
  },
  {
   "cell_type": "markdown",
   "metadata": {},
   "source": [
    "<h3 style=\"background:teal;color:white;padding:5px\">Étape 2 - Filtrer les balises <i>meta</i></h3>"
   ]
  },
  {
   "cell_type": "markdown",
   "metadata": {},
   "source": [
    "<hr>\n",
    "Ce ne sont pas tous les articles de cette édition du *Huff Post* qui ont, pour nom dans leurs balises `meta`, l'une ou l'autre des éditions du *Huffington Post*, ou de sa compagnie-mère, AOL"
   ]
  },
  {
   "cell_type": "code",
   "execution_count": 4,
   "metadata": {
    "scrolled": true
   },
   "outputs": [
    {
     "data": {
      "text/plain": [
       "The Huffington Post    55432\n",
       "허핑턴포스트                 1    \n",
       "Name: meta, dtype: int64"
      ]
     },
     "execution_count": 4,
     "metadata": {},
     "output_type": "execute_result"
    }
   ],
   "source": [
    "huff.meta.value_counts()"
   ]
  },
  {
   "cell_type": "markdown",
   "metadata": {},
   "source": [
    "Créons un sous-ensemble avec les articles qui, selon la balise `meta`, semblent issus du *HP*."
   ]
  },
  {
   "cell_type": "code",
   "execution_count": 5,
   "metadata": {},
   "outputs": [
    {
     "data": {
      "text/plain": [
       "The Huffington Post    55432\n",
       "허핑턴포스트                 1    \n",
       "Name: meta, dtype: int64"
      ]
     },
     "execution_count": 5,
     "metadata": {},
     "output_type": "execute_result"
    }
   ],
   "source": [
    "metaHP = huff.meta.str.contains(\"[H,Η,h][U,u][F,f][i,F,f,P,p]|ハフ|ポスト|허핑턴|허프|[A,a][O,o][L,l]\", na=False)\n",
    "huff[metaHP].meta.value_counts()"
   ]
  },
  {
   "cell_type": "code",
   "execution_count": 6,
   "metadata": {},
   "outputs": [
    {
     "data": {
      "text/plain": [
       "(55433, 13)"
      ]
     },
     "execution_count": 6,
     "metadata": {},
     "output_type": "execute_result"
    }
   ],
   "source": [
    "huff[metaHP].shape"
   ]
  },
  {
   "cell_type": "code",
   "execution_count": 7,
   "metadata": {},
   "outputs": [
    {
     "data": {
      "text/plain": [
       "0"
      ]
     },
     "execution_count": 7,
     "metadata": {},
     "output_type": "execute_result"
    }
   ],
   "source": [
    "len(huff) - len(huff[metaHP])"
   ]
  },
  {
   "cell_type": "markdown",
   "metadata": {},
   "source": [
    "Le calcul ci-haut nous indique que la balise `meta` de **tous** les articles de l'édition grecque du *HuffPost* prétendent qu'ils ont été rédigés par l'équipe du *HuffPost*.\n",
    "<hr>\n",
    "Examinons-les quand même de plus près en regardant qui sont les signataires de ces articles. Les signataires se trouvent dans la colonne `byline`. Voyons voir, donc, ce qu'elle contient."
   ]
  },
  {
   "cell_type": "markdown",
   "metadata": {},
   "source": [
    "<h3 style=\"background:teal;color:white;padding:5px\">Étape 3 - Identification des articles dont les signataires sont inconnus</h3>"
   ]
  },
  {
   "cell_type": "code",
   "execution_count": 8,
   "metadata": {},
   "outputs": [
    {
     "data": {
      "text/plain": [
       "Newsroom HuffPost Greece                                       32950\n",
       "? HuffPost Greece                                              4046 \n",
       "Στέφανος Νικήτας HuffPost Greece                               2753 \n",
       "Κώστας Μαυραγάνης HuffPost Greece                              1893 \n",
       "Αλέξανδρος Καλαφάτης ?                                         1513 \n",
       "Κατερίνα Νανοπούλου HuffPost Greece                            1220 \n",
       "Νάγια Κωστιάνη HuffPost Greece                                 989  \n",
       "Νewsroom HuffPost Greece                                       721  \n",
       "Μαριαλένα Περπιράκη HuffPost Greece                            655  \n",
       "Αλέξανδρος Κλώσσας ?                                           568  \n",
       "Κώστας Πουλακίδας HuffPost Greece                              526  \n",
       "Κατερίνα Πρίφτη HuffPost Greece                                508  \n",
       "                                                              ...   \n",
       "Emily Peck HuffPost Greece                                     1    \n",
       "Jenna Amatulli Huffpost US                                     1    \n",
       "Sam Stein, Arthur Delaney The Huffington Post                  1    \n",
       "Newsroom HuffPost Greece  Newsroom                             1    \n",
       "? La rédaction du HuffPost                                     1    \n",
       "Αθηνά Παπακώστα, Αγγελική Κουγιάννου HuffPost Greece           1    \n",
       "Κώστα Πουλακίδας HuffPost Greece                               1    \n",
       "Michael O. Schroeder HuffPost Greece                           1    \n",
       "Macrina Cooper-White The Huffington Post                       1    \n",
       "Δημοσθένης Γκαβέας και Αλέξανδρος Καλαφάτης HuffPost Greece    1    \n",
       "New HuffPost Greece                                            1    \n",
       "Newsroom hu                                                    1    \n",
       "Name: byline, Length: 925, dtype: int64"
      ]
     },
     "execution_count": 8,
     "metadata": {},
     "output_type": "execute_result"
    }
   ],
   "source": [
    "huff[metaHP].byline.value_counts()"
   ]
  },
  {
   "cell_type": "markdown",
   "metadata": {},
   "source": [
    "Un certain nombre d'auteurs sont inconnus («&nbsp;?&nbsp;» ou «&nbsp;?&nbsp;?&nbsp;»).<br>\n",
    "Ceux marqués d'un seul point d'interrogation seront placés dans le sous-ensemble `inconnu1`, ceux qui sont marqués de deux points d'interrogation dans le sous-ensemble `inconnu2`.<br>\n",
    "Ils représentent à peine **0,3%** du total des articles de cette édition du *Huffington&nbsp;Post*.<br>\n",
    "Nous allons placer cette proportion dans notre variable `HP_inconnu`."
   ]
  },
  {
   "cell_type": "code",
   "execution_count": 9,
   "metadata": {},
   "outputs": [
    {
     "data": {
      "text/plain": [
       "(150, 0.27059693684267494)"
      ]
     },
     "execution_count": 9,
     "metadata": {},
     "output_type": "execute_result"
    }
   ],
   "source": [
    "inconnus1 = huff[metaHP].byline == \"? \"\n",
    "inconnus2 = huff[metaHP].byline == \"? ?\"\n",
    "HP_inconnu = huff[metaHP][inconnus1].pays.count() + huff[metaHP][inconnus2].pays.count()\n",
    "HP_inconnu, (HP_inconnu/len(huff))*100"
   ]
  },
  {
   "cell_type": "markdown",
   "metadata": {},
   "source": [
    "<hr>\n",
    "<h3 style=\"background:teal;color:white;padding:5px\">Étape 4 - Identification des articles originaux au <i>HuffPost</i></h3>"
   ]
  },
  {
   "cell_type": "markdown",
   "metadata": {},
   "source": [
    "Examinons maintenant les articles dont la signature contient certaines chaînes de caractères qui correspondent au *Huffington Post* (dans différentes langues, fautes de frappe incluses), ou à sa compagnie-mère, AOL. On va baptiser ce sous-ensemble `signéHP`."
   ]
  },
  {
   "cell_type": "code",
   "execution_count": 10,
   "metadata": {
    "scrolled": true
   },
   "outputs": [
    {
     "data": {
      "text/plain": [
       "(51460, 13)"
      ]
     },
     "execution_count": 10,
     "metadata": {},
     "output_type": "execute_result"
    }
   ],
   "source": [
    "signeHP = huff[metaHP].byline.str.contains(\"[H,Η,h][U,u][F,f][i,F,f,P,p]|ハフ|ポスト|허핑턴|허프|[A,a][O,o][L,l]\",na=False)\n",
    "huff[metaHP][signeHP].shape"
   ]
  },
  {
   "cell_type": "code",
   "execution_count": 11,
   "metadata": {},
   "outputs": [
    {
     "data": {
      "text/plain": [
       "(Newsroom HuffPost Greece                          32950\n",
       " ? HuffPost Greece                                 4046 \n",
       " Στέφανος Νικήτας HuffPost Greece                  2753 \n",
       " Κώστας Μαυραγάνης HuffPost Greece                 1893 \n",
       " Κατερίνα Νανοπούλου HuffPost Greece               1220 \n",
       " Νάγια Κωστιάνη HuffPost Greece                    989  \n",
       " Νewsroom HuffPost Greece                          721  \n",
       " Μαριαλένα Περπιράκη HuffPost Greece               655  \n",
       " Κώστας Πουλακίδας HuffPost Greece                 526  \n",
       " Κατερίνα Πρίφτη HuffPost Greece                   508  \n",
       " Αλέξανδρος Καλαφάτης HuffPost Greece              478  \n",
       " Βασιλική Ζιώγα HuffPost Greece                    434  \n",
       "                                                  ...   \n",
       " Julia Craven HuffPost Greece                      1    \n",
       " Taryn Hillin HuffPost Greece                      1    \n",
       " Keith King HuffPost Greece                        1    \n",
       " Kώστας Πουλακίδας HuffPost Greece                 1    \n",
       " Nick Robins - Early HuffPost Greece               1    \n",
       " Heidi Priebe HuffPost Greece                      1    \n",
       " Natasha Hinde HuffPost UK                         1    \n",
       " Βασίλης Βενιζέλος HuffPost Greece                 1    \n",
       " Greece HuffPost Greece                            1    \n",
       " Κώστας Πουλακίδας ΗuffPost Greece                 1    \n",
       " ΆΙΖΑΚ ΤΣΌΤΙΝΕΡ HuffPost Greece                    1    \n",
       " Sarah Klein & Damon Dahlen The Huffington Post    1    \n",
       " Name: byline, Length: 807, dtype: int64, 807)"
      ]
     },
     "execution_count": 11,
     "metadata": {},
     "output_type": "execute_result"
    }
   ],
   "source": [
    "huff[metaHP][signeHP].byline.value_counts(), huff[metaHP][signeHP].byline.value_counts().count()"
   ]
  },
  {
   "cell_type": "markdown",
   "metadata": {},
   "source": [
    "Le *Huffington Post* est nommé, d'une façon ou d'une autre, dans ces quelque **51&nbsp;460 articles** signés par **780 signataires différents**.<br>\n",
    "Cela représente une majorité écrasante de l'ensemble des articles publiés par l'édition grecque du *HuffPost* dans la période étudiée.\n",
    "On peut placer cette proportion dans notre variable `HP_oui`."
   ]
  },
  {
   "cell_type": "code",
   "execution_count": 12,
   "metadata": {},
   "outputs": [
    {
     "data": {
      "text/plain": [
       "(51460, 92.832789132827017)"
      ]
     },
     "execution_count": 12,
     "metadata": {},
     "output_type": "execute_result"
    }
   ],
   "source": [
    "HP_oui = huff[metaHP][signeHP].pays.count()\n",
    "HP_oui, (HP_oui/len(huff))*100"
   ]
  },
  {
   "cell_type": "markdown",
   "metadata": {},
   "source": [
    "<hr>\n",
    "<h3 style=\"background:teal;color:white;padding:5px\">Étape 5 - Identification des articles <u>extérieurs</u> au <i>HuffPost</i></h3>"
   ]
  },
  {
   "cell_type": "markdown",
   "metadata": {},
   "source": [
    "On va donc faire la même opération, mais pour tous les postes dans lesquels **on ne trouve pas** les chaînes de caractères permettant d'identifier le *Huffington&nbsp;Post* dans différentes langues. On va créer un nouveau sous-ensemble qu'on va baptiser `NONsignéHP`."
   ]
  },
  {
   "cell_type": "code",
   "execution_count": 13,
   "metadata": {
    "scrolled": true
   },
   "outputs": [
    {
     "data": {
      "text/plain": [
       "(3973, 13)"
      ]
     },
     "execution_count": 13,
     "metadata": {},
     "output_type": "execute_result"
    }
   ],
   "source": [
    "NONsigneHP = ~huff[metaHP].byline.str.contains(\"[H,Η,h][U,u][F,f][i,F,f,P,p]|ハフ|ポスト|허핑턴|허프|[A,a][O,o][L,l]\",na=False)\n",
    "huff[metaHP][NONsigneHP].shape"
   ]
  },
  {
   "cell_type": "markdown",
   "metadata": {},
   "source": [
    "Qui sont ces auteurs qui ne signent pas des articles originaux pour le *HuffPost*?"
   ]
  },
  {
   "cell_type": "code",
   "execution_count": 14,
   "metadata": {},
   "outputs": [
    {
     "data": {
      "text/plain": [
       "(Αλέξανδρος Καλαφάτης ?          1513\n",
       " Αλέξανδρος Κλώσσας ?            568 \n",
       " Γιάννης Πιτταράς ?              340 \n",
       " ? ΑΠΕ-ΜΠΕ                       240 \n",
       " Μαίρη Μπενέα ?                  189 \n",
       " Κώστας Μαυραγάνης ?             129 \n",
       " Στέφανος Νικήτας ?              104 \n",
       " ?                               100 \n",
       " Κατερίνα Πρίφτη ?               90  \n",
       " Κατερίνα Νανοπούλου ?           58  \n",
       " ? ?                             50  \n",
       " Φώτης Νάκος ?                   48  \n",
       "                                 ..  \n",
       " 작성자 이진순 풀뿌리정치실험실 ‘와글’ 대표 한겨레    1   \n",
       " ? Handelsblatt                  1   \n",
       " ? Le Figaro                     1   \n",
       " Newsroom Έθνος                  1   \n",
       " 연합뉴스/김병철 연합뉴스                   1   \n",
       " ? ΣΚΑΪ                          1   \n",
       " Lilly Workneh ?                 1   \n",
       " Newsroom Contra.gr              1   \n",
       " ? Kontranews                    1   \n",
       " Newsroom Contra                 1   \n",
       " ? H                             1   \n",
       " Gabriela Bazzo ?                1   \n",
       " Name: byline, Length: 118, dtype: int64, 118)"
      ]
     },
     "execution_count": 14,
     "metadata": {},
     "output_type": "execute_result"
    }
   ],
   "source": [
    "huff[metaHP][NONsigneHP].byline.value_counts(), huff[metaHP][NONsigneHP].byline.value_counts().count() "
   ]
  },
  {
   "cell_type": "markdown",
   "metadata": {},
   "source": [
    "La plupart de ces 118 auteurs différents sont cependant des employés du *HuffPost Grèce*. Celui qui signe le plus d'articles, dans ce sous-ensemble, Αλέξανδρος Καλαφάτης, est clairement un employé selon [sa page d'auteur](http://www.huffingtonpost.gr/alexandros-kalafatis/).\n",
    "\n",
    "Ainsi, on retranchera uniquement les signataires clairement identifiés à des agences externes, comme ΑΠΕ-ΜΠΕ (l'Agence de nouvelles Athènes-Macédoine). Il y en a 429.\n",
    "\n",
    "Cela signifie donc qu'il y a 3&nbsp;544 articles à ajouter à notre variable `HP_oui`."
   ]
  },
  {
   "cell_type": "code",
   "execution_count": 15,
   "metadata": {},
   "outputs": [
    {
     "data": {
      "text/plain": [
       "(55004, 99.226092760629953)"
      ]
     },
     "execution_count": 15,
     "metadata": {},
     "output_type": "execute_result"
    }
   ],
   "source": [
    "HP_oui = huff[metaHP][signeHP].pays.count() + 3544\n",
    "HP_oui, (HP_oui/len(huff))*100"
   ]
  },
  {
   "cell_type": "markdown",
   "metadata": {},
   "source": [
    "Pour calculer le pourcentage des articles signés par des auteurs externes, il faut soustraire de notre sous-ensemble `NONsignéHP` les articles contenus dans les deux sous-ensembles `inconnu1` et `inconnu2`, ainsi que les articles dont on vient d'identifier les auteurs comme pouvant être associés au *HuffPost* et qu'on a ajoutés à notre variable `HP_oui`."
   ]
  },
  {
   "cell_type": "code",
   "execution_count": 16,
   "metadata": {},
   "outputs": [
    {
     "data": {
      "text/plain": [
       "(279, 0.50331030252737541)"
      ]
     },
     "execution_count": 16,
     "metadata": {},
     "output_type": "execute_result"
    }
   ],
   "source": [
    "HP_non = huff[metaHP][NONsigneHP].pays.count() - (huff[metaHP][inconnus1].pays.count() + huff[metaHP][inconnus2].pays.count()) + (len(huff) - len(huff[metaHP])) - 3544\n",
    "HP_non, (HP_non/len(huff))*100"
   ]
  },
  {
   "cell_type": "markdown",
   "metadata": {},
   "source": [
    "# On a désormais tout ce qu'il nous faut pour faire le camembert évoqué plus haut."
   ]
  },
  {
   "cell_type": "code",
   "execution_count": 17,
   "metadata": {},
   "outputs": [
    {
     "data": {
      "text/plain": [
       "<matplotlib.axes._subplots.AxesSubplot at 0x1b1753278>"
      ]
     },
     "execution_count": 17,
     "metadata": {},
     "output_type": "execute_result"
    },
    {
     "data": {
      "image/png": "[encoded data removed]",
      "text/plain": [
       "<matplotlib.figure.Figure at 0x1b1753cf8>"
      ]
     },
     "metadata": {},
     "output_type": "display_data"
    }
   ],
   "source": [
    "camembert = pd.Series([HP_oui,HP_non,HP_inconnu], index=[\"Oui\",\"Non\",\"Inconnu\"],name=\"\")\n",
    "titre = plt.figure(facecolor=\"beige\")\n",
    "titre.suptitle(\"HuffPost Grèce\", fontsize=24, fontweight=\"light\", fontname=\"Serif\")\n",
    "camembert.plot.pie(colors=[\"aqua\",\"coral\",\"lightgrey\"],\n",
    "                   wedgeprops={\"linewidth\":3,\"edgecolor\":\"white\"},\n",
    "                   textprops={\"weight\":\"bold\",\"fontsize\":14},\n",
    "                   counterclock=False,\n",
    "                   startangle=90,\n",
    "                   autopct=\"%1.1f%%\",\n",
    "                   figsize=(8,8)\n",
    ")"
   ]
  },
  {
   "cell_type": "markdown",
   "metadata": {},
   "source": [
    "<hr>\n",
    "<h3 style=\"background:teal;color:white;padding:5px\">Étape 6 - Exercice boni&nbsp;: les étiquettes (<i>tags</i>)</h3>"
   ]
  },
  {
   "cell_type": "markdown",
   "metadata": {},
   "source": [
    "Chaque article du *Huffington Post* est généralement accompagné d'une dizaine de marqueurs, ou d'étiquettes (*tags* en anglais). Voici ceux qui sont le plus fréquemment utilisés par cette édition."
   ]
  },
  {
   "cell_type": "code",
   "execution_count": 18,
   "metadata": {},
   "outputs": [
    {
     "data": {
      "text/plain": [
       "ΔΙΕΘΝΕΣ                              15889\n",
       "ΠΟΛΙΤΙΚΗ                             12347\n",
       "ΚΟΙΝΩΝΙΑ                             9880 \n",
       "ΟΙΚΟΝΟΜΙΑ                            7588 \n",
       "life                                 4455 \n",
       "gr-viral                             3741 \n",
       "culture                              2823 \n",
       "Ελλάδα                               2612 \n",
       "ΑΘΛΗΤΙΣΜΟΣ                           2200 \n",
       "ΗΠΑ                                  2177 \n",
       "ΜΕΤΑΝΑΣΤΕΥΤΙΚΟ                       1745 \n",
       "ΣΥΡΙΖΑ                               1737 \n",
       "                                     ...  \n",
       "ρεκόρ ταχύτητας                      1    \n",
       "Ελλήνων                              1    \n",
       "20 χρόνια Art-Athina                 1    \n",
       "πρεσβεία Μεξικό                      1    \n",
       "μεικτές πολεμικές τέχνες             1    \n",
       "μοντέλο φορητού υπολογιστή της HP    1    \n",
       "ηλεκτρικές συσκευές                  1    \n",
       "Χαρίτσης Πιτσιόρλας                  1    \n",
       "τρομοκρατιά                          1    \n",
       "adam                                 1    \n",
       "Κάθισμα                              1    \n",
       "ΚΕΦΟΜΕΠ                              1    \n",
       "Length: 67925, dtype: int64"
      ]
     },
     "execution_count": 18,
     "metadata": {},
     "output_type": "execute_result"
    }
   ],
   "source": [
    "etiquettes = huff.set_index('pays').tags.str.split(',', expand=True).stack().rename(columns={0:'tag'}).reset_index(drop=True)\n",
    "etiquettes.value_counts(dropna=False)"
   ]
  },
  {
   "cell_type": "code",
   "execution_count": null,
   "metadata": {
    "collapsed": true
   },
   "outputs": [],
   "source": []
  }
 ],
 "metadata": {
  "kernelspec": {
   "display_name": "Python 3",
   "language": "python",
   "name": "python3"
  },
  "language_info": {
   "codemirror_mode": {
    "name": "ipython",
    "version": 3
   },
   "file_extension": ".py",
   "mimetype": "text/x-python",
   "name": "python",
   "nbconvert_exporter": "python",
   "pygments_lexer": "ipython3",
   "version": "3.6.2"
  }
 },
 "nbformat": 4,
 "nbformat_minor": 1
}
