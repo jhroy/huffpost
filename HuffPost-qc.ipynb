{
 "cells": [
  {
   "cell_type": "markdown",
   "metadata": {},
   "source": [
    "<tr>\n",
    "<td>\n",
    "<img src=\"https://upload.wikimedia.org/wikipedia/commons/thumb/5/5a/HuffPost.svg/320px-HuffPost.svg.png\">\n",
    "</td>\n",
    "<td>\n",
    "<img src=\"https://upload.wikimedia.org/wikipedia/commons/thumb/5/5f/Flag_of_Quebec.svg/320px-Flag_of_Quebec.svg.png\">\n",
    "</table>"
   ]
  },
  {
   "cell_type": "markdown",
   "metadata": {},
   "source": [
    "# Analyse des sources de l'édition québécoise du *Huff Post* (2012-2016) en 6 étapes faciles\n",
    "<hr>"
   ]
  },
  {
   "cell_type": "markdown",
   "metadata": {},
   "source": [
    "<h3 style=\"background:teal;color:white;padding:5px\">Étape 1 - Initialisation de notre <i>notebook</i> et lecture du fichier CSV contenant nos données</h3>"
   ]
  },
  {
   "cell_type": "code",
   "execution_count": 1,
   "metadata": {
    "collapsed": true
   },
   "outputs": [],
   "source": [
    "import csv, re, random\n",
    "import pandas as pd\n",
    "import numpy as np\n",
    "import matplotlib as mpl\n",
    "import matplotlib.pyplot as plt\n",
    "from scipy import stats, integrate\n",
    "pd.set_option('display.max_colwidth', -1)\n",
    "pd.options.display.max_rows = 25\n",
    "pd.options.mode.chained_assignment = None\n",
    "%matplotlib inline"
   ]
  },
  {
   "cell_type": "markdown",
   "metadata": {},
   "source": [
    "On lit notre fichier CSV de base, puis on crée une variable `edition` pour identifier le pays sur lequel on va travailler. La variable `huff` ne contient que les articles de l'édition du pays auquel on s'intéresse ici."
   ]
  },
  {
   "cell_type": "code",
   "execution_count": 2,
   "metadata": {},
   "outputs": [
    {
     "data": {
      "text/plain": [
       "(390231, 13)"
      ]
     },
     "execution_count": 2,
     "metadata": {},
     "output_type": "execute_result"
    }
   ],
   "source": [
    "huff = pd.read_csv(\"scraping-nettoye.csv\", low_memory=False)\n",
    "edition = \"Québec\"\n",
    "huff = huff[huff.pays == edition]\n",
    "huff.shape"
   ]
  },
  {
   "cell_type": "markdown",
   "metadata": {},
   "source": [
    "Le but de cet exercice étant d'identifier le taux d'originalité du *HuffPost*, on va créer trois variables.\n",
    "\n",
    "- `HP_oui` contiendra la proportion d'articles qui sont originaux (signés par des employés du *HuffPost* ou des pigistes).\n",
    "- `HP_non` contiendra la proportion d'articles qui ne sont pas originaux (repris d'agences externes ou d'autres médias).\n",
    "- `HP_inconnu` contiendra la proportion d'articles dont on ne peut pas établir la provenance.\n",
    "\n",
    "La somme de ces trois variables équivaudra à 100. On s'en servira pour faire un graphique en pointes de tarte (camembert) à la fin."
   ]
  },
  {
   "cell_type": "code",
   "execution_count": 3,
   "metadata": {
    "collapsed": true
   },
   "outputs": [],
   "source": [
    "HP_oui = 0\n",
    "HP_non = 0\n",
    "HP_inconnu = 0"
   ]
  },
  {
   "cell_type": "markdown",
   "metadata": {},
   "source": [
    "<h3 style=\"background:teal;color:white;padding:5px\">Étape 2 - Filtrer les balises <i>meta</i></h3>"
   ]
  },
  {
   "cell_type": "markdown",
   "metadata": {},
   "source": [
    "<hr>\n",
    "Ce ne sont pas tous les articles de cette édition du *Huff Post* qui ont, pour nom dans leurs balises `meta`, l'une ou l'autre des éditions du *Huffington Post*, ou de sa compagnie-mère, AOL"
   ]
  },
  {
   "cell_type": "code",
   "execution_count": 4,
   "metadata": {
    "scrolled": true
   },
   "outputs": [
    {
     "data": {
      "text/plain": [
       "Le Huffington Post           390214\n",
       "The Huffington Post          5     \n",
       "Huffington Post India        3     \n",
       "허핑턴포스트                       2     \n",
       "L'Huffington Post            2     \n",
       "ハフィントンポスト                    2     \n",
       "Huffington Post Australia    1     \n",
       "El Huffington Post           1     \n",
       "Al Huffington Post           1     \n",
       "Name: meta, dtype: int64"
      ]
     },
     "execution_count": 4,
     "metadata": {},
     "output_type": "execute_result"
    }
   ],
   "source": [
    "huff.meta.value_counts()"
   ]
  },
  {
   "cell_type": "markdown",
   "metadata": {},
   "source": [
    "Créons un sous-ensemble avec les articles qui, selon la balise `meta`, semblent issus du *HP*."
   ]
  },
  {
   "cell_type": "code",
   "execution_count": 5,
   "metadata": {},
   "outputs": [
    {
     "data": {
      "text/plain": [
       "Le Huffington Post           390214\n",
       "The Huffington Post          5     \n",
       "Huffington Post India        3     \n",
       "허핑턴포스트                       2     \n",
       "L'Huffington Post            2     \n",
       "ハフィントンポスト                    2     \n",
       "Huffington Post Australia    1     \n",
       "El Huffington Post           1     \n",
       "Al Huffington Post           1     \n",
       "Name: meta, dtype: int64"
      ]
     },
     "execution_count": 5,
     "metadata": {},
     "output_type": "execute_result"
    }
   ],
   "source": [
    "metaHP = huff.meta.str.contains(\"[H,Η,h][U,u][F,f][i,F,f,P,p]|ハフ|ポスト|허핑턴|허프|[A,a][O,o][L,l]\", na=False)\n",
    "huff[metaHP].meta.value_counts()"
   ]
  },
  {
   "cell_type": "code",
   "execution_count": 6,
   "metadata": {},
   "outputs": [
    {
     "data": {
      "text/plain": [
       "(390231, 13)"
      ]
     },
     "execution_count": 6,
     "metadata": {},
     "output_type": "execute_result"
    }
   ],
   "source": [
    "huff[metaHP].shape"
   ]
  },
  {
   "cell_type": "code",
   "execution_count": 7,
   "metadata": {},
   "outputs": [
    {
     "data": {
      "text/plain": [
       "0"
      ]
     },
     "execution_count": 7,
     "metadata": {},
     "output_type": "execute_result"
    }
   ],
   "source": [
    "len(huff) - len(huff[metaHP])"
   ]
  },
  {
   "cell_type": "markdown",
   "metadata": {},
   "source": [
    "Le calcul ci-haut nous indique que la balise `meta` des articles du *HuffPost&nbsp;Québec* donne à penser qu'ils ont **tous** été rédigés par l'équipe maison.\n",
    "<hr>\n",
    "Examinons-les quand même de plus près en regardant qui sont les signataires de ces articles. Les signataires se trouvent dans la colonne `byline`. Voyons voir, donc, ce qu'elle contient."
   ]
  },
  {
   "cell_type": "markdown",
   "metadata": {},
   "source": [
    "<h3 style=\"background:teal;color:white;padding:5px\">Étape 3 - Identification des articles dont les signataires sont inconnus</h3>"
   ]
  },
  {
   "cell_type": "code",
   "execution_count": 8,
   "metadata": {},
   "outputs": [
    {
     "data": {
      "text/plain": [
       "? AFPQC2                                                                76046\n",
       "Par AFP AFPQC                                                           68613\n",
       "? RCQC                                                                  39991\n",
       "Par The Associated Press CP                                             36530\n",
       "Par La Presse Canadienne CP                                             25948\n",
       "Par Radio-Canada.ca RCQC                                                15058\n",
       "Par La Presse Canadienne PC                                             9810 \n",
       "? Le Huffington Post Québec                                             8897 \n",
       "Par Agence France-Presse AFPQC                                          8827 \n",
       "Par Relaxnews AFPRelQC                                                  8827 \n",
       "? Le HuffPost                                                           4187 \n",
       "Par Agence France Presse AFPQC                                          3505 \n",
       "                                                                        ...  \n",
       "Par Agence France-Presse Le HuffPost France avec AFP                    1    \n",
       "ParJulia Brucculieri The Huffington Post                                1    \n",
       "Par Agence France Presse - Joy POWELL avec Shahzad ABDUL AFPQC          1    \n",
       "Par Mohammed Abubakar, The Associated Press CP                          1    \n",
       "Par Mead Gruver, The Associated Press CP                                1    \n",
       "Par Cécile Fandos Le HuffPost                                           1    \n",
       "Par Morgan Lowrie et Vicky Fragasso-Marquis, La Presse canadienne PC    1    \n",
       "ParKathleen Miles Huffington Post                                       1    \n",
       "Par Christopher Bodeen, The Associated Press PC                         1    \n",
       "ParAnnabel Benhaiem Le Huffington Post                                  1    \n",
       "Par Aurore Hervé Houzz                                                  1    \n",
       "Par Julie Pace et Ian Deitch, The Associated Press CP                   1    \n",
       "Name: byline, Length: 9756, dtype: int64"
      ]
     },
     "execution_count": 8,
     "metadata": {},
     "output_type": "execute_result"
    }
   ],
   "source": [
    "huff[metaHP].byline.value_counts()"
   ]
  },
  {
   "cell_type": "markdown",
   "metadata": {},
   "source": [
    "Un certain nombre d'auteurs sont inconnus («&nbsp;?&nbsp;» ou «&nbsp;?&nbsp;?&nbsp;»).<br>\n",
    "Ceux marqués d'un seul point d'interrogation seront placés dans le sous-ensemble `inconnu1`, ceux qui sont marqués de deux points d'interrogation dans le sous-ensemble `inconnu2`.<br>\n",
    "Ils représentent à peine **0,4%** du total des articles de cette édition du *Huffington&nbsp;Post*.<br>\n",
    "Nous allons placer cette proportion dans notre variable `HP_inconnu`."
   ]
  },
  {
   "cell_type": "code",
   "execution_count": 9,
   "metadata": {},
   "outputs": [
    {
     "data": {
      "text/plain": [
       "(1439, 0.36875594199333217)"
      ]
     },
     "execution_count": 9,
     "metadata": {},
     "output_type": "execute_result"
    }
   ],
   "source": [
    "inconnus1 = huff[metaHP].byline == \"? \"\n",
    "inconnus2 = huff[metaHP].byline == \"? ?\"\n",
    "HP_inconnu = huff[metaHP][inconnus1].pays.count() + huff[metaHP][inconnus2].pays.count()\n",
    "HP_inconnu, (HP_inconnu/len(huff))*100"
   ]
  },
  {
   "cell_type": "markdown",
   "metadata": {},
   "source": [
    "<hr>\n",
    "<h3 style=\"background:teal;color:white;padding:5px\">Étape 4 - Identification des articles originaux au <i>HuffPost</i></h3>"
   ]
  },
  {
   "cell_type": "markdown",
   "metadata": {},
   "source": [
    "Examinons maintenant les articles dont la signature contient certaines chaînes de caractères qui correspondent au *Huffington Post* (dans différentes langues, fautes de frappe incluses), ou à sa compagnie-mère, AOL. On va baptiser ce sous-ensemble `signéHP`."
   ]
  },
  {
   "cell_type": "code",
   "execution_count": 10,
   "metadata": {
    "scrolled": true
   },
   "outputs": [
    {
     "data": {
      "text/plain": [
       "(42782, 13)"
      ]
     },
     "execution_count": 10,
     "metadata": {},
     "output_type": "execute_result"
    }
   ],
   "source": [
    "signeHP = huff[metaHP].byline.str.contains(\"[H,h][U,u,f][F,f][i,F,f,P,p]|ハフ|ポスト|허핑턴|허프|[A,a][O,o][L,l]\",na=False)\n",
    "huff[metaHP][signeHP].shape"
   ]
  },
  {
   "cell_type": "code",
   "execution_count": 11,
   "metadata": {},
   "outputs": [
    {
     "data": {
      "text/plain": [
       "(? Le Huffington Post Québec                                                 8897\n",
       " ? Le HuffPost                                                               4187\n",
       " Par Marie-Josée Roy Le Huffington Post Québec                               2280\n",
       " Par Ismaël Houdassine Le Huffington Post Québec                             790 \n",
       " Par Alexis Ferenczi Le HuffPost                                             726 \n",
       " ? The Huffington Post                                                       711 \n",
       " Par Mélissa Pelletier Le Huffington Post Québec                             706 \n",
       " ? The Huffington Post Canada                                                626 \n",
       " ? Le HuffPost/AFP                                                           583 \n",
       " ? Huffington Post Québec                                                    574 \n",
       " Par Jean-François Cyr Le Huffington Post Québec                             433 \n",
       " Par Samuel Larochelle Le Huffington Post Québec                             422 \n",
       "                                                                            ...  \n",
       " Par The Huffington Post Carly Ledbetter                                     1   \n",
       " Par Maude McConnell-Legault Huffington Post Québec                          1   \n",
       " Par Rebecca Klein The Huffington Post Canada                                1   \n",
       " Par Huffington Post Québec Buzzfeed                                         1   \n",
       " Par Le Huffington Post Québec avec le HuffPost Le Huffington Post Québec    1   \n",
       " Par Shannon Cuciz The Huffington Post Canada                                1   \n",
       " ? Huffington Post États-Unis                                                1   \n",
       " Par Nick Wing The Huffington Post                                           1   \n",
       " Par Lauren Leibowitz & Jessica Misener The Huffington Post                  1   \n",
       " Par Julie R. Thomson The Huffington Post Canada                             1   \n",
       " ParPhilippe Lepine Huffington Post Québec                                   1   \n",
       " Par Olivier Bourque et Ismaël Houdassine Le Huffington Post Québec          1   \n",
       " Name: byline, Length: 2982, dtype: int64, 2982)"
      ]
     },
     "execution_count": 11,
     "metadata": {},
     "output_type": "execute_result"
    }
   ],
   "source": [
    "huff[metaHP][signeHP].byline.value_counts(), huff[metaHP][signeHP].byline.value_counts().count()"
   ]
  },
  {
   "cell_type": "markdown",
   "metadata": {},
   "source": [
    "Le *Huffington Post* est nommé, d'une façon ou d'une autre, dans ces quelque **42&nbsp;782 articles** signés par **2&nbsp;982 signataires différents**.<br>\n",
    "Cela représente près de **11%** seulement de l'ensemble des articles publiés par l'édition québécoise du *HuffPost* dans la période étudiée.\n",
    "On peut placer cette proportion dans notre variable `HP_oui`."
   ]
  },
  {
   "cell_type": "code",
   "execution_count": 42,
   "metadata": {},
   "outputs": [
    {
     "data": {
      "text/plain": [
       "(42782, 10.963249972452214)"
      ]
     },
     "execution_count": 42,
     "metadata": {},
     "output_type": "execute_result"
    }
   ],
   "source": [
    "HP_oui = huff[metaHP][signeHP].pays.count()\n",
    "HP_oui, (HP_oui/len(huff))*100"
   ]
  },
  {
   "cell_type": "markdown",
   "metadata": {},
   "source": [
    "Par curiosité, isolons également ceux qui incluent des texte provenant de la Presse canadienne."
   ]
  },
  {
   "cell_type": "code",
   "execution_count": 24,
   "metadata": {},
   "outputs": [
    {
     "data": {
      "text/plain": [
       "(Par Paola Loriggio, La Presse Canadienne CP                                     41\n",
       " Par Paola Loriggio, La Presse Canadienne PC                                     15\n",
       " Par Le Huffington Post Québec avec PC PC                                        8 \n",
       " ? Le Huffington Post Québec avec PC                                             5 \n",
       " ? Le Huffington Post Québec avec La Presse Canadienne                           5 \n",
       " Par La Presse Canadienne et Le HuffPost PC                                      4 \n",
       " Par Le HuffPost et La Presse Canadienne PC                                      3 \n",
       " Par La Presse Canadienne avec Le Huffington Post Québec PC                      3 \n",
       " Par La Presse Canadienne Le Huffington Post Québec                              3 \n",
       " ParPatrick Bellerose Le Huffington Post Québec avec PC                          3 \n",
       " Par Paola Lorrigio, La Presse Canadienne PC                                     3 \n",
       " Par Le HuffPost avec La Presse Canadienne PC                                    3 \n",
       "                                                                                .. \n",
       " Par Alexandre Robillard, La Presse Canadienne PC avec le HuffPost Québec        1 \n",
       " Par Diana Mehta et Paola Loriggio, La Presse Canadienne CP                      1 \n",
       " Par Kate Brumback, The Associated Press PC/Avec Le Huffington Post Québec       1 \n",
       " Par Lia Lévesque, La Presse Canadienne Le HuffPost/PC                           1 \n",
       " Par Andy Blatchford et Paola Lorrigio, La Presse Canadienne CP                  1 \n",
       " Par La Presse Canadienne et le HuffPost PC                                      1 \n",
       " Par Diana Mehta, Paola Loriggio et Lee-Anne Goodman, La Presse Canadienne CP    1 \n",
       " ? HuffPost/PC                                                                   1 \n",
       " Par Paola Lorrigio, La Presse Canadienne CP                                     1 \n",
       " ? La PC /Le Huffpost                                                            1 \n",
       " Par Presse canadienne PC/Le Huff Post                                           1 \n",
       " Par La Presse Canadienne et Huff Post PC                                        1 \n",
       " Name: byline, Length: 111, dtype: int64, (207, 13))"
      ]
     },
     "execution_count": 24,
     "metadata": {},
     "output_type": "execute_result"
    }
   ],
   "source": [
    "pc1 = huff[metaHP][signeHP].byline.str.contains(\"[C,c]anadi[a,e]n|[P,p][C,c]\",na=False)\n",
    "huff[metaHP][signeHP][pc1].byline.value_counts(), huff[metaHP][signeHP][pc1].shape"
   ]
  },
  {
   "cell_type": "markdown",
   "metadata": {},
   "source": [
    "OK, il y en a 207."
   ]
  },
  {
   "cell_type": "markdown",
   "metadata": {},
   "source": [
    "<hr>\n",
    "<h3 style=\"background:teal;color:white;padding:5px\">Étape 5 - Identification des articles <u>extérieurs</u> au <i>HuffPost</i></h3>"
   ]
  },
  {
   "cell_type": "markdown",
   "metadata": {},
   "source": [
    "On va donc faire la même opération, mais pour tous les postes dans lesquels **on ne trouve pas** les chaînes de caractères permettant d'identifier le *Huffington&nbsp;Post* dans différentes langues. On va créer un nouveau sous-ensemble qu'on va baptiser `NONsignéHP`."
   ]
  },
  {
   "cell_type": "code",
   "execution_count": 13,
   "metadata": {
    "scrolled": true
   },
   "outputs": [
    {
     "data": {
      "text/plain": [
       "(347449, 13)"
      ]
     },
     "execution_count": 13,
     "metadata": {},
     "output_type": "execute_result"
    }
   ],
   "source": [
    "NONsigneHP = ~huff[metaHP].byline.str.contains(\"[H,h][U,u,f][F,f][i,F,f,P,p]|ハフ|ポスト|허핑턴|허프|[A,a][O,o][L,l]\",na=False)\n",
    "huff[metaHP][NONsigneHP].shape"
   ]
  },
  {
   "cell_type": "markdown",
   "metadata": {},
   "source": [
    "Qui sont ces auteurs qui ne signent pas des articles originaux pour le *HuffPost*?"
   ]
  },
  {
   "cell_type": "code",
   "execution_count": 14,
   "metadata": {},
   "outputs": [
    {
     "data": {
      "text/plain": [
       "(? AFPQC2                                                        76046\n",
       " Par AFP AFPQC                                                   68613\n",
       " ? RCQC                                                          39991\n",
       " Par The Associated Press CP                                     36530\n",
       " Par La Presse Canadienne CP                                     25948\n",
       " Par Radio-Canada.ca RCQC                                        15058\n",
       " Par La Presse Canadienne PC                                     9810 \n",
       " Par Agence France-Presse AFPQC                                  8827 \n",
       " Par Relaxnews AFPRelQC                                          8827 \n",
       " Par Agence France Presse AFPQC                                  3505 \n",
       " Par La Presse canadienne PC                                     2856 \n",
       " Par The Associated Press PC                                     1929 \n",
       "                                                                 ...  \n",
       " Par Raf Casert, The Associated Press PC                         1    \n",
       " Par Ariel Schalit et Josef Federman, The Associated Press CP    1    \n",
       " Par Jenna Fryer, La Presse Canadienne CP                        1    \n",
       " Par Bum Interactif                                              1    \n",
       " Par Jim Kuhnhenn et Matthew Daly CP                             1    \n",
       " Par Emily Wagster Pettus, The Associated Press CP               1    \n",
       " Par Stephen Wilson, La Presse canadienne PC                     1    \n",
       " Par Kathy Matheson, The Associated Press CP                     1    \n",
       " ? Mediafilms                                                    1    \n",
       " Par Terry McCormick, The Associated Press CP                    1    \n",
       " Par Philippe Régnoux La Strada Média                            1    \n",
       " Par Robert Burns, The Associated Press PC                       1    \n",
       " Name: byline, Length: 6774, dtype: int64, 6774)"
      ]
     },
     "execution_count": 14,
     "metadata": {},
     "output_type": "execute_result"
    }
   ],
   "source": [
    "huff[metaHP][NONsigneHP].byline.value_counts(), huff[metaHP][NONsigneHP].byline.value_counts().count() "
   ]
  },
  {
   "cell_type": "markdown",
   "metadata": {},
   "source": [
    "On constate que lorsqu'il y a un nom de journaliste suivi d'un point d'interrogation, c'est un auteur de l'équipe du *HuffPost Québec*. C'est le cas de [Patrick Bellerose](http://quebec.huffingtonpost.ca/author/patrick-bellerose/) et de [Catherine Lévesque](http://quebec.huffingtonpost.ca/author/catherine-levesque/), pour ne nommer que ceux-là.\n",
    "\n",
    "On va donc considérer que si la variable `byline` se termine par un point d'interrogation, il s'agira d'un auteur qui rédige des articles originaux pour le *HuffPost*.\n",
    "\n",
    "Isolons ces auteurs."
   ]
  },
  {
   "cell_type": "code",
   "execution_count": 15,
   "metadata": {
    "scrolled": true
   },
   "outputs": [
    {
     "data": {
      "text/plain": [
       "(Patrick Bellerose ?          842\n",
       " Catherine Lévesque ?         328\n",
       " ? ?                          236\n",
       " Daphnee Hacker-Bousquet ?    92 \n",
       " Myriam Lefebvre ?            79 \n",
       " Patrick White ?              29 \n",
       " Althia Raj ?                 23 \n",
       " Jean-Philippe Cipriani ?     11 \n",
       " Stanislas Kraland ?          10 \n",
       " Lauren Provost ?             9  \n",
       " Hadi Hassin ?                7  \n",
       " Christian Duperron ?         6  \n",
       "                             ..  \n",
       " Rebecca Shapiro ?            1  \n",
       " Dominique Mosbergen ?        1  \n",
       " Melissa Pelletier ?          1  \n",
       " Adrien Oster ?               1  \n",
       " Glenn Greenwald ?            1  \n",
       " Emeline Amétis ?             1  \n",
       " Peter S. Goodman ?           1  \n",
       " Caroline Frost ?             1  \n",
       " Myriam Francois-Cerrah ?     1  \n",
       " Mauro Leonardi ?             1  \n",
       " Marion Bérubé ?              1  \n",
       " Stanislas Wang Genh ?        1  \n",
       " Name: byline, Length: 54, dtype: int64, 1736)"
      ]
     },
     "execution_count": 15,
     "metadata": {},
     "output_type": "execute_result"
    }
   ],
   "source": [
    "auteur = huff[metaHP][NONsigneHP].byline.str.endswith(\" ?\")\n",
    "huff[metaHP][NONsigneHP][auteur].byline.value_counts(), huff[metaHP][NONsigneHP][auteur].byline.value_counts().sum()"
   ]
  },
  {
   "cell_type": "markdown",
   "metadata": {},
   "source": [
    "Ces auteurs ont donc signé **1&nbsp;500 articles** (1&nbsp;736 articles ci-dessus, auxquels il faut retrancher les 236 articles dont l'auteur est inconnu [«&nbsp;? ?&nbsp;»]).\n",
    "\n",
    "On peut les ajouter à notre variable `HP_oui`."
   ]
  },
  {
   "cell_type": "code",
   "execution_count": 16,
   "metadata": {},
   "outputs": [
    {
     "data": {
      "text/plain": [
       "(44282, 11.347637681270838)"
      ]
     },
     "execution_count": 16,
     "metadata": {},
     "output_type": "execute_result"
    }
   ],
   "source": [
    "HP_oui = huff[metaHP][signeHP].pays.count() + 1500\n",
    "HP_oui, (HP_oui/len(huff))*100"
   ]
  },
  {
   "cell_type": "markdown",
   "metadata": {},
   "source": [
    "Pour calculer le pourcentage des articles signés par des auteurs externes, il faut soustraire de notre sous-ensemble `NONsignéHP` les articles contenus dans les deux sous-ensembles `inconnu1` et `inconnu2`, et additionner les articles qu'on a identifié plus haut dont la balise `meta` ne pouvait pas être associée au *HuffPost*, puis retrancher tous les articles qu'on vient de ranger dans notre variable `HP_oui`."
   ]
  },
  {
   "cell_type": "code",
   "execution_count": 17,
   "metadata": {},
   "outputs": [
    {
     "data": {
      "text/plain": [
       "(344510, 88.283606376735833)"
      ]
     },
     "execution_count": 17,
     "metadata": {},
     "output_type": "execute_result"
    }
   ],
   "source": [
    "HP_non = huff[metaHP][NONsigneHP].pays.count() - (huff[metaHP][inconnus1].pays.count() + huff[metaHP][inconnus2].pays.count()) + (len(huff) - len(huff[metaHP])) - 1500\n",
    "HP_non, (HP_non/len(huff))*100"
   ]
  },
  {
   "cell_type": "markdown",
   "metadata": {},
   "source": [
    "On a désormais tout ce qu'il nous faut pour faire le camembert évoqué plus haut."
   ]
  },
  {
   "cell_type": "code",
   "execution_count": 18,
   "metadata": {},
   "outputs": [
    {
     "data": {
      "text/plain": [
       "<matplotlib.axes._subplots.AxesSubplot at 0x19fd8fcf8>"
      ]
     },
     "execution_count": 18,
     "metadata": {},
     "output_type": "execute_result"
    },
    {
     "data": {
      "image/png": "[encoded data removed]",
      "text/plain": [
       "<matplotlib.figure.Figure at 0x1a0c2d438>"
      ]
     },
     "metadata": {},
     "output_type": "display_data"
    }
   ],
   "source": [
    "camembert = pd.Series([HP_oui,HP_non,HP_inconnu], index=[\"Oui\",\"Non\",\"Inconnu\"],name=\"\")\n",
    "titre = plt.figure(facecolor=\"beige\")\n",
    "titre.suptitle(\"HuffPost Québec\", fontsize=24, fontweight=\"light\", fontname=\"Serif\")\n",
    "camembert.plot.pie(colors=[\"aqua\",\"coral\",\"lightgrey\"],\n",
    "                   wedgeprops={\"linewidth\":3,\"edgecolor\":\"white\"},\n",
    "                   textprops={\"weight\":\"bold\",\"fontsize\":14},\n",
    "                   counterclock=False,\n",
    "                   startangle=90,\n",
    "                   autopct=\"%1.1f%%\",\n",
    "                   figsize=(8,8)\n",
    ")"
   ]
  },
  {
   "cell_type": "markdown",
   "metadata": {},
   "source": [
    "Isolons ici aussi les articles écrits par la PC."
   ]
  },
  {
   "cell_type": "code",
   "execution_count": 25,
   "metadata": {},
   "outputs": [
    {
     "data": {
      "text/plain": [
       "(Par La Presse Canadienne CP                                                       25948\n",
       " Par La Presse Canadienne PC                                                       9810 \n",
       " Par La Presse canadienne PC                                                       2856 \n",
       " Par The Associated Press PC                                                       1929 \n",
       " Par Presse canadienne PC                                                          1150 \n",
       " Par Robert Laflamme, La Presse Canadienne CP                                      677  \n",
       " Par Malcolm Morrison, La Presse Canadienne CP                                     589  \n",
       " Par Lia Lévesque, La Presse Canadienne CP                                         490  \n",
       " Par Marc Tougas, La Presse Canadienne CP                                          458  \n",
       " Par Julien Arsenault, La Presse Canadienne CP                                     438  \n",
       " Par Pierre Saint-Arnaud, La Presse Canadienne CP                                  432  \n",
       " Par Ross Marowits, La Presse Canadienne CP                                        392  \n",
       "                                                                                  ...   \n",
       " Par Stacy A. Anderson, La Presse Canadienne PC                                    1    \n",
       " Par Nicole Winfield, Marco Sibaja et Jenny Barchfield, The Associated Press PC    1    \n",
       " Par David Dishneau et Pauline Jelinek, The Associated Press PC                    1    \n",
       " Par David Koenig et Yuri Kageyama, The Associated Press PC                        1    \n",
       " Par Louis Cloutier et Magdaline Boutros, La Presse Canadienne PC                  1    \n",
       " Par Martin Leblanc et Étienne Fortin-Gauthier, La Presse Canadienne CP            1    \n",
       " Par John Chidley-Hill PC                                                          1    \n",
       " Par Rob Maaddi, The Associated Press PC                                           1    \n",
       " Par Jocelyn Noveck et Michael Rubinkam, The Associated Press PC                   1    \n",
       " Par Elena Becatoros, La Presse Canadienne CP                                      1    \n",
       " Par Radio-Canada avec AFP, AP et Reuters RCQC                                     1    \n",
       " Par Jamie Ross, La Presse Canadienne CP                                           1    \n",
       " Name: byline, Length: 2164, dtype: int64, (63778, 13))"
      ]
     },
     "execution_count": 25,
     "metadata": {},
     "output_type": "execute_result"
    }
   ],
   "source": [
    "pc2 = huff[metaHP][NONsigneHP].byline.str.contains(\"[C,c]anadi[a,e]n|[P,p][C,c]\",na=False)\n",
    "huff[metaHP][NONsigneHP][pc2].byline.value_counts(), huff[metaHP][NONsigneHP][pc2].shape"
   ]
  },
  {
   "cell_type": "code",
   "execution_count": 28,
   "metadata": {},
   "outputs": [
    {
     "data": {
      "text/plain": [
       "(63985, 16.396698365839722)"
      ]
     },
     "execution_count": 28,
     "metadata": {},
     "output_type": "execute_result"
    }
   ],
   "source": [
    "207+63778,((207+63778)/390231)*100"
   ]
  },
  {
   "cell_type": "markdown",
   "metadata": {},
   "source": [
    "Il y a donc 63&nbsp;985 articles dans notre échantillon qui ont été rédigés par la Presse canadienne.<hr>"
   ]
  },
  {
   "cell_type": "markdown",
   "metadata": {},
   "source": [
    "Faisons maitenant une analyse par année."
   ]
  },
  {
   "cell_type": "code",
   "execution_count": 30,
   "metadata": {},
   "outputs": [
    {
     "data": {
      "text/plain": [
       "2012    104782\n",
       "2013    100558\n",
       "2014    125961\n",
       "2015    31367 \n",
       "2016    27563 \n",
       "Name: annee, dtype: int64"
      ]
     },
     "execution_count": 30,
     "metadata": {},
     "output_type": "execute_result"
    }
   ],
   "source": [
    "huff[metaHP].annee.value_counts(sort=False)"
   ]
  },
  {
   "cell_type": "markdown",
   "metadata": {},
   "source": [
    "<h4 style=\"background:navy;color:white;padding:5px\">2012</h4>"
   ]
  },
  {
   "cell_type": "code",
   "execution_count": 61,
   "metadata": {},
   "outputs": [
    {
     "data": {
      "text/plain": [
       "(836, 0.79784695844706144)"
      ]
     },
     "execution_count": 61,
     "metadata": {},
     "output_type": "execute_result"
    }
   ],
   "source": [
    "a2012 = huff[metaHP].annee == 2012\n",
    "huff[metaHP][a2012].byline.value_counts()\n",
    "inconnus1 = huff[metaHP][a2012].byline == \"? \"\n",
    "inconnus2 = huff[metaHP][a2012].byline == \"? ?\"\n",
    "HP_inconnu = huff[metaHP][a2012][inconnus1].pays.count() + huff[metaHP][a2012][inconnus2].pays.count()\n",
    "HP_inconnu, (HP_inconnu/len(huff[metaHP][a2012]))*100"
   ]
  },
  {
   "cell_type": "code",
   "execution_count": 62,
   "metadata": {},
   "outputs": [
    {
     "data": {
      "text/plain": [
       "(4264, 4.069401233036209)"
      ]
     },
     "execution_count": 62,
     "metadata": {},
     "output_type": "execute_result"
    }
   ],
   "source": [
    "signeHP = huff[metaHP][a2012].byline.str.contains(\"[H,h][U,u,f][F,f][i,F,f,P,p]|ハフ|ポスト|허핑턴|허프|[A,a][O,o][L,l]\",na=False)\n",
    "NONsigneHP = ~huff[metaHP][a2012].byline.str.contains(\"[H,h][U,u,f][F,f][i,F,f,P,p]|ハフ|ポスト|허핑턴|허프|[A,a][O,o][L,l]\",na=False)\n",
    "auteur = huff[metaHP][a2012][NONsigneHP].byline.str.endswith(\" ?\")\n",
    "HP_oui = huff[metaHP][a2012][signeHP].pays.count() + huff[metaHP][a2012][NONsigneHP][auteur].byline.value_counts().sum()\n",
    "HP_oui, (HP_oui/len(huff[metaHP][a2012]))*100"
   ]
  },
  {
   "cell_type": "code",
   "execution_count": 63,
   "metadata": {},
   "outputs": [
    {
     "data": {
      "text/plain": [
       "(99682, 95.13275180851673)"
      ]
     },
     "execution_count": 63,
     "metadata": {},
     "output_type": "execute_result"
    }
   ],
   "source": [
    "HP_non = huff[metaHP][a2012][NONsigneHP].pays.count() - (huff[metaHP][a2012][inconnus1].pays.count() + huff[metaHP][a2012][inconnus2].pays.count()) - huff[metaHP][a2012][NONsigneHP][auteur].byline.value_counts().sum()\n",
    "HP_non, (HP_non/len(huff[metaHP][a2012]))*100"
   ]
  },
  {
   "cell_type": "code",
   "execution_count": 64,
   "metadata": {},
   "outputs": [
    {
     "data": {
      "text/plain": [
       "<matplotlib.axes._subplots.AxesSubplot at 0x111123b70>"
      ]
     },
     "execution_count": 64,
     "metadata": {},
     "output_type": "execute_result"
    },
    {
     "data": {
      "image/png": "[encoded data removed]",
      "text/plain": [
       "<matplotlib.figure.Figure at 0x1a0c2d1d0>"
      ]
     },
     "metadata": {},
     "output_type": "display_data"
    }
   ],
   "source": [
    "camembert = pd.Series([HP_oui,HP_non,HP_inconnu], index=[\"Oui\",\"Non\",\"Inconnu\"],name=\"\")\n",
    "titre = plt.figure(facecolor=\"beige\")\n",
    "titre.suptitle(\"HuffPost Québec (2012)\", fontsize=20, fontweight=\"light\", fontname=\"Serif\")\n",
    "camembert.plot.pie(colors=[\"aqua\",\"coral\",\"lightgrey\"],\n",
    "                   wedgeprops={\"linewidth\":3,\"edgecolor\":\"white\"},\n",
    "                   textprops={\"weight\":\"bold\",\"fontsize\":12},\n",
    "                   counterclock=False,\n",
    "                   startangle=90,\n",
    "                   autopct=\"%1.1f%%\",\n",
    "                   figsize=(6,6)\n",
    ")"
   ]
  },
  {
   "cell_type": "markdown",
   "metadata": {},
   "source": [
    "<h4 style=\"background:navy;color:white;padding:5px\">2013</h4>"
   ]
  },
  {
   "cell_type": "code",
   "execution_count": 65,
   "metadata": {},
   "outputs": [
    {
     "data": {
      "text/plain": [
       "(257, 0.25557389765110683)"
      ]
     },
     "execution_count": 65,
     "metadata": {},
     "output_type": "execute_result"
    }
   ],
   "source": [
    "a2013 = huff[metaHP].annee == 2013\n",
    "huff[metaHP][a2013].byline.value_counts()\n",
    "inconnus1 = huff[metaHP][a2013].byline == \"? \"\n",
    "inconnus2 = huff[metaHP][a2013].byline == \"? ?\"\n",
    "HP_inconnu = huff[metaHP][a2013][inconnus1].pays.count() + huff[metaHP][a2013][inconnus2].pays.count()\n",
    "HP_inconnu, (HP_inconnu/len(huff[metaHP][a2013]))*100"
   ]
  },
  {
   "cell_type": "code",
   "execution_count": 66,
   "metadata": {},
   "outputs": [
    {
     "data": {
      "text/plain": [
       "(7212, 7.1719803496489583)"
      ]
     },
     "execution_count": 66,
     "metadata": {},
     "output_type": "execute_result"
    }
   ],
   "source": [
    "signeHP = huff[metaHP][a2013].byline.str.contains(\"[H,h][U,u,f][F,f][i,F,f,P,p]|ハフ|ポスト|허핑턴|허프|[A,a][O,o][L,l]\",na=False)\n",
    "NONsigneHP = ~huff[metaHP][a2013].byline.str.contains(\"[H,h][U,u,f][F,f][i,F,f,P,p]|ハフ|ポスト|허핑턴|허프|[A,a][O,o][L,l]\",na=False)\n",
    "auteur = huff[metaHP][a2013][NONsigneHP].byline.str.endswith(\" ?\")\n",
    "HP_oui = huff[metaHP][a2013][signeHP].pays.count() + huff[metaHP][a2013][NONsigneHP][auteur].byline.value_counts().sum()\n",
    "HP_oui, (HP_oui/len(huff[metaHP][a2013]))*100"
   ]
  },
  {
   "cell_type": "code",
   "execution_count": 67,
   "metadata": {},
   "outputs": [
    {
     "data": {
      "text/plain": [
       "(93089, 92.572445752699934)"
      ]
     },
     "execution_count": 67,
     "metadata": {},
     "output_type": "execute_result"
    }
   ],
   "source": [
    "HP_non = huff[metaHP][a2013][NONsigneHP].pays.count() - (huff[metaHP][a2013][inconnus1].pays.count() + huff[metaHP][a2013][inconnus2].pays.count()) - huff[metaHP][a2013][NONsigneHP][auteur].byline.value_counts().sum()\n",
    "HP_non, (HP_non/len(huff[metaHP][a2013]))*100"
   ]
  },
  {
   "cell_type": "code",
   "execution_count": 68,
   "metadata": {},
   "outputs": [
    {
     "data": {
      "text/plain": [
       "<matplotlib.axes._subplots.AxesSubplot at 0x11a8db6d8>"
      ]
     },
     "execution_count": 68,
     "metadata": {},
     "output_type": "execute_result"
    },
    {
     "data": {
      "image/png": "[encoded data removed]",
      "text/plain": [
       "<matplotlib.figure.Figure at 0x1111232e8>"
      ]
     },
     "metadata": {},
     "output_type": "display_data"
    }
   ],
   "source": [
    "camembert = pd.Series([HP_oui,HP_non,HP_inconnu], index=[\"Oui\",\"Non\",\"Inconnu\"],name=\"\")\n",
    "titre = plt.figure(facecolor=\"beige\")\n",
    "titre.suptitle(\"HuffPost Québec (2013)\", fontsize=20, fontweight=\"light\", fontname=\"Serif\")\n",
    "camembert.plot.pie(colors=[\"aqua\",\"coral\",\"lightgrey\"],\n",
    "                   wedgeprops={\"linewidth\":3,\"edgecolor\":\"white\"},\n",
    "                   textprops={\"weight\":\"bold\",\"fontsize\":12},\n",
    "                   counterclock=False,\n",
    "                   startangle=90,\n",
    "                   autopct=\"%1.1f%%\",\n",
    "                   figsize=(6,6)\n",
    ")"
   ]
  },
  {
   "cell_type": "markdown",
   "metadata": {},
   "source": [
    "<h4 style=\"background:navy;color:white;padding:5px\">2014</h4>"
   ]
  },
  {
   "cell_type": "code",
   "execution_count": 69,
   "metadata": {},
   "outputs": [
    {
     "data": {
      "text/plain": [
       "(87, 0.069068997546859745)"
      ]
     },
     "execution_count": 69,
     "metadata": {},
     "output_type": "execute_result"
    }
   ],
   "source": [
    "a2014 = huff[metaHP].annee == 2014\n",
    "huff[metaHP][a2014].byline.value_counts()\n",
    "inconnus1 = huff[metaHP][a2014].byline == \"? \"\n",
    "inconnus2 = huff[metaHP][a2014].byline == \"? ?\"\n",
    "HP_inconnu = huff[metaHP][a2014][inconnus1].pays.count() + huff[metaHP][a2014][inconnus2].pays.count()\n",
    "HP_inconnu, (HP_inconnu/len(huff[metaHP][a2014]))*100"
   ]
  },
  {
   "cell_type": "code",
   "execution_count": 70,
   "metadata": {},
   "outputs": [
    {
     "data": {
      "text/plain": [
       "(8711, 6.9156326164447721)"
      ]
     },
     "execution_count": 70,
     "metadata": {},
     "output_type": "execute_result"
    }
   ],
   "source": [
    "signeHP = huff[metaHP][a2014].byline.str.contains(\"[H,h][U,u,f][F,f][i,F,f,P,p]|ハフ|ポスト|허핑턴|허프|[A,a][O,o][L,l]\",na=False)\n",
    "NONsigneHP = ~huff[metaHP][a2014].byline.str.contains(\"[H,h][U,u,f][F,f][i,F,f,P,p]|ハフ|ポスト|허핑턴|허프|[A,a][O,o][L,l]\",na=False)\n",
    "auteur = huff[metaHP][a2014][NONsigneHP].byline.str.endswith(\" ?\")\n",
    "HP_oui = huff[metaHP][a2014][signeHP].pays.count() + huff[metaHP][a2014][NONsigneHP][auteur].byline.value_counts().sum()\n",
    "HP_oui, (HP_oui/len(huff[metaHP][a2014]))*100"
   ]
  },
  {
   "cell_type": "code",
   "execution_count": 71,
   "metadata": {},
   "outputs": [
    {
     "data": {
      "text/plain": [
       "(117163, 93.015298386008368)"
      ]
     },
     "execution_count": 71,
     "metadata": {},
     "output_type": "execute_result"
    }
   ],
   "source": [
    "HP_non = huff[metaHP][a2014][NONsigneHP].pays.count() - (huff[metaHP][a2014][inconnus1].pays.count() + huff[metaHP][a2014][inconnus2].pays.count()) - huff[metaHP][a2014][NONsigneHP][auteur].byline.value_counts().sum()\n",
    "HP_non, (HP_non/len(huff[metaHP][a2014]))*100"
   ]
  },
  {
   "cell_type": "code",
   "execution_count": 72,
   "metadata": {},
   "outputs": [
    {
     "data": {
      "text/plain": [
       "<matplotlib.axes._subplots.AxesSubplot at 0x119dcad68>"
      ]
     },
     "execution_count": 72,
     "metadata": {},
     "output_type": "execute_result"
    },
    {
     "data": {
      "image/png": "[encoded data removed]",
      "text/plain": [
       "<matplotlib.figure.Figure at 0x11caa4240>"
      ]
     },
     "metadata": {},
     "output_type": "display_data"
    }
   ],
   "source": [
    "camembert = pd.Series([HP_oui,HP_non,HP_inconnu], index=[\"Oui\",\"Non\",\"Inconnu\"],name=\"\")\n",
    "titre = plt.figure(facecolor=\"beige\")\n",
    "titre.suptitle(\"HuffPost Québec (2014)\", fontsize=20, fontweight=\"light\", fontname=\"Serif\")\n",
    "camembert.plot.pie(colors=[\"aqua\",\"coral\",\"lightgrey\"],\n",
    "                   wedgeprops={\"linewidth\":3,\"edgecolor\":\"white\"},\n",
    "                   textprops={\"weight\":\"bold\",\"fontsize\":12},\n",
    "                   counterclock=False,\n",
    "                   startangle=90,\n",
    "                   autopct=\"%1.1f%%\",\n",
    "                   figsize=(6,6)\n",
    ")"
   ]
  },
  {
   "cell_type": "markdown",
   "metadata": {},
   "source": [
    "<h4 style=\"background:navy;color:white;padding:5px\">2015</h4>"
   ]
  },
  {
   "cell_type": "code",
   "execution_count": 73,
   "metadata": {},
   "outputs": [
    {
     "data": {
      "text/plain": [
       "(111, 0.35387509165683678)"
      ]
     },
     "execution_count": 73,
     "metadata": {},
     "output_type": "execute_result"
    }
   ],
   "source": [
    "a2015 = huff[metaHP].annee == 2015\n",
    "huff[metaHP][a2015].byline.value_counts()\n",
    "inconnus1 = huff[metaHP][a2015].byline == \"? \"\n",
    "inconnus2 = huff[metaHP][a2015].byline == \"? ?\"\n",
    "HP_inconnu = huff[metaHP][a2015][inconnus1].pays.count() + huff[metaHP][a2015][inconnus2].pays.count()\n",
    "HP_inconnu, (HP_inconnu/len(huff[metaHP][a2015]))*100"
   ]
  },
  {
   "cell_type": "code",
   "execution_count": 74,
   "metadata": {},
   "outputs": [
    {
     "data": {
      "text/plain": [
       "(11872, 37.848694487837534)"
      ]
     },
     "execution_count": 74,
     "metadata": {},
     "output_type": "execute_result"
    }
   ],
   "source": [
    "signeHP = huff[metaHP][a2015].byline.str.contains(\"[H,h][U,u,f][F,f][i,F,f,P,p]|ハフ|ポスト|허핑턴|허프|[A,a][O,o][L,l]\",na=False)\n",
    "NONsigneHP = ~huff[metaHP][a2015].byline.str.contains(\"[H,h][U,u,f][F,f][i,F,f,P,p]|ハフ|ポスト|허핑턴|허프|[A,a][O,o][L,l]\",na=False)\n",
    "auteur = huff[metaHP][a2015][NONsigneHP].byline.str.endswith(\" ?\")\n",
    "HP_oui = huff[metaHP][a2015][signeHP].pays.count() + huff[metaHP][a2015][NONsigneHP][auteur].byline.value_counts().sum()\n",
    "HP_oui, (HP_oui/len(huff[metaHP][a2015]))*100"
   ]
  },
  {
   "cell_type": "code",
   "execution_count": 75,
   "metadata": {},
   "outputs": [
    {
     "data": {
      "text/plain": [
       "(19384, 61.797430420505627)"
      ]
     },
     "execution_count": 75,
     "metadata": {},
     "output_type": "execute_result"
    }
   ],
   "source": [
    "HP_non = huff[metaHP][a2015][NONsigneHP].pays.count() - (huff[metaHP][a2015][inconnus1].pays.count() + huff[metaHP][a2015][inconnus2].pays.count()) - huff[metaHP][a2015][NONsigneHP][auteur].byline.value_counts().sum()\n",
    "HP_non, (HP_non/len(huff[metaHP][a2015]))*100"
   ]
  },
  {
   "cell_type": "code",
   "execution_count": 76,
   "metadata": {
    "scrolled": false
   },
   "outputs": [
    {
     "data": {
      "text/plain": [
       "<matplotlib.axes._subplots.AxesSubplot at 0x19a373320>"
      ]
     },
     "execution_count": 76,
     "metadata": {},
     "output_type": "execute_result"
    },
    {
     "data": {
      "image/png": "[encoded data removed]",
      "text/plain": [
       "<matplotlib.figure.Figure at 0x13f5d2048>"
      ]
     },
     "metadata": {},
     "output_type": "display_data"
    }
   ],
   "source": [
    "camembert = pd.Series([HP_oui,HP_non,HP_inconnu], index=[\"Oui\",\"Non\",\"Inconnu\"],name=\"\")\n",
    "titre = plt.figure(facecolor=\"beige\")\n",
    "titre.suptitle(\"HuffPost Québec (2015)\", fontsize=20, fontweight=\"light\", fontname=\"Serif\")\n",
    "camembert.plot.pie(colors=[\"aqua\",\"coral\",\"lightgrey\"],\n",
    "                   wedgeprops={\"linewidth\":3,\"edgecolor\":\"white\"},\n",
    "                   textprops={\"weight\":\"bold\",\"fontsize\":12},\n",
    "                   counterclock=False,\n",
    "                   startangle=90,\n",
    "                   autopct=\"%1.1f%%\",\n",
    "                   figsize=(6,6)\n",
    ")"
   ]
  },
  {
   "cell_type": "markdown",
   "metadata": {},
   "source": [
    "<h4 style=\"background:navy;color:white;padding:5px\">2016</h4>"
   ]
  },
  {
   "cell_type": "code",
   "execution_count": 77,
   "metadata": {},
   "outputs": [
    {
     "data": {
      "text/plain": [
       "(148, 0.47183345554244904)"
      ]
     },
     "execution_count": 77,
     "metadata": {},
     "output_type": "execute_result"
    }
   ],
   "source": [
    "a2016 = huff[metaHP].annee == 2016\n",
    "huff[metaHP][a2016].byline.value_counts()\n",
    "inconnus1 = huff[metaHP][a2016].byline == \"? \"\n",
    "inconnus2 = huff[metaHP][a2016].byline == \"? ?\"\n",
    "HP_inconnu = huff[metaHP][a2016][inconnus1].pays.count() + huff[metaHP][a2016][inconnus2].pays.count()\n",
    "HP_inconnu, (HP_inconnu/len(huff[metaHP][a2015]))*100"
   ]
  },
  {
   "cell_type": "code",
   "execution_count": 78,
   "metadata": {},
   "outputs": [
    {
     "data": {
      "text/plain": [
       "(12459, 45.201901099299782)"
      ]
     },
     "execution_count": 78,
     "metadata": {},
     "output_type": "execute_result"
    }
   ],
   "source": [
    "signeHP = huff[metaHP][a2016].byline.str.contains(\"[H,h][U,u,f][F,f][i,F,f,P,p]|ハフ|ポスト|허핑턴|허프|[A,a][O,o][L,l]\",na=False)\n",
    "NONsigneHP = ~huff[metaHP][a2016].byline.str.contains(\"[H,h][U,u,f][F,f][i,F,f,P,p]|ハフ|ポスト|허핑턴|허프|[A,a][O,o][L,l]\",na=False)\n",
    "auteur = huff[metaHP][a2016][NONsigneHP].byline.str.endswith(\" ?\")\n",
    "HP_oui = huff[metaHP][a2016][signeHP].pays.count() + huff[metaHP][a2016][NONsigneHP][auteur].byline.value_counts().sum()\n",
    "HP_oui, (HP_oui/len(huff[metaHP][a2016]))*100"
   ]
  },
  {
   "cell_type": "code",
   "execution_count": 79,
   "metadata": {},
   "outputs": [
    {
     "data": {
      "text/plain": [
       "(14956, 54.261147190073643)"
      ]
     },
     "execution_count": 79,
     "metadata": {},
     "output_type": "execute_result"
    }
   ],
   "source": [
    "HP_non = huff[metaHP][a2016][NONsigneHP].pays.count() - (huff[metaHP][a2016][inconnus1].pays.count() + huff[metaHP][a2016][inconnus2].pays.count()) - huff[metaHP][a2016][NONsigneHP][auteur].byline.value_counts().sum()\n",
    "HP_non, (HP_non/len(huff[metaHP][a2016]))*100"
   ]
  },
  {
   "cell_type": "code",
   "execution_count": 80,
   "metadata": {},
   "outputs": [
    {
     "data": {
      "text/plain": [
       "<matplotlib.axes._subplots.AxesSubplot at 0x1234f5358>"
      ]
     },
     "execution_count": 80,
     "metadata": {},
     "output_type": "execute_result"
    },
    {
     "data": {
      "image/png": "[encoded data removed]",
      "text/plain": [
       "<matplotlib.figure.Figure at 0x11ce23cc0>"
      ]
     },
     "metadata": {},
     "output_type": "display_data"
    }
   ],
   "source": [
    "camembert = pd.Series([HP_oui,HP_non,HP_inconnu], index=[\"Oui\",\"Non\",\"Inconnu\"],name=\"\")\n",
    "titre = plt.figure(facecolor=\"beige\")\n",
    "titre.suptitle(\"HuffPost Québec (2016)\", fontsize=20, fontweight=\"light\", fontname=\"Serif\")\n",
    "camembert.plot.pie(colors=[\"aqua\",\"coral\",\"lightgrey\"],\n",
    "                   wedgeprops={\"linewidth\":3,\"edgecolor\":\"white\"},\n",
    "                   textprops={\"weight\":\"bold\",\"fontsize\":12},\n",
    "                   counterclock=False,\n",
    "                   startangle=90,\n",
    "                   autopct=\"%1.1f%%\",\n",
    "                   figsize=(6,6)\n",
    ")"
   ]
  },
  {
   "cell_type": "markdown",
   "metadata": {},
   "source": [
    "<hr>\n",
    "<h3 style=\"background:teal;color:white;padding:5px\">Étape 6 - Exercice boni&nbsp;: les étiquettes (<i>tags</i>)</h3>"
   ]
  },
  {
   "cell_type": "markdown",
   "metadata": {},
   "source": [
    "Chaque article du *Huffington Post* est généralement accompagné d'une dizaine de marqueurs, ou d'étiquettes (*tags* en anglais). Voici ceux qui sont le plus fréquemment utilisés par cette édition.\n",
    "\n",
    "Le *HuffPost Québec* inclut généralement dans ses étiquettes les sources des articles, mais pas toujours, car si on additionne les étiquettes **pc** (Presse canadienne), **afp** (Agence France-Presse) et **rc** (Radio-Canada), on arrive à 55% de sources externes, alors qu'en examinant les signataires des articles, on arrive à un proportion bien supérieure, le 88% qu'on a calculé ci-dessus."
   ]
  },
  {
   "cell_type": "code",
   "execution_count": 19,
   "metadata": {},
   "outputs": [
    {
     "data": {
      "text/plain": [
       "pc                             103627\n",
       "afp                            79514 \n",
       "hp                             77723 \n",
       "rc                             31306 \n",
       "divertissement                 23512 \n",
       "Québec International           16831 \n",
       "politique                      16225 \n",
       "québec vidéo                   9406  \n",
       "insolite                       7087  \n",
       "video                          6212  \n",
       "Québec Sports                  5948  \n",
       "faits divers                   5711  \n",
       "                               ...   \n",
       "motion suspension sénateurs    1     \n",
       "deux canadiennes décédées      1     \n",
       "incendie argent                1     \n",
       "recherche Passe-Partout        1     \n",
       "corps jennifer aniston         1     \n",
       "sociétés d'État salaires       1     \n",
       "élection bolivie               1     \n",
       "vente de feu                   1     \n",
       "conseils minceur Heidi Klum    1     \n",
       "python restaurant              1     \n",
       "vedettes avec enfants          1     \n",
       "entrevue Laurence Jalbert      1     \n",
       "Length: 345737, dtype: int64"
      ]
     },
     "execution_count": 19,
     "metadata": {},
     "output_type": "execute_result"
    }
   ],
   "source": [
    "etiquettes = huff.set_index('pays').tags.str.split(',', expand=True).stack().rename(columns={0:'tag'}).reset_index(drop=True)\n",
    "etiquettes.value_counts(dropna=False)"
   ]
  }
 ],
 "metadata": {
  "kernelspec": {
   "display_name": "Python 3",
   "language": "python",
   "name": "python3"
  },
  "language_info": {
   "codemirror_mode": {
    "name": "ipython",
    "version": 3
   },
   "file_extension": ".py",
   "mimetype": "text/x-python",
   "name": "python",
   "nbconvert_exporter": "python",
   "pygments_lexer": "ipython3",
   "version": "3.6.2"
  }
 },
 "nbformat": 4,
 "nbformat_minor": 1
}
