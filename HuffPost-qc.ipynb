{
 "cells": [
  {
   "cell_type": "markdown",
   "metadata": {},
   "source": [
    "<tr>\n",
    "<td>\n",
    "<img src=\"https://upload.wikimedia.org/wikipedia/commons/thumb/5/5a/HuffPost.svg/320px-HuffPost.svg.png\">\n",
    "</td>\n",
    "<td>\n",
    "<img src=\"https://upload.wikimedia.org/wikipedia/commons/thumb/5/5f/Flag_of_Quebec.svg/320px-Flag_of_Quebec.svg.png\">\n",
    "</td>\n"
   ]
  },
  {
   "cell_type": "markdown",
   "metadata": {},
   "source": [
    "# Analyse des sources de l'édition québécoise du *Huff Post* (2012-2016) en 6 étapes faciles\n",
    "<hr>"
   ]
  },
  {
   "cell_type": "markdown",
   "metadata": {},
   "source": [
    "<h3 style=\"background:teal;color:white;padding:5px\">Étape 1 - Initialisation de notre <i>notebook</i> et lecture du fichier CSV contenant nos données</h3>"
   ]
  },
  {
   "cell_type": "code",
   "execution_count": 1,
   "metadata": {
    "collapsed": true
   },
   "outputs": [],
   "source": [
    "import csv, re, random\n",
    "import pandas as pd\n",
    "import numpy as np\n",
    "import matplotlib as mpl\n",
    "import matplotlib.pyplot as plt\n",
    "from scipy import stats, integrate\n",
    "pd.set_option('display.max_colwidth', -1)\n",
    "pd.options.display.max_rows = 25\n",
    "pd.options.mode.chained_assignment = None\n",
    "%matplotlib inline"
   ]
  },
  {
   "cell_type": "markdown",
   "metadata": {},
   "source": [
    "On lit notre fichier CSV de base, puis on crée une variable `edition` pour identifier le pays sur lequel on va travailler. La variable `huff` ne contient que les articles de l'édition du pays auquel on s'intéresse ici."
   ]
  },
  {
   "cell_type": "code",
   "execution_count": 2,
   "metadata": {},
   "outputs": [
    {
     "data": {
      "text/plain": [
       "(390231, 13)"
      ]
     },
     "execution_count": 2,
     "metadata": {},
     "output_type": "execute_result"
    }
   ],
   "source": [
    "huff = pd.read_csv(\"scraping-nettoye.csv\", low_memory=False)\n",
    "edition = \"Québec\"\n",
    "huff = huff[huff.pays == edition]\n",
    "huff.shape"
   ]
  },
  {
   "cell_type": "markdown",
   "metadata": {},
   "source": [
    "Le but de cet exercice étant d'identifier le taux d'originalité du *HuffPost*, on va créer trois variables.\n",
    "\n",
    "- `HP_oui` contiendra la proportion d'articles qui sont originaux (signés par des employés du *HuffPost* ou des pigistes).\n",
    "- `HP_non` contiendra la proportion d'articles qui ne sont pas originaux (repris d'agences externes ou d'autres médias).\n",
    "- `HP_inconnu` contiendra la proportion d'articles dont on ne peut pas établir la provenance.\n",
    "\n",
    "La somme de ces trois variables équivaudra à 100. On s'en servira pour faire un graphique en pointes de tarte (camembert) à la fin."
   ]
  },
  {
   "cell_type": "code",
   "execution_count": 3,
   "metadata": {
    "collapsed": true
   },
   "outputs": [],
   "source": [
    "HP_oui = 0\n",
    "HP_non = 0\n",
    "HP_inconnu = 0"
   ]
  },
  {
   "cell_type": "markdown",
   "metadata": {},
   "source": [
    "<h3 style=\"background:teal;color:white;padding:5px\">Étape 2 - Filtrer les balises <i>meta</i></h3>"
   ]
  },
  {
   "cell_type": "markdown",
   "metadata": {},
   "source": [
    "<hr>\n",
    "Ce ne sont pas tous les articles de cette édition du *Huff Post* qui ont, pour nom dans leurs balises `meta`, l'une ou l'autre des éditions du *Huffington Post*, ou de sa compagnie-mère, AOL"
   ]
  },
  {
   "cell_type": "code",
   "execution_count": 4,
   "metadata": {
    "scrolled": true
   },
   "outputs": [
    {
     "data": {
      "text/plain": [
       "Le Huffington Post           390214\n",
       "The Huffington Post          5     \n",
       "Huffington Post India        3     \n",
       "허핑턴포스트                       2     \n",
       "ハフィントンポスト                    2     \n",
       "L'Huffington Post            2     \n",
       "El Huffington Post           1     \n",
       "Al Huffington Post           1     \n",
       "Huffington Post Australia    1     \n",
       "Name: meta, dtype: int64"
      ]
     },
     "execution_count": 4,
     "metadata": {},
     "output_type": "execute_result"
    }
   ],
   "source": [
    "huff.meta.value_counts()"
   ]
  },
  {
   "cell_type": "markdown",
   "metadata": {},
   "source": [
    "Créons un sous-ensemble avec les articles qui, selon la balise `meta`, semblent issus du *HP*."
   ]
  },
  {
   "cell_type": "code",
   "execution_count": 5,
   "metadata": {},
   "outputs": [
    {
     "data": {
      "text/plain": [
       "Le Huffington Post           390214\n",
       "The Huffington Post          5     \n",
       "Huffington Post India        3     \n",
       "허핑턴포스트                       2     \n",
       "ハフィントンポスト                    2     \n",
       "L'Huffington Post            2     \n",
       "El Huffington Post           1     \n",
       "Al Huffington Post           1     \n",
       "Huffington Post Australia    1     \n",
       "Name: meta, dtype: int64"
      ]
     },
     "execution_count": 5,
     "metadata": {},
     "output_type": "execute_result"
    }
   ],
   "source": [
    "metaHP = huff.meta.str.contains(\"[H,Η,h][U,u][F,f][i,F,f,P,p]|ハフ|ポスト|허핑턴|허프|[A,a][O,o][L,l]\", na=False)\n",
    "huff[metaHP].meta.value_counts()"
   ]
  },
  {
   "cell_type": "code",
   "execution_count": 6,
   "metadata": {},
   "outputs": [
    {
     "data": {
      "text/plain": [
       "(390231, 13)"
      ]
     },
     "execution_count": 6,
     "metadata": {},
     "output_type": "execute_result"
    }
   ],
   "source": [
    "huff[metaHP].shape"
   ]
  },
  {
   "cell_type": "code",
   "execution_count": 7,
   "metadata": {},
   "outputs": [
    {
     "data": {
      "text/plain": [
       "0"
      ]
     },
     "execution_count": 7,
     "metadata": {},
     "output_type": "execute_result"
    }
   ],
   "source": [
    "len(huff) - len(huff[metaHP])"
   ]
  },
  {
   "cell_type": "markdown",
   "metadata": {},
   "source": [
    "Le calcul ci-haut nous indique que la balise `meta` des articles du *HuffPost&nbsp;Québec* donne à penser qu'ils ont **tous** été rédigés par l'équipe maison.\n",
    "<hr>\n",
    "Examinons-les quand même de plus près en regardant qui sont les signataires de ces articles. Les signataires se trouvent dans la colonne `byline`. Voyons voir, donc, ce qu'elle contient."
   ]
  },
  {
   "cell_type": "markdown",
   "metadata": {},
   "source": [
    "<h3 style=\"background:teal;color:white;padding:5px\">Étape 3 - Identification des articles dont les signataires sont inconnus</h3>"
   ]
  },
  {
   "cell_type": "code",
   "execution_count": 8,
   "metadata": {},
   "outputs": [
    {
     "data": {
      "text/plain": [
       "? AFPQC2                                                                   76046\n",
       "Par AFP AFPQC                                                              68613\n",
       "? RCQC                                                                     39991\n",
       "Par The Associated Press CP                                                36530\n",
       "Par La Presse Canadienne CP                                                25948\n",
       "Par Radio-Canada.ca RCQC                                                   15058\n",
       "Par La Presse Canadienne PC                                                9810 \n",
       "? Le Huffington Post Québec                                                8897 \n",
       "Par Agence France-Presse AFPQC                                             8827 \n",
       "Par Relaxnews AFPRelQC                                                     8827 \n",
       "? Le HuffPost                                                              4187 \n",
       "Par Agence France Presse AFPQC                                             3505 \n",
       "                                                                           ...  \n",
       "Par Julianna McDermott Le Huffington Post Canada                           1    \n",
       "Par Julie Pace et Deb Riechmann, The Associated Press CP                   1    \n",
       "Par Serge DANIEL AFP                                                       1    \n",
       "? Le HuffPost avec ArchDaily                                               1    \n",
       "Par Deepti Hajela et Ezra Kaplan La Presse Canadienne                      1    \n",
       "Par Julia Gronnevet et Karl Ritter PC                                      1    \n",
       "Par Katherine Bindley Le Huffington Post Québec                            1    \n",
       "Par Clarence Roy-MacAulay et Jessica McDiarmid, The Associated Press CP    1    \n",
       "Par Frédéric T. Muckle Le Huffington Post Québec                           1    \n",
       "Par Maria Panina, Agence France-Presse AFPQC                               1    \n",
       "Par Kevin Dougherty Le Huffington Post Québec                              1    \n",
       "Par Bill Whitehead, The Associated Press CP                                1    \n",
       "Name: byline, Length: 9756, dtype: int64"
      ]
     },
     "execution_count": 8,
     "metadata": {},
     "output_type": "execute_result"
    }
   ],
   "source": [
    "huff[metaHP].byline.value_counts()"
   ]
  },
  {
   "cell_type": "markdown",
   "metadata": {},
   "source": [
    "Un certain nombre d'auteurs sont inconnus («&nbsp;?&nbsp;» ou «&nbsp;?&nbsp;?&nbsp;»).<br>\n",
    "Ceux marqués d'un seul point d'interrogation seront placés dans le sous-ensemble `inconnu1`, ceux qui sont marqués de deux points d'interrogation dans le sous-ensemble `inconnu2`.<br>\n",
    "Ils représentent à peine **0,4%** du total des articles de cette édition du *Huffington&nbsp;Post*.<br>\n",
    "Nous allons placer cette proportion dans notre variable `HP_inconnu`."
   ]
  },
  {
   "cell_type": "code",
   "execution_count": 9,
   "metadata": {},
   "outputs": [
    {
     "data": {
      "text/plain": [
       "(1439, 0.36875594199333217)"
      ]
     },
     "execution_count": 9,
     "metadata": {},
     "output_type": "execute_result"
    }
   ],
   "source": [
    "inconnus1 = huff[metaHP].byline == \"? \"\n",
    "inconnus2 = huff[metaHP].byline == \"? ?\"\n",
    "HP_inconnu = huff[metaHP][inconnus1].pays.count() + huff[metaHP][inconnus2].pays.count()\n",
    "HP_inconnu, (HP_inconnu/len(huff))*100"
   ]
  },
  {
   "cell_type": "markdown",
   "metadata": {},
   "source": [
    "<hr>\n",
    "<h3 style=\"background:teal;color:white;padding:5px\">Étape 4 - Identification des articles originaux au <i>HuffPost</i></h3>"
   ]
  },
  {
   "cell_type": "markdown",
   "metadata": {},
   "source": [
    "Examinons maintenant les articles dont la signature contient certaines chaînes de caractères qui correspondent au *Huffington Post* (dans différentes langues, fautes de frappe incluses), ou à sa compagnie-mère, AOL. On va baptiser ce sous-ensemble `signéHP`."
   ]
  },
  {
   "cell_type": "code",
   "execution_count": 10,
   "metadata": {
    "scrolled": true
   },
   "outputs": [
    {
     "data": {
      "text/plain": [
       "(42782, 13)"
      ]
     },
     "execution_count": 10,
     "metadata": {},
     "output_type": "execute_result"
    }
   ],
   "source": [
    "signeHP = huff[metaHP].byline.str.contains(\"[H,h][U,u,f][F,f][i,F,f,P,p]|ハフ|ポスト|허핑턴|허프|[A,a][O,o][L,l]\",na=False)\n",
    "huff[metaHP][signeHP].shape"
   ]
  },
  {
   "cell_type": "code",
   "execution_count": 11,
   "metadata": {},
   "outputs": [
    {
     "data": {
      "text/plain": [
       "(? Le Huffington Post Québec                                             8897\n",
       " ? Le HuffPost                                                           4187\n",
       " Par Marie-Josée Roy Le Huffington Post Québec                           2280\n",
       " Par Ismaël Houdassine Le Huffington Post Québec                         790 \n",
       " Par Alexis Ferenczi Le HuffPost                                         726 \n",
       " ? The Huffington Post                                                   711 \n",
       " Par Mélissa Pelletier Le Huffington Post Québec                         706 \n",
       " ? The Huffington Post Canada                                            626 \n",
       " ? Le HuffPost/AFP                                                       583 \n",
       " ? Huffington Post Québec                                                574 \n",
       " Par Jean-François Cyr Le Huffington Post Québec                         433 \n",
       " Par Samuel Larochelle Le Huffington Post Québec                         422 \n",
       "                                                                        ...  \n",
       " Par Anna Almendrala The Huffington Post États-Unis                      1   \n",
       " Par Kimberly Yam The Huffington Post États-Unis                         1   \n",
       " Par Alex Yildiz Le HuffPost                                             1   \n",
       " Par The Associated Press Le HuffPost                                    1   \n",
       " Par OWN Huffpost                                                        1   \n",
       " Par Mohamed Omar The Huffington Post Québec                             1   \n",
       " Parismaël Houdassine Le Huffington Post Québec                          1   \n",
       " Par Sam Ferrigno/HooplaHa.com Le Huffington Post Québec                 1   \n",
       " Par Katia Touré Le Huffpost                                             1   \n",
       " Par Par Vanessa Fontaine Le Hufffington Post Québec                     1   \n",
       " Par Rachel Moss. The Huffington Post UK                                 1   \n",
       " Par Madelyn Chung and Monika Markovinovic The Huffington Post Canada    1   \n",
       " Name: byline, Length: 2982, dtype: int64, 2982)"
      ]
     },
     "execution_count": 11,
     "metadata": {},
     "output_type": "execute_result"
    }
   ],
   "source": [
    "huff[metaHP][signeHP].byline.value_counts(), huff[metaHP][signeHP].byline.value_counts().count()"
   ]
  },
  {
   "cell_type": "markdown",
   "metadata": {},
   "source": [
    "Le *Huffington Post* est nommé, d'une façon ou d'une autre, dans ces quelque **42&nbsp;782 articles** signés par **2&nbsp;982 signataires différents**.<br>\n",
    "Cela représente près de **11%** seulement de l'ensemble des articles publiés par l'édition québécoise du *HuffPost* dans la période étudiée.\n",
    "On peut placer cette proportion dans notre variable `HP_oui`."
   ]
  },
  {
   "cell_type": "code",
   "execution_count": 12,
   "metadata": {},
   "outputs": [
    {
     "data": {
      "text/plain": [
       "(42782, 10.963249972452214)"
      ]
     },
     "execution_count": 12,
     "metadata": {},
     "output_type": "execute_result"
    }
   ],
   "source": [
    "HP_oui = huff[metaHP][signeHP].pays.count()\n",
    "HP_oui, (HP_oui/len(huff))*100"
   ]
  },
  {
   "cell_type": "markdown",
   "metadata": {},
   "source": [
    "<hr>\n",
    "<h3 style=\"background:teal;color:white;padding:5px\">Étape 5 - Identification des articles <u>extérieurs</u> au <i>HuffPost</i></h3>"
   ]
  },
  {
   "cell_type": "markdown",
   "metadata": {},
   "source": [
    "On va donc faire la même opération, mais pour tous les postes dans lesquels **on ne trouve pas** les chaînes de caractères permettant d'identifier le *Huffington&nbsp;Post* dans différentes langues. On va créer un nouveau sous-ensemble qu'on va baptiser `NONsignéHP`."
   ]
  },
  {
   "cell_type": "code",
   "execution_count": 13,
   "metadata": {
    "scrolled": true
   },
   "outputs": [
    {
     "data": {
      "text/plain": [
       "(347449, 13)"
      ]
     },
     "execution_count": 13,
     "metadata": {},
     "output_type": "execute_result"
    }
   ],
   "source": [
    "NONsigneHP = ~huff[metaHP].byline.str.contains(\"[H,h][U,u,f][F,f][i,F,f,P,p]|ハフ|ポスト|허핑턴|허프|[A,a][O,o][L,l]\",na=False)\n",
    "huff[metaHP][NONsigneHP].shape"
   ]
  },
  {
   "cell_type": "markdown",
   "metadata": {},
   "source": [
    "Qui sont ces auteurs qui ne signent pas des articles originaux pour le *HuffPost*?"
   ]
  },
  {
   "cell_type": "code",
   "execution_count": 14,
   "metadata": {},
   "outputs": [
    {
     "data": {
      "text/plain": [
       "(? AFPQC2                                                              76046\n",
       " Par AFP AFPQC                                                         68613\n",
       " ? RCQC                                                                39991\n",
       " Par The Associated Press CP                                           36530\n",
       " Par La Presse Canadienne CP                                           25948\n",
       " Par Radio-Canada.ca RCQC                                              15058\n",
       " Par La Presse Canadienne PC                                           9810 \n",
       " Par Relaxnews AFPRelQC                                                8827 \n",
       " Par Agence France-Presse AFPQC                                        8827 \n",
       " Par Agence France Presse AFPQC                                        3505 \n",
       " Par La Presse canadienne PC                                           2856 \n",
       " Par The Associated Press PC                                           1929 \n",
       "                                                                       ...  \n",
       " Par Agence France-Presse - Michael Mathes avec Ivan Couronne AFPQC    1    \n",
       " Par Jonathan Lemire et Mike Balsamo, The Associated Press AFPQC       1    \n",
       " ParRobert Laflamme, La Presse Canadienne PC                           1    \n",
       " Par Stéphanie Marin et Fannie Olivier, La Presse Canadienne CP        1    \n",
       " Par Thanyarat Doksone, La Presse Canadienne CP                        1    \n",
       " Par Christopher Torchia,Associated Press PC                           1    \n",
       " Par Michael Warren--, The Associated Press CP                         1    \n",
       " Par Mike Gracsyk, The Associated Press CP                             1    \n",
       " ? Merci Alfred                                                        1    \n",
       " Par Babacar Dione, The Associated Press PC                            1    \n",
       " Par Christopher S. Rugaber, La Presse Canadienne CP                   1    \n",
       " Par Bill Whitehead, The Associated Press CP                           1    \n",
       " Name: byline, Length: 6774, dtype: int64, 6774)"
      ]
     },
     "execution_count": 14,
     "metadata": {},
     "output_type": "execute_result"
    }
   ],
   "source": [
    "huff[metaHP][NONsigneHP].byline.value_counts(), huff[metaHP][NONsigneHP].byline.value_counts().count() "
   ]
  },
  {
   "cell_type": "markdown",
   "metadata": {},
   "source": [
    "On constate que lorsqu'il y a un nom de journaliste suivi d'un point d'interrogation, c'est un auteur de l'équipe du *HuffPost Québec*. C'est le cas de [Patrick Bellerose](http://quebec.huffingtonpost.ca/author/patrick-bellerose/) et de [Catherine Lévesque](http://quebec.huffingtonpost.ca/author/catherine-levesque/), pour ne nommer que ceux-là.\n",
    "\n",
    "On va donc considérer que si la variable `byline` se termine par un point d'interrogation, il s'agira d'un auteur qui rédige des articles originaux pour le *HuffPost*.\n",
    "\n",
    "Isolons ces auteurs."
   ]
  },
  {
   "cell_type": "code",
   "execution_count": 15,
   "metadata": {
    "scrolled": true
   },
   "outputs": [
    {
     "data": {
      "text/plain": [
       "(Patrick Bellerose ?          842\n",
       " Catherine Lévesque ?         328\n",
       " ? ?                          236\n",
       " Daphnee Hacker-Bousquet ?    92 \n",
       " Myriam Lefebvre ?            79 \n",
       " Patrick White ?              29 \n",
       " Althia Raj ?                 23 \n",
       " Jean-Philippe Cipriani ?     11 \n",
       " Stanislas Kraland ?          10 \n",
       " Lauren Provost ?             9  \n",
       " Hadi Hassin ?                7  \n",
       " Christian Duperron ?         6  \n",
       "                             ..  \n",
       " Abby Huntsman ?              1  \n",
       " Vincent Gibert ?             1  \n",
       " Adrien Oster ?               1  \n",
       " Emeline Amétis ?             1  \n",
       " Lindsay Holmes ?             1  \n",
       " Mehdi Hasan ?                1  \n",
       " 秋元 祥治 ?                      1  \n",
       " Rebecca Shapiro ?            1  \n",
       " Mauro Leonardi ?             1  \n",
       " Ryan Grenoble ?              1  \n",
       " Peter S. Goodman ?           1  \n",
       " Myriam Francois-Cerrah ?     1  \n",
       " Name: byline, Length: 54, dtype: int64, 1736)"
      ]
     },
     "execution_count": 15,
     "metadata": {},
     "output_type": "execute_result"
    }
   ],
   "source": [
    "auteur = huff[metaHP][NONsigneHP].byline.str.endswith(\" ?\")\n",
    "huff[metaHP][NONsigneHP][auteur].byline.value_counts(), huff[metaHP][NONsigneHP][auteur].byline.value_counts().sum()"
   ]
  },
  {
   "cell_type": "markdown",
   "metadata": {},
   "source": [
    "Ces auteurs ont donc signé **1&nbsp;500 articles** (1&nbsp;736 articles ci-dessus, auxquels il faut retrancher les 236 articles dont l'auteur est inconnu [«&nbsp;? ?&nbsp;»]).\n",
    "\n",
    "On peut les ajouter à notre variable `HP_oui`."
   ]
  },
  {
   "cell_type": "code",
   "execution_count": 16,
   "metadata": {},
   "outputs": [
    {
     "data": {
      "text/plain": [
       "(44282, 11.347637681270838)"
      ]
     },
     "execution_count": 16,
     "metadata": {},
     "output_type": "execute_result"
    }
   ],
   "source": [
    "HP_oui = huff[metaHP][signeHP].pays.count() + 1500\n",
    "HP_oui, (HP_oui/len(huff))*100"
   ]
  },
  {
   "cell_type": "markdown",
   "metadata": {},
   "source": [
    "Pour calculer le pourcentage des articles signés par des auteurs externes, il faut soustraire de notre sous-ensemble `NONsignéHP` les articles contenus dans les deux sous-ensembles `inconnu1` et `inconnu2`, et additionner les articles qu'on a identifié plus haut dont la balise `meta` ne pouvait pas être associée au *HuffPost*, puis retrancher tous les articles qu'on vient de ranger dans notre variable `HP_oui`."
   ]
  },
  {
   "cell_type": "code",
   "execution_count": 17,
   "metadata": {},
   "outputs": [
    {
     "data": {
      "text/plain": [
       "(344510, 88.283606376735833)"
      ]
     },
     "execution_count": 17,
     "metadata": {},
     "output_type": "execute_result"
    }
   ],
   "source": [
    "HP_non = huff[metaHP][NONsigneHP].pays.count() - (huff[metaHP][inconnus1].pays.count() + huff[metaHP][inconnus2].pays.count()) + (len(huff) - len(huff[metaHP])) - 1500\n",
    "HP_non, (HP_non/len(huff))*100"
   ]
  },
  {
   "cell_type": "markdown",
   "metadata": {},
   "source": [
    "On a désormais tout ce qu'il nous faut pour faire le camembert évoqué plus haut."
   ]
  },
  {
   "cell_type": "code",
   "execution_count": 18,
   "metadata": {},
   "outputs": [
    {
     "data": {
      "text/plain": [
       "<matplotlib.axes._subplots.AxesSubplot at 0x1a9191e48>"
      ]
     },
     "execution_count": 18,
     "metadata": {},
     "output_type": "execute_result"
    },
    {
     "data": {
      "image/png": "[encoded data removed]",
      "text/plain": [
       "<matplotlib.figure.Figure at 0x1aa06d550>"
      ]
     },
     "metadata": {},
     "output_type": "display_data"
    }
   ],
   "source": [
    "camembert = pd.Series([HP_oui,HP_non,HP_inconnu], index=[\"Oui\",\"Non\",\"Inconnu\"],name=\"\")\n",
    "titre = plt.figure(facecolor=\"beige\")\n",
    "titre.suptitle(\"HuffPost Québec\", fontsize=24, fontweight=\"light\", fontname=\"Serif\")\n",
    "camembert.plot.pie(colors=[\"aqua\",\"coral\",\"lightgrey\"],\n",
    "                   wedgeprops={\"linewidth\":3,\"edgecolor\":\"white\"},\n",
    "                   textprops={\"weight\":\"bold\",\"fontsize\":14},\n",
    "                   counterclock=False,\n",
    "                   startangle=90,\n",
    "                   autopct=\"%1.1f%%\",\n",
    "                   figsize=(8,8)\n",
    ")"
   ]
  },
  {
   "cell_type": "markdown",
   "metadata": {},
   "source": [
    "<hr>\n",
    "<h3 style=\"background:teal;color:white;padding:5px\">Étape 6 - Exercice boni&nbsp;: les étiquettes (<i>tags</i>)</h3>"
   ]
  },
  {
   "cell_type": "markdown",
   "metadata": {},
   "source": [
    "Chaque article du *Huffington Post* est généralement accompagné d'une dizaine de marqueurs, ou d'étiquettes (*tags* en anglais). Voici ceux qui sont le plus fréquemment utilisés par cette édition.\n",
    "\n",
    "Le *HuffPost Québec* inclut généralement dans ses étiquettes les sources des articles, mais pas toujours, car si on additionne les étiquettes **pc** (Presse canadienne), **afp** (Agence France-Presse) et **rc** (Radio-Canada), on arrive à 55% de sources externes, alors qu'en examinant les signataires des articles, on arrive à un proportion bien supérieure, le 88% qu'on a calculé ci-dessus."
   ]
  },
  {
   "cell_type": "code",
   "execution_count": 19,
   "metadata": {},
   "outputs": [
    {
     "data": {
      "text/plain": [
       "pc                                        103627\n",
       "afp                                       79514 \n",
       "hp                                        77723 \n",
       "rc                                        31306 \n",
       "divertissement                            23512 \n",
       "Québec International                      16831 \n",
       "politique                                 16225 \n",
       "québec vidéo                              9406  \n",
       "insolite                                  7087  \n",
       "video                                     6212  \n",
       "Québec Sports                             5948  \n",
       "faits divers                              5711  \n",
       "                                          ...   \n",
       "Hery Rajaonarimampianina                  1     \n",
       "Neville Jacobs instagram                  1     \n",
       "soeurs Bélanger Thaïlande                 1     \n",
       "Rassemblement des citoyens de Montréal    1     \n",
       "La Famille Botero de Toxique Trottoir     1     \n",
       "jesse england                             1     \n",
       "suspects terroristes 4 juillet            1     \n",
       "accident hélicoptère Floride              1     \n",
       "Laurent Paquin fille                      1     \n",
       "hezbollah terroriste                      1     \n",
       "soeurs Olsen fête à la maison             1     \n",
       "décès Angèle Arsenault                    1     \n",
       "Length: 345737, dtype: int64"
      ]
     },
     "execution_count": 19,
     "metadata": {},
     "output_type": "execute_result"
    }
   ],
   "source": [
    "etiquettes = huff.set_index('pays').tags.str.split(',', expand=True).stack().rename(columns={0:'tag'}).reset_index(drop=True)\n",
    "etiquettes.value_counts(dropna=False)"
   ]
  }
 ],
 "metadata": {
  "kernelspec": {
   "display_name": "Python 3",
   "language": "python",
   "name": "python3"
  },
  "language_info": {
   "codemirror_mode": {
    "name": "ipython",
    "version": 3
   },
   "file_extension": ".py",
   "mimetype": "text/x-python",
   "name": "python",
   "nbconvert_exporter": "python",
   "pygments_lexer": "ipython3",
   "version": "3.6.2"
  }
 },
 "nbformat": 4,
 "nbformat_minor": 1
}
