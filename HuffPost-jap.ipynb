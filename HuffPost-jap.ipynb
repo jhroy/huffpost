{
 "cells": [
  {
   "cell_type": "markdown",
   "metadata": {},
   "source": [
    "<tr>\n",
    "<td>\n",
    "<img src=\"https://upload.wikimedia.org/wikipedia/commons/thumb/5/5a/HuffPost.svg/320px-HuffPost.svg.png\">\n",
    "</td>\n",
    "<td>\n",
    "<img src=\"https://upload.wikimedia.org/wikipedia/en/thumb/9/9e/Flag_of_Japan.svg/320px-Flag_of_Japan.svg.png\">\n",
    "</td>\n"
   ]
  },
  {
   "cell_type": "markdown",
   "metadata": {},
   "source": [
    "# Analyse des sources de l'édition japonaise du *Huff Post* (2013-2016) en 6 étapes faciles\n",
    "<hr>"
   ]
  },
  {
   "cell_type": "markdown",
   "metadata": {},
   "source": [
    "<h3 style=\"background:teal;color:white;padding:5px\">Étape 1 - Initialisation de notre *notebook* et lecture du fichier CSV contenant nos données</h3>"
   ]
  },
  {
   "cell_type": "code",
   "execution_count": 1,
   "metadata": {
    "collapsed": true
   },
   "outputs": [],
   "source": [
    "import csv, re, random\n",
    "import pandas as pd\n",
    "import numpy as np\n",
    "import matplotlib as mpl\n",
    "import matplotlib.pyplot as plt\n",
    "from scipy import stats, integrate\n",
    "pd.set_option('display.max_colwidth', -1)\n",
    "pd.options.display.max_rows = 25\n",
    "pd.options.mode.chained_assignment = None\n",
    "%matplotlib inline"
   ]
  },
  {
   "cell_type": "markdown",
   "metadata": {},
   "source": [
    "On lit notre fichier CSV de base, puis on crée une variable `edition` pour identifier le pays sur lequel on va travailler. La variable `huff` ne contient que les articles de l'édition du pays auquel on s'intéresse ici."
   ]
  },
  {
   "cell_type": "code",
   "execution_count": 2,
   "metadata": {},
   "outputs": [
    {
     "data": {
      "text/plain": [
       "(23708, 13)"
      ]
     },
     "execution_count": 2,
     "metadata": {},
     "output_type": "execute_result"
    }
   ],
   "source": [
    "huff = pd.read_csv(\"scraping-nettoye.csv\", low_memory=False)\n",
    "edition = \"Japon\"\n",
    "huff = huff[huff.pays == edition]\n",
    "huff.shape"
   ]
  },
  {
   "cell_type": "markdown",
   "metadata": {},
   "source": [
    "Le but de cet exercice étant d'identifier le taux d'originalité du *HuffPost*, on va créer trois variables.\n",
    "\n",
    "- `HP_oui` contiendra la proportion d'articles qui sont originaux (signés par des employés du *HuffPost* ou des pigistes).\n",
    "- `HP_non` contiendra la proportion d'articles qui ne sont pas originaux (repris d'agences externes ou d'autres médias).\n",
    "- `HP_inconnu` contiendra la proportion d'articles dont on ne peut pas établir la provenance.\n",
    "\n",
    "La somme de ces trois variables équivaudra à 100. On s'en servira pour faire un graphique en pointes de tarte (camembert) à la fin."
   ]
  },
  {
   "cell_type": "code",
   "execution_count": 3,
   "metadata": {
    "collapsed": true
   },
   "outputs": [],
   "source": [
    "HP_oui = 0\n",
    "HP_non = 0\n",
    "HP_inconnu = 0"
   ]
  },
  {
   "cell_type": "markdown",
   "metadata": {},
   "source": [
    "<h3 style=\"background:teal;color:white;padding:5px\">Étape 2 - Filtrer les balises <i>meta</i></h3>"
   ]
  },
  {
   "cell_type": "markdown",
   "metadata": {},
   "source": [
    "<hr>\n",
    "Ce ne sont pas tous les articles de cette édition du *Huff Post* qui ont, pour nom dans leurs balises `meta`, l'une ou l'autre des éditions du *Huffington Post*, ou de sa compagnie-mère, AOL"
   ]
  },
  {
   "cell_type": "code",
   "execution_count": 4,
   "metadata": {
    "scrolled": true
   },
   "outputs": [
    {
     "data": {
      "text/plain": [
       "HuffPost                    23706\n",
       "ORICON NEWS                 1    \n",
       "å¼è­·å£«ãããã³ã     1    \n",
       "Name: meta, dtype: int64"
      ]
     },
     "execution_count": 4,
     "metadata": {},
     "output_type": "execute_result"
    }
   ],
   "source": [
    "huff.meta.value_counts()"
   ]
  },
  {
   "cell_type": "markdown",
   "metadata": {},
   "source": [
    "Créons un sous-ensemble avec les articles qui, selon la balise `meta`, semblent issus du *HP*."
   ]
  },
  {
   "cell_type": "code",
   "execution_count": 5,
   "metadata": {},
   "outputs": [
    {
     "data": {
      "text/plain": [
       "HuffPost    23706\n",
       "Name: meta, dtype: int64"
      ]
     },
     "execution_count": 5,
     "metadata": {},
     "output_type": "execute_result"
    }
   ],
   "source": [
    "metaHP = huff.meta.str.contains(\"[H,Η,h][U,u][F,f][i,F,f,P,p]|ハフ|ポスト|허핑턴|허프|[A,a][O,o][L,l]\", na=False)\n",
    "huff[metaHP].meta.value_counts()"
   ]
  },
  {
   "cell_type": "code",
   "execution_count": 6,
   "metadata": {},
   "outputs": [
    {
     "data": {
      "text/plain": [
       "(23706, 13)"
      ]
     },
     "execution_count": 6,
     "metadata": {},
     "output_type": "execute_result"
    }
   ],
   "source": [
    "huff[metaHP].shape"
   ]
  },
  {
   "cell_type": "code",
   "execution_count": 7,
   "metadata": {},
   "outputs": [
    {
     "data": {
      "text/plain": [
       "2"
      ]
     },
     "execution_count": 7,
     "metadata": {},
     "output_type": "execute_result"
    }
   ],
   "source": [
    "len(huff) - len(huff[metaHP])"
   ]
  },
  {
   "cell_type": "markdown",
   "metadata": {},
   "source": [
    "Le calcul ci-haut nous indique qu'on a **2 articles** qu'on peut d'ores et déjà ranger dans la catégorie des articles qui ne sont *pas* rédigés par l'équipe du *HuffPost*.\n",
    "<hr>\n",
    "Examinons cependant de plus près notre sous-ensemble d'articles dont la balise `meta` prétend qu'ils sont issus du *HuffPost* en regardant qui sont les signataires de ces articles. Les signataires se trouvent dans la colonne `byline`. Voyons voir, donc, ce qu'elle contient."
   ]
  },
  {
   "cell_type": "markdown",
   "metadata": {},
   "source": [
    "<h3 style=\"background:teal;color:white;padding:5px\">Étape 3 - Identification des articles dont les signataires sont inconnus</h3>"
   ]
  },
  {
   "cell_type": "code",
   "execution_count": 8,
   "metadata": {},
   "outputs": [
    {
     "data": {
      "text/plain": [
       "? The Huffington Post                                                             5578\n",
       "| 執筆者： 朝日新聞社提供 Asahi Shimbun                                                      1666\n",
       "| 執筆者： HuffPost Newsroom The Huffington Post                                      1460\n",
       "| 執筆者：安藤健二 The Huffington Post                                                    1034\n",
       "| 執筆者： Reuters Reuters                                                            920 \n",
       "| 執筆者：中野渉 The Huffington Post                                                     836 \n",
       "| 執筆者： オリコンNewS ORICON STYLE                                                      833 \n",
       "| 執筆者：吉野太一郎 The Huffington Post                                                   567 \n",
       "| 執筆者： ハフポスト日本版編集部 The Huffington Post                                            488 \n",
       "| 執筆者：吉川慧 The Huffington Post                                                     352 \n",
       "?                                                                                 324 \n",
       "| 執筆者： 和田千才 The Huffington Post                                                   234 \n",
       "                                                                                 ...  \n",
       "| 執筆者：Cayla Dengate HuffPost Australia                                            1   \n",
       "| 執筆者： ロイターニュース　佐野日出之記者　取材協力　平田紀之記者　編集　橋本浩 ロイター                                   1   \n",
       "| 執筆者： Natalie Jackson, Ariel Edwards-Levy, Janie Velencia The Huffington Post    1   \n",
       "| 執筆者： 松井夕梨花、松下秀雄 Asahi Shimbun                                                   1   \n",
       "| 執筆者： 蔵前勝久、園田耕司 Asahi Shimbun                                                    1   \n",
       "| 執筆者： 嘉幡久敬 Asahi Shimbun                                                         1   \n",
       "| 執筆者： 吉田美智子＝ハーグ、古谷祐伸 Asahi Shimbun                                               1   \n",
       "? Google                                                                          1   \n",
       "| 執筆者：Ashley Percival The Huffington Post UK                                      1   \n",
       "| 執筆者： ニュースの教科書 ニュースの教科書編集部                                                       1   \n",
       "| 執筆者： 神元敦司 Asahi Shimbun                                                         1   \n",
       "| 執筆者： 沢村亙 Asahi Shimbun                                                          1   \n",
       "Name: byline, Length: 2630, dtype: int64"
      ]
     },
     "execution_count": 8,
     "metadata": {},
     "output_type": "execute_result"
    }
   ],
   "source": [
    "huff[metaHP].byline.value_counts()"
   ]
  },
  {
   "cell_type": "markdown",
   "metadata": {},
   "source": [
    "Un certain nombre d'auteurs sont inconnus («&nbsp;?&nbsp;» ou «&nbsp;?&nbsp;?&nbsp;»).<br>\n",
    "Ceux marqués d'un seul point d'interrogation seront placés dans le sous-ensemble `inconnu1`, ceux qui sont marqués de deux points d'interrogation dans le sous-ensemble `inconnu2`.<br>\n",
    "Ils représentent un peu moins de **2%** du total des articles de cette édition du *Huffington&nbsp;Post*.<br>\n",
    "Nous allons placer cette proportion dans notre variable `HP_inconnu`."
   ]
  },
  {
   "cell_type": "code",
   "execution_count": 9,
   "metadata": {},
   "outputs": [
    {
     "data": {
      "text/plain": [
       "(353, 1.4889488780158597)"
      ]
     },
     "execution_count": 9,
     "metadata": {},
     "output_type": "execute_result"
    }
   ],
   "source": [
    "inconnus1 = huff[metaHP].byline == \"? \"\n",
    "inconnus2 = huff[metaHP].byline == \"? ?\"\n",
    "HP_inconnu = huff[metaHP][inconnus1].pays.count() + huff[metaHP][inconnus2].pays.count()\n",
    "HP_inconnu, (HP_inconnu/len(huff))*100"
   ]
  },
  {
   "cell_type": "markdown",
   "metadata": {},
   "source": [
    "<hr>\n",
    "<h3 style=\"background:teal;color:white;padding:5px\">Étape 4 - Identification des articles originaux au <i>HuffPost</i></h3>"
   ]
  },
  {
   "cell_type": "markdown",
   "metadata": {},
   "source": [
    "Examinons maintenant les articles dont la signature contient certaines chaînes de caractères qui correspondent au *Huffington Post* (dans différentes langues, fautes de frappe incluses), ou à sa compagnie-mère, AOL. On va baptiser ce sous-ensemble `signéHP`."
   ]
  },
  {
   "cell_type": "code",
   "execution_count": 10,
   "metadata": {
    "scrolled": true
   },
   "outputs": [
    {
     "data": {
      "text/plain": [
       "(15829, 13)"
      ]
     },
     "execution_count": 10,
     "metadata": {},
     "output_type": "execute_result"
    }
   ],
   "source": [
    "signeHP = huff[metaHP].byline.str.contains(\"[H,h][U,u,f][F,f][i,F,f,P,p]|ハフ|ポスト|허핑턴|허프|[A,a][O,o][L,l]\",na=False)\n",
    "huff[metaHP][signeHP].shape"
   ]
  },
  {
   "cell_type": "code",
   "execution_count": 11,
   "metadata": {},
   "outputs": [
    {
     "data": {
      "text/plain": [
       "(? The Huffington Post                                                5578\n",
       " | 執筆者： HuffPost Newsroom The Huffington Post                         1460\n",
       " | 執筆者：安藤健二 The Huffington Post                                       1034\n",
       " | 執筆者：中野渉 The Huffington Post                                        836 \n",
       " | 執筆者：吉野太一郎 The Huffington Post                                      567 \n",
       " | 執筆者： ハフポスト日本版編集部 The Huffington Post                               488 \n",
       " | 執筆者：吉川慧 The Huffington Post                                        352 \n",
       " | 執筆者： 和田千才 The Huffington Post                                      234 \n",
       " | 執筆者： Huffpost Newsroom The Huffington Post                         203 \n",
       " | 執筆者：泉谷由梨子 The Huffington Post                                      153 \n",
       " | 執筆者：Kazuhiko Kuze The Huffington Post                              135 \n",
       " | 執筆者： ハフィントンポスト編集部 The Huffington Post                              105 \n",
       "                                                                     ...  \n",
       " | 執筆者： Nick Baumann,Mollie Reilly,Zach Carter The Huffington Post    1   \n",
       " | 執筆者： Anthony Sharwood HuffPost Australia                           1   \n",
       " | 執筆者：Dave Jamieson The Huffington Post                              1   \n",
       " | 執筆者： Haley Daniels & Sophie Kissinger The Huffington Post          1   \n",
       " | 執筆者：Eve Hartley The Huffington Post UK                             1   \n",
       " | 執筆者： Ashley Alman The Huffington Post                              1   \n",
       " | 執筆者： Kim Bellware The Huffington Post                              1   \n",
       " | 執筆者：Linda Varlese The Huffington Post Italy                        1   \n",
       " | 執筆者： Alessandro Luigi Perna The Huffington Post                    1   \n",
       " ? The Huffingotn Post                                                1   \n",
       " | 執筆者：Carolyn Gregoire,Eliza Sankar-Gorton The Huffington Post       1   \n",
       " | 執筆者： Christina Wilkie、吉野太一郎 The Huffington Post                    1   \n",
       " Name: byline, Length: 1046, dtype: int64, 1046)"
      ]
     },
     "execution_count": 11,
     "metadata": {},
     "output_type": "execute_result"
    }
   ],
   "source": [
    "huff[metaHP][signeHP].byline.value_counts(), huff[metaHP][signeHP].byline.value_counts().count()"
   ]
  },
  {
   "cell_type": "markdown",
   "metadata": {},
   "source": [
    "Le *Huffington Post* est nommé, d'une façon ou d'une autre, dans ces quelque **15&nbsp;829 articles** signés par **1&nbsp;046 signataires différents**.<br>\n",
    "Cela représente près des deux tiers de l'ensemble des articles publiés par cette édition du *HuffPost* dans la période étudiée.\n",
    "On peut placer cette proportion dans notre variable `HP_oui`."
   ]
  },
  {
   "cell_type": "code",
   "execution_count": 12,
   "metadata": {},
   "outputs": [
    {
     "data": {
      "text/plain": [
       "(15829, 66.766492323266419)"
      ]
     },
     "execution_count": 12,
     "metadata": {},
     "output_type": "execute_result"
    }
   ],
   "source": [
    "HP_oui = huff[metaHP][signeHP].pays.count()\n",
    "HP_oui, (HP_oui/len(huff))*100"
   ]
  },
  {
   "cell_type": "markdown",
   "metadata": {},
   "source": [
    "<hr>\n",
    "<h3 style=\"background:teal;color:white;padding:5px\">Étape 5 - Identification des articles <u>extérieurs</u> au <i>HuffPost</i></h3>"
   ]
  },
  {
   "cell_type": "markdown",
   "metadata": {},
   "source": [
    "On va donc faire la même opération, mais pour tous les postes dans lesquels **on ne trouve pas** les chaînes de caractères permettant d'identifier le *Huffington&nbsp;Post* dans différentes langues. On va créer un nouveau sous-ensemble qu'on va baptiser `NONsignéHP`."
   ]
  },
  {
   "cell_type": "code",
   "execution_count": 13,
   "metadata": {
    "scrolled": true
   },
   "outputs": [
    {
     "data": {
      "text/plain": [
       "(7877, 13)"
      ]
     },
     "execution_count": 13,
     "metadata": {},
     "output_type": "execute_result"
    }
   ],
   "source": [
    "NONsigneHP = ~huff[metaHP].byline.str.contains(\"[H,h][U,u,f][F,f][i,F,f,P,p]|ハフ|ポスト|허핑턴|허프|[A,a][O,o][L,l]\",na=False)\n",
    "huff[metaHP][NONsigneHP].shape"
   ]
  },
  {
   "cell_type": "markdown",
   "metadata": {},
   "source": [
    "Qui sont ces auteurs qui ne signent pas des articles originaux pour le *HuffPost*?"
   ]
  },
  {
   "cell_type": "code",
   "execution_count": 14,
   "metadata": {},
   "outputs": [
    {
     "data": {
      "text/plain": [
       "(| 執筆者： 朝日新聞社提供 Asahi Shimbun       1666\n",
       " | 執筆者： Reuters Reuters             920 \n",
       " | 執筆者： オリコンNewS ORICON STYLE       833 \n",
       " ?                                  324 \n",
       " ? Asahi Shimbun                    192 \n",
       " | 執筆者： ロイターニュース編集部 ロイター            169 \n",
       " Chika Igaya ?                      153 \n",
       " | 執筆者： 朝日新聞提供 Asahi Shimbun        129 \n",
       " | 執筆者： NewSphere編集部 NewSphere      108 \n",
       " | 執筆者： ニュースの教科書編集部 ニュースの教科書        106 \n",
       " ? www3.nhk.or.jp                   106 \n",
       " 吉野太一郎 ?                            102 \n",
       "                                   ...  \n",
       " | 執筆者： 合田禄、阿部彰芳 Asahi Shimbun      1   \n",
       " Andrew Hart ?                      1   \n",
       " | 執筆者： 藤田太郎 Asahi Shimbun          1   \n",
       " | 執筆者： 宮古支局長　阿部浩明 Asahi Shimbun    1   \n",
       " | 執筆者： 中川泉 編集；田巻一彦 ロイター            1   \n",
       " Lorenzo Ligato ?                   1   \n",
       " | 執筆者： 石田耕一郎、貝瀬秋彦 Asahi Shimbun    1   \n",
       " | 執筆者： 山田佳奈 Asahi Shimbun          1   \n",
       " | 執筆者： 富田洸平 Asahi Shimbun          1   \n",
       " | 執筆者： ワシントン＝奥寺淳 Asahi Shimbun     1   \n",
       " | 執筆者： 小林直子 Asahi Shimbun          1   \n",
       " | 執筆者： 松本龍三郎 Asahi Shimbun         1   \n",
       " Name: byline, Length: 1584, dtype: int64, 1584)"
      ]
     },
     "execution_count": 14,
     "metadata": {},
     "output_type": "execute_result"
    }
   ],
   "source": [
    "huff[metaHP][NONsigneHP].byline.value_counts(), huff[metaHP][NONsigneHP].byline.value_counts().count() "
   ]
  },
  {
   "cell_type": "markdown",
   "metadata": {},
   "source": [
    "On constate que lorsqu'il y a un nom de journaliste suivi d'un point d'interrogation, c'est un auteur de l'équipe du *HuffPost Italie*. C'est le cas d'[Chika Igaya](http://www.huffingtonpost.jp/author/chika-igaya/) et d'[Taichiro Yoshino](http://www.huffingtonpost.jp/author/taichiro-yoshino/), pour ne nommer que ceux-là.\n",
    "\n",
    "On va donc considérer que si la variable `byline` se termine par un point d'interrogation, il s'agira d'un auteur qui rédige des articles originaux pour le *HuffPost*.\n",
    "\n",
    "Isolons ces auteurs."
   ]
  },
  {
   "cell_type": "code",
   "execution_count": 15,
   "metadata": {
    "scrolled": true
   },
   "outputs": [
    {
     "data": {
      "text/plain": [
       "(Chika Igaya ?           153\n",
       " 吉野太一郎 ?                 102\n",
       " 中野渉 ?                   72 \n",
       " 安藤健二 ?                  29 \n",
       " ? ?                     29 \n",
       " Matt Sheehan ?          14 \n",
       " 伊藤大地 ?                  9  \n",
       " 和田千才 ?                  9  \n",
       " 吉川慧 ?                   9  \n",
       " 宇津宮尚子 ?                 8  \n",
       " Sophia Jones ?          8  \n",
       " Howard Fineman ?        7  \n",
       "                        ..  \n",
       " Indrani Basu ?          1  \n",
       " Nicolas Berggruen ?     1  \n",
       " Alexis Kleinman ?       1  \n",
       " George Bowden ?         1  \n",
       " Eva Hill ?              1  \n",
       " Lila Shapiro ?          1  \n",
       " Catherine Pearson ?     1  \n",
       " Jeffrey Young ?         1  \n",
       " Ben Hallman ?           1  \n",
       " Joe Satran ?            1  \n",
       " Willa Frej ?            1  \n",
       " Caroline Fairchild ?    1  \n",
       " Name: byline, Length: 144, dtype: int64, 690)"
      ]
     },
     "execution_count": 15,
     "metadata": {},
     "output_type": "execute_result"
    }
   ],
   "source": [
    "auteur = huff[metaHP][NONsigneHP].byline.str.endswith(\" ?\")\n",
    "huff[metaHP][NONsigneHP][auteur].byline.value_counts(), huff[metaHP][NONsigneHP][auteur].byline.value_counts().sum()"
   ]
  },
  {
   "cell_type": "markdown",
   "metadata": {},
   "source": [
    "Ces auteurs ont donc signé **661 articles** (690 articles ci-dessus, auxquels il faut retrancher les 29 articles dont l'auteur est inconnu [«&nbsp;? ?&nbsp;»]).\n",
    "\n",
    "On peut les ajouter à notre variable `HP_oui`."
   ]
  },
  {
   "cell_type": "code",
   "execution_count": 16,
   "metadata": {},
   "outputs": [
    {
     "data": {
      "text/plain": [
       "(16490, 69.554580732242272)"
      ]
     },
     "execution_count": 16,
     "metadata": {},
     "output_type": "execute_result"
    }
   ],
   "source": [
    "HP_oui = huff[metaHP][signeHP].pays.count() + 661\n",
    "HP_oui, (HP_oui/len(huff))*100"
   ]
  },
  {
   "cell_type": "markdown",
   "metadata": {},
   "source": [
    "Pour calculer le pourcentage des articles signés par des auteurs externes, il faut soustraire de notre sous-ensemble `NONsignéHP` les articles contenus dans les deux sous-ensembles `inconnu1` et `inconnu2`, additionner les deux articles qu'on a identifié plus haut dont la balise `meta` ne pouvait pas être associée au *HuffPost*, et retrancher les articles qu'on vient tout juste d'ajouter à notre variable `HP_oui`."
   ]
  },
  {
   "cell_type": "code",
   "execution_count": 17,
   "metadata": {},
   "outputs": [
    {
     "data": {
      "text/plain": [
       "(6865, 28.956470389741863)"
      ]
     },
     "execution_count": 17,
     "metadata": {},
     "output_type": "execute_result"
    }
   ],
   "source": [
    "HP_non = huff[metaHP][NONsigneHP].pays.count() - (huff[metaHP][inconnus1].pays.count() + huff[metaHP][inconnus2].pays.count()) + (len(huff) - len(huff[metaHP])) - 661\n",
    "HP_non, (HP_non/len(huff))*100"
   ]
  },
  {
   "cell_type": "markdown",
   "metadata": {},
   "source": [
    "On a désormais tout ce qu'il nous faut pour faire le camembert évoqué plus haut."
   ]
  },
  {
   "cell_type": "code",
   "execution_count": 18,
   "metadata": {},
   "outputs": [
    {
     "data": {
      "text/plain": [
       "<matplotlib.axes._subplots.AxesSubplot at 0x197e62160>"
      ]
     },
     "execution_count": 18,
     "metadata": {},
     "output_type": "execute_result"
    },
    {
     "data": {
      "image/png": "[encoded data removed]",
      "text/plain": [
       "<matplotlib.figure.Figure at 0x197e62d68>"
      ]
     },
     "metadata": {},
     "output_type": "display_data"
    }
   ],
   "source": [
    "camembert = pd.Series([HP_oui,HP_non,HP_inconnu], index=[\"Oui\",\"Non\",\"Inconnu\"],name=\"\")\n",
    "titre = plt.figure(facecolor=\"beige\")\n",
    "titre.suptitle(\"HuffPost Japon\", fontsize=24, fontweight=\"light\", fontname=\"Serif\")\n",
    "camembert.plot.pie(colors=[\"aqua\",\"coral\",\"lightgrey\"],\n",
    "                   wedgeprops={\"linewidth\":3,\"edgecolor\":\"white\"},\n",
    "                   textprops={\"weight\":\"bold\",\"fontsize\":14},\n",
    "                   counterclock=False,\n",
    "                   startangle=90,\n",
    "                   autopct=\"%1.1f%%\",\n",
    "                   figsize=(8,8)\n",
    ")"
   ]
  },
  {
   "cell_type": "markdown",
   "metadata": {},
   "source": [
    "<hr>\n",
    "<h3 style=\"background:teal;color:white;padding:5px\">Étape 6 - Exercice boni&nbsp;: les étiquettes (<i>tags</i>)</h3>"
   ]
  },
  {
   "cell_type": "markdown",
   "metadata": {},
   "source": [
    "Chaque article du *Huffington Post* est généralement accompagné d'une dizaine de marqueurs, ou d'étiquettes (*tags* en anglais). Voici ceux qui sont le plus fréquemment utilisés par cette édition."
   ]
  },
  {
   "cell_type": "code",
   "execution_count": 19,
   "metadata": {},
   "outputs": [
    {
     "data": {
      "text/plain": [
       "国際                  6587\n",
       "社会                  5769\n",
       "エンタメ                2846\n",
       "ライフスタイル             2400\n",
       "政治                  2191\n",
       "経済                  1861\n",
       "lifestyle           1734\n",
       "スポーツ                960 \n",
       "テクノロジー              793 \n",
       "動画                  659 \n",
       "画像                  559 \n",
       "アメリカ                470 \n",
       "                   ...  \n",
       "リアル 女性 バービー         1   \n",
       "野村証券                1   \n",
       "テキサス州保健局            1   \n",
       "IAEA 汚染水            1   \n",
       "原発 パーティー券           1   \n",
       "日本財団とは              1   \n",
       "世界で一番貧しい大統領         1   \n",
       "デベナムズ　フォトショップ       1   \n",
       "ロケット弾起爆装置           1   \n",
       "動画\b                 1   \n",
       "Everfilter 著作権侵害    1   \n",
       "紀香 あんぽ柿             1   \n",
       "Length: 87174, dtype: int64"
      ]
     },
     "execution_count": 19,
     "metadata": {},
     "output_type": "execute_result"
    }
   ],
   "source": [
    "etiquettes = huff.set_index('pays').tags.str.split(',', expand=True).stack().rename(columns={0:'tag'}).reset_index(drop=True)\n",
    "etiquettes.value_counts(dropna=False)"
   ]
  }
 ],
 "metadata": {
  "kernelspec": {
   "display_name": "Python 3",
   "language": "python",
   "name": "python3"
  },
  "language_info": {
   "codemirror_mode": {
    "name": "ipython",
    "version": 3
   },
   "file_extension": ".py",
   "mimetype": "text/x-python",
   "name": "python",
   "nbconvert_exporter": "python",
   "pygments_lexer": "ipython3",
   "version": "3.6.2"
  }
 },
 "nbformat": 4,
 "nbformat_minor": 1
}
