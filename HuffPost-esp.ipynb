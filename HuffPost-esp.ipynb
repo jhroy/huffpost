{
 "cells": [
  {
   "cell_type": "markdown",
   "metadata": {},
   "source": [
    "<tr>\n",
    "<td>\n",
    "<img src=\"https://upload.wikimedia.org/wikipedia/commons/thumb/5/5a/HuffPost.svg/320px-HuffPost.svg.png\">\n",
    "</td>\n",
    "<td>\n",
    "    <img src=\"https://upload.wikimedia.org/wikipedia/en/thumb/9/9a/Flag_of_Spain.svg/320px-Flag_of_Spain.svg.png\">\n",
    "</td>\n"
   ]
  },
  {
   "cell_type": "markdown",
   "metadata": {},
   "source": [
    "# Analyse des sources de l'édition espagnole du *Huff Post* (2012-2016) en 6 étapes faciles\n",
    "<hr>"
   ]
  },
  {
   "cell_type": "markdown",
   "metadata": {},
   "source": [
    "<h3 style=\"background:teal;color:white;padding:5px\">Étape 1 - Initialisation de notre *notebook* et lecture du fichier CSV contenant nos données</h3>"
   ]
  },
  {
   "cell_type": "code",
   "execution_count": 1,
   "metadata": {
    "collapsed": true
   },
   "outputs": [],
   "source": [
    "import csv, re, random\n",
    "import pandas as pd\n",
    "import numpy as np\n",
    "import matplotlib as mpl\n",
    "import matplotlib.pyplot as plt\n",
    "from scipy import stats, integrate\n",
    "pd.set_option('display.max_colwidth', -1)\n",
    "pd.options.display.max_rows = 25\n",
    "pd.options.mode.chained_assignment = None\n",
    "%matplotlib inline"
   ]
  },
  {
   "cell_type": "markdown",
   "metadata": {},
   "source": [
    "On lit notre fichier CSV de base, puis on crée une variable `edition` pour identifier le pays sur lequel on va travailler. La variable `huff` ne contient que les articles de l'édition du pays auquel on s'intéresse ici."
   ]
  },
  {
   "cell_type": "code",
   "execution_count": 2,
   "metadata": {},
   "outputs": [
    {
     "data": {
      "text/plain": [
       "(56348, 12)"
      ]
     },
     "execution_count": 2,
     "metadata": {},
     "output_type": "execute_result"
    }
   ],
   "source": [
    "huff = pd.read_csv(\"scraping-ES-2.csv\", low_memory=False)\n",
    "edition = \"Espagne\"\n",
    "huff = huff[huff.pays == edition]\n",
    "huff.shape"
   ]
  },
  {
   "cell_type": "markdown",
   "metadata": {},
   "source": [
    "Le but de cet exercice étant d'identifier le taux d'originalité du *HuffPost*, on va créer trois variables.\n",
    "\n",
    "- `HP_oui` contiendra la proportion d'articles qui sont originaux (signés par des employés du *HuffPost* ou des pigistes).\n",
    "- `HP_non` contiendra la proportion d'articles qui ne sont pas originaux (repris d'agences externes ou d'autres médias).\n",
    "- `HP_inconnu` contiendra la proportion d'articles dont on ne peut pas établir la provenance.\n",
    "\n",
    "La somme de ces trois variables équivaudra à 100. On s'en servira pour faire un graphique en pointes de tarte (camembert) à la fin."
   ]
  },
  {
   "cell_type": "code",
   "execution_count": 3,
   "metadata": {
    "collapsed": true
   },
   "outputs": [],
   "source": [
    "HP_oui = 0\n",
    "HP_non = 0\n",
    "HP_inconnu = 0"
   ]
  },
  {
   "cell_type": "markdown",
   "metadata": {},
   "source": [
    "<h3 style=\"background:teal;color:white;padding:5px\">Étape 2 - Filtrer les balises <i>meta</i></h3>"
   ]
  },
  {
   "cell_type": "markdown",
   "metadata": {},
   "source": [
    "<hr>\n",
    "Ce ne sont pas tous les articles de cette édition du *Huff Post* qui ont, pour nom dans leurs balises `meta`, l'une ou l'autre des éditions du *Huffington Post*, ou de sa compagnie-mère, AOL"
   ]
  },
  {
   "cell_type": "code",
   "execution_count": 4,
   "metadata": {},
   "outputs": [
    {
     "data": {
      "text/plain": [
       "El Huffington Post                                                                                                                                                                                                                   53409\n",
       "EL PAÍS                                                                                                                                                                                                                              1135 \n",
       "AS.com                                                                                                                                                                                                                               339  \n",
       "Cadena SER                                                                                                                                                                                                                           266  \n",
       "ELMUNDO                                                                                                                                                                                                                              193  \n",
       "Cinco Días                                                                                                                                                                                                                           180  \n",
       "La Vanguardia                                                                                                                                                                                                                        93   \n",
       "Grazia                                                                                                                                                                                                                               63   \n",
       "ABC.es                                                                                                                                                                                                                               56   \n",
       "20minutos.es - Últimas Noticias                                                                                                                                                                                                      45   \n",
       "El Confidencial                                                                                                                                                                                                                      39   \n",
       "The Huffington Post                                                                                                                                                                                                                  38   \n",
       "                                                                                                                                                                                                                                     ..   \n",
       "Gràffica.info, cultura visual                                                                                                                                                                                                        1    \n",
       "HuffPost UK                                                                                                                                                                                                                          1    \n",
       "Esglobal                                                                                                                                                                                                                             1    \n",
       "CADENA SER                                                                                                                                                                                                                           1    \n",
       "ELESPECTADOR.COM                                                                                                                                                                                                                     1    \n",
       "Tuitología                                                                                                                                                                                                                           1    \n",
       "Los 40 Principales                                                                                                                                                                                                                   1    \n",
       "Encuentre todo sobre resultados de la búsqueda pasa espana quiebra, noticias de actualidad, interactiva y en multimedia que le pone contexto e investiga los acontecimientos más importantes de colombia y el mundo en semana.com    1    \n",
       "Antena3.com                                                                                                                                                                                                                          1    \n",
       "Aquí París                                                                                                                                                                                                                           1    \n",
       "Cope                                                                                                                                                                                                                                 1    \n",
       "ondacero.es                                                                                                                                                                                                                          1    \n",
       "Name: meta, Length: 147, dtype: int64"
      ]
     },
     "execution_count": 4,
     "metadata": {},
     "output_type": "execute_result"
    }
   ],
   "source": [
    "huff.meta.value_counts()"
   ]
  },
  {
   "cell_type": "markdown",
   "metadata": {},
   "source": [
    "Créons un sous-ensemble avec les articles qui, selon la balise `meta`, semblent issus du *HP*."
   ]
  },
  {
   "cell_type": "code",
   "execution_count": 5,
   "metadata": {},
   "outputs": [
    {
     "data": {
      "text/plain": [
       "El Huffington Post     53409\n",
       "The Huffington Post    38   \n",
       "EL HUFFINGTON POST     1    \n",
       "HuffPost UK            1    \n",
       "Name: meta, dtype: int64"
      ]
     },
     "execution_count": 5,
     "metadata": {},
     "output_type": "execute_result"
    }
   ],
   "source": [
    "metaHP = huff.meta.str.contains(\"[H,Η,h][U,u][F,f][i,F,f,P,p]|ハフ|ポスト|허핑턴|허프|[A,a][O,o][L,l]\", na=False)\n",
    "huff[metaHP].meta.value_counts()"
   ]
  },
  {
   "cell_type": "code",
   "execution_count": 6,
   "metadata": {},
   "outputs": [
    {
     "data": {
      "text/plain": [
       "(53449, 12)"
      ]
     },
     "execution_count": 6,
     "metadata": {},
     "output_type": "execute_result"
    }
   ],
   "source": [
    "huff[metaHP].shape"
   ]
  },
  {
   "cell_type": "code",
   "execution_count": 7,
   "metadata": {},
   "outputs": [
    {
     "data": {
      "text/plain": [
       "2899"
      ]
     },
     "execution_count": 7,
     "metadata": {},
     "output_type": "execute_result"
    }
   ],
   "source": [
    "len(huff) - len(huff[metaHP])"
   ]
  },
  {
   "cell_type": "markdown",
   "metadata": {},
   "source": [
    "Le calcul ci-haut nous indique qu'on a **2&nbsp;899 articles** qu'on peut d'ores et déjà ranger dans la catégorie des articles qui ne sont *pas* rédigés par l'équipe du *HuffPost*.\n",
    "<hr>\n",
    "Examinons cependant de plus près notre sous-ensemble d'articles dont la balise `meta` prétend qu'ils sont issus du *HuffPost* en regardant qui sont les signataires de ces articles. Les signataires se trouvent dans la colonne `byline`. Voyons voir, donc, ce qu'elle contient."
   ]
  },
  {
   "cell_type": "markdown",
   "metadata": {},
   "source": [
    "<h3 style=\"background:teal;color:white;padding:5px\">Étape 3 - Identification des articles dont les signataires sont inconnus</h3>"
   ]
  },
  {
   "cell_type": "code",
   "execution_count": 8,
   "metadata": {},
   "outputs": [
    {
     "data": {
      "text/plain": [
       "EL HUFFINGTON POST ?                                              9432\n",
       "EL HUFFINGTON POST / AGENCIAS ?                                   7836\n",
       "Redacción ElHuffPostEl Huffington Post ?                          3022\n",
       "EL HUFFINGTON POST / EFE ?                                        2832\n",
       "El HuffPost ?                                                     2414\n",
       "EL HUFFINGTON POST / EP ?                                         1665\n",
       "El HuffPost / Agencias ?                                          1578\n",
       "EFE ?                                                             1314\n",
       "Redacción ElHuffPostAgencias ?                                    1115\n",
       "Redacción El HuffPostEl Huffington Post ?                         921 \n",
       "Redacción ElHuffPostEfe ?                                         817 \n",
       "Redacción ElHuffPostEuropa Press ?                                783 \n",
       "                                                                 ...  \n",
       "Riley Arthur ?                                                    1   \n",
       "Pilar Portero y Ana Cañil EL HUFFINGTON POST ?                    1   \n",
       "Nina DamschThe Huffington Post ?                                  1   \n",
       "Carlos González de Rivera (EFE) ?                                 1   \n",
       "Tyler KingkadeSenior Editor/Reporter, The Huffington Post ?       1   \n",
       "Lindsay HolmesThe Huffington Post ?                               1   \n",
       "Mateo Sancho Cardiel/EFE ?                                        1   \n",
       "Kate Bratskeir y Gabriela Landazuri SaltosEL HUFFINGTON POST ?    1   \n",
       "OWN ?                                                             1   \n",
       "Agencia SINC / EL HUFFINGTONPOST ?                                1   \n",
       "Mollie ReillyThe Huffington Post ?                                1   \n",
       "Inmaculada López Varona / Efe ?                                   1   \n",
       "Name: byline, Length: 2776, dtype: int64"
      ]
     },
     "execution_count": 8,
     "metadata": {},
     "output_type": "execute_result"
    }
   ],
   "source": [
    "huff[metaHP].byline.value_counts()"
   ]
  },
  {
   "cell_type": "markdown",
   "metadata": {},
   "source": [
    "Un certain nombre d'auteurs sont inconnus («&nbsp;?&nbsp;» ou «&nbsp;?&nbsp;?&nbsp;»).<br>\n",
    "Ceux marqués d'un seul point d'interrogation seront placés dans le sous-ensemble `inconnu1`, ceux qui sont marqués de deux points d'interrogation dans le sous-ensemble `inconnu2`.<br>\n",
    "Ils représentent cependant à peine **0,15%** du total des articles de cette édition du *Huffington&nbsp;Post*.<br>\n",
    "Nous allons placer cette proportion dans notre variable `HP_inconnu`."
   ]
  },
  {
   "cell_type": "code",
   "execution_count": 9,
   "metadata": {},
   "outputs": [
    {
     "data": {
      "text/plain": [
       "(88, 0.15617235749272379)"
      ]
     },
     "execution_count": 9,
     "metadata": {},
     "output_type": "execute_result"
    }
   ],
   "source": [
    "inconnus1 = huff[metaHP].byline == \"? \"\n",
    "inconnus2 = huff[metaHP].byline == \"? ?\"\n",
    "HP_inconnu = huff[metaHP][inconnus1].pays.count() + huff[metaHP][inconnus2].pays.count()\n",
    "HP_inconnu, (HP_inconnu/len(huff))*100"
   ]
  },
  {
   "cell_type": "markdown",
   "metadata": {},
   "source": [
    "<hr>\n",
    "<h3 style=\"background:teal;color:white;padding:5px\">Étape 4 - Identification des articles originaux au <i>HuffPost</i></h3>"
   ]
  },
  {
   "cell_type": "markdown",
   "metadata": {},
   "source": [
    "Examinons maintenant les articles dont la signature contient certaines chaînes de caractères qui correspondent au *Huffington Post* (dans différentes langues, fautes de frappe incluses), ou à sa compagnie-mère, AOL. On va baptiser ce sous-ensemble `signéHP`."
   ]
  },
  {
   "cell_type": "code",
   "execution_count": 10,
   "metadata": {
    "scrolled": true
   },
   "outputs": [
    {
     "data": {
      "text/plain": [
       "(48144, 12)"
      ]
     },
     "execution_count": 10,
     "metadata": {},
     "output_type": "execute_result"
    }
   ],
   "source": [
    "signeHP = huff[metaHP].byline.str.contains(\"[H,h][U,u,f][F,f][i,F,f,P,p]|ハフ|ポスト|허핑턴|허프|[A,a][O,o][L,l]\",na=False)\n",
    "huff[metaHP][signeHP].shape"
   ]
  },
  {
   "cell_type": "code",
   "execution_count": 11,
   "metadata": {},
   "outputs": [
    {
     "data": {
      "text/plain": [
       "(EL HUFFINGTON POST ?                                              9432\n",
       " EL HUFFINGTON POST / AGENCIAS ?                                   7836\n",
       " Redacción ElHuffPostEl Huffington Post ?                          3022\n",
       " EL HUFFINGTON POST / EFE ?                                        2832\n",
       " El HuffPost ?                                                     2414\n",
       " EL HUFFINGTON POST / EP ?                                         1665\n",
       " El HuffPost / Agencias ?                                          1578\n",
       " Redacción ElHuffPostAgencias ?                                    1115\n",
       " Redacción El HuffPostEl Huffington Post ?                         921 \n",
       " Redacción ElHuffPostEfe ?                                         817 \n",
       " Redacción ElHuffPostEuropa Press ?                                783 \n",
       " EL HUFFINGTON POST/AGENCIAS ?                                     673 \n",
       "                                                                  ...  \n",
       " Redacción El HuffPostReuters/Europa Press ?                       1   \n",
       " Benjamin PrüferThe Huffington Post ?                              1   \n",
       " Mallika RaoThe Huffington Post ?                                  1   \n",
       " Pablo Machuca EL HUFFINGTON POST ?                                1   \n",
       " Rachel MossLifestyle Writer at The Huffington Post UK ?           1   \n",
       " Pilar Portero y Ana Cañil EL HUFFINGTON POST ?                    1   \n",
       " Nina DamschThe Huffington Post ?                                  1   \n",
       " Tyler KingkadeSenior Editor/Reporter, The Huffington Post ?       1   \n",
       " Lindsay HolmesThe Huffington Post ?                               1   \n",
       " Kate Bratskeir y Gabriela Landazuri SaltosEL HUFFINGTON POST ?    1   \n",
       " Agencia SINC / EL HUFFINGTONPOST ?                                1   \n",
       " Arturo Bracero (EL HUFFINGTON POST) ?                             1   \n",
       " Name: byline, Length: 2179, dtype: int64, 2179)"
      ]
     },
     "execution_count": 11,
     "metadata": {},
     "output_type": "execute_result"
    }
   ],
   "source": [
    "huff[metaHP][signeHP].byline.value_counts(), huff[metaHP][signeHP].byline.value_counts().count()"
   ]
  },
  {
   "cell_type": "markdown",
   "metadata": {},
   "source": [
    "Le *Huffington Post* est nommé, d'une façon ou d'une autre, dans ces quelque **48&nbsp;144 articles** signés par **2&nbsp;179 signataires différents**.<br>\n",
    "Cela représente plus de **85%** de l'ensemble des articles publiés par l'édition espagnole du *HuffPost* dans la période étudiée.\n",
    "On peut placer cette proportion dans notre variable `HP_oui`."
   ]
  },
  {
   "cell_type": "code",
   "execution_count": 12,
   "metadata": {},
   "outputs": [
    {
     "data": {
      "text/plain": [
       "(48144, 85.440477035564712)"
      ]
     },
     "execution_count": 12,
     "metadata": {},
     "output_type": "execute_result"
    }
   ],
   "source": [
    "HP_oui = huff[metaHP][signeHP].pays.count()\n",
    "HP_oui, (HP_oui/len(huff))*100"
   ]
  },
  {
   "cell_type": "markdown",
   "metadata": {},
   "source": [
    "<hr>\n",
    "<h3 style=\"background:teal;color:white;padding:5px\">Étape 5 - Identification des articles <u>extérieurs</u> au <i>HuffPost</i></h3>"
   ]
  },
  {
   "cell_type": "markdown",
   "metadata": {},
   "source": [
    "On va donc faire la même opération, mais pour tous les postes dans lesquels **on ne trouve pas** les chaînes de caractères permettant d'identifier le *Huffington&nbsp;Post* dans différentes langues. On va créer un nouveau sous-ensemble qu'on va baptiser `NONsignéHP`."
   ]
  },
  {
   "cell_type": "code",
   "execution_count": 13,
   "metadata": {
    "scrolled": true
   },
   "outputs": [
    {
     "data": {
      "text/plain": [
       "(5305, 12)"
      ]
     },
     "execution_count": 13,
     "metadata": {},
     "output_type": "execute_result"
    }
   ],
   "source": [
    "NONsigneHP = ~huff[metaHP].byline.str.contains(\"[H,h][U,u,f][F,f][i,F,f,P,p]|ハフ|ポスト|허핑턴|허프|[A,a][O,o][L,l]\",na=False)\n",
    "huff[metaHP][NONsigneHP].shape"
   ]
  },
  {
   "cell_type": "markdown",
   "metadata": {},
   "source": [
    "Qui sont ces auteurs qui ne signent pas des articles originaux pour le *HuffPost*?"
   ]
  },
  {
   "cell_type": "code",
   "execution_count": 14,
   "metadata": {},
   "outputs": [
    {
     "data": {
      "text/plain": [
       "(EFE ?                                                             1314\n",
       " EUROPA PRESS ?                                                    514 \n",
       " Europa Press ?                                                    510 \n",
       " José María PatiñoCadena SER ?                                     255 \n",
       " Daniel BasteiroPeriodista ?                                       250 \n",
       " Agencias ?                                                        214 \n",
       " AGENCIAS ?                                                        209 \n",
       " MINUBE ?                                                          101 \n",
       " ? ?                                                               88  \n",
       " COOKPAD ?                                                         62  \n",
       " GRAZIA.ES ?                                                       58  \n",
       " GRAZIA ?                                                          58  \n",
       "                                                                   ..  \n",
       " OTR/PRESS ?                                                       1   \n",
       " Samuel LuckhurstFootball writer, The Manchester Evening News ?    1   \n",
       " C.C. (CINCO DÍAS) ?                                               1   \n",
       " Carol SiqueiraAgência Câmara ?                                    1   \n",
       " Patricia RodríguezEFE ?                                           1   \n",
       " sociedad.elpais.com ?                                             1   \n",
       " MAGDALENA TSANIS (EFE) ?                                          1   \n",
       " Repubblica ?                                                      1   \n",
       " Pablo Madariaga / Agencia EFE ?                                   1   \n",
       " REUTERS / EUROPA PRESS ?                                          1   \n",
       " sax ?                                                             1   \n",
       " Inmaculada López Varona / Efe ?                                   1   \n",
       " Name: byline, Length: 597, dtype: int64, 597)"
      ]
     },
     "execution_count": 14,
     "metadata": {},
     "output_type": "execute_result"
    }
   ],
   "source": [
    "huff[metaHP][NONsigneHP].byline.value_counts(), huff[metaHP][NONsigneHP].byline.value_counts().count()"
   ]
  },
  {
   "cell_type": "markdown",
   "metadata": {},
   "source": [
    "Il y a cependant certains intrus dans cette liste. C'est le cas, par exemple, de María Porcel, signataire de **34 articles**, dont la [page d'auteur](http://www.huffingtonpost.es/author/maria-porcel/) nous dit clairement qu'elle fait partie de l'équipe du *HuffPost España*. Même s'ils ne font pas partie de l'équipe, ils sont identifiés comme *periodista*, ce qui signifie journaliste et veut dire que leur article est du contenu original.\n",
    "Il faut également inclure les articles signés par le *Brasil Post*.\n",
    "Cela fait donc **735 articles** qui devront être ajoutés à notre variable `HP_oui`."
   ]
  },
  {
   "cell_type": "code",
   "execution_count": 15,
   "metadata": {},
   "outputs": [
    {
     "data": {
      "text/plain": [
       "(48879, 86.744871157805065)"
      ]
     },
     "execution_count": 15,
     "metadata": {},
     "output_type": "execute_result"
    }
   ],
   "source": [
    "HP_oui = huff[metaHP][signeHP].pays.count() + 735\n",
    "HP_oui, (HP_oui/len(huff))*100"
   ]
  },
  {
   "cell_type": "markdown",
   "metadata": {},
   "source": [
    "Pour calculer le pourcentage des articles signés par des auteurs externes, il faut soustraire de notre sous-ensemble `NONsignéHP` les articles contenus dans les deux sous-ensembles `inconnu1` et `inconnu2`, puis additionner les articles qu'on a identifié plus haut dont la balise `meta` ne pouvait pas être associée au *HuffPost*, et enfin retrancher les articles qu'on vient de placer dans la variable `HP_oui`. "
   ]
  },
  {
   "cell_type": "code",
   "execution_count": 16,
   "metadata": {},
   "outputs": [
    {
     "data": {
      "text/plain": [
       "(7381, 13.098956484702207)"
      ]
     },
     "execution_count": 16,
     "metadata": {},
     "output_type": "execute_result"
    }
   ],
   "source": [
    "HP_non = huff[metaHP][NONsigneHP].pays.count() - (huff[metaHP][inconnus1].pays.count() + huff[metaHP][inconnus2].pays.count()) + (len(huff) - len(huff[metaHP])) - 735\n",
    "HP_non, (HP_non/len(huff))*100"
   ]
  },
  {
   "cell_type": "markdown",
   "metadata": {},
   "source": [
    "On a désormais tout ce qu'il nous faut pour faire le camembert évoqué plus haut."
   ]
  },
  {
   "cell_type": "code",
   "execution_count": 17,
   "metadata": {},
   "outputs": [
    {
     "data": {
      "text/plain": [
       "<matplotlib.axes._subplots.AxesSubplot at 0x1103e5128>"
      ]
     },
     "execution_count": 17,
     "metadata": {},
     "output_type": "execute_result"
    },
    {
     "data": {
      "image/png": "[encoded data removed]",
      "text/plain": [
       "<matplotlib.figure.Figure at 0x1103db828>"
      ]
     },
     "metadata": {},
     "output_type": "display_data"
    }
   ],
   "source": [
    "camembert = pd.Series([HP_oui,HP_non,HP_inconnu], index=[\"Oui\",\"Non\",\"Inconnu\"],name=\"\")\n",
    "titre = plt.figure(facecolor=\"beige\")\n",
    "titre.suptitle(\"HuffPost Espagne\", fontsize=24, fontweight=\"light\", fontname=\"Serif\")\n",
    "camembert.plot.pie(colors=[\"aqua\",\"coral\",\"lightgrey\"],\n",
    "                   wedgeprops={\"linewidth\":3,\"edgecolor\":\"white\"},\n",
    "                   textprops={\"weight\":\"bold\",\"fontsize\":14},\n",
    "                   counterclock=False,\n",
    "                   startangle=90,\n",
    "                   autopct=\"%1.1f%%\",\n",
    "                   figsize=(8,8)\n",
    ")"
   ]
  },
  {
   "cell_type": "markdown",
   "metadata": {},
   "source": [
    "<hr>\n",
    "<h3 style=\"background:teal;color:white;padding:5px\">Étape 6 - Exercice boni&nbsp;: les étiquettes (<i>tags</i>)</h3>"
   ]
  },
  {
   "cell_type": "markdown",
   "metadata": {},
   "source": [
    "Chaque article du *Huffington Post* est généralement accompagné d'une dizaine de marqueurs, ou d'étiquettes (*tags* en anglais). Voici ceux qui sont le plus fréquemment utilisés par cette édition."
   ]
  },
  {
   "cell_type": "code",
   "execution_count": 18,
   "metadata": {},
   "outputs": [
    {
     "data": {
      "text/plain": [
       "política                            15436\n",
       "tendencias                          10888\n",
       "internacional                       9426 \n",
       "España                              4478 \n",
       "deportes                            4049 \n",
       "video                               3732 \n",
       "pp                                  3726 \n",
       "economía                            3151 \n",
       "psoe                                3043 \n",
       "Mariano Rajoy                       2331 \n",
       "politica                            2302 \n",
       "Lo más visto                        2164 \n",
       "                                    ...  \n",
       "jovenes emprendedores               1    \n",
       "in-politics                         1    \n",
       "youtube niña opera en televisión    1    \n",
       "mujer racismo koné                  1    \n",
       "electrodomesticos                   1    \n",
       "medallas paralímpicas               1    \n",
       "liga norte                          1    \n",
       "gorda                               1    \n",
       "sequía 2012                         1    \n",
       "acuerdos de paz de oslo             1    \n",
       "Yves Bolduc education               1    \n",
       "premios american music              1    \n",
       "Length: 115594, dtype: int64"
      ]
     },
     "execution_count": 18,
     "metadata": {},
     "output_type": "execute_result"
    }
   ],
   "source": [
    "etiquettes = huff.set_index('pays').tags.str.split(',', expand=True).stack().rename(columns={0:'tag'}).reset_index(drop=True)\n",
    "etiquettes.value_counts(dropna=False)"
   ]
  }
 ],
 "metadata": {
  "kernelspec": {
   "display_name": "Python 3",
   "language": "python",
   "name": "python3"
  },
  "language_info": {
   "codemirror_mode": {
    "name": "ipython",
    "version": 3
   },
   "file_extension": ".py",
   "mimetype": "text/x-python",
   "name": "python",
   "nbconvert_exporter": "python",
   "pygments_lexer": "ipython3",
   "version": "3.6.2"
  }
 },
 "nbformat": 4,
 "nbformat_minor": 1
}
