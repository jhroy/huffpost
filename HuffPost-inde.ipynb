{
 "cells": [
  {
   "cell_type": "markdown",
   "metadata": {},
   "source": [
    "<table border=0px>\n",
    "<tr>\n",
    "<td>\n",
    "<img src=\"https://upload.wikimedia.org/wikipedia/commons/thumb/5/5a/HuffPost.svg/320px-HuffPost.svg.png\">\n",
    "</td>\n",
    "<td>\n",
    "<img src=\"https://upload.wikimedia.org/wikipedia/commons/thumb/4/41/Flag_of_India.svg/320px-Flag_of_India.svg.png\">\n",
    "</td>\n",
    "</tr>\n",
    "</table>"
   ]
  },
  {
   "cell_type": "markdown",
   "metadata": {},
   "source": [
    "# Analyse des sources de l'édition indienne du *Huff Post* (2014-2016) en 6 étapes faciles\n",
    "<hr>"
   ]
  },
  {
   "cell_type": "markdown",
   "metadata": {},
   "source": [
    "<h3 style=\"background:teal;color:white;padding:5px\">Étape 1 - Initialisation de notre *notebook* et lecture du fichier CSV contenant nos données</h3>"
   ]
  },
  {
   "cell_type": "code",
   "execution_count": 1,
   "metadata": {
    "collapsed": true
   },
   "outputs": [],
   "source": [
    "import csv, re, random\n",
    "import pandas as pd\n",
    "import numpy as np\n",
    "import matplotlib as mpl\n",
    "import matplotlib.pyplot as plt\n",
    "from scipy import stats, integrate\n",
    "pd.set_option('display.max_colwidth', -1)\n",
    "pd.options.display.max_rows = 25\n",
    "pd.options.mode.chained_assignment = None\n",
    "%matplotlib inline"
   ]
  },
  {
   "cell_type": "markdown",
   "metadata": {},
   "source": [
    "On lit notre fichier CSV de base, puis on crée une variable `edition` pour identifier le pays sur lequel on va travailler. La variable `huff` ne contient que les articles de l'édition du pays auquel on s'intéresse ici."
   ]
  },
  {
   "cell_type": "code",
   "execution_count": 2,
   "metadata": {},
   "outputs": [
    {
     "data": {
      "text/plain": [
       "(14618, 13)"
      ]
     },
     "execution_count": 2,
     "metadata": {},
     "output_type": "execute_result"
    }
   ],
   "source": [
    "huff = pd.read_csv(\"scraping-nettoye.csv\", low_memory=False)\n",
    "edition = \"Inde\"\n",
    "huff = huff[huff.pays == edition]\n",
    "huff.shape"
   ]
  },
  {
   "cell_type": "markdown",
   "metadata": {},
   "source": [
    "Le but de cet exercice étant d'identifier le taux d'originalité du *HuffPost*, on va créer trois variables.\n",
    "\n",
    "- `HP_oui` contiendra la proportion d'articles qui sont originaux (signés par des employés du *HuffPost* ou des pigistes).\n",
    "- `HP_non` contiendra la proportion d'articles qui ne sont pas originaux (repris d'agences externes ou d'autres médias).\n",
    "- `HP_inconnu` contiendra la proportion d'articles dont on ne peut pas établir la provenance.\n",
    "\n",
    "La somme de ces trois variables équivaudra à 100. On s'en servira pour faire un graphique en pointes de tarte (camembert) à la fin."
   ]
  },
  {
   "cell_type": "code",
   "execution_count": 3,
   "metadata": {
    "collapsed": true
   },
   "outputs": [],
   "source": [
    "HP_oui = 0\n",
    "HP_non = 0\n",
    "HP_inconnu = 0"
   ]
  },
  {
   "cell_type": "markdown",
   "metadata": {},
   "source": [
    "<h3 style=\"background:teal;color:white;padding:5px\">Étape 2 - Filtrer les balises <i>meta</i></h3>"
   ]
  },
  {
   "cell_type": "markdown",
   "metadata": {},
   "source": [
    "<hr>\n",
    "Ce ne sont pas tous les articles de cette édition du *Huff Post* qui ont, pour nom dans leurs balises `meta`, l'une ou l'autre des éditions du *Huffington Post*, ou de sa compagnie-mère, AOL"
   ]
  },
  {
   "cell_type": "code",
   "execution_count": 4,
   "metadata": {
    "scrolled": true
   },
   "outputs": [
    {
     "data": {
      "text/plain": [
       "Huffington Post India             14575\n",
       "The Times of India                16   \n",
       "The Indian Express                7    \n",
       "The News Minute                   4    \n",
       "http://www.hindustantimes.com/    4    \n",
       "Firstpost                         3    \n",
       "NDTV.com                          2    \n",
       "The Huffington Post               2    \n",
       "reddit                            1    \n",
       "dna                               1    \n",
       "Gadget Now                        1    \n",
       "The Economic Times                1    \n",
       "The Hindu                         1    \n",
       "Name: meta, dtype: int64"
      ]
     },
     "execution_count": 4,
     "metadata": {},
     "output_type": "execute_result"
    }
   ],
   "source": [
    "huff.meta.value_counts()"
   ]
  },
  {
   "cell_type": "markdown",
   "metadata": {},
   "source": [
    "Créons un sous-ensemble avec les articles qui, selon la balise `meta`, semblent issus du *HP*."
   ]
  },
  {
   "cell_type": "code",
   "execution_count": 5,
   "metadata": {},
   "outputs": [
    {
     "data": {
      "text/plain": [
       "Huffington Post India    14575\n",
       "The Huffington Post      2    \n",
       "Name: meta, dtype: int64"
      ]
     },
     "execution_count": 5,
     "metadata": {},
     "output_type": "execute_result"
    }
   ],
   "source": [
    "metaHP = huff.meta.str.contains(\"[H,Η,h][U,u][F,f][i,F,f,P,p]|ハフ|ポスト|허핑턴|허프|[A,a][O,o][L,l]\", na=False)\n",
    "huff[metaHP].meta.value_counts()"
   ]
  },
  {
   "cell_type": "code",
   "execution_count": 6,
   "metadata": {},
   "outputs": [
    {
     "data": {
      "text/plain": [
       "(14577, 13)"
      ]
     },
     "execution_count": 6,
     "metadata": {},
     "output_type": "execute_result"
    }
   ],
   "source": [
    "huff[metaHP].shape"
   ]
  },
  {
   "cell_type": "code",
   "execution_count": 7,
   "metadata": {},
   "outputs": [
    {
     "data": {
      "text/plain": [
       "41"
      ]
     },
     "execution_count": 7,
     "metadata": {},
     "output_type": "execute_result"
    }
   ],
   "source": [
    "len(huff) - len(huff[metaHP])"
   ]
  },
  {
   "cell_type": "markdown",
   "metadata": {},
   "source": [
    "Le calcul ci-haut nous indique qu'on a **41 articles** qu'on peut d'ores et déjà ranger dans la catégorie des articles qui ne sont *pas* rédigés par l'équipe du *HuffPost*.\n",
    "<hr>\n",
    "Examinons cependant de plus près notre sous-ensemble d'articles dont la balise `meta` prétend qu'ils sont issus du *HuffPost* en regardant qui sont les signataires de ces articles. Les signataires se trouvent dans la colonne `byline`. Voyons voir, donc, ce qu'elle contient."
   ]
  },
  {
   "cell_type": "markdown",
   "metadata": {},
   "source": [
    "<h3 style=\"background:teal;color:white;padding:5px\">Étape 3 - Identification des articles dont les signataires sont inconnus</h3>"
   ]
  },
  {
   "cell_type": "code",
   "execution_count": 8,
   "metadata": {},
   "outputs": [
    {
     "data": {
      "text/plain": [
       "? ?                                                                                                                                                           2851\n",
       "? PTI                                                                                                                                                         1967\n",
       "Adrija Bose Social Media Editor                                                                                                                               760 \n",
       "Ivan Mehta Tech News Editor                                                                                                                                   668 \n",
       "Aashmita Nayar Lifestyle editor, HuffPost India                                                                                                               659 \n",
       "Prajakta Hebbar News Producer, HuffPost India                                                                                                                 635 \n",
       "Suprateek Chatterjee Entertainment Editor                                                                                                                     617 \n",
       "Betwa Sharma Politics Editor, HuffPost India                                                                                                                  598 \n",
       "Rituparna Chatterjee Front page editor, HuffPost India                                                                                                        558 \n",
       "Indrani Basu News Editor, HuffPost India                                                                                                                      542 \n",
       "? ANI                                                                                                                                                         410 \n",
       "Ankur Pathak Bollywood Editor                                                                                                                                 369 \n",
       "                                                                                                                                                             ...  \n",
       "Andy McDonald Comedy Writer / Editor, The Huffington Post                                                                                                     1   \n",
       "? The Center for Public Integrity                                                                                                                             1   \n",
       "Mufsin Mahbub Movie/Music Aficionado and Interviewer                                                                                                          1   \n",
       "YourTango News/Media Website                                                                                                                                  1   \n",
       "Hunter Stuart News Editor, The Huffington Post                                                                                                                1   \n",
       "Alex Mohajer Political Writer and Commentator                                                                                                                 1   \n",
       "Skirting the Rules A societal movement that enlists women through fiction (for inspiration) and non fiction (to turn inspiration into every day solutions)    1   \n",
       "Lamar Dawson Lamar Dawson is a pop culture junkie living in New York City.                                                                                    1   \n",
       "Dipin Damodharan Editorial Head, Future Kerala                                                                                                                1   \n",
       "Christoph Asche Former Politics Editor, HuffPost Germany                                                                                                      1   \n",
       "? Quartz                                                                                                                                                      1   \n",
       "? Quartz Africa                                                                                                                                               1   \n",
       "Name: byline, Length: 347, dtype: int64"
      ]
     },
     "execution_count": 8,
     "metadata": {},
     "output_type": "execute_result"
    }
   ],
   "source": [
    "huff[metaHP].byline.value_counts()"
   ]
  },
  {
   "cell_type": "markdown",
   "metadata": {},
   "source": [
    "Un certain nombre d'auteurs sont inconnus («&nbsp;?&nbsp;» ou «&nbsp;?&nbsp;?&nbsp;»).<br>\n",
    "Ceux marqués d'un seul point d'interrogation seront placés dans le sous-ensemble `inconnu1`, ceux qui sont marqués de deux points d'interrogation dans le sous-ensemble `inconnu2`.<br>\n",
    "Ils représentent quand même près de **20%** du total des articles de cette édition du *Huffington&nbsp;Post*.<br>\n",
    "Nous allons placer cette proportion dans notre variable `HP_inconnu`."
   ]
  },
  {
   "cell_type": "code",
   "execution_count": 9,
   "metadata": {},
   "outputs": [
    {
     "data": {
      "text/plain": [
       "(2851, 19.503352031741688)"
      ]
     },
     "execution_count": 9,
     "metadata": {},
     "output_type": "execute_result"
    }
   ],
   "source": [
    "inconnus1 = huff[metaHP].byline == \"? \"\n",
    "inconnus2 = huff[metaHP].byline == \"? ?\"\n",
    "HP_inconnu = huff[metaHP][inconnus1].pays.count() + huff[metaHP][inconnus2].pays.count()\n",
    "HP_inconnu, (HP_inconnu/len(huff))*100"
   ]
  },
  {
   "cell_type": "markdown",
   "metadata": {},
   "source": [
    "<hr>\n",
    "<h3 style=\"background:teal;color:white;padding:5px\">Étape 4 - Identification des articles originaux au <i>HuffPost</i></h3>"
   ]
  },
  {
   "cell_type": "markdown",
   "metadata": {},
   "source": [
    "Examinons maintenant les articles dont la signature contient certaines chaînes de caractères qui correspondent au *Huffington Post* (dans différentes langues, fautes de frappe incluses), ou à sa compagnie-mère, AOL. On va baptiser ce sous-ensemble `signéHP`."
   ]
  },
  {
   "cell_type": "code",
   "execution_count": 10,
   "metadata": {
    "scrolled": true
   },
   "outputs": [
    {
     "data": {
      "text/plain": [
       "(5642, 13)"
      ]
     },
     "execution_count": 10,
     "metadata": {},
     "output_type": "execute_result"
    }
   ],
   "source": [
    "signeHP = huff[metaHP].byline.str.contains(\"[H,h][U,u,f][F,f][i,F,f,P,p]|ハフ|ポスト|허핑턴|허프|[A,a][O,o][L,l]\",na=False)\n",
    "huff[metaHP][signeHP].shape"
   ]
  },
  {
   "cell_type": "code",
   "execution_count": 11,
   "metadata": {},
   "outputs": [
    {
     "data": {
      "text/plain": [
       "(Aashmita Nayar Lifestyle editor, HuffPost India                                 659\n",
       " Prajakta Hebbar News Producer, HuffPost India                                   635\n",
       " Betwa Sharma Politics Editor, HuffPost India                                    598\n",
       " Rituparna Chatterjee Front page editor, HuffPost India                          558\n",
       " Indrani Basu News Editor, HuffPost India                                        542\n",
       " Piyasree Dasgupta Features Editor, HuffPost India                               263\n",
       " Naina Chaturvedi Editorial Producer, HuffPost India                             258\n",
       " Anurag Verma Trends Editor,  HuffPost India                                     238\n",
       " Anirvan Ghosh Business editor, HuffPost India                                   185\n",
       " Jacob Koshy Business Editor, HuffPost India                                     166\n",
       " Shivam Vij Deputy Editor, HuffPost India                                        138\n",
       " Anwesha Madhukalya Trends Editor, Huffington Post, India                        127\n",
       "                                                                                ... \n",
       " Lee Speigel Writer, Editor, The Huffington Post                                 1  \n",
       " David Wood Senior Military Correspondent, The Huffington Post                   1  \n",
       " Laura Barron-Lopez Congressional Reporter, The Huffington Post                  1  \n",
       " Michael McLaughlin Reporter, The Huffington Post                                1  \n",
       " Kathryn Snowdon News reporter, The Huffington Post UK                           1  \n",
       " Emma Prestwich Associate Editor, Huffington Post Canada                         1  \n",
       " Jessica Samakow Managing Editor, HuffPost Voices                                1  \n",
       " Nicolette Logue News Editor, HuffPost Australia                                 1  \n",
       " Lauren Weber The Morning Email Editor, The Huffington Post                      1  \n",
       " Chloe Angyal Front Page Editor, The Huffington Post                             1  \n",
       " Lilly Workneh Black Voices Senior Editor, The Huffington Post                   1  \n",
       " Jennifer Bendery White House and Congressional Reporter, The Huffington Post    1  \n",
       " Name: byline, Length: 224, dtype: int64, 224)"
      ]
     },
     "execution_count": 11,
     "metadata": {},
     "output_type": "execute_result"
    }
   ],
   "source": [
    "huff[metaHP][signeHP].byline.value_counts(), huff[metaHP][signeHP].byline.value_counts().count()"
   ]
  },
  {
   "cell_type": "markdown",
   "metadata": {},
   "source": [
    "Le *Huffington Post* est nommé, d'une façon ou d'une autre, dans ces quelque **5&nbsp;642 articles** signés par **224 signataires différents**.<br>\n",
    "Cela représente plus du tiers de l'ensemble des articles publiés par l'édition indienne du *HuffPost* dans la période étudiée.\n",
    "On peut placer cette proportion dans notre variable `HP_oui`."
   ]
  },
  {
   "cell_type": "code",
   "execution_count": 12,
   "metadata": {},
   "outputs": [
    {
     "data": {
      "text/plain": [
       "(5642, 38.596251197154189)"
      ]
     },
     "execution_count": 12,
     "metadata": {},
     "output_type": "execute_result"
    }
   ],
   "source": [
    "HP_oui = huff[metaHP][signeHP].pays.count()\n",
    "HP_oui, (HP_oui/len(huff))*100"
   ]
  },
  {
   "cell_type": "markdown",
   "metadata": {},
   "source": [
    "<hr>\n",
    "<h3 style=\"background:teal;color:white;padding:5px\">Étape 5 - Identification des articles <u>extérieurs</u> au <i>HuffPost</i></h3>"
   ]
  },
  {
   "cell_type": "markdown",
   "metadata": {},
   "source": [
    "On va donc faire la même opération, mais pour tous les postes dans lesquels **on ne trouve pas** les chaînes de caractères permettant d'identifier le *Huffington&nbsp;Post* dans différentes langues. On va créer un nouveau sous-ensemble qu'on va baptiser `NONsignéHP`."
   ]
  },
  {
   "cell_type": "code",
   "execution_count": 13,
   "metadata": {
    "scrolled": true
   },
   "outputs": [
    {
     "data": {
      "text/plain": [
       "(8935, 13)"
      ]
     },
     "execution_count": 13,
     "metadata": {},
     "output_type": "execute_result"
    }
   ],
   "source": [
    "NONsigneHP = ~huff[metaHP].byline.str.contains(\"[H,h][U,u,f][F,f][i,F,f,P,p]|ハフ|ポスト|허핑턴|허프|[A,a][O,o][L,l]\",na=False)\n",
    "huff[metaHP][NONsigneHP].shape"
   ]
  },
  {
   "cell_type": "markdown",
   "metadata": {},
   "source": [
    "Qui sont ces auteurs qui ne signent pas des articles originaux pour le *HuffPost*?"
   ]
  },
  {
   "cell_type": "code",
   "execution_count": 14,
   "metadata": {},
   "outputs": [
    {
     "data": {
      "text/plain": [
       "(? ?                                                                                           2851\n",
       " ? PTI                                                                                         1967\n",
       " Adrija Bose Social Media Editor                                                               760 \n",
       " Ivan Mehta Tech News Editor                                                                   668 \n",
       " Suprateek Chatterjee Entertainment Editor                                                     617 \n",
       " ? ANI                                                                                         410 \n",
       " Ankur Pathak Bollywood Editor                                                                 369 \n",
       " ? Press Trust Of India                                                                        233 \n",
       " Rimin Dutt Business Editor                                                                    170 \n",
       " Vyas Mohan Evening Editor                                                                     168 \n",
       " ? IANS                                                                                        144 \n",
       " Sonam Joshi Lifestyle Editor                                                                  80  \n",
       "                                                                                               ..  \n",
       " Sohail Hashmi                                                                                 1   \n",
       " ? Shivam Vij                                                                                  1   \n",
       " Jai Prakash Ojha Assistant Registrar, Indira Gandhi National Open University                  1   \n",
       " ? Vocativ                                                                                     1   \n",
       " ? Adrija Bose                                                                                 1   \n",
       " ? Fusion                                                                                      1   \n",
       " Ron Moelis Co-founder of L+M Development Partners                                             1   \n",
       " ? NDTV                                                                                        1   \n",
       " Farah Mohamed Managing Editor, The WorldPost                                                  1   \n",
       " ? PA                                                                                          1   \n",
       " Angela Giuffrida Rome-based freelance journalist                                              1   \n",
       " Emma Louise Pudge Feminist, eating disorders activist, and student at University of Exeter    1   \n",
       " Name: byline, Length: 123, dtype: int64, 123)"
      ]
     },
     "execution_count": 14,
     "metadata": {},
     "output_type": "execute_result"
    }
   ],
   "source": [
    "huff[metaHP][NONsigneHP].byline.value_counts(), huff[metaHP][NONsigneHP].byline.value_counts().count() "
   ]
  },
  {
   "cell_type": "markdown",
   "metadata": {},
   "source": [
    "Des 123 signataires ci-dessus, par contre, on trouve plusieurs «&nbsp;employés fantôme&nbsp;». Ils comprennent, dans leur signature, les mots *«&nbsp;editor&nbsp;»*, *«&nbsp;correspondent&nbsp;»*, *«&nbsp;producer&nbsp;»* ou *«&nbsp;reporter&nbsp;»*, par exemples.\n",
    "Isolons-les."
   ]
  },
  {
   "cell_type": "code",
   "execution_count": 15,
   "metadata": {
    "scrolled": true
   },
   "outputs": [
    {
     "data": {
      "text/plain": [
       "(Adrija Bose Social Media Editor                                                                     760\n",
       " Ivan Mehta Tech News Editor                                                                         668\n",
       " Suprateek Chatterjee Entertainment Editor                                                           617\n",
       " Ankur Pathak Bollywood Editor                                                                       369\n",
       " Rimin Dutt Business Editor                                                                          170\n",
       " Vyas Mohan Evening Editor                                                                           168\n",
       " Sonam Joshi Lifestyle Editor                                                                        80 \n",
       " Sudhi Ranjan Sen Deputy Editor (News)                                                               27 \n",
       " Rukmini S Editor, Data & Innovation                                                                 19 \n",
       " Anahita Khanna Editorial Fellow                                                                     13 \n",
       " Carol Kuruvilla Associate Religion Editor                                                           10 \n",
       " Freya Dasgupta Senior News Producer                                                                 10 \n",
       "                                                                                                     .. \n",
       " Sophia Jones Middle East correspondent, The WorldPost                                               2  \n",
       " Daniel Welsh Entertainment Reporter                                                                 2  \n",
       " Nathan Gardels Editor-in-chief, The WorldPost                                                       2  \n",
       " Emily Peck Executive Editor, Business and Technology                                                2  \n",
       " Himanshu Bhagat Copy Editor                                                                         2  \n",
       " Manuel Hernández Borbolla Reportero. Ganador del Premio Alemán de Periodismo Walter Reuter 2014.    1  \n",
       " Dipin Damodharan Editorial Head, Future Kerala                                                      1  \n",
       " Haroon Janjua Freelance Investigative Reporter                                                      1  \n",
       " Krithika Varagur Associate Editor, What's Working                                                   1  \n",
       " Arti Patel Editor, Lifestyle                                                                        1  \n",
       " Farah Mohamed Managing Editor, The WorldPost                                                        1  \n",
       " Rachel McGrath Entertainment Reporter                                                               1  \n",
       " Name: byline, Length: 32, dtype: int64, 2971)"
      ]
     },
     "execution_count": 15,
     "metadata": {},
     "output_type": "execute_result"
    }
   ],
   "source": [
    "fantomes = huff[metaHP][NONsigneHP].byline.str.contains(\"[E,e]ditor|[C,c]orrespondent|[P,p]roducer|[R,r]eporte\")\n",
    "huff[metaHP][NONsigneHP][fantomes].byline.value_counts(), huff[metaHP][NONsigneHP][fantomes].byline.value_counts().sum()"
   ]
  },
  {
   "cell_type": "markdown",
   "metadata": {},
   "source": [
    "Il y a donc 2&nbsp;971 articles qui ont été écrits par des employés du *HuffPost* ou des pigistes. On peut les ajouter à notre variable `HP_oui`."
   ]
  },
  {
   "cell_type": "code",
   "execution_count": 16,
   "metadata": {},
   "outputs": [
    {
     "data": {
      "text/plain": [
       "(8613, 58.920508961554255)"
      ]
     },
     "execution_count": 16,
     "metadata": {},
     "output_type": "execute_result"
    }
   ],
   "source": [
    "HP_oui = huff[metaHP][signeHP].pays.count() + 2971\n",
    "HP_oui, (HP_oui/len(huff))*100"
   ]
  },
  {
   "cell_type": "markdown",
   "metadata": {},
   "source": [
    "Pour calculer le pourcentage des articles signés par des auteurs externes, il faut soustraire de notre sous-ensemble `NONsignéHP` les articles contenus dans les deux sous-ensembles `inconnu1` et `inconnu2`, additionner les articles qu'on a identifiés plus haut dont la balise `meta` ne pouvait pas être associée au *HuffPost*, et retrancher les articles qu'on vient d'ajouter à notre variable `HP_oui`."
   ]
  },
  {
   "cell_type": "code",
   "execution_count": 17,
   "metadata": {},
   "outputs": [
    {
     "data": {
      "text/plain": [
       "(3154, 21.576139006704064)"
      ]
     },
     "execution_count": 17,
     "metadata": {},
     "output_type": "execute_result"
    }
   ],
   "source": [
    "HP_non = huff[metaHP][NONsigneHP].pays.count() - (huff[metaHP][inconnus1].pays.count() + huff[metaHP][inconnus2].pays.count()) + (len(huff) - len(huff[metaHP])) - 2971\n",
    "HP_non, (HP_non/len(huff))*100"
   ]
  },
  {
   "cell_type": "markdown",
   "metadata": {},
   "source": [
    "On a désormais tout ce qu'il nous faut pour faire le camembert évoqué plus haut."
   ]
  },
  {
   "cell_type": "code",
   "execution_count": 18,
   "metadata": {},
   "outputs": [
    {
     "data": {
      "text/plain": [
       "<matplotlib.axes._subplots.AxesSubplot at 0x19ca95c18>"
      ]
     },
     "execution_count": 18,
     "metadata": {},
     "output_type": "execute_result"
    },
    {
     "data": {
      "image/png": "[encoded data removed]",
      "text/plain": [
       "<matplotlib.figure.Figure at 0x115820b00>"
      ]
     },
     "metadata": {},
     "output_type": "display_data"
    }
   ],
   "source": [
    "camembert = pd.Series([HP_oui,HP_non,HP_inconnu], index=[\"Oui\",\"Non\",\"Inconnu\"],name=\"\")\n",
    "titre = plt.figure(facecolor=\"beige\")\n",
    "titre.suptitle(\"HuffPost Inde\", fontsize=24, fontweight=\"light\", fontname=\"Serif\")\n",
    "camembert.plot.pie(colors=[\"aqua\",\"coral\",\"lightgrey\"],\n",
    "                   wedgeprops={\"linewidth\":3,\"edgecolor\":\"white\"},\n",
    "                   textprops={\"weight\":\"bold\",\"fontsize\":14},\n",
    "                   counterclock=False,\n",
    "                   startangle=90,\n",
    "                   autopct=\"%1.1f%%\",\n",
    "                   figsize=(8,8)\n",
    ")"
   ]
  },
  {
   "cell_type": "markdown",
   "metadata": {},
   "source": [
    "<hr>\n",
    "<h3 style=\"background:teal;color:white;padding:5px\">Étape 6 - Exercice boni&nbsp;: les étiquettes (<i>tags</i>)</h3>"
   ]
  },
  {
   "cell_type": "markdown",
   "metadata": {},
   "source": [
    "Chaque article du *Huffington Post* est généralement accompagné d'une dizaine de marqueurs, ou d'étiquettes (*tags* en anglais). Voici ceux qui sont le plus fréquemment utilisés par cette édition."
   ]
  },
  {
   "cell_type": "code",
   "execution_count": 19,
   "metadata": {},
   "outputs": [
    {
     "data": {
      "text/plain": [
       "in-news                            7432\n",
       "news                               7306\n",
       "News                               2695\n",
       "in-politics                        2092\n",
       "politics                           1965\n",
       "entertainment                      1699\n",
       "in-entertainment                   1652\n",
       "Politics                           795 \n",
       "india                              725 \n",
       "in-lifestyle                       720 \n",
       "lifestyle                          664 \n",
       "bollywood                          661 \n",
       "                                  ...  \n",
       "Kurla                              1   \n",
       "Heydar Aliyev Centre               1   \n",
       "tv-campaign-ads                    1   \n",
       "Akshaye Khanna                     1   \n",
       "watson                             1   \n",
       "nttdocomo                          1   \n",
       "woman sets herself ablaze          1   \n",
       "Shrikant Sharma                    1   \n",
       "terrorist Udhampur                 1   \n",
       "international films                1   \n",
       "hyderabad techies wife murdered    1   \n",
       "Dilwale Shah Rukh Khan             1   \n",
       "Length: 31753, dtype: int64"
      ]
     },
     "execution_count": 19,
     "metadata": {},
     "output_type": "execute_result"
    }
   ],
   "source": [
    "etiquettes = huff.set_index('pays').tags.str.split(',', expand=True).stack().rename(columns={0:'tag'}).reset_index(drop=True)\n",
    "etiquettes.value_counts(dropna=False)"
   ]
  },
  {
   "cell_type": "code",
   "execution_count": null,
   "metadata": {
    "collapsed": true
   },
   "outputs": [],
   "source": []
  }
 ],
 "metadata": {
  "kernelspec": {
   "display_name": "Python 3",
   "language": "python",
   "name": "python3"
  },
  "language_info": {
   "codemirror_mode": {
    "name": "ipython",
    "version": 3
   },
   "file_extension": ".py",
   "mimetype": "text/x-python",
   "name": "python",
   "nbconvert_exporter": "python",
   "pygments_lexer": "ipython3",
   "version": "3.6.2"
  }
 },
 "nbformat": 4,
 "nbformat_minor": 1
}
