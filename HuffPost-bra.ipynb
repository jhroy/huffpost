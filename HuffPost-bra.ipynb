{
 "cells": [
  {
   "cell_type": "markdown",
   "metadata": {},
   "source": [
    "<table border=0px>\n",
    "<tr>\n",
    "<td>\n",
    "<img src=\"https://upload.wikimedia.org/wikipedia/commons/thumb/5/5a/HuffPost.svg/320px-HuffPost.svg.png\">\n",
    "</td>\n",
    "<td>\n",
    "<img src=\"https://upload.wikimedia.org/wikipedia/commons/thumb/0/05/Flag_of_Brazil.svg/320px-Flag_of_Brazil.svg.png\">\n",
    "</td>\n",
    "</tr>\n",
    "</table>"
   ]
  },
  {
   "cell_type": "markdown",
   "metadata": {},
   "source": [
    "# Analyse des sources de l'édition brésilienne du *Huff Post* (2014-2016) en 6 étapes faciles\n",
    "<hr>"
   ]
  },
  {
   "cell_type": "markdown",
   "metadata": {},
   "source": [
    "<h3 style=\"background:teal;color:white;padding:5px\">Étape 1 - Initialisation de notre <i>notebook</i> et lecture du fichier CSV contenant nos données</h3>"
   ]
  },
  {
   "cell_type": "code",
   "execution_count": 24,
   "metadata": {
    "collapsed": true
   },
   "outputs": [],
   "source": [
    "import csv, re, random\n",
    "import pandas as pd\n",
    "import numpy as np\n",
    "import matplotlib as mpl\n",
    "import matplotlib.pyplot as plt\n",
    "from scipy import stats, integrate\n",
    "pd.set_option('display.max_colwidth', -1)\n",
    "pd.options.display.max_rows = 25\n",
    "pd.options.mode.chained_assignment = None\n",
    "%matplotlib inline"
   ]
  },
  {
   "cell_type": "markdown",
   "metadata": {},
   "source": [
    "On lit notre fichier CSV de base, puis on crée une variable `edition` pour identifier le pays sur lequel on va travailler. La variable `huff` ne contient que les **20&nbsp;831 articles** de l'édition du pays auquel on s'intéresse ici."
   ]
  },
  {
   "cell_type": "code",
   "execution_count": 22,
   "metadata": {
    "collapsed": false
   },
   "outputs": [
    {
     "data": {
      "text/plain": [
       "(20831, 13)"
      ]
     },
     "execution_count": 22,
     "metadata": {},
     "output_type": "execute_result"
    }
   ],
   "source": [
    "huff = pd.read_csv(\"scraping-nettoye.csv\", low_memory=False)\n",
    "edition = \"Brésil\"\n",
    "huff = huff[huff.pays == edition]\n",
    "huff.shape"
   ]
  },
  {
   "cell_type": "markdown",
   "metadata": {},
   "source": [
    "Le but de cet exercice étant d'identifier le taux d'originalité du *HuffPost*, on va créer trois variables.\n",
    "\n",
    "- `HP_oui` contiendra la proportion d'articles qui sont originaux (signés par des employés du *HuffPost* ou des pigistes).\n",
    "- `HP_non` contiendra la proportion d'articles qui ne sont pas originaux (repris d'agences externes ou d'autres médias).\n",
    "- `HP_inconnu` contiendra la proportion d'articles dont on ne peut pas établir la provenance.\n",
    "\n",
    "La somme de ces trois variables équivaudra à 100. On s'en servira pour faire un graphique en pointes de tarte (camembert) à la fin."
   ]
  },
  {
   "cell_type": "code",
   "execution_count": 25,
   "metadata": {
    "collapsed": true
   },
   "outputs": [],
   "source": [
    "HP_oui = 0\n",
    "HP_non = 0\n",
    "HP_inconnu = 0"
   ]
  },
  {
   "cell_type": "markdown",
   "metadata": {},
   "source": [
    "<h3 style=\"background:teal;color:white;padding:5px\">Étape 2 - Filtrer les balises <i>meta</i></h3>"
   ]
  },
  {
   "cell_type": "markdown",
   "metadata": {},
   "source": [
    "<hr>\n",
    "Ce ne sont pas tous les articles de cette édition qui ont, pour nom dans leurs balises `meta`, l'une ou l'autre des éditions du *Huffington Post*, ou de sa compagnie-mère, AOL"
   ]
  },
  {
   "cell_type": "code",
   "execution_count": 26,
   "metadata": {
    "collapsed": false,
    "scrolled": true
   },
   "outputs": [
    {
     "data": {
      "text/plain": [
       "HuffPost Brasil                                  20654\n",
       "BBC Brasil                                       15   \n",
       "O Globo                                          13   \n",
       "Extra Online                                     8    \n",
       "São Paulo                                        8    \n",
       "EL PAÍS                                          7    \n",
       "Estadão                                          5    \n",
       "BuzzFeed                                         5    \n",
       "VEJA.com                                         4    \n",
       "Exame                                            4    \n",
       "revistaepoca.globo.com                           4    \n",
       "UOL Esporte                                      4    \n",
       "                                                ..    \n",
       "Abecedário - Folha de S.Paulo - Blogs            1    \n",
       "Pop & Arte                                       1    \n",
       "Pequenas Empresas Grandes Negócios               1    \n",
       "Carnaval 2015 em São Paulo                       1    \n",
       "Pública                                          1    \n",
       "Gaúcha                                           1    \n",
       "Sorocaba e Jundiaí                               1    \n",
       "Climatempo                                       1    \n",
       "YOUPIX                                           1    \n",
       "Processo de Impeachment de Dilma                 1    \n",
       "A Chata das Dietas - Folha de S.Paulo - Blogs    1    \n",
       "Geledés                                          1    \n",
       "Name: meta, Length: 78, dtype: int64"
      ]
     },
     "execution_count": 26,
     "metadata": {},
     "output_type": "execute_result"
    }
   ],
   "source": [
    "huff.meta.value_counts()"
   ]
  },
  {
   "cell_type": "markdown",
   "metadata": {},
   "source": [
    "Créons un sous-ensemble avec les articles qui, selon la balise `meta`, semblent issus du *HP*."
   ]
  },
  {
   "cell_type": "code",
   "execution_count": 27,
   "metadata": {
    "collapsed": false
   },
   "outputs": [
    {
     "data": {
      "text/plain": [
       "HuffPost Brasil    20654\n",
       "Name: meta, dtype: int64"
      ]
     },
     "execution_count": 27,
     "metadata": {},
     "output_type": "execute_result"
    }
   ],
   "source": [
    "metaHP = huff.meta.str.contains(\"[H,Η,h][U,u][F,f][i,F,f,P,p]|ハフ|ポスト|허핑턴|허프|[A,a][O,o][L,l]\", na=False)\n",
    "huff[metaHP].meta.value_counts()"
   ]
  },
  {
   "cell_type": "code",
   "execution_count": 28,
   "metadata": {
    "collapsed": false
   },
   "outputs": [
    {
     "data": {
      "text/plain": [
       "(20654, 13)"
      ]
     },
     "execution_count": 28,
     "metadata": {},
     "output_type": "execute_result"
    }
   ],
   "source": [
    "huff[metaHP].shape"
   ]
  },
  {
   "cell_type": "code",
   "execution_count": 29,
   "metadata": {
    "collapsed": false
   },
   "outputs": [
    {
     "data": {
      "text/plain": [
       "177"
      ]
     },
     "execution_count": 29,
     "metadata": {},
     "output_type": "execute_result"
    }
   ],
   "source": [
    "len(huff) - len(huff[metaHP])"
   ]
  },
  {
   "cell_type": "markdown",
   "metadata": {},
   "source": [
    "Le calcul ci-haut nous indique qu'on a **177 articles** qu'on peut d'ores et déjà ranger dans la catégorie des articles qui ne sont *pas* rédigés par l'équipe du *HuffPost*.\n",
    "<hr>\n",
    "Examinons cependant de plus près notre sous-ensemble d'articles dont la balise `meta` prétend qu'ils sont issus du *HuffPost* en regardant qui sont les signataires de ces articles. Les signataires se trouvent dans la colonne `byline`. Voyons voir, donc, ce qu'elle contient."
   ]
  },
  {
   "cell_type": "markdown",
   "metadata": {},
   "source": [
    "<h3 style=\"background:teal;color:white;padding:5px\">Étape 3 - Identification des articles dont les signataires sont inconnus</h3>"
   ]
  },
  {
   "cell_type": "code",
   "execution_count": 30,
   "metadata": {
    "collapsed": false
   },
   "outputs": [
    {
     "data": {
      "text/plain": [
       "? HuffPost Brasil                                                                               3243\n",
       "? Brasil Post                                                                                   1582\n",
       "? Estadão Conteúdo                                                                              1442\n",
       "Cleber Facchi Jornalista, Editor de Mídias Sociais, Music Geek e criador do blog Miojo Indie    1148\n",
       "Caio Delcolli Repórter de diversão do HuffPost Brasil e usuário de All Star verde               967 \n",
       "Grasielle Castro Editora de estratégias e tendências, HuffPost Brasil                           735 \n",
       "Andréa Martinelli Editora no HuffPost Brasil                                                    677 \n",
       "Ione Aguiar Editora de Mídias Sociais do HuffPost Brasil                                        633 \n",
       "Diego Iraheta Editor Chefe, HuffPost Brasil                                                     569 \n",
       "Luiza Belloni Repórter de Notícias no HuffPost Brasil                                           548 \n",
       "? ?                                                                                             543 \n",
       "Rafael Nardini Editor-assistente de notícias no HuffPost Brasil                                 526 \n",
       "                                                                                               ...  \n",
       "? VEJA.COM                                                                                      1   \n",
       "Chiara Piotto Giornalista, collabora con HuffPostItalia                                         1   \n",
       "? Brasil Post, com agências                                                                     1   \n",
       "? Conectas                                                                                      1   \n",
       "Ned Simons Assistant Political Editor, The Huffington Post UK                                   1   \n",
       "Aaron Barksdale Freelance Culture Writer                                                        1   \n",
       "Ron Dicker General Assignment Reporter, The Huffington Post                                     1   \n",
       "? The Quiet Revolution                                                                          1   \n",
       "? Pop pop pop!                                                                                  1   \n",
       "? Tatiane Rosset                                                                                1   \n",
       "? Agência A Pública                                                                             1   \n",
       "? Alexandre Versignassi                                                                         1   \n",
       "Name: byline, Length: 654, dtype: int64"
      ]
     },
     "execution_count": 30,
     "metadata": {},
     "output_type": "execute_result"
    }
   ],
   "source": [
    "huff[metaHP].byline.value_counts()"
   ]
  },
  {
   "cell_type": "markdown",
   "metadata": {},
   "source": [
    "Un certain nombre d'auteurs sont inconnus («&nbsp;?&nbsp;?&nbsp;»).<br>\n",
    "On va les placer dans la variable `inconnu`.<br>\n",
    "Ils représentent un peu plus de **2,6%** du total des articles de cette édition du *Huffington&nbsp;Post*."
   ]
  },
  {
   "cell_type": "code",
   "execution_count": 31,
   "metadata": {
    "collapsed": false
   },
   "outputs": [
    {
     "data": {
      "text/plain": [
       "(543, 2.6066919494983436)"
      ]
     },
     "execution_count": 31,
     "metadata": {},
     "output_type": "execute_result"
    }
   ],
   "source": [
    "inconnus1 = huff[metaHP].byline == \"? \"\n",
    "inconnus2 = huff[metaHP].byline == \"? ?\"\n",
    "HP_inconnu = huff[metaHP][inconnus1].pays.count() + huff[metaHP][inconnus2].pays.count()\n",
    "HP_inconnu, (HP_inconnu/len(huff))*100"
   ]
  },
  {
   "cell_type": "markdown",
   "metadata": {},
   "source": [
    "<hr>\n",
    "<h3 style=\"background:teal;color:white;padding:5px\">Étape 4 - Identification des articles originaux au <i>HuffPost</i></h3>"
   ]
  },
  {
   "cell_type": "markdown",
   "metadata": {},
   "source": [
    "Examinons maintenant les articles dont la signature contient certaines chaînes de caractères qui correspondent au *Huffington Post* (dans différentes langues, fautes de frappe incluses), ou à sa compagnie-mère, AOL. On va baptiser ce sous-ensemble `signéHP`."
   ]
  },
  {
   "cell_type": "code",
   "execution_count": 32,
   "metadata": {
    "collapsed": false,
    "scrolled": true
   },
   "outputs": [
    {
     "data": {
      "text/plain": [
       "(13343, 13)"
      ]
     },
     "execution_count": 32,
     "metadata": {},
     "output_type": "execute_result"
    }
   ],
   "source": [
    "signeHP = huff[metaHP].byline.str.contains(\"[H,h][U,u,f][F,f][i,F,f,P,p]|ハフ|ポスト|허핑턴|허프|[A,a][O,o][L,l]|Brasil Post\",na=False)\n",
    "huff[metaHP][signeHP].shape"
   ]
  },
  {
   "cell_type": "code",
   "execution_count": 33,
   "metadata": {
    "collapsed": false
   },
   "outputs": [
    {
     "data": {
      "text/plain": [
       "(? HuffPost Brasil                                                                    3243\n",
       " ? Brasil Post                                                                        1582\n",
       " Caio Delcolli Repórter de diversão do HuffPost Brasil e usuário de All Star verde    967 \n",
       " Grasielle Castro Editora de estratégias e tendências, HuffPost Brasil                735 \n",
       " Andréa Martinelli Editora no HuffPost Brasil                                         677 \n",
       " Ione Aguiar Editora de Mídias Sociais do HuffPost Brasil                             633 \n",
       " Diego Iraheta Editor Chefe, HuffPost Brasil                                          569 \n",
       " Luiza Belloni Repórter de Notícias no HuffPost Brasil                                548 \n",
       " Rafael Nardini Editor-assistente de notícias no HuffPost Brasil                      526 \n",
       " ? Do Brasil Post                                                                     378 \n",
       " Ana Beatriz Rosa Repórter de Vozes, Mulheres e Notícias, HuffPost Brasil             349 \n",
       " Amauri Terto Repórter de Entretenimento do HuffPost Brasil                           325 \n",
       "                                                                                     ...  \n",
       " ? Brasil Post com Agência Brasil                                                     1   \n",
       " Steven Hoffer Editor, The Huffington Post                                            1   \n",
       " Paul Vale Editor do Huffington Post UK                                               1   \n",
       " ? HuffPost Spain                                                                     1   \n",
       " ? HuffPost Australia                                                                 1   \n",
       " ? HuffPost Italy                                                                     1   \n",
       " Bianca Bosker Executive Tech Editor, The Huffington Post                             1   \n",
       " Joe Van Brussel Director of Content Strategy, HuffPost Partner Studio                1   \n",
       " Liat Kornowski Deputy Director of Growth and Analytics, The Huffington Post          1   \n",
       " Jasmin Gray Student News Reporter, The Huffington Post UK                            1   \n",
       " ? Agência com HuffPost                                                               1   \n",
       " Rebecca Klein Editor, HuffPost Education                                             1   \n",
       " Name: byline, Length: 354, dtype: int64, 354)"
      ]
     },
     "execution_count": 33,
     "metadata": {},
     "output_type": "execute_result"
    }
   ],
   "source": [
    "huff[metaHP][signeHP].byline.value_counts(), huff[metaHP][signeHP].byline.value_counts().count()"
   ]
  },
  {
   "cell_type": "markdown",
   "metadata": {},
   "source": [
    "Le *Huffington Post* est nommé, d'une façon ou d'une autre, dans ces quelque **13&nbsp;343 articles** signés par **354 signataires différents**.<br>\n",
    "Cela représente près des deux-tiers de l'ensemble des articles publiés par l'édition brésilienne du *HuffPost* dans la période étudiée.\n",
    "On peut placer cette proportion dans notre variable `HP_oui`."
   ]
  },
  {
   "cell_type": "code",
   "execution_count": 34,
   "metadata": {
    "collapsed": false
   },
   "outputs": [
    {
     "data": {
      "text/plain": [
       "(13343, 64.053574000288023)"
      ]
     },
     "execution_count": 34,
     "metadata": {},
     "output_type": "execute_result"
    }
   ],
   "source": [
    "HP_oui = huff[metaHP][signeHP].pays.count()\n",
    "HP_oui, (HP_oui/len(huff))*100"
   ]
  },
  {
   "cell_type": "markdown",
   "metadata": {},
   "source": [
    "<hr>\n",
    "<h3 style=\"background:teal;color:white;padding:5px\">Étape 5 - Identification des articles <u>extérieurs</u> au <i>HuffPost</i></h3>"
   ]
  },
  {
   "cell_type": "markdown",
   "metadata": {},
   "source": [
    "On va donc faire la même opération, mais pour tous les postes dans lesquels **on ne trouve pas** les chaînes de caractères permettant d'identifier le *Huffington&nbsp;Post* dans différentes langues. On va créer une nouvelle variable qu'on va appeler `NONsignéHP`."
   ]
  },
  {
   "cell_type": "code",
   "execution_count": 35,
   "metadata": {
    "collapsed": false,
    "scrolled": true
   },
   "outputs": [
    {
     "data": {
      "text/plain": [
       "(7311, 13)"
      ]
     },
     "execution_count": 35,
     "metadata": {},
     "output_type": "execute_result"
    }
   ],
   "source": [
    "NONsigneHP = ~huff[metaHP].byline.str.contains(\"[H,h][U,u,f][F,f][i,F,f,P,p]|ハフ|ポスト|허핑턴|허프|[A,a][O,o][L,l]|Brasil Post\",na=False)\n",
    "huff[metaHP][NONsigneHP].shape"
   ]
  },
  {
   "cell_type": "markdown",
   "metadata": {},
   "source": [
    "Qui sont ces auteurs qui ne font pas partie de l'équipe du *HuffPost*?"
   ]
  },
  {
   "cell_type": "code",
   "execution_count": 36,
   "metadata": {
    "collapsed": false,
    "scrolled": true
   },
   "outputs": [
    {
     "data": {
      "text/plain": [
       "(? Estadão Conteúdo                                                                              1442\n",
       " Cleber Facchi Jornalista, Editor de Mídias Sociais, Music Geek e criador do blog Miojo Indie    1148\n",
       " ? ?                                                                                             543 \n",
       " ? Agência Brasil                                                                                467 \n",
       " ? Veja.com                                                                                      409 \n",
       " ? Superinteressante                                                                             248 \n",
       " Larissa Baltazar                                                                                246 \n",
       " Daniela Carasco                                                                                 230 \n",
       " Elizabeth Costa Jornalista                                                                      180 \n",
       " ? MdeMulher                                                                                     148 \n",
       " Rodolfo Viana Jornalista brasileiro que gosta de novela russa, filosofia alemã e rock inglês    133 \n",
       " ? EXAME.com                                                                                     128 \n",
       "                                                                                                ...  \n",
       " ? Ansa Brasil                                                                                   1   \n",
       " ? Elástica.ag                                                                                   1   \n",
       " ? Brasil post, com agências                                                                     1   \n",
       " ? ELLE Brasil                                                                                   1   \n",
       " Andres Jauregui                                                                                 1   \n",
       " ? Super Interessante                                                                            1   \n",
       " Melissa McGlensey                                                                               1   \n",
       " Chris Paine Film maker \"Who Killed the Electric Car\"                                            1   \n",
       " Justin Block Associate Sports Editor                                                            1   \n",
       " ? Agência Brasil, com Estadão Conteúdo e Reuters                                                1   \n",
       " Colton Valentine                                                                                1   \n",
       " ? Quatro Rodas                                                                                  1   \n",
       " Name: byline, Length: 300, dtype: int64, 300)"
      ]
     },
     "execution_count": 36,
     "metadata": {},
     "output_type": "execute_result"
    }
   ],
   "source": [
    "huff[metaHP][NONsigneHP].byline.value_counts(), huff[metaHP][NONsigneHP].byline.value_counts().count()"
   ]
  },
  {
   "cell_type": "markdown",
   "metadata": {},
   "source": [
    "Des quelque 300 signataires ci-dessus, par contre, on trouve quelques «&nbsp;employés fantôme&nbsp;».\n",
    "\n",
    "C'est le cas de *«&nbsp;Cleber Facchi Jornalista, Editor de Mídias Sociais, Music Geek e criador do blog Miojo Indie&nbsp;»*, qui compte **1&nbsp;148 articles**. Selon [sa page d'auteur](http://www.huffpostbrasil.com/author/cleber-facchi/), c'est bel et bien un employé du *Brasil Post*.\n",
    "\n",
    "C'est également le cas de *«&nbsp;Bill Bradley Entertainment Editor&nbsp;»*, qui compte **18 articles**. Selon [sa page d'auteur](http://www.huffingtonpost.com/author/bill-bradley), c'est un employé de l'édition américaine du *Huffington Post*.\n",
    "\n",
    "Mais tous les autres auteurs vérifiés ne semblent pas être des employés du *HP*. Par exemple, sur [la page d'auteure de Larissa Baltazar](http://www.huffpostbrasil.com/author/larissa-baltazar/), qui signe **246 articles**, on ne trouve aucune mention qu'elle est une employée du *Brasil Post*, pas plus que sur [son compte Twitter](https://twitter.com/larissabaltazar). Même chose avec Pedro Sibahi, qui signe **107 articles**. Ni sa [page d'auteur](http://www.huffpostbrasil.com/author/pedro-sibahi/) ni [son profi Twitter](https://twitter.com/psibahi) n'indiquent qu'il est employé de l'édition brésilienne du *Post*.\n",
    "\n",
    "On ne va donc considérer que les signataires qui comprennent le mot *«&nbsp;Editor&nbsp;»* comme faisant partie de l'équipe du *HuffPost Brasil*."
   ]
  },
  {
   "cell_type": "code",
   "execution_count": 37,
   "metadata": {
    "collapsed": false,
    "scrolled": true
   },
   "outputs": [
    {
     "data": {
      "text/plain": [
       "(Cleber Facchi Jornalista, Editor de Mídias Sociais, Music Geek e criador do blog Miojo Indie    1148\n",
       " Sarah Klein Senior Editor, Health & Fitness; Certified Personal Trainer                         15  \n",
       " Bill Bradley Entertainment Editor                                                               8   \n",
       " Amanda L. Chan Managing Editor, Healthy Living                                                  8   \n",
       " Ed Mazza Overnight Editor                                                                       6   \n",
       " Anna Almendrala Healthy Living Editor                                                           6   \n",
       " Arti Patel Editor, Lifestyle                                                                    3   \n",
       " Erin Whitney Associate Entertainment Editor                                                     3   \n",
       " Emily Peck Executive Editor, Business and Technology                                            3   \n",
       " Roque Planas Editor, Latino Voices                                                              3   \n",
       " Rachel McGrath Editorial Assistant, Entertainment                                               2   \n",
       " Mandy Velez Editor at A+                                                                        2   \n",
       "                                                                                                ..   \n",
       " Justin Block Associate Sports Editor                                                            1   \n",
       " Brian Gresko Writer, Editor of WHEN I FIRST HELD YOU                                            1   \n",
       " Carol Kuruvilla Associate Religion Editor                                                       1   \n",
       " Sophie Brown Assistant Editor, Mumsnet                                                          1   \n",
       " Isaac Saul Editor, A Plus                                                                       1   \n",
       " Taryn Finley Voices Editorial Fellow                                                            1   \n",
       " Amanda Golden Editor-at-Large, Colgate University                                               1   \n",
       " Kim Bellware Associate Chicago Editor                                                           1   \n",
       " Adrija Bose Social Media Editor                                                                 1   \n",
       " Corrie Pikul Writer/Editor                                                                      1   \n",
       " Megan Mayer Associate Editor                                                                    1   \n",
       " Lucy McCalmont Sports Editor                                                                    1   \n",
       " Name: byline, Length: 26, dtype: int64, 1223)"
      ]
     },
     "execution_count": 37,
     "metadata": {},
     "output_type": "execute_result"
    }
   ],
   "source": [
    "fantomes = huff[metaHP][NONsigneHP].byline.str.contains(\"Editor\")\n",
    "huff[metaHP][NONsigneHP][fantomes].byline.value_counts(), huff[metaHP][NONsigneHP][fantomes].byline.value_counts().sum()"
   ]
  },
  {
   "cell_type": "markdown",
   "metadata": {},
   "source": [
    "Il y en a 1&nbsp;223, auxquels il faut cependant retrancher quelques intrus, comme *«&nbsp;Sarah Klein Senior Editor, Health & Fitness; Certified Personal Trainer&nbsp;»* ou *«&nbsp;Laura Schocker Executive Editor, Realsimple.com&nbsp;»*, par exemples.\n",
    "\n",
    "Il y a 23 de ces intrus. On se retrouve donc avec 1&nbsp;200 auteurs fantôme du *HP*, qu'il faut ajouter à notre variable `HP_oui`. Cela donne près de **70%** d'articles signés par des employés de la maison."
   ]
  },
  {
   "cell_type": "code",
   "execution_count": 38,
   "metadata": {
    "collapsed": false
   },
   "outputs": [
    {
     "data": {
      "text/plain": [
       "(14543, 69.814219192549558)"
      ]
     },
     "execution_count": 38,
     "metadata": {},
     "output_type": "execute_result"
    }
   ],
   "source": [
    "HP_oui = huff[metaHP][signeHP].pays.count() + 1200\n",
    "HP_oui, (HP_oui/len(huff))*100"
   ]
  },
  {
   "cell_type": "markdown",
   "metadata": {},
   "source": [
    "Il nous reste donc à calculer le pourcentage des articles signés par des auteurs externes.\n",
    "\n",
    "Il faut ici soustraire de notre variable `NONsignéHP` les articles contenus dans les deux variables `inconnu1` et `inconnu2`, additionner les articles qu'on a identifiés au début dont la balise `meta` ne pouvait pas être associée au *HuffPost* et retrancher les auteurs fantômes qu'on a identifiés ci-dessus."
   ]
  },
  {
   "cell_type": "code",
   "execution_count": 39,
   "metadata": {
    "collapsed": false
   },
   "outputs": [
    {
     "data": {
      "text/plain": [
       "(5745, 27.57908885795209)"
      ]
     },
     "execution_count": 39,
     "metadata": {},
     "output_type": "execute_result"
    }
   ],
   "source": [
    "HP_non = huff[metaHP][NONsigneHP].pays.count() - (huff[metaHP][inconnus1].pays.count() + huff[metaHP][inconnus2].pays.count()) + (len(huff) - len(huff[metaHP])) - 1200\n",
    "HP_non, (HP_non/len(huff))*100"
   ]
  },
  {
   "cell_type": "markdown",
   "metadata": {},
   "source": [
    "On a désormais tout ce qu'il nous faut pour faire le camembert évoqué plus haut."
   ]
  },
  {
   "cell_type": "code",
   "execution_count": 40,
   "metadata": {
    "collapsed": false
   },
   "outputs": [
    {
     "data": {
      "text/plain": [
       "<matplotlib.axes._subplots.AxesSubplot at 0x1ac826c18>"
      ]
     },
     "execution_count": 40,
     "metadata": {},
     "output_type": "execute_result"
    },
    {
     "data": {
      "image/png": "[encoded data removed]",
      "text/plain": [
       "<matplotlib.figure.Figure at 0x1ac8265f8>"
      ]
     },
     "metadata": {},
     "output_type": "display_data"
    }
   ],
   "source": [
    "camembert = pd.Series([HP_oui,HP_non,HP_inconnu], index=[\"Oui\",\"Non\",\"Inconnu\"],name=\"\")\n",
    "titre = plt.figure(facecolor=\"beige\")\n",
    "titre.suptitle(\"HuffPost Brasil\", fontsize=24, fontweight=\"light\", fontname=\"Serif\")\n",
    "camembert.plot.pie(colors=[\"aqua\",\"coral\",\"lightgrey\"],\n",
    "                   wedgeprops={\"linewidth\":3,\"edgecolor\":\"white\"},\n",
    "                   textprops={\"weight\":\"bold\",\"fontsize\":14},\n",
    "                   counterclock=False,\n",
    "                   startangle=90,\n",
    "                   autopct=\"%1.1f%%\",\n",
    "                   figsize=(8,8)\n",
    ")"
   ]
  },
  {
   "cell_type": "markdown",
   "metadata": {},
   "source": [
    "<hr>\n",
    "<h3 style=\"background:teal;color:white;padding:5px\">Étape 6 - Dernier exercice&nbsp;: les étiquettes (<i>tags</i>)</h3>"
   ]
  },
  {
   "cell_type": "markdown",
   "metadata": {},
   "source": [
    "Chaque article du *Huffington Post* est généralement accompagné d'une dizaine de marqueurs, ou d'étiquettes (*tags* en anglais). Voici ceux qui sont le plus fréquemment utilisés par l'édition brésilienne."
   ]
  },
  {
   "cell_type": "code",
   "execution_count": 41,
   "metadata": {
    "collapsed": false
   },
   "outputs": [
    {
     "data": {
      "text/plain": [
       "País                                   5048\n",
       "diversão                               3408\n",
       "mulheres                               2494\n",
       "entretenimento                         2491\n",
       "brasil mundo                           2476\n",
       "comportamento                          2458\n",
       "brasil                                 2223\n",
       "viral                                  2199\n",
       "brasil país                            2012\n",
       "notícias                               1606\n",
       "mulher                                 1322\n",
       "dilma rousseff                         1285\n",
       "                                       ... \n",
       "gravidez jiang pu                      1   \n",
       "fotógrafos ícones negros               1   \n",
       "“núcleo do núcleo”                     1   \n",
       "o que fazer chefe ruim                 1   \n",
       "usar sutiã para dormir                 1   \n",
       "briga PMDB                             1   \n",
       "administração financeira               1   \n",
       "Benedito Rodrigues de Oliveira Neto    1   \n",
       "Chantal Akerman feminista              1   \n",
       "frases de gandhi                       1   \n",
       "Atentado àS Torres                     1   \n",
       "                                       1   \n",
       "Length: 61738, dtype: int64"
      ]
     },
     "execution_count": 41,
     "metadata": {},
     "output_type": "execute_result"
    }
   ],
   "source": [
    "etiquettes = huff.set_index('pays').tags.str.split(',', expand=True).stack().rename(columns={0:'tag'}).reset_index(drop=True)\n",
    "etiquettes.value_counts(dropna=False)"
   ]
  },
  {
   "cell_type": "code",
   "execution_count": null,
   "metadata": {
    "collapsed": true
   },
   "outputs": [],
   "source": []
  }
 ],
 "metadata": {
  "kernelspec": {
   "display_name": "Python 3",
   "language": "python",
   "name": "python3"
  },
  "language_info": {
   "codemirror_mode": {
    "name": "ipython",
    "version": 3
   },
   "file_extension": ".py",
   "mimetype": "text/x-python",
   "name": "python",
   "nbconvert_exporter": "python",
   "pygments_lexer": "ipython3",
   "version": "3.5.1"
  }
 },
 "nbformat": 4,
 "nbformat_minor": 0
}
