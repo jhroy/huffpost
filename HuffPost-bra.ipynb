{
 "cells": [
  {
   "cell_type": "markdown",
   "metadata": {},
   "source": [
    "<tr>\n",
    "<td>\n",
    "<img src=\"https://upload.wikimedia.org/wikipedia/commons/thumb/5/5a/HuffPost.svg/320px-HuffPost.svg.png\">\n",
    "</td>\n",
    "<td>\n",
    "<img src=\"https://upload.wikimedia.org/wikipedia/commons/thumb/0/05/Flag_of_Brazil.svg/320px-Flag_of_Brazil.svg.png\">\n",
    "</td>\n"
   ]
  },
  {
   "cell_type": "markdown",
   "metadata": {},
   "source": [
    "# Analyse des sources de l'édition brésilienne du *Huff Post* (2014-2016) en 6 étapes faciles\n",
    "<hr>"
   ]
  },
  {
   "cell_type": "markdown",
   "metadata": {},
   "source": [
    "<h3 style=\"background:teal;color:white;padding:5px\">Étape 1 - Initialisation de notre <i>notebook</i> et lecture du fichier CSV contenant nos données</h3>"
   ]
  },
  {
   "cell_type": "code",
   "execution_count": 1,
   "metadata": {
    "collapsed": true
   },
   "outputs": [],
   "source": [
    "import csv, re, random\n",
    "import pandas as pd\n",
    "import numpy as np\n",
    "import matplotlib as mpl\n",
    "import matplotlib.pyplot as plt\n",
    "from scipy import stats, integrate\n",
    "pd.set_option('display.max_colwidth', -1)\n",
    "pd.options.display.max_rows = 25\n",
    "pd.options.mode.chained_assignment = None\n",
    "%matplotlib inline"
   ]
  },
  {
   "cell_type": "markdown",
   "metadata": {},
   "source": [
    "On lit notre fichier CSV de base, puis on crée une variable `edition` pour identifier le pays sur lequel on va travailler. La variable `huff` ne contient que les **20&nbsp;831 articles** de l'édition du pays auquel on s'intéresse ici."
   ]
  },
  {
   "cell_type": "code",
   "execution_count": 2,
   "metadata": {},
   "outputs": [
    {
     "data": {
      "text/plain": [
       "(20831, 13)"
      ]
     },
     "execution_count": 2,
     "metadata": {},
     "output_type": "execute_result"
    }
   ],
   "source": [
    "huff = pd.read_csv(\"scraping-nettoye.csv\", low_memory=False)\n",
    "edition = \"Brésil\"\n",
    "huff = huff[huff.pays == edition]\n",
    "huff.shape"
   ]
  },
  {
   "cell_type": "markdown",
   "metadata": {},
   "source": [
    "Le but de cet exercice étant d'identifier le taux d'originalité du *HuffPost*, on va créer trois variables.\n",
    "\n",
    "- `HP_oui` contiendra la proportion d'articles qui sont originaux (signés par des employés du *HuffPost* ou des pigistes).\n",
    "- `HP_non` contiendra la proportion d'articles qui ne sont pas originaux (repris d'agences externes ou d'autres médias).\n",
    "- `HP_inconnu` contiendra la proportion d'articles dont on ne peut pas établir la provenance.\n",
    "\n",
    "La somme de ces trois variables équivaudra à 100. On s'en servira pour faire un graphique en pointes de tarte (camembert) à la fin."
   ]
  },
  {
   "cell_type": "code",
   "execution_count": 3,
   "metadata": {
    "collapsed": true
   },
   "outputs": [],
   "source": [
    "HP_oui = 0\n",
    "HP_non = 0\n",
    "HP_inconnu = 0"
   ]
  },
  {
   "cell_type": "markdown",
   "metadata": {},
   "source": [
    "<h3 style=\"background:teal;color:white;padding:5px\">Étape 2 - Filtrer les balises <i>meta</i></h3>"
   ]
  },
  {
   "cell_type": "markdown",
   "metadata": {},
   "source": [
    "<hr>\n",
    "Ce ne sont pas tous les articles de cette édition qui ont, pour nom dans leurs balises `meta`, l'une ou l'autre des éditions du *Huffington Post*, ou de sa compagnie-mère, AOL"
   ]
  },
  {
   "cell_type": "code",
   "execution_count": 4,
   "metadata": {
    "scrolled": true
   },
   "outputs": [
    {
     "data": {
      "text/plain": [
       "HuffPost Brasil                     20654\n",
       "BBC Brasil                          15   \n",
       "O Globo                             13   \n",
       "Extra Online                        8    \n",
       "São Paulo                           8    \n",
       "EL PAÍS                             7    \n",
       "BuzzFeed                            5    \n",
       "Estadão                             5    \n",
       "Política                            4    \n",
       "Exame                               4    \n",
       "VEJA.com                            4    \n",
       "Elástica                            4    \n",
       "                                   ..    \n",
       "CASA                                1    \n",
       "Processo de Impeachment de Dilma    1    \n",
       "São Carlos e Região                 1    \n",
       "UOL TV e Famosos                    1    \n",
       "Bem Estar                           1    \n",
       "Rio Grande do Sul                   1    \n",
       "catavento*                          1    \n",
       "O Dia                               1    \n",
       "Catraca Livre                       1    \n",
       "Pop & Arte                          1    \n",
       "revistacrescer.globo.com            1    \n",
       "Educação                            1    \n",
       "Name: meta, Length: 78, dtype: int64"
      ]
     },
     "execution_count": 4,
     "metadata": {},
     "output_type": "execute_result"
    }
   ],
   "source": [
    "huff.meta.value_counts()"
   ]
  },
  {
   "cell_type": "markdown",
   "metadata": {},
   "source": [
    "Créons un sous-ensemble avec les articles qui, selon la balise `meta`, semblent issus du *HP*."
   ]
  },
  {
   "cell_type": "code",
   "execution_count": 5,
   "metadata": {},
   "outputs": [
    {
     "data": {
      "text/plain": [
       "HuffPost Brasil    20654\n",
       "Name: meta, dtype: int64"
      ]
     },
     "execution_count": 5,
     "metadata": {},
     "output_type": "execute_result"
    }
   ],
   "source": [
    "metaHP = huff.meta.str.contains(\"[H,Η,h][U,u][F,f][i,F,f,P,p]|ハフ|ポスト|허핑턴|허프|[A,a][O,o][L,l]\", na=False)\n",
    "huff[metaHP].meta.value_counts()"
   ]
  },
  {
   "cell_type": "code",
   "execution_count": 6,
   "metadata": {},
   "outputs": [
    {
     "data": {
      "text/plain": [
       "(20654, 13)"
      ]
     },
     "execution_count": 6,
     "metadata": {},
     "output_type": "execute_result"
    }
   ],
   "source": [
    "huff[metaHP].shape"
   ]
  },
  {
   "cell_type": "code",
   "execution_count": 7,
   "metadata": {},
   "outputs": [
    {
     "data": {
      "text/plain": [
       "177"
      ]
     },
     "execution_count": 7,
     "metadata": {},
     "output_type": "execute_result"
    }
   ],
   "source": [
    "len(huff) - len(huff[metaHP])"
   ]
  },
  {
   "cell_type": "markdown",
   "metadata": {},
   "source": [
    "Le calcul ci-haut nous indique qu'on a **177 articles** qu'on peut d'ores et déjà ranger dans la catégorie des articles qui ne sont *pas* rédigés par l'équipe du *HuffPost*.\n",
    "<hr>\n",
    "Examinons cependant de plus près notre sous-ensemble d'articles dont la balise `meta` prétend qu'ils sont issus du *HuffPost* en regardant qui sont les signataires de ces articles. Les signataires se trouvent dans la colonne `byline`. Voyons voir, donc, ce qu'elle contient."
   ]
  },
  {
   "cell_type": "markdown",
   "metadata": {},
   "source": [
    "<h3 style=\"background:teal;color:white;padding:5px\">Étape 3 - Identification des articles dont les signataires sont inconnus</h3>"
   ]
  },
  {
   "cell_type": "code",
   "execution_count": 8,
   "metadata": {},
   "outputs": [
    {
     "data": {
      "text/plain": [
       "? HuffPost Brasil                                                                               3243\n",
       "? Brasil Post                                                                                   1582\n",
       "? Estadão Conteúdo                                                                              1442\n",
       "Cleber Facchi Jornalista, Editor de Mídias Sociais, Music Geek e criador do blog Miojo Indie    1148\n",
       "Caio Delcolli Repórter de diversão do HuffPost Brasil e usuário de All Star verde               967 \n",
       "Grasielle Castro Editora de estratégias e tendências, HuffPost Brasil                           735 \n",
       "Andréa Martinelli Editora no HuffPost Brasil                                                    677 \n",
       "Ione Aguiar Editora de Mídias Sociais do HuffPost Brasil                                        633 \n",
       "Diego Iraheta Editor Chefe, HuffPost Brasil                                                     569 \n",
       "Luiza Belloni Repórter de Notícias no HuffPost Brasil                                           548 \n",
       "? ?                                                                                             543 \n",
       "Rafael Nardini Editor-assistente de notícias no HuffPost Brasil                                 526 \n",
       "                                                                                               ...  \n",
       "Damon Beres Tech Editor, The Huffington Post                                                    1   \n",
       "? MdeMuler                                                                                      1   \n",
       "Andres Jauregui                                                                                 1   \n",
       "Matt Sheehan China Correspondent, The WorldPost                                                 1   \n",
       "Sara Roncero-Menendez Tumblr Fellow, The Huffington Post                                        1   \n",
       "? Do Brasil Post, com agência internacionais                                                    1   \n",
       "Carly Schwartz Founder & Director, Kalu Yala Media Lab                                          1   \n",
       "Sophia Dembling Writer, Traveler                                                                1   \n",
       "? Atitude Abril Aids                                                                            1   \n",
       "Lucy Sherriff Multimedia editor, The Huffington Post UK                                         1   \n",
       "? CLÁUDIA.com.br                                                                                1   \n",
       "? Luiza Monteiro                                                                                1   \n",
       "Name: byline, Length: 654, dtype: int64"
      ]
     },
     "execution_count": 8,
     "metadata": {},
     "output_type": "execute_result"
    }
   ],
   "source": [
    "huff[metaHP].byline.value_counts()"
   ]
  },
  {
   "cell_type": "markdown",
   "metadata": {},
   "source": [
    "Un certain nombre d'auteurs sont inconnus («&nbsp;?&nbsp;?&nbsp;»).<br>\n",
    "On va les placer dans la variable `inconnu`.<br>\n",
    "Ils représentent un peu plus de **2,6%** du total des articles de cette édition du *Huffington&nbsp;Post*."
   ]
  },
  {
   "cell_type": "code",
   "execution_count": 9,
   "metadata": {},
   "outputs": [
    {
     "data": {
      "text/plain": [
       "(543, 2.6066919494983436)"
      ]
     },
     "execution_count": 9,
     "metadata": {},
     "output_type": "execute_result"
    }
   ],
   "source": [
    "inconnus1 = huff[metaHP].byline == \"? \"\n",
    "inconnus2 = huff[metaHP].byline == \"? ?\"\n",
    "HP_inconnu = huff[metaHP][inconnus1].pays.count() + huff[metaHP][inconnus2].pays.count()\n",
    "HP_inconnu, (HP_inconnu/len(huff))*100"
   ]
  },
  {
   "cell_type": "markdown",
   "metadata": {},
   "source": [
    "<hr>\n",
    "<h3 style=\"background:teal;color:white;padding:5px\">Étape 4 - Identification des articles originaux au <i>HuffPost</i></h3>"
   ]
  },
  {
   "cell_type": "markdown",
   "metadata": {},
   "source": [
    "Examinons maintenant les articles dont la signature contient certaines chaînes de caractères qui correspondent au *Huffington Post* (dans différentes langues, fautes de frappe incluses), ou à sa compagnie-mère, AOL. On va baptiser ce sous-ensemble `signéHP`."
   ]
  },
  {
   "cell_type": "code",
   "execution_count": 10,
   "metadata": {
    "scrolled": true
   },
   "outputs": [
    {
     "data": {
      "text/plain": [
       "(13343, 13)"
      ]
     },
     "execution_count": 10,
     "metadata": {},
     "output_type": "execute_result"
    }
   ],
   "source": [
    "signeHP = huff[metaHP].byline.str.contains(\"[H,h][U,u,f][F,f][i,F,f,P,p]|ハフ|ポスト|허핑턴|허프|[A,a][O,o][L,l]|Brasil Post\",na=False)\n",
    "huff[metaHP][signeHP].shape"
   ]
  },
  {
   "cell_type": "code",
   "execution_count": 11,
   "metadata": {},
   "outputs": [
    {
     "data": {
      "text/plain": [
       "(? HuffPost Brasil                                                                    3243\n",
       " ? Brasil Post                                                                        1582\n",
       " Caio Delcolli Repórter de diversão do HuffPost Brasil e usuário de All Star verde    967 \n",
       " Grasielle Castro Editora de estratégias e tendências, HuffPost Brasil                735 \n",
       " Andréa Martinelli Editora no HuffPost Brasil                                         677 \n",
       " Ione Aguiar Editora de Mídias Sociais do HuffPost Brasil                             633 \n",
       " Diego Iraheta Editor Chefe, HuffPost Brasil                                          569 \n",
       " Luiza Belloni Repórter de Notícias no HuffPost Brasil                                548 \n",
       " Rafael Nardini Editor-assistente de notícias no HuffPost Brasil                      526 \n",
       " ? Do Brasil Post                                                                     378 \n",
       " Ana Beatriz Rosa Repórter de Vozes, Mulheres e Notícias, HuffPost Brasil             349 \n",
       " Amauri Terto Repórter de Entretenimento do HuffPost Brasil                           325 \n",
       "                                                                                     ...  \n",
       " Joe Satran Repórter do Huffington Post                                               1   \n",
       " Taylor Casti Huffington Post Games Fellow                                            1   \n",
       " Michelle Persad Fashion Editor, The Huffington Post.                                 1   \n",
       " Jonathan Cohn Senior National Correspondent, The Huffington Post                     1   \n",
       " Daniel Welsh Entertainment Reporter, The Huffington Post UK                          1   \n",
       " Thomas Tamblyn Technology Editor, The Huffington Post UK                             1   \n",
       " ? HuffPost Brasil e agências                                                         1   \n",
       " ? Agência Estado, com HuffPost Brasil                                                1   \n",
       " ? HuffPost Grécia                                                                    1   \n",
       " Yasmine Hafiz Associate Editor, Huffington Post Religion                             1   \n",
       " ? HuffPost Brasil, com Agência Câmara e Agência Brasil                               1   \n",
       " Christina Wilkie National Reporter, The Huffington Post                              1   \n",
       " Name: byline, Length: 354, dtype: int64, 354)"
      ]
     },
     "execution_count": 11,
     "metadata": {},
     "output_type": "execute_result"
    }
   ],
   "source": [
    "huff[metaHP][signeHP].byline.value_counts(), huff[metaHP][signeHP].byline.value_counts().count()"
   ]
  },
  {
   "cell_type": "markdown",
   "metadata": {},
   "source": [
    "Le *Huffington Post* est nommé, d'une façon ou d'une autre, dans ces quelque **13&nbsp;343 articles** signés par **354 signataires différents**.<br>\n",
    "Cela représente près des deux-tiers de l'ensemble des articles publiés par l'édition brésilienne du *HuffPost* dans la période étudiée.\n",
    "On peut placer cette proportion dans notre variable `HP_oui`."
   ]
  },
  {
   "cell_type": "code",
   "execution_count": 12,
   "metadata": {},
   "outputs": [
    {
     "data": {
      "text/plain": [
       "(13343, 64.053574000288023)"
      ]
     },
     "execution_count": 12,
     "metadata": {},
     "output_type": "execute_result"
    }
   ],
   "source": [
    "HP_oui = huff[metaHP][signeHP].pays.count()\n",
    "HP_oui, (HP_oui/len(huff))*100"
   ]
  },
  {
   "cell_type": "markdown",
   "metadata": {},
   "source": [
    "<hr>\n",
    "<h3 style=\"background:teal;color:white;padding:5px\">Étape 5 - Identification des articles <u>extérieurs</u> au <i>HuffPost</i></h3>"
   ]
  },
  {
   "cell_type": "markdown",
   "metadata": {},
   "source": [
    "On va donc faire la même opération, mais pour tous les postes dans lesquels **on ne trouve pas** les chaînes de caractères permettant d'identifier le *Huffington&nbsp;Post* dans différentes langues. On va créer une nouvelle variable qu'on va appeler `NONsignéHP`."
   ]
  },
  {
   "cell_type": "code",
   "execution_count": 13,
   "metadata": {
    "scrolled": true
   },
   "outputs": [
    {
     "data": {
      "text/plain": [
       "(7311, 13)"
      ]
     },
     "execution_count": 13,
     "metadata": {},
     "output_type": "execute_result"
    }
   ],
   "source": [
    "NONsigneHP = ~huff[metaHP].byline.str.contains(\"[H,h][U,u,f][F,f][i,F,f,P,p]|ハフ|ポスト|허핑턴|허프|[A,a][O,o][L,l]|Brasil Post\",na=False)\n",
    "huff[metaHP][NONsigneHP].shape"
   ]
  },
  {
   "cell_type": "markdown",
   "metadata": {},
   "source": [
    "Qui sont ces auteurs qui ne font pas partie de l'équipe du *HuffPost*?"
   ]
  },
  {
   "cell_type": "code",
   "execution_count": 14,
   "metadata": {
    "scrolled": true
   },
   "outputs": [
    {
     "data": {
      "text/plain": [
       "(? Estadão Conteúdo                                                                              1442\n",
       " Cleber Facchi Jornalista, Editor de Mídias Sociais, Music Geek e criador do blog Miojo Indie    1148\n",
       " ? ?                                                                                             543 \n",
       " ? Agência Brasil                                                                                467 \n",
       " ? Veja.com                                                                                      409 \n",
       " ? Superinteressante                                                                             248 \n",
       " Larissa Baltazar                                                                                246 \n",
       " Daniela Carasco                                                                                 230 \n",
       " Elizabeth Costa Jornalista                                                                      180 \n",
       " ? MdeMulher                                                                                     148 \n",
       " Rodolfo Viana Jornalista brasileiro que gosta de novela russa, filosofia alemã e rock inglês    133 \n",
       " ? EXAME.com                                                                                     128 \n",
       "                                                                                                ...  \n",
       " ? Super Interessante                                                                            1   \n",
       " ? Revista VIP                                                                                   1   \n",
       " ? Agência Estadão Conteúdo                                                                      1   \n",
       " Chloe Angyal Senior Columnist, Feministing                                                      1   \n",
       " ? Sibila                                                                                        1   \n",
       " ? Contigo                                                                                       1   \n",
       " ? LiveScience.com                                                                               1   \n",
       " ? Claudia Online                                                                                1   \n",
       " ? Portal Brasil                                                                                 1   \n",
       " ? Pais&Filhos;                                                                                  1   \n",
       " Corrie Pikul Writer/Editor                                                                      1   \n",
       " ? Luiza Monteiro                                                                                1   \n",
       " Name: byline, Length: 300, dtype: int64, 300)"
      ]
     },
     "execution_count": 14,
     "metadata": {},
     "output_type": "execute_result"
    }
   ],
   "source": [
    "huff[metaHP][NONsigneHP].byline.value_counts(), huff[metaHP][NONsigneHP].byline.value_counts().count()"
   ]
  },
  {
   "cell_type": "markdown",
   "metadata": {},
   "source": [
    "Des quelque 300 signataires ci-dessus, par contre, on trouve quelques «&nbsp;employés fantôme&nbsp;».\n",
    "\n",
    "C'est le cas de *«&nbsp;Cleber Facchi Jornalista, Editor de Mídias Sociais, Music Geek e criador do blog Miojo Indie&nbsp;»*, qui compte **1&nbsp;148 articles**. Selon [sa page d'auteur](http://www.huffpostbrasil.com/author/cleber-facchi/), c'est bel et bien un employé du *Brasil Post*.\n",
    "\n",
    "C'est également le cas de *«&nbsp;Bill Bradley Entertainment Editor&nbsp;»*, qui compte **18 articles**. Selon [sa page d'auteur](http://www.huffingtonpost.com/author/bill-bradley), c'est un employé de l'édition américaine du *Huffington Post*.\n",
    "\n",
    "Mais tous les autres auteurs vérifiés ne semblent pas être des employés du *HP*. Par exemple, sur [la page d'auteure de Larissa Baltazar](http://www.huffpostbrasil.com/author/larissa-baltazar/), qui signe **246 articles**, on ne trouve aucune mention qu'elle est une employée du *Brasil Post*, pas plus que sur [son compte Twitter](https://twitter.com/larissabaltazar). Même chose avec Pedro Sibahi, qui signe **107 articles**. Ni sa [page d'auteur](http://www.huffpostbrasil.com/author/pedro-sibahi/) ni [son profi Twitter](https://twitter.com/psibahi) n'indiquent qu'il est employé de l'édition brésilienne du *Post*.\n",
    "\n",
    "On ne va donc considérer que les signataires qui comprennent le mot *«&nbsp;Editor&nbsp;»* comme faisant partie de l'équipe du *HuffPost Brasil*."
   ]
  },
  {
   "cell_type": "code",
   "execution_count": 15,
   "metadata": {
    "scrolled": true
   },
   "outputs": [
    {
     "data": {
      "text/plain": [
       "(Cleber Facchi Jornalista, Editor de Mídias Sociais, Music Geek e criador do blog Miojo Indie    1148\n",
       " Sarah Klein Senior Editor, Health & Fitness; Certified Personal Trainer                         15  \n",
       " Bill Bradley Entertainment Editor                                                               8   \n",
       " Amanda L. Chan Managing Editor, Healthy Living                                                  8   \n",
       " Ed Mazza Overnight Editor                                                                       6   \n",
       " Anna Almendrala Healthy Living Editor                                                           6   \n",
       " Erin Whitney Associate Entertainment Editor                                                     3   \n",
       " Emily Peck Executive Editor, Business and Technology                                            3   \n",
       " Roque Planas Editor, Latino Voices                                                              3   \n",
       " Arti Patel Editor, Lifestyle                                                                    3   \n",
       " Kevin Short Editor                                                                              2   \n",
       " Laura Schocker Executive Editor, Realsimple.com                                                 2   \n",
       "                                                                                                ..   \n",
       " Amanda Golden Editor-at-Large, Colgate University                                               1   \n",
       " Kim Bellware Associate Chicago Editor                                                           1   \n",
       " Taryn Finley Voices Editorial Fellow                                                            1   \n",
       " Isaac Saul Editor, A Plus                                                                       1   \n",
       " Lucy McCalmont Sports Editor                                                                    1   \n",
       " Adrija Bose Social Media Editor                                                                 1   \n",
       " Brian Gresko Writer, Editor of WHEN I FIRST HELD YOU                                            1   \n",
       " Sophie Brown Assistant Editor, Mumsnet                                                          1   \n",
       " Megan Mayer Associate Editor                                                                    1   \n",
       " Carol Kuruvilla Associate Religion Editor                                                       1   \n",
       " Corrie Pikul Writer/Editor                                                                      1   \n",
       " Justin Block Associate Sports Editor                                                            1   \n",
       " Name: byline, Length: 26, dtype: int64, 1223)"
      ]
     },
     "execution_count": 15,
     "metadata": {},
     "output_type": "execute_result"
    }
   ],
   "source": [
    "fantomes = huff[metaHP][NONsigneHP].byline.str.contains(\"Editor\")\n",
    "huff[metaHP][NONsigneHP][fantomes].byline.value_counts(), huff[metaHP][NONsigneHP][fantomes].byline.value_counts().sum()"
   ]
  },
  {
   "cell_type": "markdown",
   "metadata": {},
   "source": [
    "Il y en a 1&nbsp;223, auxquels il faut cependant retrancher quelques intrus, comme *«&nbsp;Sarah Klein Senior Editor, Health & Fitness; Certified Personal Trainer&nbsp;»* ou *«&nbsp;Laura Schocker Executive Editor, Realsimple.com&nbsp;»*, par exemples.\n",
    "\n",
    "Il y a 23 de ces intrus. On se retrouve donc avec 1&nbsp;200 auteurs fantôme du *HP*, qu'il faut ajouter à notre variable `HP_oui`. Cela donne près de **70%** d'articles signés par des employés de la maison."
   ]
  },
  {
   "cell_type": "code",
   "execution_count": 16,
   "metadata": {},
   "outputs": [
    {
     "data": {
      "text/plain": [
       "(14543, 69.814219192549558)"
      ]
     },
     "execution_count": 16,
     "metadata": {},
     "output_type": "execute_result"
    }
   ],
   "source": [
    "HP_oui = huff[metaHP][signeHP].pays.count() + 1200\n",
    "HP_oui, (HP_oui/len(huff))*100"
   ]
  },
  {
   "cell_type": "markdown",
   "metadata": {},
   "source": [
    "Il nous reste donc à calculer le pourcentage des articles signés par des auteurs externes.\n",
    "\n",
    "Il faut ici soustraire de notre variable `NONsignéHP` les articles contenus dans les deux variables `inconnu1` et `inconnu2`, additionner les articles qu'on a identifiés au début dont la balise `meta` ne pouvait pas être associée au *HuffPost* et retrancher les auteurs fantômes qu'on a identifiés ci-dessus."
   ]
  },
  {
   "cell_type": "code",
   "execution_count": 17,
   "metadata": {},
   "outputs": [
    {
     "data": {
      "text/plain": [
       "(5745, 27.57908885795209)"
      ]
     },
     "execution_count": 17,
     "metadata": {},
     "output_type": "execute_result"
    }
   ],
   "source": [
    "HP_non = huff[metaHP][NONsigneHP].pays.count() - (huff[metaHP][inconnus1].pays.count() + huff[metaHP][inconnus2].pays.count()) + (len(huff) - len(huff[metaHP])) - 1200\n",
    "HP_non, (HP_non/len(huff))*100"
   ]
  },
  {
   "cell_type": "markdown",
   "metadata": {},
   "source": [
    "On a désormais tout ce qu'il nous faut pour faire le camembert évoqué plus haut."
   ]
  },
  {
   "cell_type": "code",
   "execution_count": 18,
   "metadata": {},
   "outputs": [
    {
     "data": {
      "text/plain": [
       "<matplotlib.axes._subplots.AxesSubplot at 0x1a0d3a908>"
      ]
     },
     "execution_count": 18,
     "metadata": {},
     "output_type": "execute_result"
    },
    {
     "data": {
      "image/png": "[encoded data removed]",
      "text/plain": [
       "<matplotlib.figure.Figure at 0x1a0e520f0>"
      ]
     },
     "metadata": {},
     "output_type": "display_data"
    }
   ],
   "source": [
    "camembert = pd.Series([HP_oui,HP_non,HP_inconnu], index=[\"Oui\",\"Non\",\"Inconnu\"],name=\"\")\n",
    "titre = plt.figure(facecolor=\"beige\")\n",
    "titre.suptitle(\"HuffPost Brasil\", fontsize=24, fontweight=\"light\", fontname=\"Serif\")\n",
    "camembert.plot.pie(colors=[\"aqua\",\"coral\",\"lightgrey\"],\n",
    "                   wedgeprops={\"linewidth\":3,\"edgecolor\":\"white\"},\n",
    "                   textprops={\"weight\":\"bold\",\"fontsize\":14},\n",
    "                   counterclock=False,\n",
    "                   startangle=90,\n",
    "                   autopct=\"%1.1f%%\",\n",
    "                   figsize=(8,8)\n",
    ")"
   ]
  },
  {
   "cell_type": "markdown",
   "metadata": {},
   "source": [
    "<hr>\n",
    "<h3 style=\"background:teal;color:white;padding:5px\">Étape 6 - Dernier exercice&nbsp;: les étiquettes (<i>tags</i>)</h3>"
   ]
  },
  {
   "cell_type": "markdown",
   "metadata": {},
   "source": [
    "Chaque article du *Huffington Post* est généralement accompagné d'une dizaine de marqueurs, ou d'étiquettes (*tags* en anglais). Voici ceux qui sont le plus fréquemment utilisés par l'édition brésilienne."
   ]
  },
  {
   "cell_type": "code",
   "execution_count": 19,
   "metadata": {},
   "outputs": [
    {
     "data": {
      "text/plain": [
       "País                          5048\n",
       "diversão                      3408\n",
       "mulheres                      2494\n",
       "entretenimento                2491\n",
       "brasil mundo                  2476\n",
       "comportamento                 2458\n",
       "brasil                        2223\n",
       "viral                         2199\n",
       "brasil país                   2012\n",
       "notícias                      1606\n",
       "mulher                        1322\n",
       "dilma rousseff                1285\n",
       "                              ... \n",
       "financial times dilma         1   \n",
       "reforma-do-ensino-medio       1   \n",
       "desrespeito à Constituição    1   \n",
       "viola minha viola             1   \n",
       "mell brites                   1   \n",
       "david schwimmer               1   \n",
       "pior nevasca japão            1   \n",
       "carnaval em recife            1   \n",
       "trabalho no exterior          1   \n",
       "um terço dos brasileiros      1   \n",
       "famosas no tapete vermelho    1   \n",
       "                              1   \n",
       "Length: 61738, dtype: int64"
      ]
     },
     "execution_count": 19,
     "metadata": {},
     "output_type": "execute_result"
    }
   ],
   "source": [
    "etiquettes = huff.set_index('pays').tags.str.split(',', expand=True).stack().rename(columns={0:'tag'}).reset_index(drop=True)\n",
    "etiquettes.value_counts(dropna=False)"
   ]
  },
  {
   "cell_type": "code",
   "execution_count": null,
   "metadata": {
    "collapsed": true
   },
   "outputs": [],
   "source": []
  }
 ],
 "metadata": {
  "kernelspec": {
   "display_name": "Python 3",
   "language": "python",
   "name": "python3"
  },
  "language_info": {
   "codemirror_mode": {
    "name": "ipython",
    "version": 3
   },
   "file_extension": ".py",
   "mimetype": "text/x-python",
   "name": "python",
   "nbconvert_exporter": "python",
   "pygments_lexer": "ipython3",
   "version": "3.6.2"
  }
 },
 "nbformat": 4,
 "nbformat_minor": 1
}
