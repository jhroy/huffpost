{
 "cells": [
  {
   "cell_type": "markdown",
   "metadata": {},
   "source": [
    "<table border=0px>\n",
    "<tr>\n",
    "<td>\n",
    "<img src=\"https://upload.wikimedia.org/wikipedia/commons/thumb/5/5a/HuffPost.svg/320px-HuffPost.svg.png\">\n",
    "</td>\n",
    "<td>\n",
    "<img src=\"https://upload.wikimedia.org/wikipedia/commons/thumb/0/09/Flag_of_South_Korea.svg/320px-Flag_of_South_Korea.svg.png\">\n",
    "</td>\n",
    "</tr>\n",
    "</table>"
   ]
  },
  {
   "cell_type": "markdown",
   "metadata": {},
   "source": [
    "# Analyse des sources de l'édition sud-coréenne du *Huff Post* (2014-2016) en 6 étapes faciles\n",
    "<hr>"
   ]
  },
  {
   "cell_type": "markdown",
   "metadata": {},
   "source": [
    "<h3 style=\"background:teal;color:white;padding:5px\">Étape 1 - Initialisation de notre *notebook* et lecture du fichier CSV contenant nos données</h3>"
   ]
  },
  {
   "cell_type": "code",
   "execution_count": 1,
   "metadata": {
    "collapsed": true
   },
   "outputs": [],
   "source": [
    "import csv, re, random\n",
    "import pandas as pd\n",
    "import numpy as np\n",
    "import matplotlib as mpl\n",
    "import matplotlib.pyplot as plt\n",
    "from scipy import stats, integrate\n",
    "pd.set_option('display.max_colwidth', -1)\n",
    "pd.options.display.max_rows = 25\n",
    "pd.options.mode.chained_assignment = None\n",
    "%matplotlib inline"
   ]
  },
  {
   "cell_type": "markdown",
   "metadata": {},
   "source": [
    "On lit notre fichier CSV de base, puis on crée une variable `edition` pour identifier le pays sur lequel on va travailler. La variable `huff` ne contient que les articles de l'édition du pays auquel on s'intéresse ici."
   ]
  },
  {
   "cell_type": "code",
   "execution_count": 2,
   "metadata": {},
   "outputs": [
    {
     "data": {
      "text/plain": [
       "(53406, 13)"
      ]
     },
     "execution_count": 2,
     "metadata": {},
     "output_type": "execute_result"
    }
   ],
   "source": [
    "huff = pd.read_csv(\"scraping-nettoye.csv\", low_memory=False)\n",
    "edition = \"Corée du Sud\"\n",
    "huff = huff[huff.pays == edition]\n",
    "huff.shape"
   ]
  },
  {
   "cell_type": "markdown",
   "metadata": {},
   "source": [
    "Le but de cet exercice étant d'identifier le taux d'originalité du *HuffPost*, on va créer trois variables.\n",
    "\n",
    "- `HP_oui` contiendra la proportion d'articles qui sont originaux (signés par des employés du *HuffPost* ou des pigistes).\n",
    "- `HP_non` contiendra la proportion d'articles qui ne sont pas originaux (repris d'agences externes ou d'autres médias).\n",
    "- `HP_inconnu` contiendra la proportion d'articles dont on ne peut pas établir la provenance.\n",
    "\n",
    "La somme de ces trois variables équivaudra à 100. On s'en servira pour faire un graphique en pointes de tarte (camembert) à la fin."
   ]
  },
  {
   "cell_type": "code",
   "execution_count": 3,
   "metadata": {
    "collapsed": true
   },
   "outputs": [],
   "source": [
    "HP_oui = 0\n",
    "HP_non = 0\n",
    "HP_inconnu = 0"
   ]
  },
  {
   "cell_type": "markdown",
   "metadata": {},
   "source": [
    "<h3 style=\"background:teal;color:white;padding:5px\">Étape 2 - Filtrer les balises <i>meta</i></h3>"
   ]
  },
  {
   "cell_type": "markdown",
   "metadata": {},
   "source": [
    "<hr>\n",
    "Ce ne sont pas tous les articles de cette édition du *Huff Post* qui ont, pour nom dans leurs balises `meta`, l'une ou l'autre des éditions du *Huffington Post*, ou de sa compagnie-mère, AOL"
   ]
  },
  {
   "cell_type": "code",
   "execution_count": 4,
   "metadata": {
    "scrolled": true
   },
   "outputs": [
    {
     "data": {
      "text/plain": [
       "HuffPost               53323\n",
       "The Huffington Post    53   \n",
       "Le Huffington Post     11   \n",
       "중앙일보                   9    \n",
       "SBS NEWS               4    \n",
       "KBS 뉴스                 3    \n",
       "ìì¬IN               1    \n",
       "ㅍㅍㅅㅅ                   1    \n",
       "ë¯¸ëì´ì¤ë        1    \n",
       "Name: meta, dtype: int64"
      ]
     },
     "execution_count": 4,
     "metadata": {},
     "output_type": "execute_result"
    }
   ],
   "source": [
    "huff.meta.value_counts()"
   ]
  },
  {
   "cell_type": "markdown",
   "metadata": {},
   "source": [
    "Créons un sous-ensemble avec les articles qui, selon la balise `meta`, semblent issus du *HP*."
   ]
  },
  {
   "cell_type": "code",
   "execution_count": 5,
   "metadata": {},
   "outputs": [
    {
     "data": {
      "text/plain": [
       "HuffPost               53323\n",
       "The Huffington Post    53   \n",
       "Le Huffington Post     11   \n",
       "Name: meta, dtype: int64"
      ]
     },
     "execution_count": 5,
     "metadata": {},
     "output_type": "execute_result"
    }
   ],
   "source": [
    "metaHP = huff.meta.str.contains(\"[H,Η,h][U,u][F,f][i,F,f,P,p]|ハフ|ポスト|허핑턴|허프|[A,a][O,o][L,l]\", na=False)\n",
    "huff[metaHP].meta.value_counts()"
   ]
  },
  {
   "cell_type": "code",
   "execution_count": 6,
   "metadata": {},
   "outputs": [
    {
     "data": {
      "text/plain": [
       "(53387, 13)"
      ]
     },
     "execution_count": 6,
     "metadata": {},
     "output_type": "execute_result"
    }
   ],
   "source": [
    "huff[metaHP].shape"
   ]
  },
  {
   "cell_type": "code",
   "execution_count": 7,
   "metadata": {},
   "outputs": [
    {
     "data": {
      "text/plain": [
       "19"
      ]
     },
     "execution_count": 7,
     "metadata": {},
     "output_type": "execute_result"
    }
   ],
   "source": [
    "len(huff) - len(huff[metaHP])"
   ]
  },
  {
   "cell_type": "markdown",
   "metadata": {},
   "source": [
    "Le calcul ci-haut nous indique qu'on a **19 articles** qu'on peut d'ores et déjà ranger dans la catégorie des articles qui ne sont *pas* rédigés par l'équipe du *HuffPost*.\n",
    "<hr>\n",
    "Examinons cependant de plus près notre sous-ensemble d'articles dont la balise `meta` prétend qu'ils sont issus du *HuffPost* en regardant qui sont les signataires de ces articles. Les signataires se trouvent dans la colonne `byline`. Voyons voir, donc, ce qu'elle contient."
   ]
  },
  {
   "cell_type": "markdown",
   "metadata": {},
   "source": [
    "<h3 style=\"background:teal;color:white;padding:5px\">Étape 3 - Identification des articles dont les signataires sont inconnus</h3>"
   ]
  },
  {
   "cell_type": "code",
   "execution_count": 8,
   "metadata": {},
   "outputs": [
    {
     "data": {
      "text/plain": [
       "? 연합뉴스                                 8374\n",
       "작성자강병진 HuffPost                        3220\n",
       "작성자박세회 HuffPost                        2556\n",
       "? HuffPost                             2363\n",
       "작성자허완 HuffPost                         1774\n",
       "작성자 곽상아 HuffPost                       1494\n",
       "작성자원성윤 HuffPost                        1436\n",
       "작성자김도훈 HuffPost                        1228\n",
       "작성자박수진 HuffPost                        1122\n",
       "작성자김태우 HuffPost                        1120\n",
       "작성자김현유 HuffPost                        643 \n",
       "작성자권복기 HuffPost                        629 \n",
       "                                      ...  \n",
       "작성자 김상훈 강원대 교수 한겨레                     1   \n",
       "작성자 케임브리지<미국 매사추세츠주>=이강원 특파원 연합뉴스      1   \n",
       "작성자 Naina Chaturvedi HuffPost India    1   \n",
       "작성자 연합뉴스 = 김종우 특파원(로스앤젤레스) 연합뉴스        1   \n",
       "작성자 이정연 한겨레21                          1   \n",
       "? 금강산=연합뉴스                             1   \n",
       "작성자 박수진 김효실 김선식 기자 한겨레21               1   \n",
       "작성자 이유주현 하어영 기자 한겨레                    1   \n",
       "작성자 황준범 이정애 기자 한겨레                     1   \n",
       "작성자 泉谷由梨子 The Huffington Post          1   \n",
       "작성자 하승우 땡땡책협동조합 땡초 한겨레21               1   \n",
       "작성자 홍대선 노현웅 기자 한겨레                     1   \n",
       "Name: byline, Length: 5712, dtype: int64"
      ]
     },
     "execution_count": 8,
     "metadata": {},
     "output_type": "execute_result"
    }
   ],
   "source": [
    "huff[metaHP].byline.value_counts()"
   ]
  },
  {
   "cell_type": "markdown",
   "metadata": {},
   "source": [
    "Un certain nombre d'auteurs sont inconnus («&nbsp;?&nbsp;» ou «&nbsp;?&nbsp;?&nbsp;»).<br>\n",
    "Ceux marqués d'un seul point d'interrogation seront placés dans le sous-ensemble `inconnu1`, ceux qui sont marqués de deux points d'interrogation dans le sous-ensemble `inconnu2`.<br>\n",
    "Ils représentent moins de **1%** du total des articles de cette édition du *Huffington&nbsp;Post*.<br>\n",
    "Nous allons placer cette proportion dans notre variable `HP_inconnu`."
   ]
  },
  {
   "cell_type": "code",
   "execution_count": 9,
   "metadata": {},
   "outputs": [
    {
     "data": {
      "text/plain": [
       "(469, 0.87817848181852221)"
      ]
     },
     "execution_count": 9,
     "metadata": {},
     "output_type": "execute_result"
    }
   ],
   "source": [
    "inconnus1 = huff[metaHP].byline == \"? \"\n",
    "inconnus2 = huff[metaHP].byline == \"? ?\"\n",
    "HP_inconnu = huff[metaHP][inconnus1].pays.count() + huff[metaHP][inconnus2].pays.count()\n",
    "HP_inconnu, (HP_inconnu/len(huff))*100"
   ]
  },
  {
   "cell_type": "markdown",
   "metadata": {},
   "source": [
    "<hr>\n",
    "<h3 style=\"background:teal;color:white;padding:5px\">Étape 4 - Identification des articles originaux au <i>HuffPost</i></h3>"
   ]
  },
  {
   "cell_type": "markdown",
   "metadata": {},
   "source": [
    "Examinons maintenant les articles dont la signature contient certaines chaînes de caractères qui correspondent au *Huffington Post* (dans différentes langues, fautes de frappe incluses), ou à sa compagnie-mère, AOL. On va baptiser ce sous-ensemble `signéHP`."
   ]
  },
  {
   "cell_type": "code",
   "execution_count": 10,
   "metadata": {
    "scrolled": true
   },
   "outputs": [
    {
     "data": {
      "text/plain": [
       "(27442, 13)"
      ]
     },
     "execution_count": 10,
     "metadata": {},
     "output_type": "execute_result"
    }
   ],
   "source": [
    "signeHP = huff[metaHP].byline.str.contains(\"[H,h][U,u,f][F,f][i,F,f,P,p]|ハフ|ポスト|허핑턴|허프|[A,a][O,o][L,l]\",na=False)\n",
    "huff[metaHP][signeHP].shape"
   ]
  },
  {
   "cell_type": "code",
   "execution_count": 11,
   "metadata": {},
   "outputs": [
    {
     "data": {
      "text/plain": [
       "(작성자강병진 HuffPost                                                                   3220\n",
       " 작성자박세회 HuffPost                                                                   2556\n",
       " ? HuffPost                                                                        2363\n",
       " 작성자허완 HuffPost                                                                    1774\n",
       " 작성자 곽상아 HuffPost                                                                  1494\n",
       " 작성자원성윤 HuffPost                                                                   1436\n",
       " 작성자김도훈 HuffPost                                                                   1228\n",
       " 작성자박수진 HuffPost                                                                   1122\n",
       " 작성자김태우 HuffPost                                                                   1120\n",
       " 작성자김현유 HuffPost                                                                   643 \n",
       " 작성자권복기 HuffPost                                                                   629 \n",
       " 작성자남현지 HuffPost                                                                   585 \n",
       "                                                                                  ...  \n",
       " 작성자 Marcel Bohnensteffen The Huffington Post                                      1   \n",
       " 작성자JamesMichael Nichols The Huffington Post                                       1   \n",
       " 작성자 Brynn Mannino Senior Programming Manager, Partnerships The Huffington Post    1   \n",
       " 작성자 Aadriana Velez The Huffington Post                                            1   \n",
       " 작성자 Giannis Pitaras Huffington Post Greece                                        1   \n",
       " 작성자 Ryan J. Reilly,Jeffrey Young The Huffington Post US                           1   \n",
       " ? 연합뉴스/허핑턴포트스코리아                                                                  1   \n",
       " 작성자 Corrie Pikul The Huffington Post OWN                                          1   \n",
       " 작성자 Lucy Horner The Huffington Post                                               1   \n",
       " 작성자Katherine Brooks, 강병진 The Huffington Post.                                     1   \n",
       " 작성자 Shelley Emling and Damon Scheleur The Huffington Post                         1   \n",
       " 작성자 강병진 허핑턴 포스트 코리아                                                               1   \n",
       " Name: byline, Length: 1568, dtype: int64, 1568)"
      ]
     },
     "execution_count": 11,
     "metadata": {},
     "output_type": "execute_result"
    }
   ],
   "source": [
    "huff[metaHP][signeHP].byline.value_counts(), huff[metaHP][signeHP].byline.value_counts().count()"
   ]
  },
  {
   "cell_type": "markdown",
   "metadata": {},
   "source": [
    "Le *Huffington Post* est nommé, d'une façon ou d'une autre, dans ces quelque **27&nbsp;442 articles** signés par **1&nbsp;568 signataires différents**.<br>\n",
    "Cela représente un peu plus de la moitié de l'ensemble des articles publiés par cette édition du *HuffPost* dans la période étudiée.\n",
    "On peut placer cette proportion dans notre variable `HP_oui`."
   ]
  },
  {
   "cell_type": "code",
   "execution_count": 12,
   "metadata": {},
   "outputs": [
    {
     "data": {
      "text/plain": [
       "(27442, 51.383739654720436)"
      ]
     },
     "execution_count": 12,
     "metadata": {},
     "output_type": "execute_result"
    }
   ],
   "source": [
    "HP_oui = huff[metaHP][signeHP].pays.count()\n",
    "HP_oui, (HP_oui/len(huff))*100"
   ]
  },
  {
   "cell_type": "markdown",
   "metadata": {},
   "source": [
    "<hr>\n",
    "<h3 style=\"background:teal;color:white;padding:5px\">Étape 5 - Identification des articles <u>extérieurs</u> au <i>HuffPost</i></h3>"
   ]
  },
  {
   "cell_type": "markdown",
   "metadata": {},
   "source": [
    "On va donc faire la même opération, mais pour tous les postes dans lesquels **on ne trouve pas** les chaînes de caractères permettant d'identifier le *Huffington&nbsp;Post* dans différentes langues. On va créer un nouveau sous-ensemble qu'on va baptiser `NONsignéHP`."
   ]
  },
  {
   "cell_type": "code",
   "execution_count": 13,
   "metadata": {
    "scrolled": true
   },
   "outputs": [
    {
     "data": {
      "text/plain": [
       "(25945, 13)"
      ]
     },
     "execution_count": 13,
     "metadata": {},
     "output_type": "execute_result"
    }
   ],
   "source": [
    "NONsigneHP = ~huff[metaHP].byline.str.contains(\"[H,h][U,u,f][F,f][i,F,f,P,p]|ハフ|ポスト|허핑턴|허프|[A,a][O,o][L,l]\",na=False)\n",
    "huff[metaHP][NONsigneHP].shape"
   ]
  },
  {
   "cell_type": "markdown",
   "metadata": {},
   "source": [
    "Qui sont ces auteurs qui ne signent pas des articles originaux pour le *HuffPost*?"
   ]
  },
  {
   "cell_type": "code",
   "execution_count": 14,
   "metadata": {},
   "outputs": [
    {
     "data": {
      "text/plain": [
       "(? 연합뉴스                     8374\n",
       " ?                          388 \n",
       " ? 서울=연합뉴스                  268 \n",
       " 작성자 표재민 기자 OSEN            240 \n",
       " 작성자 최나영 기자 OSEN            232 \n",
       " 작성자 선미경 기자 OSEN            180 \n",
       " 작성자 김경주 기자 OSEN            179 \n",
       " ? 워싱턴=연합뉴스                 162 \n",
       " 작성자 박현민 기자 OSEN            160 \n",
       " 작성자 강서정 기자 OSEN            154 \n",
       " 작성자 샌프란시스코=임화섭 특파원 연합뉴스    131 \n",
       " 작성자 정준화 기자 OSEN            120 \n",
       "                           ...  \n",
       " 작성자 김지훈 임수정 기자 연합뉴스        1   \n",
       " 작성자 이승우 송진원 기자 연합뉴스        1   \n",
       " 작성자 도쿄 = 길윤형 특파원 한겨레       1   \n",
       " 작성자 황준범 석진환 기자 한겨레         1   \n",
       " ? 방콕 AFP=연합뉴스              1   \n",
       " 작성자 노형석기자 한겨레              1   \n",
       " 작성자 문현숙 남지은 김외현 기자 한겨레     1   \n",
       " ? 수루치=AFP/연합뉴스             1   \n",
       " 작성자 한지훈 기자/연합뉴스 연합뉴스       1   \n",
       " 작성자 이정오 월간 웹               1   \n",
       " 작성자 박태우 방준호 기자 한겨레         1   \n",
       " 작성자 홍대선 노현웅 기자 한겨레         1   \n",
       " Name: byline, Length: 4144, dtype: int64, 4144)"
      ]
     },
     "execution_count": 14,
     "metadata": {},
     "output_type": "execute_result"
    }
   ],
   "source": [
    "huff[metaHP][NONsigneHP].byline.value_counts(), huff[metaHP][NONsigneHP].byline.value_counts().count() "
   ]
  },
  {
   "cell_type": "markdown",
   "metadata": {},
   "source": [
    "On constate que l'édition sud-coréenne a recours à un grand nombre d'agences ou de sites extérieurs:\n",
    "\n",
    "- **연합뉴스** est l'agence [Yonhap](http://www.yonhapnews.co.kr/).\n",
    "- **OSEN** est un [site d'information](http://osen.mt.co.kr/).\n",
    "- **한겨레** est un autre site d'information, [Hani](http://www.hani.co.kr/).\n",
    "\n",
    "L'expression **작성자** qu'on retrouve dans presque toutes les signatures signifie «&nbsp;auteur&nbsp;».\n",
    "\n",
    "Ensemble, ils représentent près de la moitié du contenu d'information de l'édition sud-coréenne du *HuffPost*. À ce nombre, on retranche les articles contenus dans les deux sous-ensembles `inconnu1` et `inconnu2`."
   ]
  },
  {
   "cell_type": "code",
   "execution_count": 15,
   "metadata": {},
   "outputs": [
    {
     "data": {
      "text/plain": [
       "(25476, 47.702505336479042)"
      ]
     },
     "execution_count": 15,
     "metadata": {},
     "output_type": "execute_result"
    }
   ],
   "source": [
    "HP_non = huff[metaHP][NONsigneHP].pays.count() - (huff[metaHP][inconnus1].pays.count() + huff[metaHP][inconnus2].pays.count())\n",
    "HP_non, (HP_non/len(huff))*100"
   ]
  },
  {
   "cell_type": "markdown",
   "metadata": {},
   "source": [
    "On a désormais tout ce qu'il nous faut pour faire le camembert évoqué plus haut."
   ]
  },
  {
   "cell_type": "code",
   "execution_count": 16,
   "metadata": {},
   "outputs": [
    {
     "data": {
      "text/plain": [
       "<matplotlib.axes._subplots.AxesSubplot at 0x1a9a294a8>"
      ]
     },
     "execution_count": 16,
     "metadata": {},
     "output_type": "execute_result"
    },
    {
     "data": {
      "image/png": "[encoded data removed]",
      "text/plain": [
       "<matplotlib.figure.Figure at 0x1a9a29ef0>"
      ]
     },
     "metadata": {},
     "output_type": "display_data"
    }
   ],
   "source": [
    "camembert = pd.Series([HP_oui,HP_non,HP_inconnu], index=[\"Oui\",\"Non\",\"Inconnu\"],name=\"\")\n",
    "titre = plt.figure(facecolor=\"beige\")\n",
    "titre.suptitle(\"HuffPost Corée du Sud\", fontsize=24, fontweight=\"light\", fontname=\"Serif\")\n",
    "camembert.plot.pie(colors=[\"aqua\",\"coral\",\"lightgrey\"],\n",
    "                   wedgeprops={\"linewidth\":3,\"edgecolor\":\"white\"},\n",
    "                   textprops={\"weight\":\"bold\",\"fontsize\":14},\n",
    "                   counterclock=False,\n",
    "                   startangle=90,\n",
    "                   autopct=\"%1.1f%%\",\n",
    "                   figsize=(8,8)\n",
    ")"
   ]
  },
  {
   "cell_type": "markdown",
   "metadata": {},
   "source": [
    "<hr>\n",
    "<h3 style=\"background:teal;color:white;padding:5px\">Étape 6 - Exercice boni&nbsp;: les étiquettes (<i>tags</i>)</h3>"
   ]
  },
  {
   "cell_type": "markdown",
   "metadata": {},
   "source": [
    "Chaque article du *Huffington Post* est généralement accompagné d'une dizaine de marqueurs, ou d'étiquettes (*tags* en anglais). Voici ceux qui sont le plus fréquemment utilisés par cette édition."
   ]
  },
  {
   "cell_type": "code",
   "execution_count": 17,
   "metadata": {},
   "outputs": [
    {
     "data": {
      "text/plain": [
       "국제              12779\n",
       "사회              11260\n",
       "문화              7417 \n",
       "정치              5921 \n",
       "라이프스타일          5037 \n",
       "코미디             3033 \n",
       "경제              2959 \n",
       "동물              2641 \n",
       "미국              2332 \n",
       "영화              2270 \n",
       "박근혜             2040 \n",
       "스포츠             2015 \n",
       "                ...  \n",
       "덴마크 여행          1    \n",
       "Top Knot        1    \n",
       "반기문 대통령         1    \n",
       "음악 스트리밍         1    \n",
       "아메리칸 어패럴 선정성    1    \n",
       "일본 상임이사국        1    \n",
       "도전슈퍼모델          1    \n",
       "예수 그림           1    \n",
       "중앙대 박용성         1    \n",
       "5.16 쿠데타        1    \n",
       "사전녹화            1    \n",
       "솔비티저            1    \n",
       "Length: 102016, dtype: int64"
      ]
     },
     "execution_count": 17,
     "metadata": {},
     "output_type": "execute_result"
    }
   ],
   "source": [
    "etiquettes = huff.set_index('pays').tags.str.split(',', expand=True).stack().rename(columns={0:'tag'}).reset_index(drop=True)\n",
    "etiquettes.value_counts(dropna=False)"
   ]
  }
 ],
 "metadata": {
  "kernelspec": {
   "display_name": "Python 3",
   "language": "python",
   "name": "python3"
  },
  "language_info": {
   "codemirror_mode": {
    "name": "ipython",
    "version": 3
   },
   "file_extension": ".py",
   "mimetype": "text/x-python",
   "name": "python",
   "nbconvert_exporter": "python",
   "pygments_lexer": "ipython3",
   "version": "3.6.2"
  }
 },
 "nbformat": 4,
 "nbformat_minor": 1
}
